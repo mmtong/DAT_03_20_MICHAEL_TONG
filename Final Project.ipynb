{
 "cells": [
  {
   "cell_type": "code",
   "execution_count": 1,
   "metadata": {
    "collapsed": true
   },
   "outputs": [],
   "source": [
    "import pandas as pd"
   ]
  },
  {
   "cell_type": "code",
   "execution_count": 5,
   "metadata": {
    "collapsed": false
   },
   "outputs": [],
   "source": [
    "data = pd.read_csv('../Final Project/DataScienceFinalProjectValues.csv')"
   ]
  },
  {
   "cell_type": "code",
   "execution_count": 6,
   "metadata": {
    "collapsed": false
   },
   "outputs": [
    {
     "data": {
      "text/html": [
       "<div>\n",
       "<table border=\"1\" class=\"dataframe\">\n",
       "  <thead>\n",
       "    <tr style=\"text-align: right;\">\n",
       "      <th></th>\n",
       "      <th>Ticker</th>\n",
       "      <th>Broker Score (ct)</th>\n",
       "      <th>Broker Score (wtg)</th>\n",
       "      <th>Benchmark</th>\n",
       "      <th>1 Yr Return</th>\n",
       "      <th>3 Yr Return</th>\n",
       "      <th>5 Yr Return</th>\n",
       "      <th>7 Yr Return</th>\n",
       "      <th>1 Yr Return BM</th>\n",
       "      <th>3 Yr Return BM</th>\n",
       "      <th>5 Yr Return BM</th>\n",
       "      <th>7Yr Ruturn BM</th>\n",
       "      <th>12/31/2005</th>\n",
       "      <th>AUM (current)</th>\n",
       "    </tr>\n",
       "  </thead>\n",
       "  <tbody>\n",
       "    <tr>\n",
       "      <th>0</th>\n",
       "      <td>AADIX</td>\n",
       "      <td>-</td>\n",
       "      <td>-</td>\n",
       "      <td>S&amp;P500</td>\n",
       "      <td>17.91</td>\n",
       "      <td>-8.10</td>\n",
       "      <td>2.76</td>\n",
       "      <td>3.88</td>\n",
       "      <td>14.53</td>\n",
       "      <td>-8.13</td>\n",
       "      <td>2.26</td>\n",
       "      <td>4.08</td>\n",
       "      <td>245,165,645</td>\n",
       "      <td>1,034,344,418</td>\n",
       "    </tr>\n",
       "    <tr>\n",
       "      <th>1</th>\n",
       "      <td>ABALX</td>\n",
       "      <td>1,914</td>\n",
       "      <td>1,621</td>\n",
       "      <td>S&amp;P500</td>\n",
       "      <td>11.12</td>\n",
       "      <td>-3.80</td>\n",
       "      <td>3.90</td>\n",
       "      <td>5.28</td>\n",
       "      <td>14.53</td>\n",
       "      <td>-8.13</td>\n",
       "      <td>2.26</td>\n",
       "      <td>4.08</td>\n",
       "      <td>46,502,248,428</td>\n",
       "      <td>107,778,902,524</td>\n",
       "    </tr>\n",
       "    <tr>\n",
       "      <th>2</th>\n",
       "      <td>ADGAX</td>\n",
       "      <td>748</td>\n",
       "      <td>1,575</td>\n",
       "      <td>S&amp;P500</td>\n",
       "      <td>13.82</td>\n",
       "      <td>-7.99</td>\n",
       "      <td>1.83</td>\n",
       "      <td>4.13</td>\n",
       "      <td>14.53</td>\n",
       "      <td>-8.13</td>\n",
       "      <td>2.26</td>\n",
       "      <td>4.08</td>\n",
       "      <td>395,608,471</td>\n",
       "      <td>251,495,113</td>\n",
       "    </tr>\n",
       "    <tr>\n",
       "      <th>3</th>\n",
       "      <td>AFDAX</td>\n",
       "      <td>1,432</td>\n",
       "      <td>1,553</td>\n",
       "      <td>S&amp;P500</td>\n",
       "      <td>19.17</td>\n",
       "      <td>-3.85</td>\n",
       "      <td>4.08</td>\n",
       "      <td>5.54</td>\n",
       "      <td>14.53</td>\n",
       "      <td>-8.13</td>\n",
       "      <td>2.26</td>\n",
       "      <td>4.08</td>\n",
       "      <td>4,555,408</td>\n",
       "      <td>220,588,904</td>\n",
       "    </tr>\n",
       "    <tr>\n",
       "      <th>4</th>\n",
       "      <td>AGOCX</td>\n",
       "      <td>2,074</td>\n",
       "      <td>1,774</td>\n",
       "      <td>S&amp;P500</td>\n",
       "      <td>16.17</td>\n",
       "      <td>-6.38</td>\n",
       "      <td>6.33</td>\n",
       "      <td>6.01</td>\n",
       "      <td>14.53</td>\n",
       "      <td>-8.13</td>\n",
       "      <td>2.26</td>\n",
       "      <td>4.08</td>\n",
       "      <td>73,402,177</td>\n",
       "      <td>2,456,431,434</td>\n",
       "    </tr>\n",
       "  </tbody>\n",
       "</table>\n",
       "</div>"
      ],
      "text/plain": [
       "  Ticker Broker Score (ct) Broker Score (wtg) Benchmark  1 Yr Return  \\\n",
       "0  AADIX              -                  -       S&P500        17.91   \n",
       "1  ABALX            1,914              1,621     S&P500        11.12   \n",
       "2  ADGAX              748              1,575     S&P500        13.82   \n",
       "3  AFDAX            1,432              1,553     S&P500        19.17   \n",
       "4  AGOCX            2,074              1,774     S&P500        16.17   \n",
       "\n",
       "   3 Yr Return  5 Yr Return 7 Yr Return  1 Yr Return BM  3 Yr Return BM  \\\n",
       "0        -8.10         2.76        3.88           14.53           -8.13   \n",
       "1        -3.80         3.90        5.28           14.53           -8.13   \n",
       "2        -7.99         1.83        4.13           14.53           -8.13   \n",
       "3        -3.85         4.08        5.54           14.53           -8.13   \n",
       "4        -6.38         6.33        6.01           14.53           -8.13   \n",
       "\n",
       "   5 Yr Return BM  7Yr Ruturn BM      12/31/2005      AUM (current)  \n",
       "0            2.26           4.08     245,165,645     1,034,344,418   \n",
       "1            2.26           4.08  46,502,248,428   107,778,902,524   \n",
       "2            2.26           4.08     395,608,471       251,495,113   \n",
       "3            2.26           4.08       4,555,408       220,588,904   \n",
       "4            2.26           4.08      73,402,177     2,456,431,434   "
      ]
     },
     "execution_count": 6,
     "metadata": {},
     "output_type": "execute_result"
    }
   ],
   "source": [
    "data.head()"
   ]
  },
  {
   "cell_type": "code",
   "execution_count": 8,
   "metadata": {
    "collapsed": false
   },
   "outputs": [
    {
     "data": {
      "text/plain": [
       "(1031, 14)"
      ]
     },
     "execution_count": 8,
     "metadata": {},
     "output_type": "execute_result"
    }
   ],
   "source": [
    "data.shape"
   ]
  },
  {
   "cell_type": "code",
   "execution_count": null,
   "metadata": {
    "collapsed": true
   },
   "outputs": [],
   "source": []
  }
 ],
 "metadata": {
  "kernelspec": {
   "display_name": "Python 2",
   "language": "python",
   "name": "python2"
  },
  "language_info": {
   "codemirror_mode": {
    "name": "ipython",
    "version": 2
   },
   "file_extension": ".py",
   "mimetype": "text/x-python",
   "name": "python",
   "nbconvert_exporter": "python",
   "pygments_lexer": "ipython2",
   "version": "2.7.13"
  }
 },
 "nbformat": 4,
 "nbformat_minor": 2
}

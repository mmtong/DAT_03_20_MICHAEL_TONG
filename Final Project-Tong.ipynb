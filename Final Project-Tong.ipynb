{
 "cells": [
  {
   "cell_type": "markdown",
   "metadata": {},
   "source": [
    "### Bike Share: Lesson 6\n",
    "### Iris: Lesson 7\n",
    "### College Admission: Lesson 8\n",
    "### Flight Delay: Lesson 9\n",
    "### Evergreen: Lesson 10\n",
    "### Beer: Lesson 12"
   ]
  },
  {
   "cell_type": "code",
   "execution_count": null,
   "metadata": {
    "collapsed": true
   },
   "outputs": [],
   "source": [
    "# supervised vs unsupervised models\n",
    "# good R2 or good score on cross validation\n"
   ]
  },
  {
   "cell_type": "code",
   "execution_count": 95,
   "metadata": {
    "collapsed": true
   },
   "outputs": [],
   "source": [
    "import pandas as pd\n",
    "import numpy as np\n",
    "from matplotlib import pyplot as plt\n",
    "import seaborn as sns\n",
    "from sklearn import datasets\n",
    "from sklearn import metrics\n",
    "from sklearn import grid_search, cross_validation\n",
    "from sklearn.preprocessing import StandardScaler\n",
    "from sklearn.linear_model import LogisticRegression\n",
    "from sklearn.metrics import roc_curve, roc_auc_score\n",
    "from sklearn.ensemble import RandomForestClassifier\n",
    "%matplotlib inline"
   ]
  },
  {
   "cell_type": "code",
   "execution_count": 2,
   "metadata": {
    "collapsed": false
   },
   "outputs": [],
   "source": [
    "data = pd.read_csv('../Final Project/DataScienceFinalProjectValuesCSV.csv')\n",
    "#data2 = pd.read_csv('../Final Project/DataScienceFinalProjectValues2set.csv')"
   ]
  },
  {
   "cell_type": "code",
   "execution_count": 3,
   "metadata": {
    "collapsed": false
   },
   "outputs": [
    {
     "data": {
      "text/html": [
       "<div>\n",
       "<table border=\"1\" class=\"dataframe\">\n",
       "  <thead>\n",
       "    <tr style=\"text-align: right;\">\n",
       "      <th></th>\n",
       "      <th>Ticker</th>\n",
       "      <th>Broker_Score_ct</th>\n",
       "      <th>Broker_Score_wtg</th>\n",
       "      <th>Benchmark</th>\n",
       "      <th>1_Yr_Return</th>\n",
       "      <th>3_Yr_Return</th>\n",
       "      <th>5_Yr_Return</th>\n",
       "      <th>7_Yr_Return</th>\n",
       "      <th>1_Yr_Return_BM</th>\n",
       "      <th>3_Yr_Return_BM</th>\n",
       "      <th>...</th>\n",
       "      <th>Net_Expense_Ratio</th>\n",
       "      <th>Avg_Mkt_Cap_M</th>\n",
       "      <th>P_E</th>\n",
       "      <th>P_B</th>\n",
       "      <th>P_S</th>\n",
       "      <th>P_C</th>\n",
       "      <th>Debt_to_Capital</th>\n",
       "      <th>Net_Margin</th>\n",
       "      <th>ROA</th>\n",
       "      <th>ROE</th>\n",
       "    </tr>\n",
       "  </thead>\n",
       "  <tbody>\n",
       "    <tr>\n",
       "      <th>0</th>\n",
       "      <td>AADIX</td>\n",
       "      <td>0</td>\n",
       "      <td>0</td>\n",
       "      <td>S&amp;P500</td>\n",
       "      <td>17.91</td>\n",
       "      <td>-8.10</td>\n",
       "      <td>2.76</td>\n",
       "      <td>3.88</td>\n",
       "      <td>14.53</td>\n",
       "      <td>-8.13</td>\n",
       "      <td>...</td>\n",
       "      <td>0.17</td>\n",
       "      <td>24386.36</td>\n",
       "      <td>19.33</td>\n",
       "      <td>2.97</td>\n",
       "      <td>1.49</td>\n",
       "      <td>11.47</td>\n",
       "      <td>18.30</td>\n",
       "      <td>12.68</td>\n",
       "      <td>8.72</td>\n",
       "      <td>16.98</td>\n",
       "    </tr>\n",
       "    <tr>\n",
       "      <th>1</th>\n",
       "      <td>ABALX</td>\n",
       "      <td>1914</td>\n",
       "      <td>1621</td>\n",
       "      <td>S&amp;P500</td>\n",
       "      <td>11.12</td>\n",
       "      <td>-3.80</td>\n",
       "      <td>3.90</td>\n",
       "      <td>5.28</td>\n",
       "      <td>14.53</td>\n",
       "      <td>-8.13</td>\n",
       "      <td>...</td>\n",
       "      <td>0.17</td>\n",
       "      <td>65166.85</td>\n",
       "      <td>17.04</td>\n",
       "      <td>2.83</td>\n",
       "      <td>1.30</td>\n",
       "      <td>10.95</td>\n",
       "      <td>25.58</td>\n",
       "      <td>11.70</td>\n",
       "      <td>9.77</td>\n",
       "      <td>19.22</td>\n",
       "    </tr>\n",
       "    <tr>\n",
       "      <th>2</th>\n",
       "      <td>ADGAX</td>\n",
       "      <td>748</td>\n",
       "      <td>1575</td>\n",
       "      <td>S&amp;P500</td>\n",
       "      <td>13.82</td>\n",
       "      <td>-7.99</td>\n",
       "      <td>1.83</td>\n",
       "      <td>4.13</td>\n",
       "      <td>14.53</td>\n",
       "      <td>-8.13</td>\n",
       "      <td>...</td>\n",
       "      <td>0.62</td>\n",
       "      <td>43517.39</td>\n",
       "      <td>19.53</td>\n",
       "      <td>2.57</td>\n",
       "      <td>1.76</td>\n",
       "      <td>12.34</td>\n",
       "      <td>32.81</td>\n",
       "      <td>11.85</td>\n",
       "      <td>9.44</td>\n",
       "      <td>17.56</td>\n",
       "    </tr>\n",
       "    <tr>\n",
       "      <th>3</th>\n",
       "      <td>AFDAX</td>\n",
       "      <td>1432</td>\n",
       "      <td>1553</td>\n",
       "      <td>S&amp;P500</td>\n",
       "      <td>19.17</td>\n",
       "      <td>-3.85</td>\n",
       "      <td>4.08</td>\n",
       "      <td>5.54</td>\n",
       "      <td>14.53</td>\n",
       "      <td>-8.13</td>\n",
       "      <td>...</td>\n",
       "      <td>1.19</td>\n",
       "      <td>41518.15</td>\n",
       "      <td>17.16</td>\n",
       "      <td>2.89</td>\n",
       "      <td>1.70</td>\n",
       "      <td>11.88</td>\n",
       "      <td>26.75</td>\n",
       "      <td>14.47</td>\n",
       "      <td>11.45</td>\n",
       "      <td>21.90</td>\n",
       "    </tr>\n",
       "    <tr>\n",
       "      <th>4</th>\n",
       "      <td>AGOCX</td>\n",
       "      <td>2074</td>\n",
       "      <td>1774</td>\n",
       "      <td>S&amp;P500</td>\n",
       "      <td>16.17</td>\n",
       "      <td>-6.38</td>\n",
       "      <td>6.33</td>\n",
       "      <td>6.01</td>\n",
       "      <td>14.53</td>\n",
       "      <td>-8.13</td>\n",
       "      <td>...</td>\n",
       "      <td>2.16</td>\n",
       "      <td>NaN</td>\n",
       "      <td>NaN</td>\n",
       "      <td>NaN</td>\n",
       "      <td>NaN</td>\n",
       "      <td>NaN</td>\n",
       "      <td>NaN</td>\n",
       "      <td>NaN</td>\n",
       "      <td>NaN</td>\n",
       "      <td>NaN</td>\n",
       "    </tr>\n",
       "  </tbody>\n",
       "</table>\n",
       "<p>5 rows × 29 columns</p>\n",
       "</div>"
      ],
      "text/plain": [
       "  Ticker  Broker_Score_ct  Broker_Score_wtg Benchmark  1_Yr_Return  \\\n",
       "0  AADIX                0                 0    S&P500        17.91   \n",
       "1  ABALX             1914              1621    S&P500        11.12   \n",
       "2  ADGAX              748              1575    S&P500        13.82   \n",
       "3  AFDAX             1432              1553    S&P500        19.17   \n",
       "4  AGOCX             2074              1774    S&P500        16.17   \n",
       "\n",
       "   3_Yr_Return  5_Yr_Return  7_Yr_Return  1_Yr_Return_BM  3_Yr_Return_BM  \\\n",
       "0        -8.10         2.76         3.88           14.53           -8.13   \n",
       "1        -3.80         3.90         5.28           14.53           -8.13   \n",
       "2        -7.99         1.83         4.13           14.53           -8.13   \n",
       "3        -3.85         4.08         5.54           14.53           -8.13   \n",
       "4        -6.38         6.33         6.01           14.53           -8.13   \n",
       "\n",
       "   ...    Net_Expense_Ratio  Avg_Mkt_Cap_M    P_E   P_B   P_S    P_C  \\\n",
       "0  ...                 0.17       24386.36  19.33  2.97  1.49  11.47   \n",
       "1  ...                 0.17       65166.85  17.04  2.83  1.30  10.95   \n",
       "2  ...                 0.62       43517.39  19.53  2.57  1.76  12.34   \n",
       "3  ...                 1.19       41518.15  17.16  2.89  1.70  11.88   \n",
       "4  ...                 2.16            NaN    NaN   NaN   NaN    NaN   \n",
       "\n",
       "   Debt_to_Capital  Net_Margin    ROA    ROE  \n",
       "0            18.30       12.68   8.72  16.98  \n",
       "1            25.58       11.70   9.77  19.22  \n",
       "2            32.81       11.85   9.44  17.56  \n",
       "3            26.75       14.47  11.45  21.90  \n",
       "4              NaN         NaN    NaN    NaN  \n",
       "\n",
       "[5 rows x 29 columns]"
      ]
     },
     "execution_count": 3,
     "metadata": {},
     "output_type": "execute_result"
    }
   ],
   "source": [
    "data.head()"
   ]
  },
  {
   "cell_type": "code",
   "execution_count": 4,
   "metadata": {
    "collapsed": false
   },
   "outputs": [
    {
     "data": {
      "text/plain": [
       "(1031, 29)"
      ]
     },
     "execution_count": 4,
     "metadata": {},
     "output_type": "execute_result"
    }
   ],
   "source": [
    "data.shape"
   ]
  },
  {
   "cell_type": "code",
   "execution_count": 5,
   "metadata": {
    "collapsed": false
   },
   "outputs": [
    {
     "data": {
      "text/plain": [
       "Ticker                object\n",
       "Broker_Score_ct        int64\n",
       "Broker_Score_wtg       int64\n",
       "Benchmark             object\n",
       "1_Yr_Return          float64\n",
       "3_Yr_Return          float64\n",
       "5_Yr_Return          float64\n",
       "7_Yr_Return          float64\n",
       "1_Yr_Return_BM       float64\n",
       "3_Yr_Return_BM       float64\n",
       "5_Yr_Return_BM       float64\n",
       "7_Yr_Return_BM       float64\n",
       "AUM                  float64\n",
       "AUM_2016             float64\n",
       "Num_of_Holdings      float64\n",
       "Turnover_2005        float64\n",
       "Turnover_2004        float64\n",
       "Turnover_2003        float64\n",
       "3_yr_Turnover_Avg    float64\n",
       "Net_Expense_Ratio    float64\n",
       "Avg_Mkt_Cap_M        float64\n",
       "P_E                  float64\n",
       "P_B                  float64\n",
       "P_S                  float64\n",
       "P_C                  float64\n",
       "Debt_to_Capital      float64\n",
       "Net_Margin           float64\n",
       "ROA                  float64\n",
       "ROE                  float64\n",
       "dtype: object"
      ]
     },
     "execution_count": 5,
     "metadata": {},
     "output_type": "execute_result"
    }
   ],
   "source": [
    "data.dtypes"
   ]
  },
  {
   "cell_type": "code",
   "execution_count": 6,
   "metadata": {
    "collapsed": false
   },
   "outputs": [
    {
     "name": "stdout",
     "output_type": "stream",
     "text": [
      "205\n"
     ]
    }
   ],
   "source": [
    "#print (data != 0).sum()\n",
    "print (data['Broker_Score_ct'] == 0).sum()"
   ]
  },
  {
   "cell_type": "code",
   "execution_count": 7,
   "metadata": {
    "collapsed": false
   },
   "outputs": [],
   "source": [
    "cleandata = data[data.Broker_Score_ct != 0]"
   ]
  },
  {
   "cell_type": "code",
   "execution_count": 8,
   "metadata": {
    "collapsed": false
   },
   "outputs": [
    {
     "data": {
      "text/plain": [
       "(826, 29)"
      ]
     },
     "execution_count": 8,
     "metadata": {},
     "output_type": "execute_result"
    }
   ],
   "source": [
    "cleandata.shape"
   ]
  },
  {
   "cell_type": "code",
   "execution_count": 9,
   "metadata": {
    "collapsed": false
   },
   "outputs": [
    {
     "data": {
      "text/plain": [
       "Ticker                 0\n",
       "Broker_Score_ct        0\n",
       "Broker_Score_wtg       0\n",
       "Benchmark              0\n",
       "1_Yr_Return            7\n",
       "3_Yr_Return            7\n",
       "5_Yr_Return            7\n",
       "7_Yr_Return           27\n",
       "1_Yr_Return_BM         0\n",
       "3_Yr_Return_BM         0\n",
       "5_Yr_Return_BM         0\n",
       "7_Yr_Return_BM         0\n",
       "AUM                   10\n",
       "AUM_2016               0\n",
       "Num_of_Holdings      177\n",
       "Turnover_2005         27\n",
       "Turnover_2004        190\n",
       "Turnover_2003        252\n",
       "3_yr_Turnover_Avg     20\n",
       "Net_Expense_Ratio      7\n",
       "Avg_Mkt_Cap_M        174\n",
       "P_E                  179\n",
       "P_B                  174\n",
       "P_S                  174\n",
       "P_C                  191\n",
       "Debt_to_Capital      196\n",
       "Net_Margin           174\n",
       "ROA                  174\n",
       "ROE                  174\n",
       "dtype: int64"
      ]
     },
     "execution_count": 9,
     "metadata": {},
     "output_type": "execute_result"
    }
   ],
   "source": [
    "cleandata.isnull().sum()"
   ]
  },
  {
   "cell_type": "code",
   "execution_count": 10,
   "metadata": {
    "collapsed": true
   },
   "outputs": [],
   "source": [
    "cleandata = cleandata[np.isfinite(cleandata['5_Yr_Return'])]\n",
    "cleandata = cleandata[np.isfinite(cleandata['7_Yr_Return'])]"
   ]
  },
  {
   "cell_type": "code",
   "execution_count": 11,
   "metadata": {
    "collapsed": false
   },
   "outputs": [
    {
     "data": {
      "text/plain": [
       "Ticker                 0\n",
       "Broker_Score_ct        0\n",
       "Broker_Score_wtg       0\n",
       "Benchmark              0\n",
       "1_Yr_Return            0\n",
       "3_Yr_Return            0\n",
       "5_Yr_Return            0\n",
       "7_Yr_Return            0\n",
       "1_Yr_Return_BM         0\n",
       "3_Yr_Return_BM         0\n",
       "5_Yr_Return_BM         0\n",
       "7_Yr_Return_BM         0\n",
       "AUM                    5\n",
       "AUM_2016               0\n",
       "Num_of_Holdings      173\n",
       "Turnover_2005         20\n",
       "Turnover_2004        181\n",
       "Turnover_2003        243\n",
       "3_yr_Turnover_Avg     14\n",
       "Net_Expense_Ratio      3\n",
       "Avg_Mkt_Cap_M        171\n",
       "P_E                  176\n",
       "P_B                  171\n",
       "P_S                  171\n",
       "P_C                  188\n",
       "Debt_to_Capital      193\n",
       "Net_Margin           171\n",
       "ROA                  171\n",
       "ROE                  171\n",
       "dtype: int64"
      ]
     },
     "execution_count": 11,
     "metadata": {},
     "output_type": "execute_result"
    }
   ],
   "source": [
    "cleandata.isnull().sum()"
   ]
  },
  {
   "cell_type": "code",
   "execution_count": 12,
   "metadata": {
    "collapsed": false
   },
   "outputs": [
    {
     "data": {
      "text/html": [
       "<div>\n",
       "<table border=\"1\" class=\"dataframe\">\n",
       "  <thead>\n",
       "    <tr style=\"text-align: right;\">\n",
       "      <th></th>\n",
       "      <th>Ticker</th>\n",
       "      <th>Broker_Score_ct</th>\n",
       "      <th>Broker_Score_wtg</th>\n",
       "      <th>Benchmark</th>\n",
       "      <th>1_Yr_Return</th>\n",
       "      <th>3_Yr_Return</th>\n",
       "      <th>5_Yr_Return</th>\n",
       "      <th>7_Yr_Return</th>\n",
       "      <th>1_Yr_Return_BM</th>\n",
       "      <th>3_Yr_Return_BM</th>\n",
       "      <th>...</th>\n",
       "      <th>Net_Expense_Ratio</th>\n",
       "      <th>Avg_Mkt_Cap_M</th>\n",
       "      <th>P_E</th>\n",
       "      <th>P_B</th>\n",
       "      <th>P_S</th>\n",
       "      <th>P_C</th>\n",
       "      <th>Debt_to_Capital</th>\n",
       "      <th>Net_Margin</th>\n",
       "      <th>ROA</th>\n",
       "      <th>ROE</th>\n",
       "    </tr>\n",
       "  </thead>\n",
       "  <tbody>\n",
       "    <tr>\n",
       "      <th>1</th>\n",
       "      <td>ABALX</td>\n",
       "      <td>1914</td>\n",
       "      <td>1621</td>\n",
       "      <td>S&amp;P500</td>\n",
       "      <td>11.12</td>\n",
       "      <td>-3.80</td>\n",
       "      <td>3.90</td>\n",
       "      <td>5.28</td>\n",
       "      <td>14.53</td>\n",
       "      <td>-8.13</td>\n",
       "      <td>...</td>\n",
       "      <td>0.17</td>\n",
       "      <td>65166.85</td>\n",
       "      <td>17.04</td>\n",
       "      <td>2.83</td>\n",
       "      <td>1.30</td>\n",
       "      <td>10.95</td>\n",
       "      <td>25.58</td>\n",
       "      <td>11.70</td>\n",
       "      <td>9.77</td>\n",
       "      <td>19.22</td>\n",
       "    </tr>\n",
       "    <tr>\n",
       "      <th>2</th>\n",
       "      <td>ADGAX</td>\n",
       "      <td>748</td>\n",
       "      <td>1575</td>\n",
       "      <td>S&amp;P500</td>\n",
       "      <td>13.82</td>\n",
       "      <td>-7.99</td>\n",
       "      <td>1.83</td>\n",
       "      <td>4.13</td>\n",
       "      <td>14.53</td>\n",
       "      <td>-8.13</td>\n",
       "      <td>...</td>\n",
       "      <td>0.62</td>\n",
       "      <td>43517.39</td>\n",
       "      <td>19.53</td>\n",
       "      <td>2.57</td>\n",
       "      <td>1.76</td>\n",
       "      <td>12.34</td>\n",
       "      <td>32.81</td>\n",
       "      <td>11.85</td>\n",
       "      <td>9.44</td>\n",
       "      <td>17.56</td>\n",
       "    </tr>\n",
       "    <tr>\n",
       "      <th>3</th>\n",
       "      <td>AFDAX</td>\n",
       "      <td>1432</td>\n",
       "      <td>1553</td>\n",
       "      <td>S&amp;P500</td>\n",
       "      <td>19.17</td>\n",
       "      <td>-3.85</td>\n",
       "      <td>4.08</td>\n",
       "      <td>5.54</td>\n",
       "      <td>14.53</td>\n",
       "      <td>-8.13</td>\n",
       "      <td>...</td>\n",
       "      <td>1.19</td>\n",
       "      <td>41518.15</td>\n",
       "      <td>17.16</td>\n",
       "      <td>2.89</td>\n",
       "      <td>1.70</td>\n",
       "      <td>11.88</td>\n",
       "      <td>26.75</td>\n",
       "      <td>14.47</td>\n",
       "      <td>11.45</td>\n",
       "      <td>21.90</td>\n",
       "    </tr>\n",
       "    <tr>\n",
       "      <th>4</th>\n",
       "      <td>AGOCX</td>\n",
       "      <td>2074</td>\n",
       "      <td>1774</td>\n",
       "      <td>S&amp;P500</td>\n",
       "      <td>16.17</td>\n",
       "      <td>-6.38</td>\n",
       "      <td>6.33</td>\n",
       "      <td>6.01</td>\n",
       "      <td>14.53</td>\n",
       "      <td>-8.13</td>\n",
       "      <td>...</td>\n",
       "      <td>2.16</td>\n",
       "      <td>NaN</td>\n",
       "      <td>NaN</td>\n",
       "      <td>NaN</td>\n",
       "      <td>NaN</td>\n",
       "      <td>NaN</td>\n",
       "      <td>NaN</td>\n",
       "      <td>NaN</td>\n",
       "      <td>NaN</td>\n",
       "      <td>NaN</td>\n",
       "    </tr>\n",
       "    <tr>\n",
       "      <th>5</th>\n",
       "      <td>AGTHX</td>\n",
       "      <td>2929</td>\n",
       "      <td>1236</td>\n",
       "      <td>S&amp;P500</td>\n",
       "      <td>12.27</td>\n",
       "      <td>-8.27</td>\n",
       "      <td>2.91</td>\n",
       "      <td>4.07</td>\n",
       "      <td>14.53</td>\n",
       "      <td>-8.13</td>\n",
       "      <td>...</td>\n",
       "      <td>2.15</td>\n",
       "      <td>32239.22</td>\n",
       "      <td>21.36</td>\n",
       "      <td>3.37</td>\n",
       "      <td>1.91</td>\n",
       "      <td>13.21</td>\n",
       "      <td>21.06</td>\n",
       "      <td>13.91</td>\n",
       "      <td>9.20</td>\n",
       "      <td>17.09</td>\n",
       "    </tr>\n",
       "  </tbody>\n",
       "</table>\n",
       "<p>5 rows × 29 columns</p>\n",
       "</div>"
      ],
      "text/plain": [
       "  Ticker  Broker_Score_ct  Broker_Score_wtg Benchmark  1_Yr_Return  \\\n",
       "1  ABALX             1914              1621    S&P500        11.12   \n",
       "2  ADGAX              748              1575    S&P500        13.82   \n",
       "3  AFDAX             1432              1553    S&P500        19.17   \n",
       "4  AGOCX             2074              1774    S&P500        16.17   \n",
       "5  AGTHX             2929              1236    S&P500        12.27   \n",
       "\n",
       "   3_Yr_Return  5_Yr_Return  7_Yr_Return  1_Yr_Return_BM  3_Yr_Return_BM  \\\n",
       "1        -3.80         3.90         5.28           14.53           -8.13   \n",
       "2        -7.99         1.83         4.13           14.53           -8.13   \n",
       "3        -3.85         4.08         5.54           14.53           -8.13   \n",
       "4        -6.38         6.33         6.01           14.53           -8.13   \n",
       "5        -8.27         2.91         4.07           14.53           -8.13   \n",
       "\n",
       "   ...    Net_Expense_Ratio  Avg_Mkt_Cap_M    P_E   P_B   P_S    P_C  \\\n",
       "1  ...                 0.17       65166.85  17.04  2.83  1.30  10.95   \n",
       "2  ...                 0.62       43517.39  19.53  2.57  1.76  12.34   \n",
       "3  ...                 1.19       41518.15  17.16  2.89  1.70  11.88   \n",
       "4  ...                 2.16            NaN    NaN   NaN   NaN    NaN   \n",
       "5  ...                 2.15       32239.22  21.36  3.37  1.91  13.21   \n",
       "\n",
       "   Debt_to_Capital  Net_Margin    ROA    ROE  \n",
       "1            25.58       11.70   9.77  19.22  \n",
       "2            32.81       11.85   9.44  17.56  \n",
       "3            26.75       14.47  11.45  21.90  \n",
       "4              NaN         NaN    NaN    NaN  \n",
       "5            21.06       13.91   9.20  17.09  \n",
       "\n",
       "[5 rows x 29 columns]"
      ]
     },
     "execution_count": 12,
     "metadata": {},
     "output_type": "execute_result"
    }
   ],
   "source": [
    "cleandata.head()"
   ]
  },
  {
   "cell_type": "code",
   "execution_count": 13,
   "metadata": {
    "collapsed": false
   },
   "outputs": [
    {
     "data": {
      "text/plain": [
       "Ticker                 0\n",
       "Broker_Score_ct        0\n",
       "Broker_Score_wtg       0\n",
       "Benchmark              0\n",
       "1_Yr_Return            0\n",
       "3_Yr_Return            0\n",
       "5_Yr_Return            0\n",
       "7_Yr_Return            0\n",
       "1_Yr_Return_BM         0\n",
       "3_Yr_Return_BM         0\n",
       "5_Yr_Return_BM         0\n",
       "7_Yr_Return_BM         0\n",
       "AUM                    5\n",
       "AUM_2016               0\n",
       "Num_of_Holdings      173\n",
       "Turnover_2005         20\n",
       "Turnover_2004        181\n",
       "Turnover_2003        243\n",
       "3_yr_Turnover_Avg     14\n",
       "Net_Expense_Ratio      3\n",
       "Avg_Mkt_Cap_M        171\n",
       "P_E                  176\n",
       "P_B                  171\n",
       "P_S                  171\n",
       "P_C                  188\n",
       "Debt_to_Capital      193\n",
       "Net_Margin           171\n",
       "ROA                  171\n",
       "ROE                  171\n",
       "dtype: int64"
      ]
     },
     "execution_count": 13,
     "metadata": {},
     "output_type": "execute_result"
    }
   ],
   "source": [
    "cleandata.isnull().sum()"
   ]
  },
  {
   "cell_type": "code",
   "execution_count": 14,
   "metadata": {
    "collapsed": false
   },
   "outputs": [
    {
     "data": {
      "text/plain": [
       "(795, 29)"
      ]
     },
     "execution_count": 14,
     "metadata": {},
     "output_type": "execute_result"
    }
   ],
   "source": [
    "cleandata.shape"
   ]
  },
  {
   "cell_type": "code",
   "execution_count": 15,
   "metadata": {
    "collapsed": false
   },
   "outputs": [],
   "source": [
    "cleandata['P_E'] = cleandata.groupby(['Benchmark']).P_E.transform(lambda x: x.fillna(x.mean()))\n",
    "cleandata['P_B'] = cleandata.groupby(['Benchmark']).P_B.transform(lambda x: x.fillna(x.mean()))\n",
    "cleandata['P_S'] = cleandata.groupby(['Benchmark']).P_S.transform(lambda x: x.fillna(x.mean()))\n",
    "cleandata['P_C'] = cleandata.groupby(['Benchmark']).P_C.transform(lambda x: x.fillna(x.mean()))\n",
    "cleandata['Debt_to_Capital'] = cleandata.groupby(['Benchmark']).Debt_to_Capital.transform(lambda x: x.fillna(x.mean()))\n",
    "cleandata['Net_Margin'] = cleandata.groupby(['Benchmark']).Net_Margin.transform(lambda x: x.fillna(x.mean()))\n",
    "cleandata['ROA'] = cleandata.groupby(['Benchmark']).ROA.transform(lambda x: x.fillna(x.mean()))\n",
    "cleandata['ROE'] = cleandata.groupby(['Benchmark']).ROE.transform(lambda x: x.fillna(x.mean()))"
   ]
  },
  {
   "cell_type": "code",
   "execution_count": 120,
   "metadata": {
    "collapsed": false
   },
   "outputs": [
    {
     "data": {
      "text/plain": [
       "Ticker                 0\n",
       "Broker_Score_ct        0\n",
       "Broker_Score_wtg       0\n",
       "Benchmark              0\n",
       "1_Yr_Return            0\n",
       "3_Yr_Return            0\n",
       "5_Yr_Return            0\n",
       "7_Yr_Return            0\n",
       "1_Yr_Return_BM         0\n",
       "3_Yr_Return_BM         0\n",
       "5_Yr_Return_BM         0\n",
       "7_Yr_Return_BM         0\n",
       "AUM                    5\n",
       "AUM_2016               0\n",
       "Num_of_Holdings      173\n",
       "Turnover_2005         20\n",
       "Turnover_2004        181\n",
       "Turnover_2003        243\n",
       "3_yr_Turnover_Avg     14\n",
       "Net_Expense_Ratio      3\n",
       "Avg_Mkt_Cap_M        171\n",
       "P_E                    0\n",
       "P_B                    0\n",
       "P_S                    0\n",
       "P_C                    0\n",
       "Debt_to_Capital        0\n",
       "Net_Margin             0\n",
       "ROA                    0\n",
       "ROE                    0\n",
       "dtype: int64"
      ]
     },
     "execution_count": 120,
     "metadata": {},
     "output_type": "execute_result"
    }
   ],
   "source": [
    "cleandata.isnull().sum()"
   ]
  },
  {
   "cell_type": "code",
   "execution_count": 16,
   "metadata": {
    "collapsed": false
   },
   "outputs": [],
   "source": [
    "cleandata['Beat_BM_1Yr'] = np.where(cleandata['1_Yr_Return']> cleandata['1_Yr_Return_BM'], 1, 0)\n",
    "cleandata['Beat_BM_3Yr'] = np.where(cleandata['3_Yr_Return']> cleandata['3_Yr_Return_BM'], 1, 0)\n",
    "cleandata['Beat_BM_5Yr'] = np.where(cleandata['5_Yr_Return']> cleandata['5_Yr_Return_BM'], 1, 0)\n",
    "cleandata['Beat_BM_7Yr'] = np.where(cleandata['7_Yr_Return']> cleandata['7_Yr_Return_BM'], 1, 0)"
   ]
  },
  {
   "cell_type": "code",
   "execution_count": 17,
   "metadata": {
    "collapsed": false
   },
   "outputs": [
    {
     "data": {
      "text/html": [
       "<div>\n",
       "<table border=\"1\" class=\"dataframe\">\n",
       "  <thead>\n",
       "    <tr style=\"text-align: right;\">\n",
       "      <th></th>\n",
       "      <th>Ticker</th>\n",
       "      <th>Broker_Score_ct</th>\n",
       "      <th>Broker_Score_wtg</th>\n",
       "      <th>Benchmark</th>\n",
       "      <th>1_Yr_Return</th>\n",
       "      <th>3_Yr_Return</th>\n",
       "      <th>5_Yr_Return</th>\n",
       "      <th>7_Yr_Return</th>\n",
       "      <th>1_Yr_Return_BM</th>\n",
       "      <th>3_Yr_Return_BM</th>\n",
       "      <th>...</th>\n",
       "      <th>P_S</th>\n",
       "      <th>P_C</th>\n",
       "      <th>Debt_to_Capital</th>\n",
       "      <th>Net_Margin</th>\n",
       "      <th>ROA</th>\n",
       "      <th>ROE</th>\n",
       "      <th>Beat_BM_1Yr</th>\n",
       "      <th>Beat_BM_3Yr</th>\n",
       "      <th>Beat_BM_5Yr</th>\n",
       "      <th>Beat_BM_7Yr</th>\n",
       "    </tr>\n",
       "  </thead>\n",
       "  <tbody>\n",
       "    <tr>\n",
       "      <th>1</th>\n",
       "      <td>ABALX</td>\n",
       "      <td>1914</td>\n",
       "      <td>1621</td>\n",
       "      <td>S&amp;P500</td>\n",
       "      <td>11.12</td>\n",
       "      <td>-3.80</td>\n",
       "      <td>3.90</td>\n",
       "      <td>5.28</td>\n",
       "      <td>14.53</td>\n",
       "      <td>-8.13</td>\n",
       "      <td>...</td>\n",
       "      <td>1.30000</td>\n",
       "      <td>10.950000</td>\n",
       "      <td>25.58000</td>\n",
       "      <td>11.700000</td>\n",
       "      <td>9.770000</td>\n",
       "      <td>19.220000</td>\n",
       "      <td>0</td>\n",
       "      <td>1</td>\n",
       "      <td>1</td>\n",
       "      <td>1</td>\n",
       "    </tr>\n",
       "    <tr>\n",
       "      <th>2</th>\n",
       "      <td>ADGAX</td>\n",
       "      <td>748</td>\n",
       "      <td>1575</td>\n",
       "      <td>S&amp;P500</td>\n",
       "      <td>13.82</td>\n",
       "      <td>-7.99</td>\n",
       "      <td>1.83</td>\n",
       "      <td>4.13</td>\n",
       "      <td>14.53</td>\n",
       "      <td>-8.13</td>\n",
       "      <td>...</td>\n",
       "      <td>1.76000</td>\n",
       "      <td>12.340000</td>\n",
       "      <td>32.81000</td>\n",
       "      <td>11.850000</td>\n",
       "      <td>9.440000</td>\n",
       "      <td>17.560000</td>\n",
       "      <td>0</td>\n",
       "      <td>1</td>\n",
       "      <td>0</td>\n",
       "      <td>1</td>\n",
       "    </tr>\n",
       "    <tr>\n",
       "      <th>3</th>\n",
       "      <td>AFDAX</td>\n",
       "      <td>1432</td>\n",
       "      <td>1553</td>\n",
       "      <td>S&amp;P500</td>\n",
       "      <td>19.17</td>\n",
       "      <td>-3.85</td>\n",
       "      <td>4.08</td>\n",
       "      <td>5.54</td>\n",
       "      <td>14.53</td>\n",
       "      <td>-8.13</td>\n",
       "      <td>...</td>\n",
       "      <td>1.70000</td>\n",
       "      <td>11.880000</td>\n",
       "      <td>26.75000</td>\n",
       "      <td>14.470000</td>\n",
       "      <td>11.450000</td>\n",
       "      <td>21.900000</td>\n",
       "      <td>1</td>\n",
       "      <td>1</td>\n",
       "      <td>1</td>\n",
       "      <td>1</td>\n",
       "    </tr>\n",
       "    <tr>\n",
       "      <th>4</th>\n",
       "      <td>AGOCX</td>\n",
       "      <td>2074</td>\n",
       "      <td>1774</td>\n",
       "      <td>S&amp;P500</td>\n",
       "      <td>16.17</td>\n",
       "      <td>-6.38</td>\n",
       "      <td>6.33</td>\n",
       "      <td>6.01</td>\n",
       "      <td>14.53</td>\n",
       "      <td>-8.13</td>\n",
       "      <td>...</td>\n",
       "      <td>1.80696</td>\n",
       "      <td>12.214384</td>\n",
       "      <td>27.54437</td>\n",
       "      <td>12.343135</td>\n",
       "      <td>9.128812</td>\n",
       "      <td>17.711211</td>\n",
       "      <td>1</td>\n",
       "      <td>1</td>\n",
       "      <td>1</td>\n",
       "      <td>1</td>\n",
       "    </tr>\n",
       "    <tr>\n",
       "      <th>5</th>\n",
       "      <td>AGTHX</td>\n",
       "      <td>2929</td>\n",
       "      <td>1236</td>\n",
       "      <td>S&amp;P500</td>\n",
       "      <td>12.27</td>\n",
       "      <td>-8.27</td>\n",
       "      <td>2.91</td>\n",
       "      <td>4.07</td>\n",
       "      <td>14.53</td>\n",
       "      <td>-8.13</td>\n",
       "      <td>...</td>\n",
       "      <td>1.91000</td>\n",
       "      <td>13.210000</td>\n",
       "      <td>21.06000</td>\n",
       "      <td>13.910000</td>\n",
       "      <td>9.200000</td>\n",
       "      <td>17.090000</td>\n",
       "      <td>0</td>\n",
       "      <td>0</td>\n",
       "      <td>1</td>\n",
       "      <td>0</td>\n",
       "    </tr>\n",
       "  </tbody>\n",
       "</table>\n",
       "<p>5 rows × 33 columns</p>\n",
       "</div>"
      ],
      "text/plain": [
       "  Ticker  Broker_Score_ct  Broker_Score_wtg Benchmark  1_Yr_Return  \\\n",
       "1  ABALX             1914              1621    S&P500        11.12   \n",
       "2  ADGAX              748              1575    S&P500        13.82   \n",
       "3  AFDAX             1432              1553    S&P500        19.17   \n",
       "4  AGOCX             2074              1774    S&P500        16.17   \n",
       "5  AGTHX             2929              1236    S&P500        12.27   \n",
       "\n",
       "   3_Yr_Return  5_Yr_Return  7_Yr_Return  1_Yr_Return_BM  3_Yr_Return_BM  \\\n",
       "1        -3.80         3.90         5.28           14.53           -8.13   \n",
       "2        -7.99         1.83         4.13           14.53           -8.13   \n",
       "3        -3.85         4.08         5.54           14.53           -8.13   \n",
       "4        -6.38         6.33         6.01           14.53           -8.13   \n",
       "5        -8.27         2.91         4.07           14.53           -8.13   \n",
       "\n",
       "      ...           P_S        P_C  Debt_to_Capital  Net_Margin        ROA  \\\n",
       "1     ...       1.30000  10.950000         25.58000   11.700000   9.770000   \n",
       "2     ...       1.76000  12.340000         32.81000   11.850000   9.440000   \n",
       "3     ...       1.70000  11.880000         26.75000   14.470000  11.450000   \n",
       "4     ...       1.80696  12.214384         27.54437   12.343135   9.128812   \n",
       "5     ...       1.91000  13.210000         21.06000   13.910000   9.200000   \n",
       "\n",
       "         ROE  Beat_BM_1Yr  Beat_BM_3Yr  Beat_BM_5Yr  Beat_BM_7Yr  \n",
       "1  19.220000            0            1            1            1  \n",
       "2  17.560000            0            1            0            1  \n",
       "3  21.900000            1            1            1            1  \n",
       "4  17.711211            1            1            1            1  \n",
       "5  17.090000            0            0            1            0  \n",
       "\n",
       "[5 rows x 33 columns]"
      ]
     },
     "execution_count": 17,
     "metadata": {},
     "output_type": "execute_result"
    }
   ],
   "source": [
    "cleandata.head()"
   ]
  },
  {
   "cell_type": "code",
   "execution_count": 18,
   "metadata": {
    "collapsed": true
   },
   "outputs": [],
   "source": [
    "cleandata['Perf_vs_BM_1Yr'] = cleandata['1_Yr_Return'] - cleandata['1_Yr_Return_BM']\n",
    "cleandata['Perf_vs_BM_3Yr'] = cleandata['3_Yr_Return'] - cleandata['3_Yr_Return_BM']\n",
    "cleandata['Perf_vs_BM_5Yr'] = cleandata['5_Yr_Return'] - cleandata['5_Yr_Return_BM']\n",
    "cleandata['Perf_vs_BM_7Yr'] = cleandata['7_Yr_Return'] - cleandata['7_Yr_Return_BM']"
   ]
  },
  {
   "cell_type": "code",
   "execution_count": 19,
   "metadata": {
    "collapsed": false
   },
   "outputs": [
    {
     "data": {
      "text/html": [
       "<div>\n",
       "<table border=\"1\" class=\"dataframe\">\n",
       "  <thead>\n",
       "    <tr style=\"text-align: right;\">\n",
       "      <th></th>\n",
       "      <th>Ticker</th>\n",
       "      <th>Broker_Score_ct</th>\n",
       "      <th>Broker_Score_wtg</th>\n",
       "      <th>Benchmark</th>\n",
       "      <th>1_Yr_Return</th>\n",
       "      <th>3_Yr_Return</th>\n",
       "      <th>5_Yr_Return</th>\n",
       "      <th>7_Yr_Return</th>\n",
       "      <th>1_Yr_Return_BM</th>\n",
       "      <th>3_Yr_Return_BM</th>\n",
       "      <th>...</th>\n",
       "      <th>ROA</th>\n",
       "      <th>ROE</th>\n",
       "      <th>Beat_BM_1Yr</th>\n",
       "      <th>Beat_BM_3Yr</th>\n",
       "      <th>Beat_BM_5Yr</th>\n",
       "      <th>Beat_BM_7Yr</th>\n",
       "      <th>Perf_vs_BM_1Yr</th>\n",
       "      <th>Perf_vs_BM_3Yr</th>\n",
       "      <th>Perf_vs_BM_5Yr</th>\n",
       "      <th>Perf_vs_BM_7Yr</th>\n",
       "    </tr>\n",
       "  </thead>\n",
       "  <tbody>\n",
       "    <tr>\n",
       "      <th>1</th>\n",
       "      <td>ABALX</td>\n",
       "      <td>1914</td>\n",
       "      <td>1621</td>\n",
       "      <td>S&amp;P500</td>\n",
       "      <td>11.12</td>\n",
       "      <td>-3.80</td>\n",
       "      <td>3.90</td>\n",
       "      <td>5.28</td>\n",
       "      <td>14.53</td>\n",
       "      <td>-8.13</td>\n",
       "      <td>...</td>\n",
       "      <td>9.770000</td>\n",
       "      <td>19.220000</td>\n",
       "      <td>0</td>\n",
       "      <td>1</td>\n",
       "      <td>1</td>\n",
       "      <td>1</td>\n",
       "      <td>-3.41</td>\n",
       "      <td>4.33</td>\n",
       "      <td>1.64</td>\n",
       "      <td>1.20</td>\n",
       "    </tr>\n",
       "    <tr>\n",
       "      <th>2</th>\n",
       "      <td>ADGAX</td>\n",
       "      <td>748</td>\n",
       "      <td>1575</td>\n",
       "      <td>S&amp;P500</td>\n",
       "      <td>13.82</td>\n",
       "      <td>-7.99</td>\n",
       "      <td>1.83</td>\n",
       "      <td>4.13</td>\n",
       "      <td>14.53</td>\n",
       "      <td>-8.13</td>\n",
       "      <td>...</td>\n",
       "      <td>9.440000</td>\n",
       "      <td>17.560000</td>\n",
       "      <td>0</td>\n",
       "      <td>1</td>\n",
       "      <td>0</td>\n",
       "      <td>1</td>\n",
       "      <td>-0.71</td>\n",
       "      <td>0.14</td>\n",
       "      <td>-0.43</td>\n",
       "      <td>0.05</td>\n",
       "    </tr>\n",
       "    <tr>\n",
       "      <th>3</th>\n",
       "      <td>AFDAX</td>\n",
       "      <td>1432</td>\n",
       "      <td>1553</td>\n",
       "      <td>S&amp;P500</td>\n",
       "      <td>19.17</td>\n",
       "      <td>-3.85</td>\n",
       "      <td>4.08</td>\n",
       "      <td>5.54</td>\n",
       "      <td>14.53</td>\n",
       "      <td>-8.13</td>\n",
       "      <td>...</td>\n",
       "      <td>11.450000</td>\n",
       "      <td>21.900000</td>\n",
       "      <td>1</td>\n",
       "      <td>1</td>\n",
       "      <td>1</td>\n",
       "      <td>1</td>\n",
       "      <td>4.64</td>\n",
       "      <td>4.28</td>\n",
       "      <td>1.82</td>\n",
       "      <td>1.46</td>\n",
       "    </tr>\n",
       "    <tr>\n",
       "      <th>4</th>\n",
       "      <td>AGOCX</td>\n",
       "      <td>2074</td>\n",
       "      <td>1774</td>\n",
       "      <td>S&amp;P500</td>\n",
       "      <td>16.17</td>\n",
       "      <td>-6.38</td>\n",
       "      <td>6.33</td>\n",
       "      <td>6.01</td>\n",
       "      <td>14.53</td>\n",
       "      <td>-8.13</td>\n",
       "      <td>...</td>\n",
       "      <td>9.128812</td>\n",
       "      <td>17.711211</td>\n",
       "      <td>1</td>\n",
       "      <td>1</td>\n",
       "      <td>1</td>\n",
       "      <td>1</td>\n",
       "      <td>1.64</td>\n",
       "      <td>1.75</td>\n",
       "      <td>4.07</td>\n",
       "      <td>1.93</td>\n",
       "    </tr>\n",
       "    <tr>\n",
       "      <th>5</th>\n",
       "      <td>AGTHX</td>\n",
       "      <td>2929</td>\n",
       "      <td>1236</td>\n",
       "      <td>S&amp;P500</td>\n",
       "      <td>12.27</td>\n",
       "      <td>-8.27</td>\n",
       "      <td>2.91</td>\n",
       "      <td>4.07</td>\n",
       "      <td>14.53</td>\n",
       "      <td>-8.13</td>\n",
       "      <td>...</td>\n",
       "      <td>9.200000</td>\n",
       "      <td>17.090000</td>\n",
       "      <td>0</td>\n",
       "      <td>0</td>\n",
       "      <td>1</td>\n",
       "      <td>0</td>\n",
       "      <td>-2.26</td>\n",
       "      <td>-0.14</td>\n",
       "      <td>0.65</td>\n",
       "      <td>-0.01</td>\n",
       "    </tr>\n",
       "  </tbody>\n",
       "</table>\n",
       "<p>5 rows × 37 columns</p>\n",
       "</div>"
      ],
      "text/plain": [
       "  Ticker  Broker_Score_ct  Broker_Score_wtg Benchmark  1_Yr_Return  \\\n",
       "1  ABALX             1914              1621    S&P500        11.12   \n",
       "2  ADGAX              748              1575    S&P500        13.82   \n",
       "3  AFDAX             1432              1553    S&P500        19.17   \n",
       "4  AGOCX             2074              1774    S&P500        16.17   \n",
       "5  AGTHX             2929              1236    S&P500        12.27   \n",
       "\n",
       "   3_Yr_Return  5_Yr_Return  7_Yr_Return  1_Yr_Return_BM  3_Yr_Return_BM  \\\n",
       "1        -3.80         3.90         5.28           14.53           -8.13   \n",
       "2        -7.99         1.83         4.13           14.53           -8.13   \n",
       "3        -3.85         4.08         5.54           14.53           -8.13   \n",
       "4        -6.38         6.33         6.01           14.53           -8.13   \n",
       "5        -8.27         2.91         4.07           14.53           -8.13   \n",
       "\n",
       "        ...              ROA        ROE  Beat_BM_1Yr  Beat_BM_3Yr  \\\n",
       "1       ...         9.770000  19.220000            0            1   \n",
       "2       ...         9.440000  17.560000            0            1   \n",
       "3       ...        11.450000  21.900000            1            1   \n",
       "4       ...         9.128812  17.711211            1            1   \n",
       "5       ...         9.200000  17.090000            0            0   \n",
       "\n",
       "   Beat_BM_5Yr  Beat_BM_7Yr  Perf_vs_BM_1Yr  Perf_vs_BM_3Yr  Perf_vs_BM_5Yr  \\\n",
       "1            1            1           -3.41            4.33            1.64   \n",
       "2            0            1           -0.71            0.14           -0.43   \n",
       "3            1            1            4.64            4.28            1.82   \n",
       "4            1            1            1.64            1.75            4.07   \n",
       "5            1            0           -2.26           -0.14            0.65   \n",
       "\n",
       "   Perf_vs_BM_7Yr  \n",
       "1            1.20  \n",
       "2            0.05  \n",
       "3            1.46  \n",
       "4            1.93  \n",
       "5           -0.01  \n",
       "\n",
       "[5 rows x 37 columns]"
      ]
     },
     "execution_count": 19,
     "metadata": {},
     "output_type": "execute_result"
    }
   ],
   "source": [
    "cleandata.head()"
   ]
  },
  {
   "cell_type": "code",
   "execution_count": 20,
   "metadata": {
    "collapsed": false
   },
   "outputs": [
    {
     "data": {
      "text/plain": [
       "<matplotlib.axes._subplots.AxesSubplot at 0x1135b7810>"
      ]
     },
     "execution_count": 20,
     "metadata": {},
     "output_type": "execute_result"
    },
    {
     "data": {
      "image/png": "[encoded data removed]",
      "text/plain": [
       "<matplotlib.figure.Figure at 0x111079250>"
      ]
     },
     "metadata": {},
     "output_type": "display_data"
    }
   ],
   "source": [
    "fig, axs = plt.subplots(1, 4, sharey=True)\n",
    "cleandata.plot(kind='scatter', x='Beat_BM_1Yr', y='Broker_Score_wtg', ax=axs[0], figsize=(16, 8))\n",
    "cleandata.plot(kind='scatter', x='Beat_BM_3Yr', y='Broker_Score_wtg', ax=axs[1])\n",
    "cleandata.plot(kind='scatter', x='Beat_BM_5Yr', y='Broker_Score_wtg', ax=axs[2])\n",
    "cleandata.plot(kind='scatter', x='Beat_BM_7Yr', y='Broker_Score_wtg', ax=axs[3])"
   ]
  },
  {
   "cell_type": "code",
   "execution_count": 21,
   "metadata": {
    "collapsed": false,
    "scrolled": true
   },
   "outputs": [
    {
     "data": {
      "text/plain": [
       "<matplotlib.axes._subplots.AxesSubplot at 0x113d91d50>"
      ]
     },
     "execution_count": 21,
     "metadata": {},
     "output_type": "execute_result"
    },
    {
     "data": {
      "image/png": "[encoded data removed]",
      "text/plain": [
       "<matplotlib.figure.Figure at 0x11362a790>"
      ]
     },
     "metadata": {},
     "output_type": "display_data"
    }
   ],
   "source": [
    "fig, axs = plt.subplots(1, 4, sharey=True)\n",
    "cleandata.plot(kind='scatter', x='Beat_BM_1Yr', y='Broker_Score_ct', ax=axs[0], figsize=(16, 8))\n",
    "cleandata.plot(kind='scatter', x='Beat_BM_3Yr', y='Broker_Score_ct', ax=axs[1])\n",
    "cleandata.plot(kind='scatter', x='Beat_BM_5Yr', y='Broker_Score_ct', ax=axs[2])\n",
    "cleandata.plot(kind='scatter', x='Beat_BM_7Yr', y='Broker_Score_ct', ax=axs[3])"
   ]
  },
  {
   "cell_type": "code",
   "execution_count": 22,
   "metadata": {
    "collapsed": false
   },
   "outputs": [
    {
     "data": {
      "text/plain": [
       "<matplotlib.axes._subplots.AxesSubplot at 0x1142ff2d0>"
      ]
     },
     "execution_count": 22,
     "metadata": {},
     "output_type": "execute_result"
    },
    {
     "data": {
      "image/png": "[encoded data removed]",
      "text/plain": [
       "<matplotlib.figure.Figure at 0x11377c590>"
      ]
     },
     "metadata": {},
     "output_type": "display_data"
    }
   ],
   "source": [
    "fig, axs = plt.subplots(1, 4, sharey=True)\n",
    "cleandata.plot(kind='scatter', x='Perf_vs_BM_1Yr', y='Broker_Score_ct', ax=axs[0], figsize=(16, 8))\n",
    "cleandata.plot(kind='scatter', x='Perf_vs_BM_3Yr', y='Broker_Score_ct', ax=axs[1])\n",
    "cleandata.plot(kind='scatter', x='Perf_vs_BM_5Yr', y='Broker_Score_ct', ax=axs[2])\n",
    "cleandata.plot(kind='scatter', x='Perf_vs_BM_7Yr', y='Broker_Score_ct', ax=axs[3])"
   ]
  },
  {
   "cell_type": "code",
   "execution_count": 23,
   "metadata": {
    "collapsed": false
   },
   "outputs": [
    {
     "data": {
      "text/plain": [
       "<matplotlib.axes._subplots.AxesSubplot at 0x11101ddd0>"
      ]
     },
     "execution_count": 23,
     "metadata": {},
     "output_type": "execute_result"
    },
    {
     "data": {
      "image/png": "[encoded data removed]",
      "text/plain": [
       "<matplotlib.figure.Figure at 0x111040a50>"
      ]
     },
     "metadata": {},
     "output_type": "display_data"
    }
   ],
   "source": [
    "cleandata['Broker_Score_ct'].plot(kind='box',ylim=(-10,4000))"
   ]
  },
  {
   "cell_type": "code",
   "execution_count": 24,
   "metadata": {
    "collapsed": false
   },
   "outputs": [
    {
     "data": {
      "text/plain": [
       "<matplotlib.axes._subplots.AxesSubplot at 0x114336250>"
      ]
     },
     "execution_count": 24,
     "metadata": {},
     "output_type": "execute_result"
    },
    {
     "data": {
      "image/png": "[encoded data removed]",
      "text/plain": [
       "<matplotlib.figure.Figure at 0x1146a3bd0>"
      ]
     },
     "metadata": {},
     "output_type": "display_data"
    }
   ],
   "source": [
    "cleandata['Broker_Score_wtg'].plot(kind='box',ylim=(-10,2500))"
   ]
  },
  {
   "cell_type": "code",
   "execution_count": 25,
   "metadata": {
    "collapsed": false
   },
   "outputs": [
    {
     "data": {
      "text/plain": [
       "<matplotlib.axes._subplots.AxesSubplot at 0x114c919d0>"
      ]
     },
     "execution_count": 25,
     "metadata": {},
     "output_type": "execute_result"
    },
    {
     "data": {
      "image/png": "[encoded data removed]",
      "text/plain": [
       "<matplotlib.figure.Figure at 0x1148ea850>"
      ]
     },
     "metadata": {},
     "output_type": "display_data"
    }
   ],
   "source": [
    "fig, axs = plt.subplots(1, 8, sharey=True)\n",
    "cleandata.plot(kind='scatter', x='P_E', y='Perf_vs_BM_1Yr', ax=axs[0], figsize=(16, 8))\n",
    "cleandata.plot(kind='scatter', x='P_B', y='Perf_vs_BM_1Yr', ax=axs[1])\n",
    "cleandata.plot(kind='scatter', x='P_S', y='Perf_vs_BM_1Yr', ax=axs[2])\n",
    "cleandata.plot(kind='scatter', x='P_C', y='Perf_vs_BM_1Yr', ax=axs[3])\n",
    "cleandata.plot(kind='scatter', x='Debt_to_Capital', y='Perf_vs_BM_1Yr', ax=axs[4])\n",
    "cleandata.plot(kind='scatter', x='Net_Margin', y='Perf_vs_BM_1Yr', ax=axs[5])\n",
    "cleandata.plot(kind='scatter', x='ROA', y='Perf_vs_BM_1Yr', ax=axs[6])\n",
    "cleandata.plot(kind='scatter', x='ROE', y='Perf_vs_BM_1Yr', ax=axs[7])"
   ]
  },
  {
   "cell_type": "code",
   "execution_count": 26,
   "metadata": {
    "collapsed": false
   },
   "outputs": [
    {
     "data": {
      "text/plain": [
       "<matplotlib.axes._subplots.AxesSubplot at 0x115468850>"
      ]
     },
     "execution_count": 26,
     "metadata": {},
     "output_type": "execute_result"
    },
    {
     "data": {
      "image/png": "[encoded data removed]",
      "text/plain": [
       "<matplotlib.figure.Figure at 0x114fa7c10>"
      ]
     },
     "metadata": {},
     "output_type": "display_data"
    }
   ],
   "source": [
    "fig, axs = plt.subplots(1, 8, sharey=True)\n",
    "cleandata.plot(kind='scatter', x='P_E', y='Perf_vs_BM_3Yr', ax=axs[0], figsize=(16, 8))\n",
    "cleandata.plot(kind='scatter', x='P_B', y='Perf_vs_BM_3Yr', ax=axs[1])\n",
    "cleandata.plot(kind='scatter', x='P_S', y='Perf_vs_BM_3Yr', ax=axs[2])\n",
    "cleandata.plot(kind='scatter', x='P_C', y='Perf_vs_BM_3Yr', ax=axs[3])\n",
    "cleandata.plot(kind='scatter', x='Debt_to_Capital', y='Perf_vs_BM_3Yr', ax=axs[4])\n",
    "cleandata.plot(kind='scatter', x='Net_Margin', y='Perf_vs_BM_3Yr', ax=axs[5])\n",
    "cleandata.plot(kind='scatter', x='ROA', y='Perf_vs_BM_3Yr', ax=axs[6])\n",
    "cleandata.plot(kind='scatter', x='ROE', y='Perf_vs_BM_3Yr', ax=axs[7])"
   ]
  },
  {
   "cell_type": "code",
   "execution_count": 27,
   "metadata": {
    "collapsed": false
   },
   "outputs": [
    {
     "ename": "KeyError",
     "evalue": "'Beat_BM_5Yr'",
     "output_type": "error",
     "traceback": [
      "\u001b[0;31m---------------------------------------------------------------------------\u001b[0m",
      "\u001b[0;31mKeyError\u001b[0m                                  Traceback (most recent call last)",
      "\u001b[0;32m<ipython-input-27-a4b20e6d0a98>\u001b[0m in \u001b[0;36m<module>\u001b[0;34m()\u001b[0m\n\u001b[1;32m      1\u001b[0m \u001b[0mfig\u001b[0m\u001b[0;34m,\u001b[0m \u001b[0maxs\u001b[0m \u001b[0;34m=\u001b[0m \u001b[0mplt\u001b[0m\u001b[0;34m.\u001b[0m\u001b[0msubplots\u001b[0m\u001b[0;34m(\u001b[0m\u001b[0;36m1\u001b[0m\u001b[0;34m,\u001b[0m \u001b[0;36m8\u001b[0m\u001b[0;34m,\u001b[0m \u001b[0msharey\u001b[0m\u001b[0;34m=\u001b[0m\u001b[0mTrue\u001b[0m\u001b[0;34m)\u001b[0m\u001b[0;34m\u001b[0m\u001b[0m\n\u001b[0;32m----> 2\u001b[0;31m \u001b[0mdata\u001b[0m\u001b[0;34m.\u001b[0m\u001b[0mplot\u001b[0m\u001b[0;34m(\u001b[0m\u001b[0mkind\u001b[0m\u001b[0;34m=\u001b[0m\u001b[0;34m'scatter'\u001b[0m\u001b[0;34m,\u001b[0m \u001b[0mx\u001b[0m\u001b[0;34m=\u001b[0m\u001b[0;34m'P_E'\u001b[0m\u001b[0;34m,\u001b[0m \u001b[0my\u001b[0m\u001b[0;34m=\u001b[0m\u001b[0;34m'Beat_BM_5Yr'\u001b[0m\u001b[0;34m,\u001b[0m \u001b[0max\u001b[0m\u001b[0;34m=\u001b[0m\u001b[0maxs\u001b[0m\u001b[0;34m[\u001b[0m\u001b[0;36m0\u001b[0m\u001b[0;34m]\u001b[0m\u001b[0;34m,\u001b[0m \u001b[0mfigsize\u001b[0m\u001b[0;34m=\u001b[0m\u001b[0;34m(\u001b[0m\u001b[0;36m16\u001b[0m\u001b[0;34m,\u001b[0m \u001b[0;36m8\u001b[0m\u001b[0;34m)\u001b[0m\u001b[0;34m)\u001b[0m\u001b[0;34m\u001b[0m\u001b[0m\n\u001b[0m\u001b[1;32m      3\u001b[0m \u001b[0mdata\u001b[0m\u001b[0;34m.\u001b[0m\u001b[0mplot\u001b[0m\u001b[0;34m(\u001b[0m\u001b[0mkind\u001b[0m\u001b[0;34m=\u001b[0m\u001b[0;34m'scatter'\u001b[0m\u001b[0;34m,\u001b[0m \u001b[0mx\u001b[0m\u001b[0;34m=\u001b[0m\u001b[0;34m'P_B'\u001b[0m\u001b[0;34m,\u001b[0m \u001b[0my\u001b[0m\u001b[0;34m=\u001b[0m\u001b[0;34m'Beat_BM_5Yr'\u001b[0m\u001b[0;34m,\u001b[0m \u001b[0max\u001b[0m\u001b[0;34m=\u001b[0m\u001b[0maxs\u001b[0m\u001b[0;34m[\u001b[0m\u001b[0;36m1\u001b[0m\u001b[0;34m]\u001b[0m\u001b[0;34m)\u001b[0m\u001b[0;34m\u001b[0m\u001b[0m\n\u001b[1;32m      4\u001b[0m \u001b[0mdata\u001b[0m\u001b[0;34m.\u001b[0m\u001b[0mplot\u001b[0m\u001b[0;34m(\u001b[0m\u001b[0mkind\u001b[0m\u001b[0;34m=\u001b[0m\u001b[0;34m'scatter'\u001b[0m\u001b[0;34m,\u001b[0m \u001b[0mx\u001b[0m\u001b[0;34m=\u001b[0m\u001b[0;34m'P_S'\u001b[0m\u001b[0;34m,\u001b[0m \u001b[0my\u001b[0m\u001b[0;34m=\u001b[0m\u001b[0;34m'Beat_BM_5Yr'\u001b[0m\u001b[0;34m,\u001b[0m \u001b[0max\u001b[0m\u001b[0;34m=\u001b[0m\u001b[0maxs\u001b[0m\u001b[0;34m[\u001b[0m\u001b[0;36m2\u001b[0m\u001b[0;34m]\u001b[0m\u001b[0;34m)\u001b[0m\u001b[0;34m\u001b[0m\u001b[0m\n\u001b[1;32m      5\u001b[0m \u001b[0mdata\u001b[0m\u001b[0;34m.\u001b[0m\u001b[0mplot\u001b[0m\u001b[0;34m(\u001b[0m\u001b[0mkind\u001b[0m\u001b[0;34m=\u001b[0m\u001b[0;34m'scatter'\u001b[0m\u001b[0;34m,\u001b[0m \u001b[0mx\u001b[0m\u001b[0;34m=\u001b[0m\u001b[0;34m'P_C'\u001b[0m\u001b[0;34m,\u001b[0m \u001b[0my\u001b[0m\u001b[0;34m=\u001b[0m\u001b[0;34m'Beat_BM_5Yr'\u001b[0m\u001b[0;34m,\u001b[0m \u001b[0max\u001b[0m\u001b[0;34m=\u001b[0m\u001b[0maxs\u001b[0m\u001b[0;34m[\u001b[0m\u001b[0;36m3\u001b[0m\u001b[0;34m]\u001b[0m\u001b[0;34m)\u001b[0m\u001b[0;34m\u001b[0m\u001b[0m\n",
      "\u001b[0;32m/Users/michaeltong/anaconda/lib/python2.7/site-packages/pandas/tools/plotting.pyc\u001b[0m in \u001b[0;36m__call__\u001b[0;34m(self, x, y, kind, ax, subplots, sharex, sharey, layout, figsize, use_index, title, grid, legend, style, logx, logy, loglog, xticks, yticks, xlim, ylim, rot, fontsize, colormap, table, yerr, xerr, secondary_y, sort_columns, **kwds)\u001b[0m\n\u001b[1;32m   3772\u001b[0m                           \u001b[0mfontsize\u001b[0m\u001b[0;34m=\u001b[0m\u001b[0mfontsize\u001b[0m\u001b[0;34m,\u001b[0m \u001b[0mcolormap\u001b[0m\u001b[0;34m=\u001b[0m\u001b[0mcolormap\u001b[0m\u001b[0;34m,\u001b[0m \u001b[0mtable\u001b[0m\u001b[0;34m=\u001b[0m\u001b[0mtable\u001b[0m\u001b[0;34m,\u001b[0m\u001b[0;34m\u001b[0m\u001b[0m\n\u001b[1;32m   3773\u001b[0m                           \u001b[0myerr\u001b[0m\u001b[0;34m=\u001b[0m\u001b[0myerr\u001b[0m\u001b[0;34m,\u001b[0m \u001b[0mxerr\u001b[0m\u001b[0;34m=\u001b[0m\u001b[0mxerr\u001b[0m\u001b[0;34m,\u001b[0m \u001b[0msecondary_y\u001b[0m\u001b[0;34m=\u001b[0m\u001b[0msecondary_y\u001b[0m\u001b[0;34m,\u001b[0m\u001b[0;34m\u001b[0m\u001b[0m\n\u001b[0;32m-> 3774\u001b[0;31m                           sort_columns=sort_columns, **kwds)\n\u001b[0m\u001b[1;32m   3775\u001b[0m     \u001b[0m__call__\u001b[0m\u001b[0;34m.\u001b[0m\u001b[0m__doc__\u001b[0m \u001b[0;34m=\u001b[0m \u001b[0mplot_frame\u001b[0m\u001b[0;34m.\u001b[0m\u001b[0m__doc__\u001b[0m\u001b[0;34m\u001b[0m\u001b[0m\n\u001b[1;32m   3776\u001b[0m \u001b[0;34m\u001b[0m\u001b[0m\n",
      "\u001b[0;32m/Users/michaeltong/anaconda/lib/python2.7/site-packages/pandas/tools/plotting.pyc\u001b[0m in \u001b[0;36mplot_frame\u001b[0;34m(data, x, y, kind, ax, subplots, sharex, sharey, layout, figsize, use_index, title, grid, legend, style, logx, logy, loglog, xticks, yticks, xlim, ylim, rot, fontsize, colormap, table, yerr, xerr, secondary_y, sort_columns, **kwds)\u001b[0m\n\u001b[1;32m   2641\u001b[0m                  \u001b[0myerr\u001b[0m\u001b[0;34m=\u001b[0m\u001b[0myerr\u001b[0m\u001b[0;34m,\u001b[0m \u001b[0mxerr\u001b[0m\u001b[0;34m=\u001b[0m\u001b[0mxerr\u001b[0m\u001b[0;34m,\u001b[0m\u001b[0;34m\u001b[0m\u001b[0m\n\u001b[1;32m   2642\u001b[0m                  \u001b[0msecondary_y\u001b[0m\u001b[0;34m=\u001b[0m\u001b[0msecondary_y\u001b[0m\u001b[0;34m,\u001b[0m \u001b[0msort_columns\u001b[0m\u001b[0;34m=\u001b[0m\u001b[0msort_columns\u001b[0m\u001b[0;34m,\u001b[0m\u001b[0;34m\u001b[0m\u001b[0m\n\u001b[0;32m-> 2643\u001b[0;31m                  **kwds)\n\u001b[0m\u001b[1;32m   2644\u001b[0m \u001b[0;34m\u001b[0m\u001b[0m\n\u001b[1;32m   2645\u001b[0m \u001b[0;34m\u001b[0m\u001b[0m\n",
      "\u001b[0;32m/Users/michaeltong/anaconda/lib/python2.7/site-packages/pandas/tools/plotting.pyc\u001b[0m in \u001b[0;36m_plot\u001b[0;34m(data, x, y, subplots, ax, kind, **kwds)\u001b[0m\n\u001b[1;32m   2468\u001b[0m         \u001b[0mplot_obj\u001b[0m \u001b[0;34m=\u001b[0m \u001b[0mklass\u001b[0m\u001b[0;34m(\u001b[0m\u001b[0mdata\u001b[0m\u001b[0;34m,\u001b[0m \u001b[0msubplots\u001b[0m\u001b[0;34m=\u001b[0m\u001b[0msubplots\u001b[0m\u001b[0;34m,\u001b[0m \u001b[0max\u001b[0m\u001b[0;34m=\u001b[0m\u001b[0max\u001b[0m\u001b[0;34m,\u001b[0m \u001b[0mkind\u001b[0m\u001b[0;34m=\u001b[0m\u001b[0mkind\u001b[0m\u001b[0;34m,\u001b[0m \u001b[0;34m**\u001b[0m\u001b[0mkwds\u001b[0m\u001b[0;34m)\u001b[0m\u001b[0;34m\u001b[0m\u001b[0m\n\u001b[1;32m   2469\u001b[0m \u001b[0;34m\u001b[0m\u001b[0m\n\u001b[0;32m-> 2470\u001b[0;31m     \u001b[0mplot_obj\u001b[0m\u001b[0;34m.\u001b[0m\u001b[0mgenerate\u001b[0m\u001b[0;34m(\u001b[0m\u001b[0;34m)\u001b[0m\u001b[0;34m\u001b[0m\u001b[0m\n\u001b[0m\u001b[1;32m   2471\u001b[0m     \u001b[0mplot_obj\u001b[0m\u001b[0;34m.\u001b[0m\u001b[0mdraw\u001b[0m\u001b[0;34m(\u001b[0m\u001b[0;34m)\u001b[0m\u001b[0;34m\u001b[0m\u001b[0m\n\u001b[1;32m   2472\u001b[0m     \u001b[0;32mreturn\u001b[0m \u001b[0mplot_obj\u001b[0m\u001b[0;34m.\u001b[0m\u001b[0mresult\u001b[0m\u001b[0;34m\u001b[0m\u001b[0m\n",
      "\u001b[0;32m/Users/michaeltong/anaconda/lib/python2.7/site-packages/pandas/tools/plotting.pyc\u001b[0m in \u001b[0;36mgenerate\u001b[0;34m(self)\u001b[0m\n\u001b[1;32m   1041\u001b[0m         \u001b[0mself\u001b[0m\u001b[0;34m.\u001b[0m\u001b[0m_compute_plot_data\u001b[0m\u001b[0;34m(\u001b[0m\u001b[0;34m)\u001b[0m\u001b[0;34m\u001b[0m\u001b[0m\n\u001b[1;32m   1042\u001b[0m         \u001b[0mself\u001b[0m\u001b[0;34m.\u001b[0m\u001b[0m_setup_subplots\u001b[0m\u001b[0;34m(\u001b[0m\u001b[0;34m)\u001b[0m\u001b[0;34m\u001b[0m\u001b[0m\n\u001b[0;32m-> 1043\u001b[0;31m         \u001b[0mself\u001b[0m\u001b[0;34m.\u001b[0m\u001b[0m_make_plot\u001b[0m\u001b[0;34m(\u001b[0m\u001b[0;34m)\u001b[0m\u001b[0;34m\u001b[0m\u001b[0m\n\u001b[0m\u001b[1;32m   1044\u001b[0m         \u001b[0mself\u001b[0m\u001b[0;34m.\u001b[0m\u001b[0m_add_table\u001b[0m\u001b[0;34m(\u001b[0m\u001b[0;34m)\u001b[0m\u001b[0;34m\u001b[0m\u001b[0m\n\u001b[1;32m   1045\u001b[0m         \u001b[0mself\u001b[0m\u001b[0;34m.\u001b[0m\u001b[0m_make_legend\u001b[0m\u001b[0;34m(\u001b[0m\u001b[0;34m)\u001b[0m\u001b[0;34m\u001b[0m\u001b[0m\n",
      "\u001b[0;32m/Users/michaeltong/anaconda/lib/python2.7/site-packages/pandas/tools/plotting.pyc\u001b[0m in \u001b[0;36m_make_plot\u001b[0;34m(self)\u001b[0m\n\u001b[1;32m   1617\u001b[0m         \u001b[0;32melse\u001b[0m\u001b[0;34m:\u001b[0m\u001b[0;34m\u001b[0m\u001b[0m\n\u001b[1;32m   1618\u001b[0m             \u001b[0mlabel\u001b[0m \u001b[0;34m=\u001b[0m \u001b[0mNone\u001b[0m\u001b[0;34m\u001b[0m\u001b[0m\n\u001b[0;32m-> 1619\u001b[0;31m         scatter = ax.scatter(data[x].values, data[y].values, c=c_values,\n\u001b[0m\u001b[1;32m   1620\u001b[0m                              label=label, cmap=cmap, **self.kwds)\n\u001b[1;32m   1621\u001b[0m         \u001b[0;32mif\u001b[0m \u001b[0mcb\u001b[0m\u001b[0;34m:\u001b[0m\u001b[0;34m\u001b[0m\u001b[0m\n",
      "\u001b[0;32m/Users/michaeltong/anaconda/lib/python2.7/site-packages/pandas/core/frame.pyc\u001b[0m in \u001b[0;36m__getitem__\u001b[0;34m(self, key)\u001b[0m\n\u001b[1;32m   2057\u001b[0m             \u001b[0;32mreturn\u001b[0m \u001b[0mself\u001b[0m\u001b[0;34m.\u001b[0m\u001b[0m_getitem_multilevel\u001b[0m\u001b[0;34m(\u001b[0m\u001b[0mkey\u001b[0m\u001b[0;34m)\u001b[0m\u001b[0;34m\u001b[0m\u001b[0m\n\u001b[1;32m   2058\u001b[0m         \u001b[0;32melse\u001b[0m\u001b[0;34m:\u001b[0m\u001b[0;34m\u001b[0m\u001b[0m\n\u001b[0;32m-> 2059\u001b[0;31m             \u001b[0;32mreturn\u001b[0m \u001b[0mself\u001b[0m\u001b[0;34m.\u001b[0m\u001b[0m_getitem_column\u001b[0m\u001b[0;34m(\u001b[0m\u001b[0mkey\u001b[0m\u001b[0;34m)\u001b[0m\u001b[0;34m\u001b[0m\u001b[0m\n\u001b[0m\u001b[1;32m   2060\u001b[0m \u001b[0;34m\u001b[0m\u001b[0m\n\u001b[1;32m   2061\u001b[0m     \u001b[0;32mdef\u001b[0m \u001b[0m_getitem_column\u001b[0m\u001b[0;34m(\u001b[0m\u001b[0mself\u001b[0m\u001b[0;34m,\u001b[0m \u001b[0mkey\u001b[0m\u001b[0;34m)\u001b[0m\u001b[0;34m:\u001b[0m\u001b[0;34m\u001b[0m\u001b[0m\n",
      "\u001b[0;32m/Users/michaeltong/anaconda/lib/python2.7/site-packages/pandas/core/frame.pyc\u001b[0m in \u001b[0;36m_getitem_column\u001b[0;34m(self, key)\u001b[0m\n\u001b[1;32m   2064\u001b[0m         \u001b[0;31m# get column\u001b[0m\u001b[0;34m\u001b[0m\u001b[0;34m\u001b[0m\u001b[0m\n\u001b[1;32m   2065\u001b[0m         \u001b[0;32mif\u001b[0m \u001b[0mself\u001b[0m\u001b[0;34m.\u001b[0m\u001b[0mcolumns\u001b[0m\u001b[0;34m.\u001b[0m\u001b[0mis_unique\u001b[0m\u001b[0;34m:\u001b[0m\u001b[0;34m\u001b[0m\u001b[0m\n\u001b[0;32m-> 2066\u001b[0;31m             \u001b[0;32mreturn\u001b[0m \u001b[0mself\u001b[0m\u001b[0;34m.\u001b[0m\u001b[0m_get_item_cache\u001b[0m\u001b[0;34m(\u001b[0m\u001b[0mkey\u001b[0m\u001b[0;34m)\u001b[0m\u001b[0;34m\u001b[0m\u001b[0m\n\u001b[0m\u001b[1;32m   2067\u001b[0m \u001b[0;34m\u001b[0m\u001b[0m\n\u001b[1;32m   2068\u001b[0m         \u001b[0;31m# duplicate columns & possible reduce dimensionality\u001b[0m\u001b[0;34m\u001b[0m\u001b[0;34m\u001b[0m\u001b[0m\n",
      "\u001b[0;32m/Users/michaeltong/anaconda/lib/python2.7/site-packages/pandas/core/generic.pyc\u001b[0m in \u001b[0;36m_get_item_cache\u001b[0;34m(self, item)\u001b[0m\n\u001b[1;32m   1384\u001b[0m         \u001b[0mres\u001b[0m \u001b[0;34m=\u001b[0m \u001b[0mcache\u001b[0m\u001b[0;34m.\u001b[0m\u001b[0mget\u001b[0m\u001b[0;34m(\u001b[0m\u001b[0mitem\u001b[0m\u001b[0;34m)\u001b[0m\u001b[0;34m\u001b[0m\u001b[0m\n\u001b[1;32m   1385\u001b[0m         \u001b[0;32mif\u001b[0m \u001b[0mres\u001b[0m \u001b[0;32mis\u001b[0m \u001b[0mNone\u001b[0m\u001b[0;34m:\u001b[0m\u001b[0;34m\u001b[0m\u001b[0m\n\u001b[0;32m-> 1386\u001b[0;31m             \u001b[0mvalues\u001b[0m \u001b[0;34m=\u001b[0m \u001b[0mself\u001b[0m\u001b[0;34m.\u001b[0m\u001b[0m_data\u001b[0m\u001b[0;34m.\u001b[0m\u001b[0mget\u001b[0m\u001b[0;34m(\u001b[0m\u001b[0mitem\u001b[0m\u001b[0;34m)\u001b[0m\u001b[0;34m\u001b[0m\u001b[0m\n\u001b[0m\u001b[1;32m   1387\u001b[0m             \u001b[0mres\u001b[0m \u001b[0;34m=\u001b[0m \u001b[0mself\u001b[0m\u001b[0;34m.\u001b[0m\u001b[0m_box_item_values\u001b[0m\u001b[0;34m(\u001b[0m\u001b[0mitem\u001b[0m\u001b[0;34m,\u001b[0m \u001b[0mvalues\u001b[0m\u001b[0;34m)\u001b[0m\u001b[0;34m\u001b[0m\u001b[0m\n\u001b[1;32m   1388\u001b[0m             \u001b[0mcache\u001b[0m\u001b[0;34m[\u001b[0m\u001b[0mitem\u001b[0m\u001b[0;34m]\u001b[0m \u001b[0;34m=\u001b[0m \u001b[0mres\u001b[0m\u001b[0;34m\u001b[0m\u001b[0m\n",
      "\u001b[0;32m/Users/michaeltong/anaconda/lib/python2.7/site-packages/pandas/core/internals.pyc\u001b[0m in \u001b[0;36mget\u001b[0;34m(self, item, fastpath)\u001b[0m\n\u001b[1;32m   3541\u001b[0m \u001b[0;34m\u001b[0m\u001b[0m\n\u001b[1;32m   3542\u001b[0m             \u001b[0;32mif\u001b[0m \u001b[0;32mnot\u001b[0m \u001b[0misnull\u001b[0m\u001b[0;34m(\u001b[0m\u001b[0mitem\u001b[0m\u001b[0;34m)\u001b[0m\u001b[0;34m:\u001b[0m\u001b[0;34m\u001b[0m\u001b[0m\n\u001b[0;32m-> 3543\u001b[0;31m                 \u001b[0mloc\u001b[0m \u001b[0;34m=\u001b[0m \u001b[0mself\u001b[0m\u001b[0;34m.\u001b[0m\u001b[0mitems\u001b[0m\u001b[0;34m.\u001b[0m\u001b[0mget_loc\u001b[0m\u001b[0;34m(\u001b[0m\u001b[0mitem\u001b[0m\u001b[0;34m)\u001b[0m\u001b[0;34m\u001b[0m\u001b[0m\n\u001b[0m\u001b[1;32m   3544\u001b[0m             \u001b[0;32melse\u001b[0m\u001b[0;34m:\u001b[0m\u001b[0;34m\u001b[0m\u001b[0m\n\u001b[1;32m   3545\u001b[0m                 \u001b[0mindexer\u001b[0m \u001b[0;34m=\u001b[0m \u001b[0mnp\u001b[0m\u001b[0;34m.\u001b[0m\u001b[0marange\u001b[0m\u001b[0;34m(\u001b[0m\u001b[0mlen\u001b[0m\u001b[0;34m(\u001b[0m\u001b[0mself\u001b[0m\u001b[0;34m.\u001b[0m\u001b[0mitems\u001b[0m\u001b[0;34m)\u001b[0m\u001b[0;34m)\u001b[0m\u001b[0;34m[\u001b[0m\u001b[0misnull\u001b[0m\u001b[0;34m(\u001b[0m\u001b[0mself\u001b[0m\u001b[0;34m.\u001b[0m\u001b[0mitems\u001b[0m\u001b[0;34m)\u001b[0m\u001b[0;34m]\u001b[0m\u001b[0;34m\u001b[0m\u001b[0m\n",
      "\u001b[0;32m/Users/michaeltong/anaconda/lib/python2.7/site-packages/pandas/indexes/base.pyc\u001b[0m in \u001b[0;36mget_loc\u001b[0;34m(self, key, method, tolerance)\u001b[0m\n\u001b[1;32m   2134\u001b[0m                 \u001b[0;32mreturn\u001b[0m \u001b[0mself\u001b[0m\u001b[0;34m.\u001b[0m\u001b[0m_engine\u001b[0m\u001b[0;34m.\u001b[0m\u001b[0mget_loc\u001b[0m\u001b[0;34m(\u001b[0m\u001b[0mkey\u001b[0m\u001b[0;34m)\u001b[0m\u001b[0;34m\u001b[0m\u001b[0m\n\u001b[1;32m   2135\u001b[0m             \u001b[0;32mexcept\u001b[0m \u001b[0mKeyError\u001b[0m\u001b[0;34m:\u001b[0m\u001b[0;34m\u001b[0m\u001b[0m\n\u001b[0;32m-> 2136\u001b[0;31m                 \u001b[0;32mreturn\u001b[0m \u001b[0mself\u001b[0m\u001b[0;34m.\u001b[0m\u001b[0m_engine\u001b[0m\u001b[0;34m.\u001b[0m\u001b[0mget_loc\u001b[0m\u001b[0;34m(\u001b[0m\u001b[0mself\u001b[0m\u001b[0;34m.\u001b[0m\u001b[0m_maybe_cast_indexer\u001b[0m\u001b[0;34m(\u001b[0m\u001b[0mkey\u001b[0m\u001b[0;34m)\u001b[0m\u001b[0;34m)\u001b[0m\u001b[0;34m\u001b[0m\u001b[0m\n\u001b[0m\u001b[1;32m   2137\u001b[0m \u001b[0;34m\u001b[0m\u001b[0m\n\u001b[1;32m   2138\u001b[0m         \u001b[0mindexer\u001b[0m \u001b[0;34m=\u001b[0m \u001b[0mself\u001b[0m\u001b[0;34m.\u001b[0m\u001b[0mget_indexer\u001b[0m\u001b[0;34m(\u001b[0m\u001b[0;34m[\u001b[0m\u001b[0mkey\u001b[0m\u001b[0;34m]\u001b[0m\u001b[0;34m,\u001b[0m \u001b[0mmethod\u001b[0m\u001b[0;34m=\u001b[0m\u001b[0mmethod\u001b[0m\u001b[0;34m,\u001b[0m \u001b[0mtolerance\u001b[0m\u001b[0;34m=\u001b[0m\u001b[0mtolerance\u001b[0m\u001b[0;34m)\u001b[0m\u001b[0;34m\u001b[0m\u001b[0m\n",
      "\u001b[0;32mpandas/index.pyx\u001b[0m in \u001b[0;36mpandas.index.IndexEngine.get_loc (pandas/index.c:4433)\u001b[0;34m()\u001b[0m\n",
      "\u001b[0;32mpandas/index.pyx\u001b[0m in \u001b[0;36mpandas.index.IndexEngine.get_loc (pandas/index.c:4279)\u001b[0;34m()\u001b[0m\n",
      "\u001b[0;32mpandas/src/hashtable_class_helper.pxi\u001b[0m in \u001b[0;36mpandas.hashtable.PyObjectHashTable.get_item (pandas/hashtable.c:13742)\u001b[0;34m()\u001b[0m\n",
      "\u001b[0;32mpandas/src/hashtable_class_helper.pxi\u001b[0m in \u001b[0;36mpandas.hashtable.PyObjectHashTable.get_item (pandas/hashtable.c:13696)\u001b[0;34m()\u001b[0m\n",
      "\u001b[0;31mKeyError\u001b[0m: 'Beat_BM_5Yr'"
     ]
    },
    {
     "data": {
      "image/png": "[encoded data removed]",
      "text/plain": [
       "<matplotlib.figure.Figure at 0x1156b1650>"
      ]
     },
     "metadata": {},
     "output_type": "display_data"
    }
   ],
   "source": [
    "fig, axs = plt.subplots(1, 8, sharey=True)\n",
    "data.plot(kind='scatter', x='P_E', y='Beat_BM_5Yr', ax=axs[0], figsize=(16, 8))\n",
    "data.plot(kind='scatter', x='P_B', y='Beat_BM_5Yr', ax=axs[1])\n",
    "data.plot(kind='scatter', x='P_S', y='Beat_BM_5Yr', ax=axs[2])\n",
    "data.plot(kind='scatter', x='P_C', y='Beat_BM_5Yr', ax=axs[3])\n",
    "data.plot(kind='scatter', x='Debt_to_Capital', y='Beat_BM_5Yr', ax=axs[4])\n",
    "data.plot(kind='scatter', x='Net_Margin', y='Beat_BM_5Yr', ax=axs[5])\n",
    "data.plot(kind='scatter', x='ROA', y='Beat_BM_5Yr', ax=axs[6])\n",
    "data.plot(kind='scatter', x='ROE', y='Beat_BM_5Yr', ax=axs[7])"
   ]
  },
  {
   "cell_type": "code",
   "execution_count": 28,
   "metadata": {
    "collapsed": false
   },
   "outputs": [
    {
     "data": {
      "text/plain": [
       "<matplotlib.axes._subplots.AxesSubplot at 0x11652f590>"
      ]
     },
     "execution_count": 28,
     "metadata": {},
     "output_type": "execute_result"
    },
    {
     "data": {
      "image/png": "[encoded data removed]",
      "text/plain": [
       "<matplotlib.figure.Figure at 0x115fdcd50>"
      ]
     },
     "metadata": {},
     "output_type": "display_data"
    }
   ],
   "source": [
    "fig, axs = plt.subplots(1, 8, sharey=True)\n",
    "cleandata.plot(kind='scatter', x='P_E', y='Perf_vs_BM_7Yr', ax=axs[0], figsize=(16, 8))\n",
    "cleandata.plot(kind='scatter', x='P_B', y='Perf_vs_BM_7Yr', ax=axs[1])\n",
    "cleandata.plot(kind='scatter', x='P_S', y='Perf_vs_BM_7Yr', ax=axs[2])\n",
    "cleandata.plot(kind='scatter', x='P_C', y='Perf_vs_BM_7Yr', ax=axs[3])\n",
    "cleandata.plot(kind='scatter', x='Debt_to_Capital', y='Perf_vs_BM_7Yr', ax=axs[4])\n",
    "cleandata.plot(kind='scatter', x='Net_Margin', y='Perf_vs_BM_7Yr', ax=axs[5])\n",
    "cleandata.plot(kind='scatter', x='ROA', y='Perf_vs_BM_7Yr', ax=axs[6])\n",
    "cleandata.plot(kind='scatter', x='ROE', y='Perf_vs_BM_7Yr', ax=axs[7])"
   ]
  },
  {
   "cell_type": "code",
   "execution_count": 29,
   "metadata": {
    "collapsed": false
   },
   "outputs": [
    {
     "data": {
      "text/plain": [
       "<matplotlib.axes._subplots.AxesSubplot at 0x116b01890>"
      ]
     },
     "execution_count": 29,
     "metadata": {},
     "output_type": "execute_result"
    },
    {
     "data": {
      "image/png": "[encoded data removed]",
      "text/plain": [
       "<matplotlib.figure.Figure at 0x11600fe10>"
      ]
     },
     "metadata": {},
     "output_type": "display_data"
    }
   ],
   "source": [
    "fig, axs = plt.subplots(1, 4, sharey=True)\n",
    "cleandata.plot(kind='scatter', x='AUM', y='Perf_vs_BM_1Yr', ax=axs[0], figsize=(16, 8))\n",
    "cleandata.plot(kind='scatter', x='Num_of_Holdings', y='Perf_vs_BM_1Yr', ax=axs[1])\n",
    "cleandata.plot(kind='scatter', x='3_yr_Turnover_Avg', y='Perf_vs_BM_1Yr', ax=axs[2])\n",
    "cleandata.plot(kind='scatter', x='Net_Expense_Ratio', y='Perf_vs_BM_1Yr', ax=axs[3])\n"
   ]
  },
  {
   "cell_type": "code",
   "execution_count": 30,
   "metadata": {
    "collapsed": false
   },
   "outputs": [
    {
     "name": "stdout",
     "output_type": "stream",
     "text": [
      "          P_E       P_B       P_S       P_C\n",
      "P_E  1.000000  0.559662  0.708085  0.834741\n",
      "P_B  0.559662  1.000000  0.582962  0.672801\n",
      "P_S  0.708085  0.582962  1.000000  0.719791\n",
      "P_C  0.834741  0.672801  0.719791  1.000000\n",
      "Axes(0.125,0.125;0.62x0.755)\n"
     ]
    },
    {
     "data": {
      "image/png": "[encoded data removed]",
      "text/plain": [
       "<matplotlib.figure.Figure at 0x115fff110>"
      ]
     },
     "metadata": {},
     "output_type": "display_data"
    }
   ],
   "source": [
    "cmap = sns.diverging_palette(220, 10, as_cmap=True)\n",
    "columns_to_keep = ['P_E', 'P_B', 'P_S', 'P_C']\n",
    "correlations = cleandata[columns_to_keep].corr()\n",
    "print correlations\n",
    "print sns.heatmap(correlations, cmap=cmap)\n"
   ]
  },
  {
   "cell_type": "code",
   "execution_count": 31,
   "metadata": {
    "collapsed": false
   },
   "outputs": [
    {
     "name": "stdout",
     "output_type": "stream",
     "text": [
      "                 Debt_to_Capital  Net_Margin       ROA       ROE\n",
      "Debt_to_Capital         1.000000   -0.147041  0.123623 -0.147119\n",
      "Net_Margin             -0.147041    1.000000  0.711121  0.591415\n",
      "ROA                     0.123623    0.711121  1.000000  0.779433\n",
      "ROE                    -0.147119    0.591415  0.779433  1.000000\n",
      "Axes(0.125,0.125;0.62x0.755)\n"
     ]
    },
    {
     "data": {
      "image/png": "[encoded data removed]",
      "text/plain": [
       "<matplotlib.figure.Figure at 0x116044a90>"
      ]
     },
     "metadata": {},
     "output_type": "display_data"
    }
   ],
   "source": [
    "cmap = sns.diverging_palette(220, 10, as_cmap=True)\n",
    "columns_to_keep = ['Debt_to_Capital', 'Net_Margin','ROA', 'ROE']\n",
    "correlations = cleandata[columns_to_keep].corr()\n",
    "print correlations\n",
    "print sns.heatmap(correlations, cmap=cmap)"
   ]
  },
  {
   "cell_type": "code",
   "execution_count": 32,
   "metadata": {
    "collapsed": false
   },
   "outputs": [
    {
     "data": {
      "text/html": [
       "<div>\n",
       "<table border=\"1\" class=\"dataframe\">\n",
       "  <thead>\n",
       "    <tr style=\"text-align: right;\">\n",
       "      <th></th>\n",
       "      <th>Broker_Score_ct</th>\n",
       "      <th>Broker_Score_wtg</th>\n",
       "      <th>1_Yr_Return</th>\n",
       "      <th>3_Yr_Return</th>\n",
       "      <th>5_Yr_Return</th>\n",
       "      <th>7_Yr_Return</th>\n",
       "      <th>1_Yr_Return_BM</th>\n",
       "      <th>3_Yr_Return_BM</th>\n",
       "      <th>5_Yr_Return_BM</th>\n",
       "      <th>7_Yr_Return_BM</th>\n",
       "      <th>...</th>\n",
       "      <th>ROA</th>\n",
       "      <th>ROE</th>\n",
       "      <th>Beat_BM_1Yr</th>\n",
       "      <th>Beat_BM_3Yr</th>\n",
       "      <th>Beat_BM_5Yr</th>\n",
       "      <th>Beat_BM_7Yr</th>\n",
       "      <th>Perf_vs_BM_1Yr</th>\n",
       "      <th>Perf_vs_BM_3Yr</th>\n",
       "      <th>Perf_vs_BM_5Yr</th>\n",
       "      <th>Perf_vs_BM_7Yr</th>\n",
       "    </tr>\n",
       "  </thead>\n",
       "  <tbody>\n",
       "    <tr>\n",
       "      <th>count</th>\n",
       "      <td>795.000000</td>\n",
       "      <td>795.000000</td>\n",
       "      <td>795.000000</td>\n",
       "      <td>795.000000</td>\n",
       "      <td>795.000000</td>\n",
       "      <td>795.000000</td>\n",
       "      <td>795.000000</td>\n",
       "      <td>795.000000</td>\n",
       "      <td>795.000000</td>\n",
       "      <td>795.000000</td>\n",
       "      <td>...</td>\n",
       "      <td>795.000000</td>\n",
       "      <td>795.000000</td>\n",
       "      <td>795.000000</td>\n",
       "      <td>795.000000</td>\n",
       "      <td>795.000000</td>\n",
       "      <td>795.000000</td>\n",
       "      <td>795.000000</td>\n",
       "      <td>795.000000</td>\n",
       "      <td>795.000000</td>\n",
       "      <td>795.000000</td>\n",
       "    </tr>\n",
       "    <tr>\n",
       "      <th>mean</th>\n",
       "      <td>1280.656604</td>\n",
       "      <td>1006.616352</td>\n",
       "      <td>16.858302</td>\n",
       "      <td>-7.011384</td>\n",
       "      <td>4.334579</td>\n",
       "      <td>4.432101</td>\n",
       "      <td>17.584830</td>\n",
       "      <td>-7.617371</td>\n",
       "      <td>3.245094</td>\n",
       "      <td>4.269472</td>\n",
       "      <td>...</td>\n",
       "      <td>8.525793</td>\n",
       "      <td>17.205578</td>\n",
       "      <td>0.376101</td>\n",
       "      <td>0.544654</td>\n",
       "      <td>0.613836</td>\n",
       "      <td>0.542138</td>\n",
       "      <td>-0.726528</td>\n",
       "      <td>0.605987</td>\n",
       "      <td>1.089484</td>\n",
       "      <td>0.162629</td>\n",
       "    </tr>\n",
       "    <tr>\n",
       "      <th>std</th>\n",
       "      <td>1770.979240</td>\n",
       "      <td>610.730491</td>\n",
       "      <td>9.468219</td>\n",
       "      <td>5.082961</td>\n",
       "      <td>4.343654</td>\n",
       "      <td>2.813842</td>\n",
       "      <td>6.343275</td>\n",
       "      <td>1.294363</td>\n",
       "      <td>2.517192</td>\n",
       "      <td>1.216788</td>\n",
       "      <td>...</td>\n",
       "      <td>2.591118</td>\n",
       "      <td>4.207982</td>\n",
       "      <td>0.484711</td>\n",
       "      <td>0.498316</td>\n",
       "      <td>0.487175</td>\n",
       "      <td>0.498535</td>\n",
       "      <td>6.863334</td>\n",
       "      <td>5.012947</td>\n",
       "      <td>3.994948</td>\n",
       "      <td>2.672285</td>\n",
       "    </tr>\n",
       "    <tr>\n",
       "      <th>min</th>\n",
       "      <td>2.000000</td>\n",
       "      <td>4.000000</td>\n",
       "      <td>-5.770000</td>\n",
       "      <td>-33.090000</td>\n",
       "      <td>-20.450000</td>\n",
       "      <td>-11.640000</td>\n",
       "      <td>14.530000</td>\n",
       "      <td>-8.210000</td>\n",
       "      <td>2.260000</td>\n",
       "      <td>2.820000</td>\n",
       "      <td>...</td>\n",
       "      <td>-7.990000</td>\n",
       "      <td>-2.900000</td>\n",
       "      <td>0.000000</td>\n",
       "      <td>0.000000</td>\n",
       "      <td>0.000000</td>\n",
       "      <td>0.000000</td>\n",
       "      <td>-20.300000</td>\n",
       "      <td>-24.960000</td>\n",
       "      <td>-22.710000</td>\n",
       "      <td>-15.720000</td>\n",
       "    </tr>\n",
       "    <tr>\n",
       "      <th>25%</th>\n",
       "      <td>297.500000</td>\n",
       "      <td>466.000000</td>\n",
       "      <td>10.905000</td>\n",
       "      <td>-9.635000</td>\n",
       "      <td>2.085000</td>\n",
       "      <td>3.015000</td>\n",
       "      <td>14.530000</td>\n",
       "      <td>-8.130000</td>\n",
       "      <td>2.260000</td>\n",
       "      <td>4.080000</td>\n",
       "      <td>...</td>\n",
       "      <td>6.975000</td>\n",
       "      <td>15.680000</td>\n",
       "      <td>0.000000</td>\n",
       "      <td>0.000000</td>\n",
       "      <td>0.000000</td>\n",
       "      <td>0.000000</td>\n",
       "      <td>-4.435000</td>\n",
       "      <td>-1.830000</td>\n",
       "      <td>-0.720000</td>\n",
       "      <td>-1.095000</td>\n",
       "    </tr>\n",
       "    <tr>\n",
       "      <th>50%</th>\n",
       "      <td>646.000000</td>\n",
       "      <td>1040.000000</td>\n",
       "      <td>14.430000</td>\n",
       "      <td>-7.020000</td>\n",
       "      <td>3.710000</td>\n",
       "      <td>4.350000</td>\n",
       "      <td>14.530000</td>\n",
       "      <td>-8.130000</td>\n",
       "      <td>2.260000</td>\n",
       "      <td>4.080000</td>\n",
       "      <td>...</td>\n",
       "      <td>9.128812</td>\n",
       "      <td>17.711211</td>\n",
       "      <td>0.000000</td>\n",
       "      <td>1.000000</td>\n",
       "      <td>1.000000</td>\n",
       "      <td>1.000000</td>\n",
       "      <td>-1.020000</td>\n",
       "      <td>0.290000</td>\n",
       "      <td>0.740000</td>\n",
       "      <td>0.170000</td>\n",
       "    </tr>\n",
       "    <tr>\n",
       "      <th>75%</th>\n",
       "      <td>1460.000000</td>\n",
       "      <td>1558.500000</td>\n",
       "      <td>20.410000</td>\n",
       "      <td>-4.065000</td>\n",
       "      <td>5.795000</td>\n",
       "      <td>5.875000</td>\n",
       "      <td>16.350000</td>\n",
       "      <td>-8.130000</td>\n",
       "      <td>3.340000</td>\n",
       "      <td>4.080000</td>\n",
       "      <td>...</td>\n",
       "      <td>10.160000</td>\n",
       "      <td>19.620000</td>\n",
       "      <td>1.000000</td>\n",
       "      <td>1.000000</td>\n",
       "      <td>1.000000</td>\n",
       "      <td>1.000000</td>\n",
       "      <td>1.305000</td>\n",
       "      <td>3.325000</td>\n",
       "      <td>2.600000</td>\n",
       "      <td>1.435000</td>\n",
       "    </tr>\n",
       "    <tr>\n",
       "      <th>max</th>\n",
       "      <td>7686.000000</td>\n",
       "      <td>3230.000000</td>\n",
       "      <td>64.410000</td>\n",
       "      <td>15.750000</td>\n",
       "      <td>28.430000</td>\n",
       "      <td>14.010000</td>\n",
       "      <td>36.380000</td>\n",
       "      <td>-2.990000</td>\n",
       "      <td>13.830000</td>\n",
       "      <td>9.190000</td>\n",
       "      <td>...</td>\n",
       "      <td>17.520000</td>\n",
       "      <td>27.860000</td>\n",
       "      <td>1.000000</td>\n",
       "      <td>1.000000</td>\n",
       "      <td>1.000000</td>\n",
       "      <td>1.000000</td>\n",
       "      <td>49.880000</td>\n",
       "      <td>23.880000</td>\n",
       "      <td>26.170000</td>\n",
       "      <td>9.930000</td>\n",
       "    </tr>\n",
       "  </tbody>\n",
       "</table>\n",
       "<p>8 rows × 35 columns</p>\n",
       "</div>"
      ],
      "text/plain": [
       "       Broker_Score_ct  Broker_Score_wtg  1_Yr_Return  3_Yr_Return  \\\n",
       "count       795.000000        795.000000   795.000000   795.000000   \n",
       "mean       1280.656604       1006.616352    16.858302    -7.011384   \n",
       "std        1770.979240        610.730491     9.468219     5.082961   \n",
       "min           2.000000          4.000000    -5.770000   -33.090000   \n",
       "25%         297.500000        466.000000    10.905000    -9.635000   \n",
       "50%         646.000000       1040.000000    14.430000    -7.020000   \n",
       "75%        1460.000000       1558.500000    20.410000    -4.065000   \n",
       "max        7686.000000       3230.000000    64.410000    15.750000   \n",
       "\n",
       "       5_Yr_Return  7_Yr_Return  1_Yr_Return_BM  3_Yr_Return_BM  \\\n",
       "count   795.000000   795.000000      795.000000      795.000000   \n",
       "mean      4.334579     4.432101       17.584830       -7.617371   \n",
       "std       4.343654     2.813842        6.343275        1.294363   \n",
       "min     -20.450000   -11.640000       14.530000       -8.210000   \n",
       "25%       2.085000     3.015000       14.530000       -8.130000   \n",
       "50%       3.710000     4.350000       14.530000       -8.130000   \n",
       "75%       5.795000     5.875000       16.350000       -8.130000   \n",
       "max      28.430000    14.010000       36.380000       -2.990000   \n",
       "\n",
       "       5_Yr_Return_BM  7_Yr_Return_BM       ...               ROA         ROE  \\\n",
       "count      795.000000      795.000000       ...        795.000000  795.000000   \n",
       "mean         3.245094        4.269472       ...          8.525793   17.205578   \n",
       "std          2.517192        1.216788       ...          2.591118    4.207982   \n",
       "min          2.260000        2.820000       ...         -7.990000   -2.900000   \n",
       "25%          2.260000        4.080000       ...          6.975000   15.680000   \n",
       "50%          2.260000        4.080000       ...          9.128812   17.711211   \n",
       "75%          3.340000        4.080000       ...         10.160000   19.620000   \n",
       "max         13.830000        9.190000       ...         17.520000   27.860000   \n",
       "\n",
       "       Beat_BM_1Yr  Beat_BM_3Yr  Beat_BM_5Yr  Beat_BM_7Yr  Perf_vs_BM_1Yr  \\\n",
       "count   795.000000   795.000000   795.000000   795.000000      795.000000   \n",
       "mean      0.376101     0.544654     0.613836     0.542138       -0.726528   \n",
       "std       0.484711     0.498316     0.487175     0.498535        6.863334   \n",
       "min       0.000000     0.000000     0.000000     0.000000      -20.300000   \n",
       "25%       0.000000     0.000000     0.000000     0.000000       -4.435000   \n",
       "50%       0.000000     1.000000     1.000000     1.000000       -1.020000   \n",
       "75%       1.000000     1.000000     1.000000     1.000000        1.305000   \n",
       "max       1.000000     1.000000     1.000000     1.000000       49.880000   \n",
       "\n",
       "       Perf_vs_BM_3Yr  Perf_vs_BM_5Yr  Perf_vs_BM_7Yr  \n",
       "count      795.000000      795.000000      795.000000  \n",
       "mean         0.605987        1.089484        0.162629  \n",
       "std          5.012947        3.994948        2.672285  \n",
       "min        -24.960000      -22.710000      -15.720000  \n",
       "25%         -1.830000       -0.720000       -1.095000  \n",
       "50%          0.290000        0.740000        0.170000  \n",
       "75%          3.325000        2.600000        1.435000  \n",
       "max         23.880000       26.170000        9.930000  \n",
       "\n",
       "[8 rows x 35 columns]"
      ]
     },
     "execution_count": 32,
     "metadata": {},
     "output_type": "execute_result"
    }
   ],
   "source": [
    "cleandata.describe()"
   ]
  },
  {
   "cell_type": "code",
   "execution_count": 33,
   "metadata": {
    "collapsed": false
   },
   "outputs": [
    {
     "data": {
      "text/plain": [
       "Ticker                 0\n",
       "Broker_Score_ct        0\n",
       "Broker_Score_wtg       0\n",
       "Benchmark              0\n",
       "1_Yr_Return            0\n",
       "3_Yr_Return            0\n",
       "5_Yr_Return            0\n",
       "7_Yr_Return            0\n",
       "1_Yr_Return_BM         0\n",
       "3_Yr_Return_BM         0\n",
       "5_Yr_Return_BM         0\n",
       "7_Yr_Return_BM         0\n",
       "AUM                    5\n",
       "AUM_2016               0\n",
       "Num_of_Holdings      173\n",
       "Turnover_2005         20\n",
       "Turnover_2004        181\n",
       "Turnover_2003        243\n",
       "3_yr_Turnover_Avg     14\n",
       "Net_Expense_Ratio      3\n",
       "Avg_Mkt_Cap_M        171\n",
       "P_E                    0\n",
       "P_B                    0\n",
       "P_S                    0\n",
       "P_C                    0\n",
       "Debt_to_Capital        0\n",
       "Net_Margin             0\n",
       "ROA                    0\n",
       "ROE                    0\n",
       "Beat_BM_1Yr            0\n",
       "Beat_BM_3Yr            0\n",
       "Beat_BM_5Yr            0\n",
       "Beat_BM_7Yr            0\n",
       "Perf_vs_BM_1Yr         0\n",
       "Perf_vs_BM_3Yr         0\n",
       "Perf_vs_BM_5Yr         0\n",
       "Perf_vs_BM_7Yr         0\n",
       "dtype: int64"
      ]
     },
     "execution_count": 33,
     "metadata": {},
     "output_type": "execute_result"
    }
   ],
   "source": [
    "cleandata.isnull().sum()"
   ]
  },
  {
   "cell_type": "code",
   "execution_count": 52,
   "metadata": {
    "collapsed": false
   },
   "outputs": [
    {
     "data": {
      "text/plain": [
       "LogisticRegression(C=1.0, class_weight=None, dual=False, fit_intercept=True,\n",
       "          intercept_scaling=1, max_iter=100, multi_class='ovr', n_jobs=1,\n",
       "          penalty='l2', random_state=None, solver='liblinear', tol=0.0001,\n",
       "          verbose=0, warm_start=False)"
      ]
     },
     "execution_count": 52,
     "metadata": {},
     "output_type": "execute_result"
    }
   ],
   "source": [
    "lm = LogisticRegression()\n",
    "\n",
    "lm.fit(cleandata[['Broker_Score_wtg','P_E','P_B','P_S','P_C','Debt_to_Capital','Net_Margin','ROA','ROE']], \\\n",
    "       cleandata['Beat_BM_1Yr'])"
   ]
  },
  {
   "cell_type": "code",
   "execution_count": 53,
   "metadata": {
    "collapsed": false
   },
   "outputs": [
    {
     "data": {
      "text/plain": [
       "LogisticRegression(C=1.0, class_weight=None, dual=False, fit_intercept=True,\n",
       "          intercept_scaling=1, max_iter=100, multi_class='ovr', n_jobs=1,\n",
       "          penalty='l2', random_state=None, solver='liblinear', tol=0.0001,\n",
       "          verbose=0, warm_start=False)"
      ]
     },
     "execution_count": 53,
     "metadata": {},
     "output_type": "execute_result"
    }
   ],
   "source": [
    "lm3 = LogisticRegression()\n",
    "lm3.fit(cleandata[['Broker_Score_wtg','P_E','P_B','P_S','P_C','Debt_to_Capital','Net_Margin','ROA','ROE']], \\\n",
    "       cleandata['Beat_BM_3Yr'])"
   ]
  },
  {
   "cell_type": "code",
   "execution_count": 54,
   "metadata": {
    "collapsed": false
   },
   "outputs": [
    {
     "data": {
      "text/plain": [
       "LogisticRegression(C=1.0, class_weight=None, dual=False, fit_intercept=True,\n",
       "          intercept_scaling=1, max_iter=100, multi_class='ovr', n_jobs=1,\n",
       "          penalty='l2', random_state=None, solver='liblinear', tol=0.0001,\n",
       "          verbose=0, warm_start=False)"
      ]
     },
     "execution_count": 54,
     "metadata": {},
     "output_type": "execute_result"
    }
   ],
   "source": [
    "lm5 = LogisticRegression()\n",
    "lm5.fit(cleandata[['Broker_Score_wtg','P_E','P_B','P_S','P_C','Debt_to_Capital','Net_Margin','ROA','ROE']], \\\n",
    "       cleandata['Beat_BM_5Yr'])"
   ]
  },
  {
   "cell_type": "code",
   "execution_count": 55,
   "metadata": {
    "collapsed": false
   },
   "outputs": [
    {
     "data": {
      "text/plain": [
       "LogisticRegression(C=1.0, class_weight=None, dual=False, fit_intercept=True,\n",
       "          intercept_scaling=1, max_iter=100, multi_class='ovr', n_jobs=1,\n",
       "          penalty='l2', random_state=None, solver='liblinear', tol=0.0001,\n",
       "          verbose=0, warm_start=False)"
      ]
     },
     "execution_count": 55,
     "metadata": {},
     "output_type": "execute_result"
    }
   ],
   "source": [
    "lm7 = LogisticRegression()\n",
    "lm7.fit(cleandata[['Broker_Score_wtg','P_E','P_B','P_S','P_C','Debt_to_Capital','Net_Margin','ROA','ROE']], \\\n",
    "       cleandata['Beat_BM_7Yr'])"
   ]
  },
  {
   "cell_type": "code",
   "execution_count": 56,
   "metadata": {
    "collapsed": false
   },
   "outputs": [
    {
     "name": "stdout",
     "output_type": "stream",
     "text": [
      "[[ 0.99963483  1.02629787  0.67179169  1.88323323  0.77930716  1.02207197\n",
      "   1.11716475  0.70179026  1.12766053]]\n",
      "[ 4.35135933]\n",
      "0.376100628931\n"
     ]
    }
   ],
   "source": [
    "print np.exp(lm.coef_)\n",
    "print np.exp(lm.intercept_)\n",
    "print cleandata.Beat_BM_1Yr.mean()"
   ]
  },
  {
   "cell_type": "code",
   "execution_count": 60,
   "metadata": {
    "collapsed": false
   },
   "outputs": [
    {
     "name": "stdout",
     "output_type": "stream",
     "text": [
      "0.646540880503\n"
     ]
    }
   ],
   "source": [
    "feature_set = cleandata[['Broker_Score_wtg','P_E','P_B','P_S','P_C','Debt_to_Capital','Net_Margin','ROA','ROE']]\n",
    "print lm.score(feature_set, cleandata['Beat_BM_1Yr'])"
   ]
  },
  {
   "cell_type": "code",
   "execution_count": null,
   "metadata": {
    "collapsed": true
   },
   "outputs": [],
   "source": [
    "#The accuracy of the model with all features (removing one rank) is ~65%."
   ]
  },
  {
   "cell_type": "code",
   "execution_count": 71,
   "metadata": {
    "collapsed": false
   },
   "outputs": [
    {
     "data": {
      "text/plain": [
       "0.57393596936023306"
      ]
     },
     "execution_count": 71,
     "metadata": {},
     "output_type": "execute_result"
    }
   ],
   "source": [
    "roc_auc_score(cleandata['Beat_BM_1Yr'], lm.predict(feature_set))"
   ]
  },
  {
   "cell_type": "code",
   "execution_count": 57,
   "metadata": {
    "collapsed": false
   },
   "outputs": [
    {
     "name": "stdout",
     "output_type": "stream",
     "text": [
      "[[ 0.99978904  1.04682392  1.45419146  1.3319353   0.89358806  1.01789394\n",
      "   0.97212949  0.78172131  1.1500779 ]]\n",
      "[ 0.33978584]\n",
      "0.54465408805\n"
     ]
    }
   ],
   "source": [
    "print np.exp(lm3.coef_)\n",
    "print np.exp(lm3.intercept_)\n",
    "print cleandata.Beat_BM_3Yr.mean()"
   ]
  },
  {
   "cell_type": "code",
   "execution_count": 61,
   "metadata": {
    "collapsed": false
   },
   "outputs": [
    {
     "name": "stdout",
     "output_type": "stream",
     "text": [
      "0.601257861635\n"
     ]
    }
   ],
   "source": [
    "print lm3.score(feature_set, cleandata['Beat_BM_3Yr'])"
   ]
  },
  {
   "cell_type": "code",
   "execution_count": null,
   "metadata": {
    "collapsed": true
   },
   "outputs": [],
   "source": [
    "#The accuracy of the model with all features (removing one rank) is ~60%."
   ]
  },
  {
   "cell_type": "code",
   "execution_count": 70,
   "metadata": {
    "collapsed": false
   },
   "outputs": [
    {
     "data": {
      "text/plain": [
       "0.58502928304390533"
      ]
     },
     "execution_count": 70,
     "metadata": {},
     "output_type": "execute_result"
    }
   ],
   "source": [
    "roc_auc_score(cleandata['Beat_BM_3Yr'], lm3.predict(feature_set))"
   ]
  },
  {
   "cell_type": "code",
   "execution_count": 58,
   "metadata": {
    "collapsed": false
   },
   "outputs": [
    {
     "name": "stdout",
     "output_type": "stream",
     "text": [
      "[[ 0.99951389  1.04370833  1.44126967  2.31239082  1.02986976  1.00941106\n",
      "   0.95127028  0.77832268  1.11478269]]\n",
      "[ 0.16044122]\n",
      "0.613836477987\n"
     ]
    }
   ],
   "source": [
    "print np.exp(lm5.coef_)\n",
    "print np.exp(lm5.intercept_)\n",
    "print cleandata.Beat_BM_5Yr.mean()"
   ]
  },
  {
   "cell_type": "code",
   "execution_count": 64,
   "metadata": {
    "collapsed": false
   },
   "outputs": [
    {
     "name": "stdout",
     "output_type": "stream",
     "text": [
      "0.677987421384\n"
     ]
    }
   ],
   "source": [
    "print lm5.score(feature_set, cleandata['Beat_BM_5Yr'])"
   ]
  },
  {
   "cell_type": "code",
   "execution_count": null,
   "metadata": {
    "collapsed": true
   },
   "outputs": [],
   "source": [
    "#The accuracy of the model with all features (removing one rank) is ~68%."
   ]
  },
  {
   "cell_type": "code",
   "execution_count": 69,
   "metadata": {
    "collapsed": false
   },
   "outputs": [
    {
     "data": {
      "text/plain": [
       "0.621118572115128"
      ]
     },
     "execution_count": 69,
     "metadata": {},
     "output_type": "execute_result"
    }
   ],
   "source": [
    "roc_auc_score(cleandata['Beat_BM_5Yr'], lm5.predict(feature_set))"
   ]
  },
  {
   "cell_type": "code",
   "execution_count": 59,
   "metadata": {
    "collapsed": false
   },
   "outputs": [
    {
     "name": "stdout",
     "output_type": "stream",
     "text": [
      "[[ 0.99936936  1.06384734  1.10385736  1.22245289  1.08170191  0.9954939\n",
      "   0.94154497  0.84470063  1.10980801]]\n",
      "[ 0.25459019]\n",
      "0.54213836478\n"
     ]
    }
   ],
   "source": [
    "print np.exp(lm7.coef_)\n",
    "print np.exp(lm7.intercept_)\n",
    "print cleandata.Beat_BM_7Yr.mean()"
   ]
  },
  {
   "cell_type": "code",
   "execution_count": 65,
   "metadata": {
    "collapsed": false
   },
   "outputs": [
    {
     "name": "stdout",
     "output_type": "stream",
     "text": [
      "0.635220125786\n"
     ]
    }
   ],
   "source": [
    "print lm7.score(feature_set, cleandata['Beat_BM_7Yr'])"
   ]
  },
  {
   "cell_type": "code",
   "execution_count": null,
   "metadata": {
    "collapsed": true
   },
   "outputs": [],
   "source": [
    "#The accuracy of the model with all features (removing one rank) is ~63%."
   ]
  },
  {
   "cell_type": "code",
   "execution_count": 68,
   "metadata": {
    "collapsed": false
   },
   "outputs": [
    {
     "data": {
      "text/plain": [
       "0.62577764462915275"
      ]
     },
     "execution_count": 68,
     "metadata": {},
     "output_type": "execute_result"
    }
   ],
   "source": [
    "roc_auc_score(cleandata['Beat_BM_7Yr'], lm7.predict(feature_set))"
   ]
  },
  {
   "cell_type": "code",
   "execution_count": 37,
   "metadata": {
    "collapsed": false
   },
   "outputs": [
    {
     "name": "stderr",
     "output_type": "stream",
     "text": [
      "/Users/michaeltong/anaconda/lib/python2.7/site-packages/sklearn/utils/class_weight.py:65: DeprecationWarning: The class_weight='auto' heuristic is deprecated in 0.17 in favor of a new heuristic class_weight='balanced'. 'auto' will be removed in 0.19\n",
      "  \" 0.19\", DeprecationWarning)\n",
      "/Users/michaeltong/anaconda/lib/python2.7/site-packages/sklearn/utils/class_weight.py:65: DeprecationWarning: The class_weight='auto' heuristic is deprecated in 0.17 in favor of a new heuristic class_weight='balanced'. 'auto' will be removed in 0.19\n",
      "  \" 0.19\", DeprecationWarning)\n",
      "/Users/michaeltong/anaconda/lib/python2.7/site-packages/sklearn/utils/class_weight.py:65: DeprecationWarning: The class_weight='auto' heuristic is deprecated in 0.17 in favor of a new heuristic class_weight='balanced'. 'auto' will be removed in 0.19\n",
      "  \" 0.19\", DeprecationWarning)\n",
      "/Users/michaeltong/anaconda/lib/python2.7/site-packages/sklearn/utils/class_weight.py:65: DeprecationWarning: The class_weight='auto' heuristic is deprecated in 0.17 in favor of a new heuristic class_weight='balanced'. 'auto' will be removed in 0.19\n",
      "  \" 0.19\", DeprecationWarning)\n",
      "/Users/michaeltong/anaconda/lib/python2.7/site-packages/sklearn/utils/class_weight.py:65: DeprecationWarning: The class_weight='auto' heuristic is deprecated in 0.17 in favor of a new heuristic class_weight='balanced'. 'auto' will be removed in 0.19\n",
      "  \" 0.19\", DeprecationWarning)\n",
      "/Users/michaeltong/anaconda/lib/python2.7/site-packages/sklearn/utils/class_weight.py:65: DeprecationWarning: The class_weight='auto' heuristic is deprecated in 0.17 in favor of a new heuristic class_weight='balanced'. 'auto' will be removed in 0.19\n",
      "  \" 0.19\", DeprecationWarning)\n",
      "/Users/michaeltong/anaconda/lib/python2.7/site-packages/sklearn/utils/class_weight.py:65: DeprecationWarning: The class_weight='auto' heuristic is deprecated in 0.17 in favor of a new heuristic class_weight='balanced'. 'auto' will be removed in 0.19\n",
      "  \" 0.19\", DeprecationWarning)\n",
      "/Users/michaeltong/anaconda/lib/python2.7/site-packages/sklearn/utils/class_weight.py:65: DeprecationWarning: The class_weight='auto' heuristic is deprecated in 0.17 in favor of a new heuristic class_weight='balanced'. 'auto' will be removed in 0.19\n",
      "  \" 0.19\", DeprecationWarning)\n",
      "/Users/michaeltong/anaconda/lib/python2.7/site-packages/sklearn/utils/class_weight.py:65: DeprecationWarning: The class_weight='auto' heuristic is deprecated in 0.17 in favor of a new heuristic class_weight='balanced'. 'auto' will be removed in 0.19\n",
      "  \" 0.19\", DeprecationWarning)\n",
      "/Users/michaeltong/anaconda/lib/python2.7/site-packages/sklearn/utils/class_weight.py:65: DeprecationWarning: The class_weight='auto' heuristic is deprecated in 0.17 in favor of a new heuristic class_weight='balanced'. 'auto' will be removed in 0.19\n",
      "  \" 0.19\", DeprecationWarning)\n",
      "/Users/michaeltong/anaconda/lib/python2.7/site-packages/sklearn/utils/class_weight.py:65: DeprecationWarning: The class_weight='auto' heuristic is deprecated in 0.17 in favor of a new heuristic class_weight='balanced'. 'auto' will be removed in 0.19\n",
      "  \" 0.19\", DeprecationWarning)\n",
      "/Users/michaeltong/anaconda/lib/python2.7/site-packages/sklearn/utils/class_weight.py:65: DeprecationWarning: The class_weight='auto' heuristic is deprecated in 0.17 in favor of a new heuristic class_weight='balanced'. 'auto' will be removed in 0.19\n",
      "  \" 0.19\", DeprecationWarning)\n",
      "/Users/michaeltong/anaconda/lib/python2.7/site-packages/sklearn/utils/class_weight.py:65: DeprecationWarning: The class_weight='auto' heuristic is deprecated in 0.17 in favor of a new heuristic class_weight='balanced'. 'auto' will be removed in 0.19\n",
      "  \" 0.19\", DeprecationWarning)\n",
      "/Users/michaeltong/anaconda/lib/python2.7/site-packages/sklearn/utils/class_weight.py:65: DeprecationWarning: The class_weight='auto' heuristic is deprecated in 0.17 in favor of a new heuristic class_weight='balanced'. 'auto' will be removed in 0.19\n",
      "  \" 0.19\", DeprecationWarning)\n",
      "/Users/michaeltong/anaconda/lib/python2.7/site-packages/sklearn/utils/class_weight.py:65: DeprecationWarning: The class_weight='auto' heuristic is deprecated in 0.17 in favor of a new heuristic class_weight='balanced'. 'auto' will be removed in 0.19\n",
      "  \" 0.19\", DeprecationWarning)\n",
      "/Users/michaeltong/anaconda/lib/python2.7/site-packages/sklearn/utils/class_weight.py:65: DeprecationWarning: The class_weight='auto' heuristic is deprecated in 0.17 in favor of a new heuristic class_weight='balanced'. 'auto' will be removed in 0.19\n",
      "  \" 0.19\", DeprecationWarning)\n",
      "/Users/michaeltong/anaconda/lib/python2.7/site-packages/sklearn/utils/class_weight.py:65: DeprecationWarning: The class_weight='auto' heuristic is deprecated in 0.17 in favor of a new heuristic class_weight='balanced'. 'auto' will be removed in 0.19\n",
      "  \" 0.19\", DeprecationWarning)\n",
      "/Users/michaeltong/anaconda/lib/python2.7/site-packages/sklearn/utils/class_weight.py:65: DeprecationWarning: The class_weight='auto' heuristic is deprecated in 0.17 in favor of a new heuristic class_weight='balanced'. 'auto' will be removed in 0.19\n",
      "  \" 0.19\", DeprecationWarning)\n",
      "/Users/michaeltong/anaconda/lib/python2.7/site-packages/sklearn/utils/class_weight.py:65: DeprecationWarning: The class_weight='auto' heuristic is deprecated in 0.17 in favor of a new heuristic class_weight='balanced'. 'auto' will be removed in 0.19\n",
      "  \" 0.19\", DeprecationWarning)\n",
      "/Users/michaeltong/anaconda/lib/python2.7/site-packages/sklearn/utils/class_weight.py:65: DeprecationWarning: The class_weight='auto' heuristic is deprecated in 0.17 in favor of a new heuristic class_weight='balanced'. 'auto' will be removed in 0.19\n",
      "  \" 0.19\", DeprecationWarning)\n",
      "/Users/michaeltong/anaconda/lib/python2.7/site-packages/sklearn/utils/class_weight.py:65: DeprecationWarning: The class_weight='auto' heuristic is deprecated in 0.17 in favor of a new heuristic class_weight='balanced'. 'auto' will be removed in 0.19\n",
      "  \" 0.19\", DeprecationWarning)\n",
      "/Users/michaeltong/anaconda/lib/python2.7/site-packages/sklearn/utils/class_weight.py:65: DeprecationWarning: The class_weight='auto' heuristic is deprecated in 0.17 in favor of a new heuristic class_weight='balanced'. 'auto' will be removed in 0.19\n",
      "  \" 0.19\", DeprecationWarning)\n",
      "/Users/michaeltong/anaconda/lib/python2.7/site-packages/sklearn/utils/class_weight.py:65: DeprecationWarning: The class_weight='auto' heuristic is deprecated in 0.17 in favor of a new heuristic class_weight='balanced'. 'auto' will be removed in 0.19\n",
      "  \" 0.19\", DeprecationWarning)\n",
      "/Users/michaeltong/anaconda/lib/python2.7/site-packages/sklearn/utils/class_weight.py:65: DeprecationWarning: The class_weight='auto' heuristic is deprecated in 0.17 in favor of a new heuristic class_weight='balanced'. 'auto' will be removed in 0.19\n",
      "  \" 0.19\", DeprecationWarning)\n",
      "/Users/michaeltong/anaconda/lib/python2.7/site-packages/sklearn/utils/class_weight.py:65: DeprecationWarning: The class_weight='auto' heuristic is deprecated in 0.17 in favor of a new heuristic class_weight='balanced'. 'auto' will be removed in 0.19\n",
      "  \" 0.19\", DeprecationWarning)\n",
      "/Users/michaeltong/anaconda/lib/python2.7/site-packages/sklearn/utils/class_weight.py:65: DeprecationWarning: The class_weight='auto' heuristic is deprecated in 0.17 in favor of a new heuristic class_weight='balanced'. 'auto' will be removed in 0.19\n",
      "  \" 0.19\", DeprecationWarning)\n",
      "/Users/michaeltong/anaconda/lib/python2.7/site-packages/sklearn/utils/class_weight.py:65: DeprecationWarning: The class_weight='auto' heuristic is deprecated in 0.17 in favor of a new heuristic class_weight='balanced'. 'auto' will be removed in 0.19\n",
      "  \" 0.19\", DeprecationWarning)\n",
      "/Users/michaeltong/anaconda/lib/python2.7/site-packages/sklearn/utils/class_weight.py:65: DeprecationWarning: The class_weight='auto' heuristic is deprecated in 0.17 in favor of a new heuristic class_weight='balanced'. 'auto' will be removed in 0.19\n",
      "  \" 0.19\", DeprecationWarning)\n",
      "/Users/michaeltong/anaconda/lib/python2.7/site-packages/sklearn/utils/class_weight.py:65: DeprecationWarning: The class_weight='auto' heuristic is deprecated in 0.17 in favor of a new heuristic class_weight='balanced'. 'auto' will be removed in 0.19\n",
      "  \" 0.19\", DeprecationWarning)\n",
      "/Users/michaeltong/anaconda/lib/python2.7/site-packages/sklearn/utils/class_weight.py:65: DeprecationWarning: The class_weight='auto' heuristic is deprecated in 0.17 in favor of a new heuristic class_weight='balanced'. 'auto' will be removed in 0.19\n",
      "  \" 0.19\", DeprecationWarning)\n",
      "/Users/michaeltong/anaconda/lib/python2.7/site-packages/sklearn/utils/class_weight.py:65: DeprecationWarning: The class_weight='auto' heuristic is deprecated in 0.17 in favor of a new heuristic class_weight='balanced'. 'auto' will be removed in 0.19\n",
      "  \" 0.19\", DeprecationWarning)\n",
      "/Users/michaeltong/anaconda/lib/python2.7/site-packages/sklearn/utils/class_weight.py:65: DeprecationWarning: The class_weight='auto' heuristic is deprecated in 0.17 in favor of a new heuristic class_weight='balanced'. 'auto' will be removed in 0.19\n",
      "  \" 0.19\", DeprecationWarning)\n",
      "/Users/michaeltong/anaconda/lib/python2.7/site-packages/sklearn/utils/class_weight.py:65: DeprecationWarning: The class_weight='auto' heuristic is deprecated in 0.17 in favor of a new heuristic class_weight='balanced'. 'auto' will be removed in 0.19\n",
      "  \" 0.19\", DeprecationWarning)\n",
      "/Users/michaeltong/anaconda/lib/python2.7/site-packages/sklearn/utils/class_weight.py:65: DeprecationWarning: The class_weight='auto' heuristic is deprecated in 0.17 in favor of a new heuristic class_weight='balanced'. 'auto' will be removed in 0.19\n",
      "  \" 0.19\", DeprecationWarning)\n",
      "/Users/michaeltong/anaconda/lib/python2.7/site-packages/sklearn/utils/class_weight.py:65: DeprecationWarning: The class_weight='auto' heuristic is deprecated in 0.17 in favor of a new heuristic class_weight='balanced'. 'auto' will be removed in 0.19\n",
      "  \" 0.19\", DeprecationWarning)\n",
      "/Users/michaeltong/anaconda/lib/python2.7/site-packages/sklearn/utils/class_weight.py:65: DeprecationWarning: The class_weight='auto' heuristic is deprecated in 0.17 in favor of a new heuristic class_weight='balanced'. 'auto' will be removed in 0.19\n",
      "  \" 0.19\", DeprecationWarning)\n",
      "/Users/michaeltong/anaconda/lib/python2.7/site-packages/sklearn/utils/class_weight.py:65: DeprecationWarning: The class_weight='auto' heuristic is deprecated in 0.17 in favor of a new heuristic class_weight='balanced'. 'auto' will be removed in 0.19\n",
      "  \" 0.19\", DeprecationWarning)\n",
      "/Users/michaeltong/anaconda/lib/python2.7/site-packages/sklearn/utils/class_weight.py:65: DeprecationWarning: The class_weight='auto' heuristic is deprecated in 0.17 in favor of a new heuristic class_weight='balanced'. 'auto' will be removed in 0.19\n",
      "  \" 0.19\", DeprecationWarning)\n",
      "/Users/michaeltong/anaconda/lib/python2.7/site-packages/sklearn/utils/class_weight.py:65: DeprecationWarning: The class_weight='auto' heuristic is deprecated in 0.17 in favor of a new heuristic class_weight='balanced'. 'auto' will be removed in 0.19\n",
      "  \" 0.19\", DeprecationWarning)\n",
      "/Users/michaeltong/anaconda/lib/python2.7/site-packages/sklearn/utils/class_weight.py:65: DeprecationWarning: The class_weight='auto' heuristic is deprecated in 0.17 in favor of a new heuristic class_weight='balanced'. 'auto' will be removed in 0.19\n",
      "  \" 0.19\", DeprecationWarning)\n",
      "/Users/michaeltong/anaconda/lib/python2.7/site-packages/sklearn/utils/class_weight.py:65: DeprecationWarning: The class_weight='auto' heuristic is deprecated in 0.17 in favor of a new heuristic class_weight='balanced'. 'auto' will be removed in 0.19\n",
      "  \" 0.19\", DeprecationWarning)\n",
      "/Users/michaeltong/anaconda/lib/python2.7/site-packages/sklearn/utils/class_weight.py:65: DeprecationWarning: The class_weight='auto' heuristic is deprecated in 0.17 in favor of a new heuristic class_weight='balanced'. 'auto' will be removed in 0.19\n",
      "  \" 0.19\", DeprecationWarning)\n",
      "/Users/michaeltong/anaconda/lib/python2.7/site-packages/sklearn/utils/class_weight.py:65: DeprecationWarning: The class_weight='auto' heuristic is deprecated in 0.17 in favor of a new heuristic class_weight='balanced'. 'auto' will be removed in 0.19\n",
      "  \" 0.19\", DeprecationWarning)\n",
      "/Users/michaeltong/anaconda/lib/python2.7/site-packages/sklearn/utils/class_weight.py:65: DeprecationWarning: The class_weight='auto' heuristic is deprecated in 0.17 in favor of a new heuristic class_weight='balanced'. 'auto' will be removed in 0.19\n",
      "  \" 0.19\", DeprecationWarning)\n",
      "/Users/michaeltong/anaconda/lib/python2.7/site-packages/sklearn/utils/class_weight.py:65: DeprecationWarning: The class_weight='auto' heuristic is deprecated in 0.17 in favor of a new heuristic class_weight='balanced'. 'auto' will be removed in 0.19\n",
      "  \" 0.19\", DeprecationWarning)\n",
      "/Users/michaeltong/anaconda/lib/python2.7/site-packages/sklearn/utils/class_weight.py:65: DeprecationWarning: The class_weight='auto' heuristic is deprecated in 0.17 in favor of a new heuristic class_weight='balanced'. 'auto' will be removed in 0.19\n",
      "  \" 0.19\", DeprecationWarning)\n"
     ]
    },
    {
     "data": {
      "text/plain": [
       "[mean: 0.38589, std: 0.23420, params: {'C': 1, 'class_weight': None},\n",
       " mean: 0.63770, std: 0.16883, params: {'C': 1, 'class_weight': 'auto'},\n",
       " mean: 0.38871, std: 0.23972, params: {'C': 2, 'class_weight': None},\n",
       " mean: 0.63081, std: 0.16247, params: {'C': 2, 'class_weight': 'auto'},\n",
       " mean: 0.38871, std: 0.23972, params: {'C': 3, 'class_weight': None},\n",
       " mean: 0.63081, std: 0.16247, params: {'C': 3, 'class_weight': 'auto'},\n",
       " mean: 0.38871, std: 0.23972, params: {'C': 4, 'class_weight': None},\n",
       " mean: 0.63081, std: 0.16247, params: {'C': 4, 'class_weight': 'auto'},\n",
       " mean: 0.39026, std: 0.25202, params: {'C': 5, 'class_weight': None},\n",
       " mean: 0.63081, std: 0.16247, params: {'C': 5, 'class_weight': 'auto'},\n",
       " mean: 0.38618, std: 0.25351, params: {'C': 6, 'class_weight': None},\n",
       " mean: 0.63081, std: 0.16247, params: {'C': 6, 'class_weight': 'auto'},\n",
       " mean: 0.38618, std: 0.25351, params: {'C': 7, 'class_weight': None},\n",
       " mean: 0.63081, std: 0.16247, params: {'C': 7, 'class_weight': 'auto'},\n",
       " mean: 0.38618, std: 0.25351, params: {'C': 8, 'class_weight': None},\n",
       " mean: 0.63081, std: 0.16247, params: {'C': 8, 'class_weight': 'auto'},\n",
       " mean: 0.38618, std: 0.25351, params: {'C': 9, 'class_weight': None},\n",
       " mean: 0.63081, std: 0.16247, params: {'C': 9, 'class_weight': 'auto'}]"
      ]
     },
     "execution_count": 37,
     "metadata": {},
     "output_type": "execute_result"
    }
   ],
   "source": [
    "datafactors = cleandata[['Broker_Score_wtg','P_E','P_B','P_S','P_C','Debt_to_Capital','Net_Margin','ROA','ROE']]\n",
    "\n",
    "sc = StandardScaler()\n",
    "scaled_feature = sc.fit_transform(datafactors)\n",
    "gs = grid_search.GridSearchCV(\n",
    "    estimator=LogisticRegression(),\n",
    "    param_grid={'C': [i for i in range(1, 10)], 'class_weight': [None, 'auto']},\n",
    "    cv=cross_validation.KFold(n=len(cleandata), n_folds=5),\n",
    "    scoring='recall'\n",
    ")\n",
    "\n",
    "gs.fit(scaled_feature, cleandata.Beat_BM_1Yr)\n",
    "gs.grid_scores_"
   ]
  },
  {
   "cell_type": "code",
   "execution_count": 38,
   "metadata": {
    "collapsed": false
   },
   "outputs": [
    {
     "name": "stderr",
     "output_type": "stream",
     "text": [
      "/Users/michaeltong/anaconda/lib/python2.7/site-packages/sklearn/utils/class_weight.py:65: DeprecationWarning: The class_weight='auto' heuristic is deprecated in 0.17 in favor of a new heuristic class_weight='balanced'. 'auto' will be removed in 0.19\n",
      "  \" 0.19\", DeprecationWarning)\n",
      "/Users/michaeltong/anaconda/lib/python2.7/site-packages/sklearn/utils/class_weight.py:65: DeprecationWarning: The class_weight='auto' heuristic is deprecated in 0.17 in favor of a new heuristic class_weight='balanced'. 'auto' will be removed in 0.19\n",
      "  \" 0.19\", DeprecationWarning)\n",
      "/Users/michaeltong/anaconda/lib/python2.7/site-packages/sklearn/utils/class_weight.py:65: DeprecationWarning: The class_weight='auto' heuristic is deprecated in 0.17 in favor of a new heuristic class_weight='balanced'. 'auto' will be removed in 0.19\n",
      "  \" 0.19\", DeprecationWarning)\n",
      "/Users/michaeltong/anaconda/lib/python2.7/site-packages/sklearn/utils/class_weight.py:65: DeprecationWarning: The class_weight='auto' heuristic is deprecated in 0.17 in favor of a new heuristic class_weight='balanced'. 'auto' will be removed in 0.19\n",
      "  \" 0.19\", DeprecationWarning)\n",
      "/Users/michaeltong/anaconda/lib/python2.7/site-packages/sklearn/utils/class_weight.py:65: DeprecationWarning: The class_weight='auto' heuristic is deprecated in 0.17 in favor of a new heuristic class_weight='balanced'. 'auto' will be removed in 0.19\n",
      "  \" 0.19\", DeprecationWarning)\n",
      "/Users/michaeltong/anaconda/lib/python2.7/site-packages/sklearn/utils/class_weight.py:65: DeprecationWarning: The class_weight='auto' heuristic is deprecated in 0.17 in favor of a new heuristic class_weight='balanced'. 'auto' will be removed in 0.19\n",
      "  \" 0.19\", DeprecationWarning)\n",
      "/Users/michaeltong/anaconda/lib/python2.7/site-packages/sklearn/utils/class_weight.py:65: DeprecationWarning: The class_weight='auto' heuristic is deprecated in 0.17 in favor of a new heuristic class_weight='balanced'. 'auto' will be removed in 0.19\n",
      "  \" 0.19\", DeprecationWarning)\n",
      "/Users/michaeltong/anaconda/lib/python2.7/site-packages/sklearn/utils/class_weight.py:65: DeprecationWarning: The class_weight='auto' heuristic is deprecated in 0.17 in favor of a new heuristic class_weight='balanced'. 'auto' will be removed in 0.19\n",
      "  \" 0.19\", DeprecationWarning)\n",
      "/Users/michaeltong/anaconda/lib/python2.7/site-packages/sklearn/utils/class_weight.py:65: DeprecationWarning: The class_weight='auto' heuristic is deprecated in 0.17 in favor of a new heuristic class_weight='balanced'. 'auto' will be removed in 0.19\n",
      "  \" 0.19\", DeprecationWarning)\n",
      "/Users/michaeltong/anaconda/lib/python2.7/site-packages/sklearn/utils/class_weight.py:65: DeprecationWarning: The class_weight='auto' heuristic is deprecated in 0.17 in favor of a new heuristic class_weight='balanced'. 'auto' will be removed in 0.19\n",
      "  \" 0.19\", DeprecationWarning)\n",
      "/Users/michaeltong/anaconda/lib/python2.7/site-packages/sklearn/utils/class_weight.py:65: DeprecationWarning: The class_weight='auto' heuristic is deprecated in 0.17 in favor of a new heuristic class_weight='balanced'. 'auto' will be removed in 0.19\n",
      "  \" 0.19\", DeprecationWarning)\n",
      "/Users/michaeltong/anaconda/lib/python2.7/site-packages/sklearn/utils/class_weight.py:65: DeprecationWarning: The class_weight='auto' heuristic is deprecated in 0.17 in favor of a new heuristic class_weight='balanced'. 'auto' will be removed in 0.19\n",
      "  \" 0.19\", DeprecationWarning)\n",
      "/Users/michaeltong/anaconda/lib/python2.7/site-packages/sklearn/utils/class_weight.py:65: DeprecationWarning: The class_weight='auto' heuristic is deprecated in 0.17 in favor of a new heuristic class_weight='balanced'. 'auto' will be removed in 0.19\n",
      "  \" 0.19\", DeprecationWarning)\n",
      "/Users/michaeltong/anaconda/lib/python2.7/site-packages/sklearn/utils/class_weight.py:65: DeprecationWarning: The class_weight='auto' heuristic is deprecated in 0.17 in favor of a new heuristic class_weight='balanced'. 'auto' will be removed in 0.19\n",
      "  \" 0.19\", DeprecationWarning)\n",
      "/Users/michaeltong/anaconda/lib/python2.7/site-packages/sklearn/utils/class_weight.py:65: DeprecationWarning: The class_weight='auto' heuristic is deprecated in 0.17 in favor of a new heuristic class_weight='balanced'. 'auto' will be removed in 0.19\n",
      "  \" 0.19\", DeprecationWarning)\n",
      "/Users/michaeltong/anaconda/lib/python2.7/site-packages/sklearn/utils/class_weight.py:65: DeprecationWarning: The class_weight='auto' heuristic is deprecated in 0.17 in favor of a new heuristic class_weight='balanced'. 'auto' will be removed in 0.19\n",
      "  \" 0.19\", DeprecationWarning)\n",
      "/Users/michaeltong/anaconda/lib/python2.7/site-packages/sklearn/utils/class_weight.py:65: DeprecationWarning: The class_weight='auto' heuristic is deprecated in 0.17 in favor of a new heuristic class_weight='balanced'. 'auto' will be removed in 0.19\n",
      "  \" 0.19\", DeprecationWarning)\n",
      "/Users/michaeltong/anaconda/lib/python2.7/site-packages/sklearn/utils/class_weight.py:65: DeprecationWarning: The class_weight='auto' heuristic is deprecated in 0.17 in favor of a new heuristic class_weight='balanced'. 'auto' will be removed in 0.19\n",
      "  \" 0.19\", DeprecationWarning)\n",
      "/Users/michaeltong/anaconda/lib/python2.7/site-packages/sklearn/utils/class_weight.py:65: DeprecationWarning: The class_weight='auto' heuristic is deprecated in 0.17 in favor of a new heuristic class_weight='balanced'. 'auto' will be removed in 0.19\n",
      "  \" 0.19\", DeprecationWarning)\n",
      "/Users/michaeltong/anaconda/lib/python2.7/site-packages/sklearn/utils/class_weight.py:65: DeprecationWarning: The class_weight='auto' heuristic is deprecated in 0.17 in favor of a new heuristic class_weight='balanced'. 'auto' will be removed in 0.19\n",
      "  \" 0.19\", DeprecationWarning)\n",
      "/Users/michaeltong/anaconda/lib/python2.7/site-packages/sklearn/utils/class_weight.py:65: DeprecationWarning: The class_weight='auto' heuristic is deprecated in 0.17 in favor of a new heuristic class_weight='balanced'. 'auto' will be removed in 0.19\n",
      "  \" 0.19\", DeprecationWarning)\n",
      "/Users/michaeltong/anaconda/lib/python2.7/site-packages/sklearn/utils/class_weight.py:65: DeprecationWarning: The class_weight='auto' heuristic is deprecated in 0.17 in favor of a new heuristic class_weight='balanced'. 'auto' will be removed in 0.19\n",
      "  \" 0.19\", DeprecationWarning)\n",
      "/Users/michaeltong/anaconda/lib/python2.7/site-packages/sklearn/utils/class_weight.py:65: DeprecationWarning: The class_weight='auto' heuristic is deprecated in 0.17 in favor of a new heuristic class_weight='balanced'. 'auto' will be removed in 0.19\n",
      "  \" 0.19\", DeprecationWarning)\n",
      "/Users/michaeltong/anaconda/lib/python2.7/site-packages/sklearn/utils/class_weight.py:65: DeprecationWarning: The class_weight='auto' heuristic is deprecated in 0.17 in favor of a new heuristic class_weight='balanced'. 'auto' will be removed in 0.19\n",
      "  \" 0.19\", DeprecationWarning)\n",
      "/Users/michaeltong/anaconda/lib/python2.7/site-packages/sklearn/utils/class_weight.py:65: DeprecationWarning: The class_weight='auto' heuristic is deprecated in 0.17 in favor of a new heuristic class_weight='balanced'. 'auto' will be removed in 0.19\n",
      "  \" 0.19\", DeprecationWarning)\n",
      "/Users/michaeltong/anaconda/lib/python2.7/site-packages/sklearn/utils/class_weight.py:65: DeprecationWarning: The class_weight='auto' heuristic is deprecated in 0.17 in favor of a new heuristic class_weight='balanced'. 'auto' will be removed in 0.19\n",
      "  \" 0.19\", DeprecationWarning)\n",
      "/Users/michaeltong/anaconda/lib/python2.7/site-packages/sklearn/utils/class_weight.py:65: DeprecationWarning: The class_weight='auto' heuristic is deprecated in 0.17 in favor of a new heuristic class_weight='balanced'. 'auto' will be removed in 0.19\n",
      "  \" 0.19\", DeprecationWarning)\n",
      "/Users/michaeltong/anaconda/lib/python2.7/site-packages/sklearn/utils/class_weight.py:65: DeprecationWarning: The class_weight='auto' heuristic is deprecated in 0.17 in favor of a new heuristic class_weight='balanced'. 'auto' will be removed in 0.19\n",
      "  \" 0.19\", DeprecationWarning)\n",
      "/Users/michaeltong/anaconda/lib/python2.7/site-packages/sklearn/utils/class_weight.py:65: DeprecationWarning: The class_weight='auto' heuristic is deprecated in 0.17 in favor of a new heuristic class_weight='balanced'. 'auto' will be removed in 0.19\n",
      "  \" 0.19\", DeprecationWarning)\n",
      "/Users/michaeltong/anaconda/lib/python2.7/site-packages/sklearn/utils/class_weight.py:65: DeprecationWarning: The class_weight='auto' heuristic is deprecated in 0.17 in favor of a new heuristic class_weight='balanced'. 'auto' will be removed in 0.19\n",
      "  \" 0.19\", DeprecationWarning)\n",
      "/Users/michaeltong/anaconda/lib/python2.7/site-packages/sklearn/utils/class_weight.py:65: DeprecationWarning: The class_weight='auto' heuristic is deprecated in 0.17 in favor of a new heuristic class_weight='balanced'. 'auto' will be removed in 0.19\n",
      "  \" 0.19\", DeprecationWarning)\n",
      "/Users/michaeltong/anaconda/lib/python2.7/site-packages/sklearn/utils/class_weight.py:65: DeprecationWarning: The class_weight='auto' heuristic is deprecated in 0.17 in favor of a new heuristic class_weight='balanced'. 'auto' will be removed in 0.19\n",
      "  \" 0.19\", DeprecationWarning)\n",
      "/Users/michaeltong/anaconda/lib/python2.7/site-packages/sklearn/utils/class_weight.py:65: DeprecationWarning: The class_weight='auto' heuristic is deprecated in 0.17 in favor of a new heuristic class_weight='balanced'. 'auto' will be removed in 0.19\n",
      "  \" 0.19\", DeprecationWarning)\n",
      "/Users/michaeltong/anaconda/lib/python2.7/site-packages/sklearn/utils/class_weight.py:65: DeprecationWarning: The class_weight='auto' heuristic is deprecated in 0.17 in favor of a new heuristic class_weight='balanced'. 'auto' will be removed in 0.19\n",
      "  \" 0.19\", DeprecationWarning)\n",
      "/Users/michaeltong/anaconda/lib/python2.7/site-packages/sklearn/utils/class_weight.py:65: DeprecationWarning: The class_weight='auto' heuristic is deprecated in 0.17 in favor of a new heuristic class_weight='balanced'. 'auto' will be removed in 0.19\n",
      "  \" 0.19\", DeprecationWarning)\n",
      "/Users/michaeltong/anaconda/lib/python2.7/site-packages/sklearn/utils/class_weight.py:65: DeprecationWarning: The class_weight='auto' heuristic is deprecated in 0.17 in favor of a new heuristic class_weight='balanced'. 'auto' will be removed in 0.19\n",
      "  \" 0.19\", DeprecationWarning)\n",
      "/Users/michaeltong/anaconda/lib/python2.7/site-packages/sklearn/utils/class_weight.py:65: DeprecationWarning: The class_weight='auto' heuristic is deprecated in 0.17 in favor of a new heuristic class_weight='balanced'. 'auto' will be removed in 0.19\n",
      "  \" 0.19\", DeprecationWarning)\n",
      "/Users/michaeltong/anaconda/lib/python2.7/site-packages/sklearn/utils/class_weight.py:65: DeprecationWarning: The class_weight='auto' heuristic is deprecated in 0.17 in favor of a new heuristic class_weight='balanced'. 'auto' will be removed in 0.19\n",
      "  \" 0.19\", DeprecationWarning)\n",
      "/Users/michaeltong/anaconda/lib/python2.7/site-packages/sklearn/utils/class_weight.py:65: DeprecationWarning: The class_weight='auto' heuristic is deprecated in 0.17 in favor of a new heuristic class_weight='balanced'. 'auto' will be removed in 0.19\n",
      "  \" 0.19\", DeprecationWarning)\n",
      "/Users/michaeltong/anaconda/lib/python2.7/site-packages/sklearn/utils/class_weight.py:65: DeprecationWarning: The class_weight='auto' heuristic is deprecated in 0.17 in favor of a new heuristic class_weight='balanced'. 'auto' will be removed in 0.19\n",
      "  \" 0.19\", DeprecationWarning)\n",
      "/Users/michaeltong/anaconda/lib/python2.7/site-packages/sklearn/utils/class_weight.py:65: DeprecationWarning: The class_weight='auto' heuristic is deprecated in 0.17 in favor of a new heuristic class_weight='balanced'. 'auto' will be removed in 0.19\n",
      "  \" 0.19\", DeprecationWarning)\n",
      "/Users/michaeltong/anaconda/lib/python2.7/site-packages/sklearn/utils/class_weight.py:65: DeprecationWarning: The class_weight='auto' heuristic is deprecated in 0.17 in favor of a new heuristic class_weight='balanced'. 'auto' will be removed in 0.19\n",
      "  \" 0.19\", DeprecationWarning)\n",
      "/Users/michaeltong/anaconda/lib/python2.7/site-packages/sklearn/utils/class_weight.py:65: DeprecationWarning: The class_weight='auto' heuristic is deprecated in 0.17 in favor of a new heuristic class_weight='balanced'. 'auto' will be removed in 0.19\n",
      "  \" 0.19\", DeprecationWarning)\n",
      "/Users/michaeltong/anaconda/lib/python2.7/site-packages/sklearn/utils/class_weight.py:65: DeprecationWarning: The class_weight='auto' heuristic is deprecated in 0.17 in favor of a new heuristic class_weight='balanced'. 'auto' will be removed in 0.19\n",
      "  \" 0.19\", DeprecationWarning)\n",
      "/Users/michaeltong/anaconda/lib/python2.7/site-packages/sklearn/utils/class_weight.py:65: DeprecationWarning: The class_weight='auto' heuristic is deprecated in 0.17 in favor of a new heuristic class_weight='balanced'. 'auto' will be removed in 0.19\n",
      "  \" 0.19\", DeprecationWarning)\n"
     ]
    },
    {
     "data": {
      "text/plain": [
       "[mean: 0.77816, std: 0.11073, params: {'C': 1, 'class_weight': None},\n",
       " mean: 0.60261, std: 0.16466, params: {'C': 1, 'class_weight': 'auto'},\n",
       " mean: 0.77325, std: 0.11066, params: {'C': 2, 'class_weight': None},\n",
       " mean: 0.60261, std: 0.16466, params: {'C': 2, 'class_weight': 'auto'},\n",
       " mean: 0.77087, std: 0.11452, params: {'C': 3, 'class_weight': None},\n",
       " mean: 0.60935, std: 0.16212, params: {'C': 3, 'class_weight': 'auto'},\n",
       " mean: 0.77087, std: 0.11452, params: {'C': 4, 'class_weight': None},\n",
       " mean: 0.60935, std: 0.16212, params: {'C': 4, 'class_weight': 'auto'},\n",
       " mean: 0.77087, std: 0.11452, params: {'C': 5, 'class_weight': None},\n",
       " mean: 0.61162, std: 0.16128, params: {'C': 5, 'class_weight': 'auto'},\n",
       " mean: 0.76849, std: 0.11845, params: {'C': 6, 'class_weight': None},\n",
       " mean: 0.61162, std: 0.16128, params: {'C': 6, 'class_weight': 'auto'},\n",
       " mean: 0.76849, std: 0.11845, params: {'C': 7, 'class_weight': None},\n",
       " mean: 0.61162, std: 0.16128, params: {'C': 7, 'class_weight': 'auto'},\n",
       " mean: 0.76849, std: 0.11845, params: {'C': 8, 'class_weight': None},\n",
       " mean: 0.61162, std: 0.16128, params: {'C': 8, 'class_weight': 'auto'},\n",
       " mean: 0.76849, std: 0.11845, params: {'C': 9, 'class_weight': None},\n",
       " mean: 0.61162, std: 0.16128, params: {'C': 9, 'class_weight': 'auto'}]"
      ]
     },
     "execution_count": 38,
     "metadata": {},
     "output_type": "execute_result"
    }
   ],
   "source": [
    "gs3 = grid_search.GridSearchCV(\n",
    "    estimator=LogisticRegression(),\n",
    "    param_grid={'C': [i for i in range(1, 10)], 'class_weight': [None, 'auto']},\n",
    "    cv=cross_validation.KFold(n=len(cleandata), n_folds=5),\n",
    "    scoring='recall'\n",
    ")\n",
    "\n",
    "gs3.fit(scaled_feature, cleandata.Beat_BM_3Yr)\n",
    "gs3.grid_scores_"
   ]
  },
  {
   "cell_type": "code",
   "execution_count": 42,
   "metadata": {
    "collapsed": false
   },
   "outputs": [
    {
     "name": "stderr",
     "output_type": "stream",
     "text": [
      "/Users/michaeltong/anaconda/lib/python2.7/site-packages/sklearn/utils/class_weight.py:65: DeprecationWarning: The class_weight='auto' heuristic is deprecated in 0.17 in favor of a new heuristic class_weight='balanced'. 'auto' will be removed in 0.19\n",
      "  \" 0.19\", DeprecationWarning)\n",
      "/Users/michaeltong/anaconda/lib/python2.7/site-packages/sklearn/utils/class_weight.py:65: DeprecationWarning: The class_weight='auto' heuristic is deprecated in 0.17 in favor of a new heuristic class_weight='balanced'. 'auto' will be removed in 0.19\n",
      "  \" 0.19\", DeprecationWarning)\n",
      "/Users/michaeltong/anaconda/lib/python2.7/site-packages/sklearn/utils/class_weight.py:65: DeprecationWarning: The class_weight='auto' heuristic is deprecated in 0.17 in favor of a new heuristic class_weight='balanced'. 'auto' will be removed in 0.19\n",
      "  \" 0.19\", DeprecationWarning)\n",
      "/Users/michaeltong/anaconda/lib/python2.7/site-packages/sklearn/utils/class_weight.py:65: DeprecationWarning: The class_weight='auto' heuristic is deprecated in 0.17 in favor of a new heuristic class_weight='balanced'. 'auto' will be removed in 0.19\n",
      "  \" 0.19\", DeprecationWarning)\n",
      "/Users/michaeltong/anaconda/lib/python2.7/site-packages/sklearn/utils/class_weight.py:65: DeprecationWarning: The class_weight='auto' heuristic is deprecated in 0.17 in favor of a new heuristic class_weight='balanced'. 'auto' will be removed in 0.19\n",
      "  \" 0.19\", DeprecationWarning)\n",
      "/Users/michaeltong/anaconda/lib/python2.7/site-packages/sklearn/utils/class_weight.py:65: DeprecationWarning: The class_weight='auto' heuristic is deprecated in 0.17 in favor of a new heuristic class_weight='balanced'. 'auto' will be removed in 0.19\n",
      "  \" 0.19\", DeprecationWarning)\n",
      "/Users/michaeltong/anaconda/lib/python2.7/site-packages/sklearn/utils/class_weight.py:65: DeprecationWarning: The class_weight='auto' heuristic is deprecated in 0.17 in favor of a new heuristic class_weight='balanced'. 'auto' will be removed in 0.19\n",
      "  \" 0.19\", DeprecationWarning)\n",
      "/Users/michaeltong/anaconda/lib/python2.7/site-packages/sklearn/utils/class_weight.py:65: DeprecationWarning: The class_weight='auto' heuristic is deprecated in 0.17 in favor of a new heuristic class_weight='balanced'. 'auto' will be removed in 0.19\n",
      "  \" 0.19\", DeprecationWarning)\n",
      "/Users/michaeltong/anaconda/lib/python2.7/site-packages/sklearn/utils/class_weight.py:65: DeprecationWarning: The class_weight='auto' heuristic is deprecated in 0.17 in favor of a new heuristic class_weight='balanced'. 'auto' will be removed in 0.19\n",
      "  \" 0.19\", DeprecationWarning)\n",
      "/Users/michaeltong/anaconda/lib/python2.7/site-packages/sklearn/utils/class_weight.py:65: DeprecationWarning: The class_weight='auto' heuristic is deprecated in 0.17 in favor of a new heuristic class_weight='balanced'. 'auto' will be removed in 0.19\n",
      "  \" 0.19\", DeprecationWarning)\n",
      "/Users/michaeltong/anaconda/lib/python2.7/site-packages/sklearn/utils/class_weight.py:65: DeprecationWarning: The class_weight='auto' heuristic is deprecated in 0.17 in favor of a new heuristic class_weight='balanced'. 'auto' will be removed in 0.19\n",
      "  \" 0.19\", DeprecationWarning)\n",
      "/Users/michaeltong/anaconda/lib/python2.7/site-packages/sklearn/utils/class_weight.py:65: DeprecationWarning: The class_weight='auto' heuristic is deprecated in 0.17 in favor of a new heuristic class_weight='balanced'. 'auto' will be removed in 0.19\n",
      "  \" 0.19\", DeprecationWarning)\n",
      "/Users/michaeltong/anaconda/lib/python2.7/site-packages/sklearn/utils/class_weight.py:65: DeprecationWarning: The class_weight='auto' heuristic is deprecated in 0.17 in favor of a new heuristic class_weight='balanced'. 'auto' will be removed in 0.19\n",
      "  \" 0.19\", DeprecationWarning)\n",
      "/Users/michaeltong/anaconda/lib/python2.7/site-packages/sklearn/utils/class_weight.py:65: DeprecationWarning: The class_weight='auto' heuristic is deprecated in 0.17 in favor of a new heuristic class_weight='balanced'. 'auto' will be removed in 0.19\n",
      "  \" 0.19\", DeprecationWarning)\n",
      "/Users/michaeltong/anaconda/lib/python2.7/site-packages/sklearn/utils/class_weight.py:65: DeprecationWarning: The class_weight='auto' heuristic is deprecated in 0.17 in favor of a new heuristic class_weight='balanced'. 'auto' will be removed in 0.19\n",
      "  \" 0.19\", DeprecationWarning)\n",
      "/Users/michaeltong/anaconda/lib/python2.7/site-packages/sklearn/utils/class_weight.py:65: DeprecationWarning: The class_weight='auto' heuristic is deprecated in 0.17 in favor of a new heuristic class_weight='balanced'. 'auto' will be removed in 0.19\n",
      "  \" 0.19\", DeprecationWarning)\n",
      "/Users/michaeltong/anaconda/lib/python2.7/site-packages/sklearn/utils/class_weight.py:65: DeprecationWarning: The class_weight='auto' heuristic is deprecated in 0.17 in favor of a new heuristic class_weight='balanced'. 'auto' will be removed in 0.19\n",
      "  \" 0.19\", DeprecationWarning)\n",
      "/Users/michaeltong/anaconda/lib/python2.7/site-packages/sklearn/utils/class_weight.py:65: DeprecationWarning: The class_weight='auto' heuristic is deprecated in 0.17 in favor of a new heuristic class_weight='balanced'. 'auto' will be removed in 0.19\n",
      "  \" 0.19\", DeprecationWarning)\n",
      "/Users/michaeltong/anaconda/lib/python2.7/site-packages/sklearn/utils/class_weight.py:65: DeprecationWarning: The class_weight='auto' heuristic is deprecated in 0.17 in favor of a new heuristic class_weight='balanced'. 'auto' will be removed in 0.19\n",
      "  \" 0.19\", DeprecationWarning)\n",
      "/Users/michaeltong/anaconda/lib/python2.7/site-packages/sklearn/utils/class_weight.py:65: DeprecationWarning: The class_weight='auto' heuristic is deprecated in 0.17 in favor of a new heuristic class_weight='balanced'. 'auto' will be removed in 0.19\n",
      "  \" 0.19\", DeprecationWarning)\n",
      "/Users/michaeltong/anaconda/lib/python2.7/site-packages/sklearn/utils/class_weight.py:65: DeprecationWarning: The class_weight='auto' heuristic is deprecated in 0.17 in favor of a new heuristic class_weight='balanced'. 'auto' will be removed in 0.19\n",
      "  \" 0.19\", DeprecationWarning)\n",
      "/Users/michaeltong/anaconda/lib/python2.7/site-packages/sklearn/utils/class_weight.py:65: DeprecationWarning: The class_weight='auto' heuristic is deprecated in 0.17 in favor of a new heuristic class_weight='balanced'. 'auto' will be removed in 0.19\n",
      "  \" 0.19\", DeprecationWarning)\n",
      "/Users/michaeltong/anaconda/lib/python2.7/site-packages/sklearn/utils/class_weight.py:65: DeprecationWarning: The class_weight='auto' heuristic is deprecated in 0.17 in favor of a new heuristic class_weight='balanced'. 'auto' will be removed in 0.19\n",
      "  \" 0.19\", DeprecationWarning)\n",
      "/Users/michaeltong/anaconda/lib/python2.7/site-packages/sklearn/utils/class_weight.py:65: DeprecationWarning: The class_weight='auto' heuristic is deprecated in 0.17 in favor of a new heuristic class_weight='balanced'. 'auto' will be removed in 0.19\n",
      "  \" 0.19\", DeprecationWarning)\n",
      "/Users/michaeltong/anaconda/lib/python2.7/site-packages/sklearn/utils/class_weight.py:65: DeprecationWarning: The class_weight='auto' heuristic is deprecated in 0.17 in favor of a new heuristic class_weight='balanced'. 'auto' will be removed in 0.19\n",
      "  \" 0.19\", DeprecationWarning)\n",
      "/Users/michaeltong/anaconda/lib/python2.7/site-packages/sklearn/utils/class_weight.py:65: DeprecationWarning: The class_weight='auto' heuristic is deprecated in 0.17 in favor of a new heuristic class_weight='balanced'. 'auto' will be removed in 0.19\n",
      "  \" 0.19\", DeprecationWarning)\n",
      "/Users/michaeltong/anaconda/lib/python2.7/site-packages/sklearn/utils/class_weight.py:65: DeprecationWarning: The class_weight='auto' heuristic is deprecated in 0.17 in favor of a new heuristic class_weight='balanced'. 'auto' will be removed in 0.19\n",
      "  \" 0.19\", DeprecationWarning)\n",
      "/Users/michaeltong/anaconda/lib/python2.7/site-packages/sklearn/utils/class_weight.py:65: DeprecationWarning: The class_weight='auto' heuristic is deprecated in 0.17 in favor of a new heuristic class_weight='balanced'. 'auto' will be removed in 0.19\n",
      "  \" 0.19\", DeprecationWarning)\n",
      "/Users/michaeltong/anaconda/lib/python2.7/site-packages/sklearn/utils/class_weight.py:65: DeprecationWarning: The class_weight='auto' heuristic is deprecated in 0.17 in favor of a new heuristic class_weight='balanced'. 'auto' will be removed in 0.19\n",
      "  \" 0.19\", DeprecationWarning)\n",
      "/Users/michaeltong/anaconda/lib/python2.7/site-packages/sklearn/utils/class_weight.py:65: DeprecationWarning: The class_weight='auto' heuristic is deprecated in 0.17 in favor of a new heuristic class_weight='balanced'. 'auto' will be removed in 0.19\n",
      "  \" 0.19\", DeprecationWarning)\n",
      "/Users/michaeltong/anaconda/lib/python2.7/site-packages/sklearn/utils/class_weight.py:65: DeprecationWarning: The class_weight='auto' heuristic is deprecated in 0.17 in favor of a new heuristic class_weight='balanced'. 'auto' will be removed in 0.19\n",
      "  \" 0.19\", DeprecationWarning)\n",
      "/Users/michaeltong/anaconda/lib/python2.7/site-packages/sklearn/utils/class_weight.py:65: DeprecationWarning: The class_weight='auto' heuristic is deprecated in 0.17 in favor of a new heuristic class_weight='balanced'. 'auto' will be removed in 0.19\n",
      "  \" 0.19\", DeprecationWarning)\n",
      "/Users/michaeltong/anaconda/lib/python2.7/site-packages/sklearn/utils/class_weight.py:65: DeprecationWarning: The class_weight='auto' heuristic is deprecated in 0.17 in favor of a new heuristic class_weight='balanced'. 'auto' will be removed in 0.19\n",
      "  \" 0.19\", DeprecationWarning)\n",
      "/Users/michaeltong/anaconda/lib/python2.7/site-packages/sklearn/utils/class_weight.py:65: DeprecationWarning: The class_weight='auto' heuristic is deprecated in 0.17 in favor of a new heuristic class_weight='balanced'. 'auto' will be removed in 0.19\n",
      "  \" 0.19\", DeprecationWarning)\n",
      "/Users/michaeltong/anaconda/lib/python2.7/site-packages/sklearn/utils/class_weight.py:65: DeprecationWarning: The class_weight='auto' heuristic is deprecated in 0.17 in favor of a new heuristic class_weight='balanced'. 'auto' will be removed in 0.19\n",
      "  \" 0.19\", DeprecationWarning)\n",
      "/Users/michaeltong/anaconda/lib/python2.7/site-packages/sklearn/utils/class_weight.py:65: DeprecationWarning: The class_weight='auto' heuristic is deprecated in 0.17 in favor of a new heuristic class_weight='balanced'. 'auto' will be removed in 0.19\n",
      "  \" 0.19\", DeprecationWarning)\n",
      "/Users/michaeltong/anaconda/lib/python2.7/site-packages/sklearn/utils/class_weight.py:65: DeprecationWarning: The class_weight='auto' heuristic is deprecated in 0.17 in favor of a new heuristic class_weight='balanced'. 'auto' will be removed in 0.19\n",
      "  \" 0.19\", DeprecationWarning)\n",
      "/Users/michaeltong/anaconda/lib/python2.7/site-packages/sklearn/utils/class_weight.py:65: DeprecationWarning: The class_weight='auto' heuristic is deprecated in 0.17 in favor of a new heuristic class_weight='balanced'. 'auto' will be removed in 0.19\n",
      "  \" 0.19\", DeprecationWarning)\n",
      "/Users/michaeltong/anaconda/lib/python2.7/site-packages/sklearn/utils/class_weight.py:65: DeprecationWarning: The class_weight='auto' heuristic is deprecated in 0.17 in favor of a new heuristic class_weight='balanced'. 'auto' will be removed in 0.19\n",
      "  \" 0.19\", DeprecationWarning)\n",
      "/Users/michaeltong/anaconda/lib/python2.7/site-packages/sklearn/utils/class_weight.py:65: DeprecationWarning: The class_weight='auto' heuristic is deprecated in 0.17 in favor of a new heuristic class_weight='balanced'. 'auto' will be removed in 0.19\n",
      "  \" 0.19\", DeprecationWarning)\n",
      "/Users/michaeltong/anaconda/lib/python2.7/site-packages/sklearn/utils/class_weight.py:65: DeprecationWarning: The class_weight='auto' heuristic is deprecated in 0.17 in favor of a new heuristic class_weight='balanced'. 'auto' will be removed in 0.19\n",
      "  \" 0.19\", DeprecationWarning)\n",
      "/Users/michaeltong/anaconda/lib/python2.7/site-packages/sklearn/utils/class_weight.py:65: DeprecationWarning: The class_weight='auto' heuristic is deprecated in 0.17 in favor of a new heuristic class_weight='balanced'. 'auto' will be removed in 0.19\n",
      "  \" 0.19\", DeprecationWarning)\n",
      "/Users/michaeltong/anaconda/lib/python2.7/site-packages/sklearn/utils/class_weight.py:65: DeprecationWarning: The class_weight='auto' heuristic is deprecated in 0.17 in favor of a new heuristic class_weight='balanced'. 'auto' will be removed in 0.19\n",
      "  \" 0.19\", DeprecationWarning)\n",
      "/Users/michaeltong/anaconda/lib/python2.7/site-packages/sklearn/utils/class_weight.py:65: DeprecationWarning: The class_weight='auto' heuristic is deprecated in 0.17 in favor of a new heuristic class_weight='balanced'. 'auto' will be removed in 0.19\n",
      "  \" 0.19\", DeprecationWarning)\n",
      "/Users/michaeltong/anaconda/lib/python2.7/site-packages/sklearn/utils/class_weight.py:65: DeprecationWarning: The class_weight='auto' heuristic is deprecated in 0.17 in favor of a new heuristic class_weight='balanced'. 'auto' will be removed in 0.19\n",
      "  \" 0.19\", DeprecationWarning)\n"
     ]
    },
    {
     "data": {
      "text/plain": [
       "[mean: 0.77816, std: 0.11073, params: {'C': 1, 'class_weight': None},\n",
       " mean: 0.60261, std: 0.16466, params: {'C': 1, 'class_weight': 'auto'},\n",
       " mean: 0.77325, std: 0.11066, params: {'C': 2, 'class_weight': None},\n",
       " mean: 0.60261, std: 0.16466, params: {'C': 2, 'class_weight': 'auto'},\n",
       " mean: 0.77087, std: 0.11452, params: {'C': 3, 'class_weight': None},\n",
       " mean: 0.60935, std: 0.16212, params: {'C': 3, 'class_weight': 'auto'},\n",
       " mean: 0.77087, std: 0.11452, params: {'C': 4, 'class_weight': None},\n",
       " mean: 0.60935, std: 0.16212, params: {'C': 4, 'class_weight': 'auto'},\n",
       " mean: 0.77087, std: 0.11452, params: {'C': 5, 'class_weight': None},\n",
       " mean: 0.61162, std: 0.16128, params: {'C': 5, 'class_weight': 'auto'},\n",
       " mean: 0.76849, std: 0.11845, params: {'C': 6, 'class_weight': None},\n",
       " mean: 0.61162, std: 0.16128, params: {'C': 6, 'class_weight': 'auto'},\n",
       " mean: 0.76849, std: 0.11845, params: {'C': 7, 'class_weight': None},\n",
       " mean: 0.61162, std: 0.16128, params: {'C': 7, 'class_weight': 'auto'},\n",
       " mean: 0.76849, std: 0.11845, params: {'C': 8, 'class_weight': None},\n",
       " mean: 0.61162, std: 0.16128, params: {'C': 8, 'class_weight': 'auto'},\n",
       " mean: 0.76849, std: 0.11845, params: {'C': 9, 'class_weight': None},\n",
       " mean: 0.61162, std: 0.16128, params: {'C': 9, 'class_weight': 'auto'}]"
      ]
     },
     "execution_count": 42,
     "metadata": {},
     "output_type": "execute_result"
    }
   ],
   "source": [
    "gs5 = grid_search.GridSearchCV(\n",
    "    estimator=LogisticRegression(),\n",
    "    param_grid={'C': [i for i in range(1, 10)], 'class_weight': [None, 'auto']},\n",
    "    cv=cross_validation.KFold(n=len(cleandata), n_folds=5),\n",
    "    scoring='recall'\n",
    ")\n",
    "\n",
    "gs5.fit(scaled_feature, cleandata.Beat_BM_3Yr)\n",
    "gs5.grid_scores_"
   ]
  },
  {
   "cell_type": "code",
   "execution_count": 41,
   "metadata": {
    "collapsed": false
   },
   "outputs": [
    {
     "name": "stderr",
     "output_type": "stream",
     "text": [
      "/Users/michaeltong/anaconda/lib/python2.7/site-packages/sklearn/utils/class_weight.py:65: DeprecationWarning: The class_weight='auto' heuristic is deprecated in 0.17 in favor of a new heuristic class_weight='balanced'. 'auto' will be removed in 0.19\n",
      "  \" 0.19\", DeprecationWarning)\n",
      "/Users/michaeltong/anaconda/lib/python2.7/site-packages/sklearn/utils/class_weight.py:65: DeprecationWarning: The class_weight='auto' heuristic is deprecated in 0.17 in favor of a new heuristic class_weight='balanced'. 'auto' will be removed in 0.19\n",
      "  \" 0.19\", DeprecationWarning)\n",
      "/Users/michaeltong/anaconda/lib/python2.7/site-packages/sklearn/utils/class_weight.py:65: DeprecationWarning: The class_weight='auto' heuristic is deprecated in 0.17 in favor of a new heuristic class_weight='balanced'. 'auto' will be removed in 0.19\n",
      "  \" 0.19\", DeprecationWarning)\n",
      "/Users/michaeltong/anaconda/lib/python2.7/site-packages/sklearn/utils/class_weight.py:65: DeprecationWarning: The class_weight='auto' heuristic is deprecated in 0.17 in favor of a new heuristic class_weight='balanced'. 'auto' will be removed in 0.19\n",
      "  \" 0.19\", DeprecationWarning)\n",
      "/Users/michaeltong/anaconda/lib/python2.7/site-packages/sklearn/utils/class_weight.py:65: DeprecationWarning: The class_weight='auto' heuristic is deprecated in 0.17 in favor of a new heuristic class_weight='balanced'. 'auto' will be removed in 0.19\n",
      "  \" 0.19\", DeprecationWarning)\n",
      "/Users/michaeltong/anaconda/lib/python2.7/site-packages/sklearn/utils/class_weight.py:65: DeprecationWarning: The class_weight='auto' heuristic is deprecated in 0.17 in favor of a new heuristic class_weight='balanced'. 'auto' will be removed in 0.19\n",
      "  \" 0.19\", DeprecationWarning)\n",
      "/Users/michaeltong/anaconda/lib/python2.7/site-packages/sklearn/utils/class_weight.py:65: DeprecationWarning: The class_weight='auto' heuristic is deprecated in 0.17 in favor of a new heuristic class_weight='balanced'. 'auto' will be removed in 0.19\n",
      "  \" 0.19\", DeprecationWarning)\n",
      "/Users/michaeltong/anaconda/lib/python2.7/site-packages/sklearn/utils/class_weight.py:65: DeprecationWarning: The class_weight='auto' heuristic is deprecated in 0.17 in favor of a new heuristic class_weight='balanced'. 'auto' will be removed in 0.19\n",
      "  \" 0.19\", DeprecationWarning)\n",
      "/Users/michaeltong/anaconda/lib/python2.7/site-packages/sklearn/utils/class_weight.py:65: DeprecationWarning: The class_weight='auto' heuristic is deprecated in 0.17 in favor of a new heuristic class_weight='balanced'. 'auto' will be removed in 0.19\n",
      "  \" 0.19\", DeprecationWarning)\n",
      "/Users/michaeltong/anaconda/lib/python2.7/site-packages/sklearn/utils/class_weight.py:65: DeprecationWarning: The class_weight='auto' heuristic is deprecated in 0.17 in favor of a new heuristic class_weight='balanced'. 'auto' will be removed in 0.19\n",
      "  \" 0.19\", DeprecationWarning)\n",
      "/Users/michaeltong/anaconda/lib/python2.7/site-packages/sklearn/utils/class_weight.py:65: DeprecationWarning: The class_weight='auto' heuristic is deprecated in 0.17 in favor of a new heuristic class_weight='balanced'. 'auto' will be removed in 0.19\n",
      "  \" 0.19\", DeprecationWarning)\n",
      "/Users/michaeltong/anaconda/lib/python2.7/site-packages/sklearn/utils/class_weight.py:65: DeprecationWarning: The class_weight='auto' heuristic is deprecated in 0.17 in favor of a new heuristic class_weight='balanced'. 'auto' will be removed in 0.19\n",
      "  \" 0.19\", DeprecationWarning)\n",
      "/Users/michaeltong/anaconda/lib/python2.7/site-packages/sklearn/utils/class_weight.py:65: DeprecationWarning: The class_weight='auto' heuristic is deprecated in 0.17 in favor of a new heuristic class_weight='balanced'. 'auto' will be removed in 0.19\n",
      "  \" 0.19\", DeprecationWarning)\n",
      "/Users/michaeltong/anaconda/lib/python2.7/site-packages/sklearn/utils/class_weight.py:65: DeprecationWarning: The class_weight='auto' heuristic is deprecated in 0.17 in favor of a new heuristic class_weight='balanced'. 'auto' will be removed in 0.19\n",
      "  \" 0.19\", DeprecationWarning)\n",
      "/Users/michaeltong/anaconda/lib/python2.7/site-packages/sklearn/utils/class_weight.py:65: DeprecationWarning: The class_weight='auto' heuristic is deprecated in 0.17 in favor of a new heuristic class_weight='balanced'. 'auto' will be removed in 0.19\n",
      "  \" 0.19\", DeprecationWarning)\n",
      "/Users/michaeltong/anaconda/lib/python2.7/site-packages/sklearn/utils/class_weight.py:65: DeprecationWarning: The class_weight='auto' heuristic is deprecated in 0.17 in favor of a new heuristic class_weight='balanced'. 'auto' will be removed in 0.19\n",
      "  \" 0.19\", DeprecationWarning)\n",
      "/Users/michaeltong/anaconda/lib/python2.7/site-packages/sklearn/utils/class_weight.py:65: DeprecationWarning: The class_weight='auto' heuristic is deprecated in 0.17 in favor of a new heuristic class_weight='balanced'. 'auto' will be removed in 0.19\n",
      "  \" 0.19\", DeprecationWarning)\n",
      "/Users/michaeltong/anaconda/lib/python2.7/site-packages/sklearn/utils/class_weight.py:65: DeprecationWarning: The class_weight='auto' heuristic is deprecated in 0.17 in favor of a new heuristic class_weight='balanced'. 'auto' will be removed in 0.19\n",
      "  \" 0.19\", DeprecationWarning)\n",
      "/Users/michaeltong/anaconda/lib/python2.7/site-packages/sklearn/utils/class_weight.py:65: DeprecationWarning: The class_weight='auto' heuristic is deprecated in 0.17 in favor of a new heuristic class_weight='balanced'. 'auto' will be removed in 0.19\n",
      "  \" 0.19\", DeprecationWarning)\n",
      "/Users/michaeltong/anaconda/lib/python2.7/site-packages/sklearn/utils/class_weight.py:65: DeprecationWarning: The class_weight='auto' heuristic is deprecated in 0.17 in favor of a new heuristic class_weight='balanced'. 'auto' will be removed in 0.19\n",
      "  \" 0.19\", DeprecationWarning)\n",
      "/Users/michaeltong/anaconda/lib/python2.7/site-packages/sklearn/utils/class_weight.py:65: DeprecationWarning: The class_weight='auto' heuristic is deprecated in 0.17 in favor of a new heuristic class_weight='balanced'. 'auto' will be removed in 0.19\n",
      "  \" 0.19\", DeprecationWarning)\n",
      "/Users/michaeltong/anaconda/lib/python2.7/site-packages/sklearn/utils/class_weight.py:65: DeprecationWarning: The class_weight='auto' heuristic is deprecated in 0.17 in favor of a new heuristic class_weight='balanced'. 'auto' will be removed in 0.19\n",
      "  \" 0.19\", DeprecationWarning)\n",
      "/Users/michaeltong/anaconda/lib/python2.7/site-packages/sklearn/utils/class_weight.py:65: DeprecationWarning: The class_weight='auto' heuristic is deprecated in 0.17 in favor of a new heuristic class_weight='balanced'. 'auto' will be removed in 0.19\n",
      "  \" 0.19\", DeprecationWarning)\n",
      "/Users/michaeltong/anaconda/lib/python2.7/site-packages/sklearn/utils/class_weight.py:65: DeprecationWarning: The class_weight='auto' heuristic is deprecated in 0.17 in favor of a new heuristic class_weight='balanced'. 'auto' will be removed in 0.19\n",
      "  \" 0.19\", DeprecationWarning)\n",
      "/Users/michaeltong/anaconda/lib/python2.7/site-packages/sklearn/utils/class_weight.py:65: DeprecationWarning: The class_weight='auto' heuristic is deprecated in 0.17 in favor of a new heuristic class_weight='balanced'. 'auto' will be removed in 0.19\n",
      "  \" 0.19\", DeprecationWarning)\n",
      "/Users/michaeltong/anaconda/lib/python2.7/site-packages/sklearn/utils/class_weight.py:65: DeprecationWarning: The class_weight='auto' heuristic is deprecated in 0.17 in favor of a new heuristic class_weight='balanced'. 'auto' will be removed in 0.19\n",
      "  \" 0.19\", DeprecationWarning)\n",
      "/Users/michaeltong/anaconda/lib/python2.7/site-packages/sklearn/utils/class_weight.py:65: DeprecationWarning: The class_weight='auto' heuristic is deprecated in 0.17 in favor of a new heuristic class_weight='balanced'. 'auto' will be removed in 0.19\n",
      "  \" 0.19\", DeprecationWarning)\n",
      "/Users/michaeltong/anaconda/lib/python2.7/site-packages/sklearn/utils/class_weight.py:65: DeprecationWarning: The class_weight='auto' heuristic is deprecated in 0.17 in favor of a new heuristic class_weight='balanced'. 'auto' will be removed in 0.19\n",
      "  \" 0.19\", DeprecationWarning)\n",
      "/Users/michaeltong/anaconda/lib/python2.7/site-packages/sklearn/utils/class_weight.py:65: DeprecationWarning: The class_weight='auto' heuristic is deprecated in 0.17 in favor of a new heuristic class_weight='balanced'. 'auto' will be removed in 0.19\n",
      "  \" 0.19\", DeprecationWarning)\n",
      "/Users/michaeltong/anaconda/lib/python2.7/site-packages/sklearn/utils/class_weight.py:65: DeprecationWarning: The class_weight='auto' heuristic is deprecated in 0.17 in favor of a new heuristic class_weight='balanced'. 'auto' will be removed in 0.19\n",
      "  \" 0.19\", DeprecationWarning)\n",
      "/Users/michaeltong/anaconda/lib/python2.7/site-packages/sklearn/utils/class_weight.py:65: DeprecationWarning: The class_weight='auto' heuristic is deprecated in 0.17 in favor of a new heuristic class_weight='balanced'. 'auto' will be removed in 0.19\n",
      "  \" 0.19\", DeprecationWarning)\n",
      "/Users/michaeltong/anaconda/lib/python2.7/site-packages/sklearn/utils/class_weight.py:65: DeprecationWarning: The class_weight='auto' heuristic is deprecated in 0.17 in favor of a new heuristic class_weight='balanced'. 'auto' will be removed in 0.19\n",
      "  \" 0.19\", DeprecationWarning)\n",
      "/Users/michaeltong/anaconda/lib/python2.7/site-packages/sklearn/utils/class_weight.py:65: DeprecationWarning: The class_weight='auto' heuristic is deprecated in 0.17 in favor of a new heuristic class_weight='balanced'. 'auto' will be removed in 0.19\n",
      "  \" 0.19\", DeprecationWarning)\n",
      "/Users/michaeltong/anaconda/lib/python2.7/site-packages/sklearn/utils/class_weight.py:65: DeprecationWarning: The class_weight='auto' heuristic is deprecated in 0.17 in favor of a new heuristic class_weight='balanced'. 'auto' will be removed in 0.19\n",
      "  \" 0.19\", DeprecationWarning)\n",
      "/Users/michaeltong/anaconda/lib/python2.7/site-packages/sklearn/utils/class_weight.py:65: DeprecationWarning: The class_weight='auto' heuristic is deprecated in 0.17 in favor of a new heuristic class_weight='balanced'. 'auto' will be removed in 0.19\n",
      "  \" 0.19\", DeprecationWarning)\n",
      "/Users/michaeltong/anaconda/lib/python2.7/site-packages/sklearn/utils/class_weight.py:65: DeprecationWarning: The class_weight='auto' heuristic is deprecated in 0.17 in favor of a new heuristic class_weight='balanced'. 'auto' will be removed in 0.19\n",
      "  \" 0.19\", DeprecationWarning)\n",
      "/Users/michaeltong/anaconda/lib/python2.7/site-packages/sklearn/utils/class_weight.py:65: DeprecationWarning: The class_weight='auto' heuristic is deprecated in 0.17 in favor of a new heuristic class_weight='balanced'. 'auto' will be removed in 0.19\n",
      "  \" 0.19\", DeprecationWarning)\n",
      "/Users/michaeltong/anaconda/lib/python2.7/site-packages/sklearn/utils/class_weight.py:65: DeprecationWarning: The class_weight='auto' heuristic is deprecated in 0.17 in favor of a new heuristic class_weight='balanced'. 'auto' will be removed in 0.19\n",
      "  \" 0.19\", DeprecationWarning)\n",
      "/Users/michaeltong/anaconda/lib/python2.7/site-packages/sklearn/utils/class_weight.py:65: DeprecationWarning: The class_weight='auto' heuristic is deprecated in 0.17 in favor of a new heuristic class_weight='balanced'. 'auto' will be removed in 0.19\n",
      "  \" 0.19\", DeprecationWarning)\n",
      "/Users/michaeltong/anaconda/lib/python2.7/site-packages/sklearn/utils/class_weight.py:65: DeprecationWarning: The class_weight='auto' heuristic is deprecated in 0.17 in favor of a new heuristic class_weight='balanced'. 'auto' will be removed in 0.19\n",
      "  \" 0.19\", DeprecationWarning)\n",
      "/Users/michaeltong/anaconda/lib/python2.7/site-packages/sklearn/utils/class_weight.py:65: DeprecationWarning: The class_weight='auto' heuristic is deprecated in 0.17 in favor of a new heuristic class_weight='balanced'. 'auto' will be removed in 0.19\n",
      "  \" 0.19\", DeprecationWarning)\n",
      "/Users/michaeltong/anaconda/lib/python2.7/site-packages/sklearn/utils/class_weight.py:65: DeprecationWarning: The class_weight='auto' heuristic is deprecated in 0.17 in favor of a new heuristic class_weight='balanced'. 'auto' will be removed in 0.19\n",
      "  \" 0.19\", DeprecationWarning)\n",
      "/Users/michaeltong/anaconda/lib/python2.7/site-packages/sklearn/utils/class_weight.py:65: DeprecationWarning: The class_weight='auto' heuristic is deprecated in 0.17 in favor of a new heuristic class_weight='balanced'. 'auto' will be removed in 0.19\n",
      "  \" 0.19\", DeprecationWarning)\n",
      "/Users/michaeltong/anaconda/lib/python2.7/site-packages/sklearn/utils/class_weight.py:65: DeprecationWarning: The class_weight='auto' heuristic is deprecated in 0.17 in favor of a new heuristic class_weight='balanced'. 'auto' will be removed in 0.19\n",
      "  \" 0.19\", DeprecationWarning)\n",
      "/Users/michaeltong/anaconda/lib/python2.7/site-packages/sklearn/utils/class_weight.py:65: DeprecationWarning: The class_weight='auto' heuristic is deprecated in 0.17 in favor of a new heuristic class_weight='balanced'. 'auto' will be removed in 0.19\n",
      "  \" 0.19\", DeprecationWarning)\n"
     ]
    },
    {
     "data": {
      "text/plain": [
       "[mean: 0.75146, std: 0.14475, params: {'C': 1, 'class_weight': None},\n",
       " mean: 0.69211, std: 0.17557, params: {'C': 1, 'class_weight': 'auto'},\n",
       " mean: 0.75406, std: 0.14323, params: {'C': 2, 'class_weight': None},\n",
       " mean: 0.69049, std: 0.17406, params: {'C': 2, 'class_weight': 'auto'},\n",
       " mean: 0.75406, std: 0.14323, params: {'C': 3, 'class_weight': None},\n",
       " mean: 0.69049, std: 0.17406, params: {'C': 3, 'class_weight': 'auto'},\n",
       " mean: 0.75165, std: 0.14504, params: {'C': 4, 'class_weight': None},\n",
       " mean: 0.69049, std: 0.17406, params: {'C': 4, 'class_weight': 'auto'},\n",
       " mean: 0.75425, std: 0.14376, params: {'C': 5, 'class_weight': None},\n",
       " mean: 0.69049, std: 0.17406, params: {'C': 5, 'class_weight': 'auto'},\n",
       " mean: 0.75425, std: 0.14376, params: {'C': 6, 'class_weight': None},\n",
       " mean: 0.69049, std: 0.17406, params: {'C': 6, 'class_weight': 'auto'},\n",
       " mean: 0.75425, std: 0.14376, params: {'C': 7, 'class_weight': None},\n",
       " mean: 0.69049, std: 0.17406, params: {'C': 7, 'class_weight': 'auto'},\n",
       " mean: 0.75425, std: 0.14376, params: {'C': 8, 'class_weight': None},\n",
       " mean: 0.69049, std: 0.17406, params: {'C': 8, 'class_weight': 'auto'},\n",
       " mean: 0.75425, std: 0.14376, params: {'C': 9, 'class_weight': None},\n",
       " mean: 0.69049, std: 0.17406, params: {'C': 9, 'class_weight': 'auto'}]"
      ]
     },
     "execution_count": 41,
     "metadata": {},
     "output_type": "execute_result"
    }
   ],
   "source": [
    "gs7 = grid_search.GridSearchCV(\n",
    "    estimator=LogisticRegression(),\n",
    "    param_grid={'C': [i for i in range(1, 10)], 'class_weight': [None, 'auto']},\n",
    "    cv=cross_validation.KFold(n=len(cleandata), n_folds=5),\n",
    "    scoring='recall'\n",
    ")\n",
    "\n",
    "gs7.fit(scaled_feature, cleandata.Beat_BM_7Yr)\n",
    "gs7.grid_scores_"
   ]
  },
  {
   "cell_type": "code",
   "execution_count": 43,
   "metadata": {
    "collapsed": false
   },
   "outputs": [
    {
     "name": "stdout",
     "output_type": "stream",
     "text": [
      "('Best 1Yr Estimator:', LogisticRegression(C=1, class_weight='auto', dual=False, fit_intercept=True,\n",
      "          intercept_scaling=1, max_iter=100, multi_class='ovr', n_jobs=1,\n",
      "          penalty='l2', random_state=None, solver='liblinear', tol=0.0001,\n",
      "          verbose=0, warm_start=False))\n",
      "('Best 3Yr Estimator:', LogisticRegression(C=1, class_weight=None, dual=False, fit_intercept=True,\n",
      "          intercept_scaling=1, max_iter=100, multi_class='ovr', n_jobs=1,\n",
      "          penalty='l2', random_state=None, solver='liblinear', tol=0.0001,\n",
      "          verbose=0, warm_start=False))\n",
      "('Best 5Yr Estimator:', LogisticRegression(C=1, class_weight=None, dual=False, fit_intercept=True,\n",
      "          intercept_scaling=1, max_iter=100, multi_class='ovr', n_jobs=1,\n",
      "          penalty='l2', random_state=None, solver='liblinear', tol=0.0001,\n",
      "          verbose=0, warm_start=False))\n",
      "('Best 7Yr Estimator:', LogisticRegression(C=5, class_weight=None, dual=False, fit_intercept=True,\n",
      "          intercept_scaling=1, max_iter=100, multi_class='ovr', n_jobs=1,\n",
      "          penalty='l2', random_state=None, solver='liblinear', tol=0.0001,\n",
      "          verbose=0, warm_start=False))\n"
     ]
    }
   ],
   "source": [
    "print('Best 1Yr Estimator:', gs.best_estimator_)\n",
    "print('Best 3Yr Estimator:',gs3.best_estimator_)\n",
    "print('Best 5Yr Estimator:',gs5.best_estimator_)\n",
    "print('Best 7Yr Estimator:',gs7.best_estimator_)"
   ]
  },
  {
   "cell_type": "code",
   "execution_count": 44,
   "metadata": {
    "collapsed": false
   },
   "outputs": [
    {
     "data": {
      "text/plain": [
       "[('Broker_Score_wtg', -0.24024397763613231),\n",
       " ('P_E', -0.11200906364667401),\n",
       " ('P_B', -0.2716642241175854),\n",
       " ('P_S', 0.73213915865713675),\n",
       " ('P_C', -0.70609985693915978),\n",
       " ('Debt_to_Capital', 0.14960802539004381),\n",
       " ('Net_Margin', 0.21554333975847911),\n",
       " ('ROA', -0.76919581522034086),\n",
       " ('ROE', 0.34661394776542503)]"
      ]
     },
     "execution_count": 44,
     "metadata": {},
     "output_type": "execute_result"
    }
   ],
   "source": [
    "zip(['Broker_Score_wtg','P_E','P_B','P_S','P_C','Debt_to_Capital','Net_Margin','ROA','ROE'],gs.best_estimator_.coef_[0])"
   ]
  },
  {
   "cell_type": "code",
   "execution_count": 45,
   "metadata": {
    "collapsed": false
   },
   "outputs": [
    {
     "data": {
      "text/plain": [
       "[('Broker_Score_wtg', -0.12587086002346654),\n",
       " ('P_E', 0.23130917931970432),\n",
       " ('P_B', 0.19980603027318763),\n",
       " ('P_S', 0.19889450019409213),\n",
       " ('P_C', -0.2649562168226734),\n",
       " ('Debt_to_Capital', 0.20638493508288416),\n",
       " ('Net_Margin', -0.055475134058548696),\n",
       " ('ROA', -0.68202618764560263),\n",
       " ('ROE', 0.6593025621735078)]"
      ]
     },
     "execution_count": 45,
     "metadata": {},
     "output_type": "execute_result"
    }
   ],
   "source": [
    "zip(['Broker_Score_wtg','P_E','P_B','P_S','P_C','Debt_to_Capital','Net_Margin','ROA','ROE'],gs3.best_estimator_.coef_[0])"
   ]
  },
  {
   "cell_type": "code",
   "execution_count": 46,
   "metadata": {
    "collapsed": false
   },
   "outputs": [
    {
     "data": {
      "text/plain": [
       "[('Broker_Score_wtg', -0.12587086002346654),\n",
       " ('P_E', 0.23130917931970432),\n",
       " ('P_B', 0.19980603027318763),\n",
       " ('P_S', 0.19889450019409213),\n",
       " ('P_C', -0.2649562168226734),\n",
       " ('Debt_to_Capital', 0.20638493508288416),\n",
       " ('Net_Margin', -0.055475134058548696),\n",
       " ('ROA', -0.68202618764560263),\n",
       " ('ROE', 0.6593025621735078)]"
      ]
     },
     "execution_count": 46,
     "metadata": {},
     "output_type": "execute_result"
    }
   ],
   "source": [
    "zip(['Broker_Score_wtg','P_E','P_B','P_S','P_C','Debt_to_Capital','Net_Margin','ROA','ROE'],gs5.best_estimator_.coef_[0])"
   ]
  },
  {
   "cell_type": "code",
   "execution_count": 47,
   "metadata": {
    "collapsed": false
   },
   "outputs": [
    {
     "data": {
      "text/plain": [
       "[('Broker_Score_wtg', -0.38521493113739669),\n",
       " ('P_E', 0.33775214948912435),\n",
       " ('P_B', 0.014006630632611742),\n",
       " ('P_S', 0.092939206576267419),\n",
       " ('P_C', 0.25814536700430651),\n",
       " ('Debt_to_Capital', -0.015350742807318506),\n",
       " ('Net_Margin', -0.12683036572145445),\n",
       " ('ROA', -0.53651223521840841),\n",
       " ('ROE', 0.5731767559257831)]"
      ]
     },
     "execution_count": 47,
     "metadata": {},
     "output_type": "execute_result"
    }
   ],
   "source": [
    "zip(['Broker_Score_wtg','P_E','P_B','P_S','P_C','Debt_to_Capital','Net_Margin','ROA','ROE'],gs7.best_estimator_.coef_[0])"
   ]
  },
  {
   "cell_type": "code",
   "execution_count": 75,
   "metadata": {
    "collapsed": false
   },
   "outputs": [
    {
     "data": {
      "text/plain": [
       "array([0, 1])"
      ]
     },
     "execution_count": 75,
     "metadata": {},
     "output_type": "execute_result"
    }
   ],
   "source": [
    "gs5.best_estimator_.classes_"
   ]
  },
  {
   "cell_type": "markdown",
   "metadata": {
    "collapsed": true
   },
   "source": [
    "# Random Forest"
   ]
  },
  {
   "cell_type": "code",
   "execution_count": 154,
   "metadata": {
    "collapsed": true
   },
   "outputs": [],
   "source": [
    "rfdata = cleandata[['Broker_Score_wtg','P_E','P_B','P_S','P_C','Debt_to_Capital','Net_Margin','ROA',\\\n",
    "                   'ROE','Beat_BM_1Yr','Beat_BM_3Yr','Beat_BM_5Yr','Beat_BM_7Yr']]"
   ]
  },
  {
   "cell_type": "code",
   "execution_count": 155,
   "metadata": {
    "collapsed": false
   },
   "outputs": [
    {
     "data": {
      "text/plain": [
       "(795, 13)"
      ]
     },
     "execution_count": 155,
     "metadata": {},
     "output_type": "execute_result"
    }
   ],
   "source": [
    "rfdata.shape"
   ]
  },
  {
   "cell_type": "code",
   "execution_count": 156,
   "metadata": {
    "collapsed": false
   },
   "outputs": [
    {
     "data": {
      "text/plain": [
       "Broker_Score_wtg      int64\n",
       "P_E                 float64\n",
       "P_B                 float64\n",
       "P_S                 float64\n",
       "P_C                 float64\n",
       "Debt_to_Capital     float64\n",
       "Net_Margin          float64\n",
       "ROA                 float64\n",
       "ROE                 float64\n",
       "Beat_BM_1Yr           int64\n",
       "Beat_BM_3Yr           int64\n",
       "Beat_BM_5Yr           int64\n",
       "Beat_BM_7Yr           int64\n",
       "dtype: object"
      ]
     },
     "execution_count": 156,
     "metadata": {},
     "output_type": "execute_result"
    }
   ],
   "source": [
    "rfdata.dtypes"
   ]
  },
  {
   "cell_type": "code",
   "execution_count": 144,
   "metadata": {
    "collapsed": false
   },
   "outputs": [
    {
     "name": "stderr",
     "output_type": "stream",
     "text": [
      "/Users/michaeltong/anaconda/lib/python2.7/site-packages/ipykernel/__main__.py:1: SettingWithCopyWarning: \n",
      "A value is trying to be set on a copy of a slice from a DataFrame.\n",
      "Try using .loc[row_indexer,col_indexer] = value instead\n",
      "\n",
      "See the caveats in the documentation: http://pandas.pydata.org/pandas-docs/stable/indexing.html#indexing-view-versus-copy\n",
      "  if __name__ == '__main__':\n",
      "/Users/michaeltong/anaconda/lib/python2.7/site-packages/ipykernel/__main__.py:2: SettingWithCopyWarning: \n",
      "A value is trying to be set on a copy of a slice from a DataFrame.\n",
      "Try using .loc[row_indexer,col_indexer] = value instead\n",
      "\n",
      "See the caveats in the documentation: http://pandas.pydata.org/pandas-docs/stable/indexing.html#indexing-view-versus-copy\n",
      "  from ipykernel import kernelapp as app\n",
      "/Users/michaeltong/anaconda/lib/python2.7/site-packages/ipykernel/__main__.py:3: SettingWithCopyWarning: \n",
      "A value is trying to be set on a copy of a slice from a DataFrame.\n",
      "Try using .loc[row_indexer,col_indexer] = value instead\n",
      "\n",
      "See the caveats in the documentation: http://pandas.pydata.org/pandas-docs/stable/indexing.html#indexing-view-versus-copy\n",
      "  app.launch_new_instance()\n",
      "/Users/michaeltong/anaconda/lib/python2.7/site-packages/ipykernel/__main__.py:4: SettingWithCopyWarning: \n",
      "A value is trying to be set on a copy of a slice from a DataFrame.\n",
      "Try using .loc[row_indexer,col_indexer] = value instead\n",
      "\n",
      "See the caveats in the documentation: http://pandas.pydata.org/pandas-docs/stable/indexing.html#indexing-view-versus-copy\n"
     ]
    }
   ],
   "source": [
    "#rfdata['Beat_BM_1Yr_Bool'] = rfdata['Beat_BM_1Yr'].astype('bool')\n",
    "#rfdata['Beat_BM_3Yr_Bool'] = rfdata['Beat_BM_3Yr'].astype('bool')\n",
    "#rfdata['Beat_BM_5Yr_Bool'] = rfdata['Beat_BM_5Yr'].astype('bool')\n",
    "#rfdata['Beat_BM_7Yr_Bool'] = rfdata['Beat_BM_7Yr'].astype('bool')"
   ]
  },
  {
   "cell_type": "code",
   "execution_count": 157,
   "metadata": {
    "collapsed": false
   },
   "outputs": [
    {
     "data": {
      "text/html": [
       "<div>\n",
       "<table border=\"1\" class=\"dataframe\">\n",
       "  <thead>\n",
       "    <tr style=\"text-align: right;\">\n",
       "      <th></th>\n",
       "      <th>Broker_Score_wtg</th>\n",
       "      <th>P_E</th>\n",
       "      <th>P_B</th>\n",
       "      <th>P_S</th>\n",
       "      <th>P_C</th>\n",
       "      <th>Debt_to_Capital</th>\n",
       "      <th>Net_Margin</th>\n",
       "      <th>ROA</th>\n",
       "      <th>ROE</th>\n",
       "      <th>Beat_BM_1Yr</th>\n",
       "      <th>Beat_BM_3Yr</th>\n",
       "      <th>Beat_BM_5Yr</th>\n",
       "      <th>Beat_BM_7Yr</th>\n",
       "    </tr>\n",
       "  </thead>\n",
       "  <tbody>\n",
       "    <tr>\n",
       "      <th>1</th>\n",
       "      <td>1621</td>\n",
       "      <td>17.040000</td>\n",
       "      <td>2.830000</td>\n",
       "      <td>1.300000</td>\n",
       "      <td>10.950000</td>\n",
       "      <td>25.580000</td>\n",
       "      <td>11.700000</td>\n",
       "      <td>9.770000</td>\n",
       "      <td>19.220000</td>\n",
       "      <td>0</td>\n",
       "      <td>1</td>\n",
       "      <td>1</td>\n",
       "      <td>1</td>\n",
       "    </tr>\n",
       "    <tr>\n",
       "      <th>2</th>\n",
       "      <td>1575</td>\n",
       "      <td>19.530000</td>\n",
       "      <td>2.570000</td>\n",
       "      <td>1.760000</td>\n",
       "      <td>12.340000</td>\n",
       "      <td>32.810000</td>\n",
       "      <td>11.850000</td>\n",
       "      <td>9.440000</td>\n",
       "      <td>17.560000</td>\n",
       "      <td>0</td>\n",
       "      <td>1</td>\n",
       "      <td>0</td>\n",
       "      <td>1</td>\n",
       "    </tr>\n",
       "    <tr>\n",
       "      <th>3</th>\n",
       "      <td>1553</td>\n",
       "      <td>17.160000</td>\n",
       "      <td>2.890000</td>\n",
       "      <td>1.700000</td>\n",
       "      <td>11.880000</td>\n",
       "      <td>26.750000</td>\n",
       "      <td>14.470000</td>\n",
       "      <td>11.450000</td>\n",
       "      <td>21.900000</td>\n",
       "      <td>1</td>\n",
       "      <td>1</td>\n",
       "      <td>1</td>\n",
       "      <td>1</td>\n",
       "    </tr>\n",
       "    <tr>\n",
       "      <th>4</th>\n",
       "      <td>1774</td>\n",
       "      <td>19.278561</td>\n",
       "      <td>3.009002</td>\n",
       "      <td>1.806960</td>\n",
       "      <td>12.214384</td>\n",
       "      <td>27.544370</td>\n",
       "      <td>12.343135</td>\n",
       "      <td>9.128812</td>\n",
       "      <td>17.711211</td>\n",
       "      <td>1</td>\n",
       "      <td>1</td>\n",
       "      <td>1</td>\n",
       "      <td>1</td>\n",
       "    </tr>\n",
       "    <tr>\n",
       "      <th>5</th>\n",
       "      <td>1236</td>\n",
       "      <td>21.360000</td>\n",
       "      <td>3.370000</td>\n",
       "      <td>1.910000</td>\n",
       "      <td>13.210000</td>\n",
       "      <td>21.060000</td>\n",
       "      <td>13.910000</td>\n",
       "      <td>9.200000</td>\n",
       "      <td>17.090000</td>\n",
       "      <td>0</td>\n",
       "      <td>0</td>\n",
       "      <td>1</td>\n",
       "      <td>0</td>\n",
       "    </tr>\n",
       "    <tr>\n",
       "      <th>6</th>\n",
       "      <td>611</td>\n",
       "      <td>29.760000</td>\n",
       "      <td>4.350000</td>\n",
       "      <td>1.810000</td>\n",
       "      <td>17.900000</td>\n",
       "      <td>24.100000</td>\n",
       "      <td>9.820000</td>\n",
       "      <td>3.530000</td>\n",
       "      <td>11.360000</td>\n",
       "      <td>0</td>\n",
       "      <td>1</td>\n",
       "      <td>1</td>\n",
       "      <td>1</td>\n",
       "    </tr>\n",
       "    <tr>\n",
       "      <th>8</th>\n",
       "      <td>1382</td>\n",
       "      <td>17.410000</td>\n",
       "      <td>2.790000</td>\n",
       "      <td>1.300000</td>\n",
       "      <td>10.530000</td>\n",
       "      <td>27.790000</td>\n",
       "      <td>11.320000</td>\n",
       "      <td>8.400000</td>\n",
       "      <td>18.260000</td>\n",
       "      <td>1</td>\n",
       "      <td>1</td>\n",
       "      <td>1</td>\n",
       "      <td>0</td>\n",
       "    </tr>\n",
       "    <tr>\n",
       "      <th>9</th>\n",
       "      <td>1459</td>\n",
       "      <td>23.960000</td>\n",
       "      <td>3.930000</td>\n",
       "      <td>2.570000</td>\n",
       "      <td>17.160000</td>\n",
       "      <td>27.250000</td>\n",
       "      <td>15.420000</td>\n",
       "      <td>7.660000</td>\n",
       "      <td>17.210000</td>\n",
       "      <td>0</td>\n",
       "      <td>1</td>\n",
       "      <td>1</td>\n",
       "      <td>1</td>\n",
       "    </tr>\n",
       "    <tr>\n",
       "      <th>10</th>\n",
       "      <td>746</td>\n",
       "      <td>25.160000</td>\n",
       "      <td>3.740000</td>\n",
       "      <td>1.690000</td>\n",
       "      <td>14.460000</td>\n",
       "      <td>20.600000</td>\n",
       "      <td>12.640000</td>\n",
       "      <td>10.290000</td>\n",
       "      <td>17.880000</td>\n",
       "      <td>1</td>\n",
       "      <td>1</td>\n",
       "      <td>1</td>\n",
       "      <td>1</td>\n",
       "    </tr>\n",
       "    <tr>\n",
       "      <th>11</th>\n",
       "      <td>748</td>\n",
       "      <td>16.200000</td>\n",
       "      <td>2.430000</td>\n",
       "      <td>1.280000</td>\n",
       "      <td>8.670000</td>\n",
       "      <td>30.020000</td>\n",
       "      <td>11.010000</td>\n",
       "      <td>8.060000</td>\n",
       "      <td>18.510000</td>\n",
       "      <td>1</td>\n",
       "      <td>1</td>\n",
       "      <td>1</td>\n",
       "      <td>1</td>\n",
       "    </tr>\n",
       "    <tr>\n",
       "      <th>12</th>\n",
       "      <td>1249</td>\n",
       "      <td>21.740000</td>\n",
       "      <td>3.250000</td>\n",
       "      <td>1.530000</td>\n",
       "      <td>13.780000</td>\n",
       "      <td>22.790000</td>\n",
       "      <td>12.960000</td>\n",
       "      <td>10.060000</td>\n",
       "      <td>17.270000</td>\n",
       "      <td>0</td>\n",
       "      <td>0</td>\n",
       "      <td>1</td>\n",
       "      <td>1</td>\n",
       "    </tr>\n",
       "    <tr>\n",
       "      <th>13</th>\n",
       "      <td>855</td>\n",
       "      <td>14.870000</td>\n",
       "      <td>2.360000</td>\n",
       "      <td>1.160000</td>\n",
       "      <td>8.270000</td>\n",
       "      <td>31.860000</td>\n",
       "      <td>13.810000</td>\n",
       "      <td>7.390000</td>\n",
       "      <td>17.960000</td>\n",
       "      <td>1</td>\n",
       "      <td>1</td>\n",
       "      <td>1</td>\n",
       "      <td>1</td>\n",
       "    </tr>\n",
       "    <tr>\n",
       "      <th>15</th>\n",
       "      <td>2137</td>\n",
       "      <td>19.278561</td>\n",
       "      <td>3.009002</td>\n",
       "      <td>1.806960</td>\n",
       "      <td>12.214384</td>\n",
       "      <td>27.544370</td>\n",
       "      <td>12.343135</td>\n",
       "      <td>9.128812</td>\n",
       "      <td>17.711211</td>\n",
       "      <td>0</td>\n",
       "      <td>0</td>\n",
       "      <td>0</td>\n",
       "      <td>0</td>\n",
       "    </tr>\n",
       "    <tr>\n",
       "      <th>16</th>\n",
       "      <td>1368</td>\n",
       "      <td>16.280000</td>\n",
       "      <td>2.390000</td>\n",
       "      <td>1.090000</td>\n",
       "      <td>9.730000</td>\n",
       "      <td>33.850000</td>\n",
       "      <td>11.160000</td>\n",
       "      <td>8.180000</td>\n",
       "      <td>16.330000</td>\n",
       "      <td>1</td>\n",
       "      <td>1</td>\n",
       "      <td>1</td>\n",
       "      <td>1</td>\n",
       "    </tr>\n",
       "    <tr>\n",
       "      <th>17</th>\n",
       "      <td>1148</td>\n",
       "      <td>17.870000</td>\n",
       "      <td>2.910000</td>\n",
       "      <td>1.350000</td>\n",
       "      <td>10.750000</td>\n",
       "      <td>24.970000</td>\n",
       "      <td>11.530000</td>\n",
       "      <td>8.180000</td>\n",
       "      <td>18.970000</td>\n",
       "      <td>1</td>\n",
       "      <td>1</td>\n",
       "      <td>1</td>\n",
       "      <td>1</td>\n",
       "    </tr>\n",
       "    <tr>\n",
       "      <th>18</th>\n",
       "      <td>895</td>\n",
       "      <td>20.560000</td>\n",
       "      <td>3.190000</td>\n",
       "      <td>1.860000</td>\n",
       "      <td>13.520000</td>\n",
       "      <td>15.540000</td>\n",
       "      <td>15.050000</td>\n",
       "      <td>9.230000</td>\n",
       "      <td>16.340000</td>\n",
       "      <td>1</td>\n",
       "      <td>0</td>\n",
       "      <td>1</td>\n",
       "      <td>1</td>\n",
       "    </tr>\n",
       "    <tr>\n",
       "      <th>19</th>\n",
       "      <td>1570</td>\n",
       "      <td>15.130000</td>\n",
       "      <td>2.530000</td>\n",
       "      <td>1.310000</td>\n",
       "      <td>9.660000</td>\n",
       "      <td>38.150000</td>\n",
       "      <td>12.930000</td>\n",
       "      <td>8.780000</td>\n",
       "      <td>19.840000</td>\n",
       "      <td>0</td>\n",
       "      <td>1</td>\n",
       "      <td>1</td>\n",
       "      <td>1</td>\n",
       "    </tr>\n",
       "    <tr>\n",
       "      <th>20</th>\n",
       "      <td>1617</td>\n",
       "      <td>16.110000</td>\n",
       "      <td>2.510000</td>\n",
       "      <td>1.370000</td>\n",
       "      <td>9.940000</td>\n",
       "      <td>33.570000</td>\n",
       "      <td>11.230000</td>\n",
       "      <td>9.030000</td>\n",
       "      <td>18.450000</td>\n",
       "      <td>1</td>\n",
       "      <td>1</td>\n",
       "      <td>1</td>\n",
       "      <td>1</td>\n",
       "    </tr>\n",
       "    <tr>\n",
       "      <th>21</th>\n",
       "      <td>307</td>\n",
       "      <td>19.278561</td>\n",
       "      <td>3.009002</td>\n",
       "      <td>1.806960</td>\n",
       "      <td>12.214384</td>\n",
       "      <td>27.544370</td>\n",
       "      <td>12.343135</td>\n",
       "      <td>9.128812</td>\n",
       "      <td>17.711211</td>\n",
       "      <td>0</td>\n",
       "      <td>1</td>\n",
       "      <td>1</td>\n",
       "      <td>1</td>\n",
       "    </tr>\n",
       "    <tr>\n",
       "      <th>22</th>\n",
       "      <td>167</td>\n",
       "      <td>19.278561</td>\n",
       "      <td>3.009002</td>\n",
       "      <td>1.806960</td>\n",
       "      <td>12.214384</td>\n",
       "      <td>27.544370</td>\n",
       "      <td>12.343135</td>\n",
       "      <td>9.128812</td>\n",
       "      <td>17.711211</td>\n",
       "      <td>1</td>\n",
       "      <td>0</td>\n",
       "      <td>0</td>\n",
       "      <td>1</td>\n",
       "    </tr>\n",
       "    <tr>\n",
       "      <th>23</th>\n",
       "      <td>254</td>\n",
       "      <td>17.110000</td>\n",
       "      <td>2.650000</td>\n",
       "      <td>1.220000</td>\n",
       "      <td>10.540000</td>\n",
       "      <td>30.130000</td>\n",
       "      <td>13.040000</td>\n",
       "      <td>10.130000</td>\n",
       "      <td>18.980000</td>\n",
       "      <td>0</td>\n",
       "      <td>1</td>\n",
       "      <td>1</td>\n",
       "      <td>0</td>\n",
       "    </tr>\n",
       "    <tr>\n",
       "      <th>24</th>\n",
       "      <td>6</td>\n",
       "      <td>19.278561</td>\n",
       "      <td>3.009002</td>\n",
       "      <td>1.806960</td>\n",
       "      <td>12.214384</td>\n",
       "      <td>27.544370</td>\n",
       "      <td>12.343135</td>\n",
       "      <td>9.128812</td>\n",
       "      <td>17.711211</td>\n",
       "      <td>0</td>\n",
       "      <td>0</td>\n",
       "      <td>0</td>\n",
       "      <td>0</td>\n",
       "    </tr>\n",
       "    <tr>\n",
       "      <th>25</th>\n",
       "      <td>1630</td>\n",
       "      <td>18.220000</td>\n",
       "      <td>3.280000</td>\n",
       "      <td>1.830000</td>\n",
       "      <td>12.830000</td>\n",
       "      <td>28.660000</td>\n",
       "      <td>15.010000</td>\n",
       "      <td>12.280000</td>\n",
       "      <td>22.680000</td>\n",
       "      <td>0</td>\n",
       "      <td>1</td>\n",
       "      <td>1</td>\n",
       "      <td>1</td>\n",
       "    </tr>\n",
       "    <tr>\n",
       "      <th>26</th>\n",
       "      <td>486</td>\n",
       "      <td>20.620000</td>\n",
       "      <td>2.820000</td>\n",
       "      <td>1.280000</td>\n",
       "      <td>13.100000</td>\n",
       "      <td>20.780000</td>\n",
       "      <td>11.880000</td>\n",
       "      <td>9.000000</td>\n",
       "      <td>17.380000</td>\n",
       "      <td>1</td>\n",
       "      <td>0</td>\n",
       "      <td>1</td>\n",
       "      <td>1</td>\n",
       "    </tr>\n",
       "    <tr>\n",
       "      <th>27</th>\n",
       "      <td>52</td>\n",
       "      <td>19.750000</td>\n",
       "      <td>3.170000</td>\n",
       "      <td>1.300000</td>\n",
       "      <td>13.100000</td>\n",
       "      <td>17.160000</td>\n",
       "      <td>9.040000</td>\n",
       "      <td>8.830000</td>\n",
       "      <td>16.850000</td>\n",
       "      <td>0</td>\n",
       "      <td>0</td>\n",
       "      <td>1</td>\n",
       "      <td>1</td>\n",
       "    </tr>\n",
       "    <tr>\n",
       "      <th>28</th>\n",
       "      <td>1093</td>\n",
       "      <td>19.278561</td>\n",
       "      <td>3.009002</td>\n",
       "      <td>1.806960</td>\n",
       "      <td>12.214384</td>\n",
       "      <td>27.544370</td>\n",
       "      <td>12.343135</td>\n",
       "      <td>9.128812</td>\n",
       "      <td>17.711211</td>\n",
       "      <td>1</td>\n",
       "      <td>0</td>\n",
       "      <td>0</td>\n",
       "      <td>0</td>\n",
       "    </tr>\n",
       "    <tr>\n",
       "      <th>29</th>\n",
       "      <td>753</td>\n",
       "      <td>19.278561</td>\n",
       "      <td>3.009002</td>\n",
       "      <td>1.806960</td>\n",
       "      <td>12.214384</td>\n",
       "      <td>27.544370</td>\n",
       "      <td>12.343135</td>\n",
       "      <td>9.128812</td>\n",
       "      <td>17.711211</td>\n",
       "      <td>1</td>\n",
       "      <td>1</td>\n",
       "      <td>1</td>\n",
       "      <td>1</td>\n",
       "    </tr>\n",
       "    <tr>\n",
       "      <th>30</th>\n",
       "      <td>1029</td>\n",
       "      <td>17.100000</td>\n",
       "      <td>2.320000</td>\n",
       "      <td>1.110000</td>\n",
       "      <td>12.040000</td>\n",
       "      <td>32.170000</td>\n",
       "      <td>10.280000</td>\n",
       "      <td>9.010000</td>\n",
       "      <td>16.460000</td>\n",
       "      <td>0</td>\n",
       "      <td>1</td>\n",
       "      <td>1</td>\n",
       "      <td>1</td>\n",
       "    </tr>\n",
       "    <tr>\n",
       "      <th>31</th>\n",
       "      <td>967</td>\n",
       "      <td>17.740000</td>\n",
       "      <td>3.040000</td>\n",
       "      <td>1.310000</td>\n",
       "      <td>11.810000</td>\n",
       "      <td>28.730000</td>\n",
       "      <td>11.490000</td>\n",
       "      <td>9.860000</td>\n",
       "      <td>20.410000</td>\n",
       "      <td>1</td>\n",
       "      <td>1</td>\n",
       "      <td>1</td>\n",
       "      <td>1</td>\n",
       "    </tr>\n",
       "    <tr>\n",
       "      <th>32</th>\n",
       "      <td>696</td>\n",
       "      <td>18.730000</td>\n",
       "      <td>3.980000</td>\n",
       "      <td>1.690000</td>\n",
       "      <td>14.130000</td>\n",
       "      <td>23.900000</td>\n",
       "      <td>13.470000</td>\n",
       "      <td>13.200000</td>\n",
       "      <td>25.560000</td>\n",
       "      <td>0</td>\n",
       "      <td>1</td>\n",
       "      <td>1</td>\n",
       "      <td>1</td>\n",
       "    </tr>\n",
       "    <tr>\n",
       "      <th>...</th>\n",
       "      <td>...</td>\n",
       "      <td>...</td>\n",
       "      <td>...</td>\n",
       "      <td>...</td>\n",
       "      <td>...</td>\n",
       "      <td>...</td>\n",
       "      <td>...</td>\n",
       "      <td>...</td>\n",
       "      <td>...</td>\n",
       "      <td>...</td>\n",
       "      <td>...</td>\n",
       "      <td>...</td>\n",
       "      <td>...</td>\n",
       "    </tr>\n",
       "    <tr>\n",
       "      <th>987</th>\n",
       "      <td>568</td>\n",
       "      <td>12.550000</td>\n",
       "      <td>2.820000</td>\n",
       "      <td>1.330000</td>\n",
       "      <td>7.720000</td>\n",
       "      <td>10.320000</td>\n",
       "      <td>16.060000</td>\n",
       "      <td>11.360000</td>\n",
       "      <td>24.500000</td>\n",
       "      <td>0</td>\n",
       "      <td>0</td>\n",
       "      <td>0</td>\n",
       "      <td>0</td>\n",
       "    </tr>\n",
       "    <tr>\n",
       "      <th>988</th>\n",
       "      <td>435</td>\n",
       "      <td>14.261875</td>\n",
       "      <td>2.811250</td>\n",
       "      <td>1.311875</td>\n",
       "      <td>9.054063</td>\n",
       "      <td>5.440312</td>\n",
       "      <td>14.396875</td>\n",
       "      <td>10.052813</td>\n",
       "      <td>22.699687</td>\n",
       "      <td>0</td>\n",
       "      <td>1</td>\n",
       "      <td>1</td>\n",
       "      <td>1</td>\n",
       "    </tr>\n",
       "    <tr>\n",
       "      <th>994</th>\n",
       "      <td>655</td>\n",
       "      <td>11.320000</td>\n",
       "      <td>1.870000</td>\n",
       "      <td>0.910000</td>\n",
       "      <td>6.230000</td>\n",
       "      <td>6.450000</td>\n",
       "      <td>12.560000</td>\n",
       "      <td>7.880000</td>\n",
       "      <td>17.670000</td>\n",
       "      <td>0</td>\n",
       "      <td>0</td>\n",
       "      <td>0</td>\n",
       "      <td>0</td>\n",
       "    </tr>\n",
       "    <tr>\n",
       "      <th>995</th>\n",
       "      <td>351</td>\n",
       "      <td>18.960000</td>\n",
       "      <td>3.680000</td>\n",
       "      <td>1.910000</td>\n",
       "      <td>13.560000</td>\n",
       "      <td>4.520000</td>\n",
       "      <td>11.600000</td>\n",
       "      <td>9.190000</td>\n",
       "      <td>23.690000</td>\n",
       "      <td>1</td>\n",
       "      <td>1</td>\n",
       "      <td>1</td>\n",
       "      <td>1</td>\n",
       "    </tr>\n",
       "    <tr>\n",
       "      <th>996</th>\n",
       "      <td>196</td>\n",
       "      <td>14.261875</td>\n",
       "      <td>2.811250</td>\n",
       "      <td>1.311875</td>\n",
       "      <td>9.054063</td>\n",
       "      <td>5.440312</td>\n",
       "      <td>14.396875</td>\n",
       "      <td>10.052813</td>\n",
       "      <td>22.699687</td>\n",
       "      <td>1</td>\n",
       "      <td>0</td>\n",
       "      <td>0</td>\n",
       "      <td>0</td>\n",
       "    </tr>\n",
       "    <tr>\n",
       "      <th>997</th>\n",
       "      <td>621</td>\n",
       "      <td>14.261875</td>\n",
       "      <td>2.811250</td>\n",
       "      <td>1.311875</td>\n",
       "      <td>9.054063</td>\n",
       "      <td>5.440312</td>\n",
       "      <td>14.396875</td>\n",
       "      <td>10.052813</td>\n",
       "      <td>22.699687</td>\n",
       "      <td>1</td>\n",
       "      <td>0</td>\n",
       "      <td>0</td>\n",
       "      <td>0</td>\n",
       "    </tr>\n",
       "    <tr>\n",
       "      <th>998</th>\n",
       "      <td>624</td>\n",
       "      <td>14.261875</td>\n",
       "      <td>2.811250</td>\n",
       "      <td>1.311875</td>\n",
       "      <td>9.054063</td>\n",
       "      <td>5.440312</td>\n",
       "      <td>14.396875</td>\n",
       "      <td>10.052813</td>\n",
       "      <td>22.699687</td>\n",
       "      <td>1</td>\n",
       "      <td>0</td>\n",
       "      <td>0</td>\n",
       "      <td>0</td>\n",
       "    </tr>\n",
       "    <tr>\n",
       "      <th>999</th>\n",
       "      <td>622</td>\n",
       "      <td>13.460000</td>\n",
       "      <td>3.250000</td>\n",
       "      <td>1.550000</td>\n",
       "      <td>9.020000</td>\n",
       "      <td>5.360000</td>\n",
       "      <td>13.770000</td>\n",
       "      <td>10.340000</td>\n",
       "      <td>24.600000</td>\n",
       "      <td>0</td>\n",
       "      <td>0</td>\n",
       "      <td>0</td>\n",
       "      <td>0</td>\n",
       "    </tr>\n",
       "    <tr>\n",
       "      <th>1001</th>\n",
       "      <td>527</td>\n",
       "      <td>14.261875</td>\n",
       "      <td>2.811250</td>\n",
       "      <td>1.311875</td>\n",
       "      <td>9.054063</td>\n",
       "      <td>5.440312</td>\n",
       "      <td>14.396875</td>\n",
       "      <td>10.052813</td>\n",
       "      <td>22.699687</td>\n",
       "      <td>0</td>\n",
       "      <td>0</td>\n",
       "      <td>0</td>\n",
       "      <td>0</td>\n",
       "    </tr>\n",
       "    <tr>\n",
       "      <th>1003</th>\n",
       "      <td>117</td>\n",
       "      <td>28.690000</td>\n",
       "      <td>3.140000</td>\n",
       "      <td>1.100000</td>\n",
       "      <td>17.490000</td>\n",
       "      <td>1.330000</td>\n",
       "      <td>7.350000</td>\n",
       "      <td>5.650000</td>\n",
       "      <td>12.950000</td>\n",
       "      <td>0</td>\n",
       "      <td>0</td>\n",
       "      <td>0</td>\n",
       "      <td>0</td>\n",
       "    </tr>\n",
       "    <tr>\n",
       "      <th>1004</th>\n",
       "      <td>502</td>\n",
       "      <td>15.330000</td>\n",
       "      <td>3.630000</td>\n",
       "      <td>1.410000</td>\n",
       "      <td>10.260000</td>\n",
       "      <td>6.700000</td>\n",
       "      <td>13.820000</td>\n",
       "      <td>11.390000</td>\n",
       "      <td>27.140000</td>\n",
       "      <td>1</td>\n",
       "      <td>1</td>\n",
       "      <td>1</td>\n",
       "      <td>1</td>\n",
       "    </tr>\n",
       "    <tr>\n",
       "      <th>1005</th>\n",
       "      <td>579</td>\n",
       "      <td>13.100000</td>\n",
       "      <td>2.510000</td>\n",
       "      <td>1.400000</td>\n",
       "      <td>8.680000</td>\n",
       "      <td>1.300000</td>\n",
       "      <td>18.730000</td>\n",
       "      <td>10.860000</td>\n",
       "      <td>21.130000</td>\n",
       "      <td>1</td>\n",
       "      <td>1</td>\n",
       "      <td>0</td>\n",
       "      <td>0</td>\n",
       "    </tr>\n",
       "    <tr>\n",
       "      <th>1006</th>\n",
       "      <td>583</td>\n",
       "      <td>15.540000</td>\n",
       "      <td>3.820000</td>\n",
       "      <td>1.650000</td>\n",
       "      <td>10.580000</td>\n",
       "      <td>7.650000</td>\n",
       "      <td>16.540000</td>\n",
       "      <td>12.640000</td>\n",
       "      <td>27.370000</td>\n",
       "      <td>1</td>\n",
       "      <td>1</td>\n",
       "      <td>1</td>\n",
       "      <td>1</td>\n",
       "    </tr>\n",
       "    <tr>\n",
       "      <th>1007</th>\n",
       "      <td>516</td>\n",
       "      <td>11.540000</td>\n",
       "      <td>2.840000</td>\n",
       "      <td>1.270000</td>\n",
       "      <td>6.790000</td>\n",
       "      <td>9.260000</td>\n",
       "      <td>15.350000</td>\n",
       "      <td>11.150000</td>\n",
       "      <td>27.630000</td>\n",
       "      <td>0</td>\n",
       "      <td>1</td>\n",
       "      <td>1</td>\n",
       "      <td>1</td>\n",
       "    </tr>\n",
       "    <tr>\n",
       "      <th>1008</th>\n",
       "      <td>513</td>\n",
       "      <td>15.990000</td>\n",
       "      <td>3.170000</td>\n",
       "      <td>1.380000</td>\n",
       "      <td>10.890000</td>\n",
       "      <td>8.240000</td>\n",
       "      <td>12.320000</td>\n",
       "      <td>9.650000</td>\n",
       "      <td>22.720000</td>\n",
       "      <td>1</td>\n",
       "      <td>0</td>\n",
       "      <td>0</td>\n",
       "      <td>0</td>\n",
       "    </tr>\n",
       "    <tr>\n",
       "      <th>1009</th>\n",
       "      <td>395</td>\n",
       "      <td>12.940000</td>\n",
       "      <td>2.630000</td>\n",
       "      <td>1.090000</td>\n",
       "      <td>9.900000</td>\n",
       "      <td>4.880000</td>\n",
       "      <td>15.580000</td>\n",
       "      <td>10.370000</td>\n",
       "      <td>22.820000</td>\n",
       "      <td>0</td>\n",
       "      <td>1</td>\n",
       "      <td>1</td>\n",
       "      <td>1</td>\n",
       "    </tr>\n",
       "    <tr>\n",
       "      <th>1010</th>\n",
       "      <td>608</td>\n",
       "      <td>13.050000</td>\n",
       "      <td>2.450000</td>\n",
       "      <td>1.140000</td>\n",
       "      <td>7.500000</td>\n",
       "      <td>5.860000</td>\n",
       "      <td>15.240000</td>\n",
       "      <td>9.130000</td>\n",
       "      <td>21.900000</td>\n",
       "      <td>0</td>\n",
       "      <td>0</td>\n",
       "      <td>0</td>\n",
       "      <td>0</td>\n",
       "    </tr>\n",
       "    <tr>\n",
       "      <th>1011</th>\n",
       "      <td>550</td>\n",
       "      <td>14.090000</td>\n",
       "      <td>2.320000</td>\n",
       "      <td>1.320000</td>\n",
       "      <td>8.160000</td>\n",
       "      <td>3.040000</td>\n",
       "      <td>15.210000</td>\n",
       "      <td>8.910000</td>\n",
       "      <td>19.880000</td>\n",
       "      <td>1</td>\n",
       "      <td>1</td>\n",
       "      <td>1</td>\n",
       "      <td>1</td>\n",
       "    </tr>\n",
       "    <tr>\n",
       "      <th>1012</th>\n",
       "      <td>797</td>\n",
       "      <td>11.630000</td>\n",
       "      <td>2.610000</td>\n",
       "      <td>1.150000</td>\n",
       "      <td>8.290000</td>\n",
       "      <td>3.660000</td>\n",
       "      <td>13.810000</td>\n",
       "      <td>10.800000</td>\n",
       "      <td>24.580000</td>\n",
       "      <td>0</td>\n",
       "      <td>0</td>\n",
       "      <td>0</td>\n",
       "      <td>0</td>\n",
       "    </tr>\n",
       "    <tr>\n",
       "      <th>1013</th>\n",
       "      <td>612</td>\n",
       "      <td>16.180000</td>\n",
       "      <td>2.500000</td>\n",
       "      <td>1.060000</td>\n",
       "      <td>9.460000</td>\n",
       "      <td>5.360000</td>\n",
       "      <td>11.560000</td>\n",
       "      <td>8.440000</td>\n",
       "      <td>19.500000</td>\n",
       "      <td>1</td>\n",
       "      <td>0</td>\n",
       "      <td>0</td>\n",
       "      <td>0</td>\n",
       "    </tr>\n",
       "    <tr>\n",
       "      <th>1014</th>\n",
       "      <td>741</td>\n",
       "      <td>12.770000</td>\n",
       "      <td>2.820000</td>\n",
       "      <td>1.150000</td>\n",
       "      <td>7.570000</td>\n",
       "      <td>3.990000</td>\n",
       "      <td>14.260000</td>\n",
       "      <td>10.780000</td>\n",
       "      <td>24.550000</td>\n",
       "      <td>1</td>\n",
       "      <td>1</td>\n",
       "      <td>0</td>\n",
       "      <td>0</td>\n",
       "    </tr>\n",
       "    <tr>\n",
       "      <th>1015</th>\n",
       "      <td>718</td>\n",
       "      <td>13.480000</td>\n",
       "      <td>2.590000</td>\n",
       "      <td>1.210000</td>\n",
       "      <td>8.010000</td>\n",
       "      <td>6.080000</td>\n",
       "      <td>13.850000</td>\n",
       "      <td>9.720000</td>\n",
       "      <td>21.710000</td>\n",
       "      <td>0</td>\n",
       "      <td>0</td>\n",
       "      <td>0</td>\n",
       "      <td>0</td>\n",
       "    </tr>\n",
       "    <tr>\n",
       "      <th>1016</th>\n",
       "      <td>381</td>\n",
       "      <td>18.360000</td>\n",
       "      <td>3.400000</td>\n",
       "      <td>2.340000</td>\n",
       "      <td>11.450000</td>\n",
       "      <td>15.290000</td>\n",
       "      <td>17.200000</td>\n",
       "      <td>10.560000</td>\n",
       "      <td>22.260000</td>\n",
       "      <td>0</td>\n",
       "      <td>0</td>\n",
       "      <td>0</td>\n",
       "      <td>0</td>\n",
       "    </tr>\n",
       "    <tr>\n",
       "      <th>1017</th>\n",
       "      <td>698</td>\n",
       "      <td>12.480000</td>\n",
       "      <td>2.740000</td>\n",
       "      <td>1.190000</td>\n",
       "      <td>8.190000</td>\n",
       "      <td>5.000000</td>\n",
       "      <td>15.040000</td>\n",
       "      <td>10.120000</td>\n",
       "      <td>22.880000</td>\n",
       "      <td>1</td>\n",
       "      <td>0</td>\n",
       "      <td>0</td>\n",
       "      <td>0</td>\n",
       "    </tr>\n",
       "    <tr>\n",
       "      <th>1018</th>\n",
       "      <td>536</td>\n",
       "      <td>16.330000</td>\n",
       "      <td>3.440000</td>\n",
       "      <td>1.620000</td>\n",
       "      <td>10.670000</td>\n",
       "      <td>4.760000</td>\n",
       "      <td>14.210000</td>\n",
       "      <td>10.530000</td>\n",
       "      <td>25.640000</td>\n",
       "      <td>0</td>\n",
       "      <td>0</td>\n",
       "      <td>0</td>\n",
       "      <td>0</td>\n",
       "    </tr>\n",
       "    <tr>\n",
       "      <th>1019</th>\n",
       "      <td>491</td>\n",
       "      <td>16.420000</td>\n",
       "      <td>3.440000</td>\n",
       "      <td>1.620000</td>\n",
       "      <td>10.700000</td>\n",
       "      <td>4.820000</td>\n",
       "      <td>14.180000</td>\n",
       "      <td>10.480000</td>\n",
       "      <td>25.570000</td>\n",
       "      <td>0</td>\n",
       "      <td>0</td>\n",
       "      <td>0</td>\n",
       "      <td>0</td>\n",
       "    </tr>\n",
       "    <tr>\n",
       "      <th>1020</th>\n",
       "      <td>741</td>\n",
       "      <td>12.390000</td>\n",
       "      <td>2.440000</td>\n",
       "      <td>0.950000</td>\n",
       "      <td>7.410000</td>\n",
       "      <td>2.180000</td>\n",
       "      <td>16.090000</td>\n",
       "      <td>10.100000</td>\n",
       "      <td>21.550000</td>\n",
       "      <td>0</td>\n",
       "      <td>0</td>\n",
       "      <td>0</td>\n",
       "      <td>0</td>\n",
       "    </tr>\n",
       "    <tr>\n",
       "      <th>1022</th>\n",
       "      <td>630</td>\n",
       "      <td>14.261875</td>\n",
       "      <td>2.811250</td>\n",
       "      <td>1.311875</td>\n",
       "      <td>9.054063</td>\n",
       "      <td>5.440312</td>\n",
       "      <td>14.396875</td>\n",
       "      <td>10.052813</td>\n",
       "      <td>22.699687</td>\n",
       "      <td>0</td>\n",
       "      <td>0</td>\n",
       "      <td>0</td>\n",
       "      <td>0</td>\n",
       "    </tr>\n",
       "    <tr>\n",
       "      <th>1024</th>\n",
       "      <td>645</td>\n",
       "      <td>14.670000</td>\n",
       "      <td>3.040000</td>\n",
       "      <td>1.410000</td>\n",
       "      <td>9.080000</td>\n",
       "      <td>6.500000</td>\n",
       "      <td>15.230000</td>\n",
       "      <td>9.790000</td>\n",
       "      <td>21.600000</td>\n",
       "      <td>0</td>\n",
       "      <td>1</td>\n",
       "      <td>1</td>\n",
       "      <td>1</td>\n",
       "    </tr>\n",
       "    <tr>\n",
       "      <th>1025</th>\n",
       "      <td>490</td>\n",
       "      <td>14.740000</td>\n",
       "      <td>3.710000</td>\n",
       "      <td>1.620000</td>\n",
       "      <td>10.730000</td>\n",
       "      <td>6.260000</td>\n",
       "      <td>16.040000</td>\n",
       "      <td>12.600000</td>\n",
       "      <td>26.270000</td>\n",
       "      <td>1</td>\n",
       "      <td>1</td>\n",
       "      <td>1</td>\n",
       "      <td>1</td>\n",
       "    </tr>\n",
       "  </tbody>\n",
       "</table>\n",
       "<p>795 rows × 13 columns</p>\n",
       "</div>"
      ],
      "text/plain": [
       "      Broker_Score_wtg        P_E       P_B       P_S        P_C  \\\n",
       "1                 1621  17.040000  2.830000  1.300000  10.950000   \n",
       "2                 1575  19.530000  2.570000  1.760000  12.340000   \n",
       "3                 1553  17.160000  2.890000  1.700000  11.880000   \n",
       "4                 1774  19.278561  3.009002  1.806960  12.214384   \n",
       "5                 1236  21.360000  3.370000  1.910000  13.210000   \n",
       "6                  611  29.760000  4.350000  1.810000  17.900000   \n",
       "8                 1382  17.410000  2.790000  1.300000  10.530000   \n",
       "9                 1459  23.960000  3.930000  2.570000  17.160000   \n",
       "10                 746  25.160000  3.740000  1.690000  14.460000   \n",
       "11                 748  16.200000  2.430000  1.280000   8.670000   \n",
       "12                1249  21.740000  3.250000  1.530000  13.780000   \n",
       "13                 855  14.870000  2.360000  1.160000   8.270000   \n",
       "15                2137  19.278561  3.009002  1.806960  12.214384   \n",
       "16                1368  16.280000  2.390000  1.090000   9.730000   \n",
       "17                1148  17.870000  2.910000  1.350000  10.750000   \n",
       "18                 895  20.560000  3.190000  1.860000  13.520000   \n",
       "19                1570  15.130000  2.530000  1.310000   9.660000   \n",
       "20                1617  16.110000  2.510000  1.370000   9.940000   \n",
       "21                 307  19.278561  3.009002  1.806960  12.214384   \n",
       "22                 167  19.278561  3.009002  1.806960  12.214384   \n",
       "23                 254  17.110000  2.650000  1.220000  10.540000   \n",
       "24                   6  19.278561  3.009002  1.806960  12.214384   \n",
       "25                1630  18.220000  3.280000  1.830000  12.830000   \n",
       "26                 486  20.620000  2.820000  1.280000  13.100000   \n",
       "27                  52  19.750000  3.170000  1.300000  13.100000   \n",
       "28                1093  19.278561  3.009002  1.806960  12.214384   \n",
       "29                 753  19.278561  3.009002  1.806960  12.214384   \n",
       "30                1029  17.100000  2.320000  1.110000  12.040000   \n",
       "31                 967  17.740000  3.040000  1.310000  11.810000   \n",
       "32                 696  18.730000  3.980000  1.690000  14.130000   \n",
       "...                ...        ...       ...       ...        ...   \n",
       "987                568  12.550000  2.820000  1.330000   7.720000   \n",
       "988                435  14.261875  2.811250  1.311875   9.054063   \n",
       "994                655  11.320000  1.870000  0.910000   6.230000   \n",
       "995                351  18.960000  3.680000  1.910000  13.560000   \n",
       "996                196  14.261875  2.811250  1.311875   9.054063   \n",
       "997                621  14.261875  2.811250  1.311875   9.054063   \n",
       "998                624  14.261875  2.811250  1.311875   9.054063   \n",
       "999                622  13.460000  3.250000  1.550000   9.020000   \n",
       "1001               527  14.261875  2.811250  1.311875   9.054063   \n",
       "1003               117  28.690000  3.140000  1.100000  17.490000   \n",
       "1004               502  15.330000  3.630000  1.410000  10.260000   \n",
       "1005               579  13.100000  2.510000  1.400000   8.680000   \n",
       "1006               583  15.540000  3.820000  1.650000  10.580000   \n",
       "1007               516  11.540000  2.840000  1.270000   6.790000   \n",
       "1008               513  15.990000  3.170000  1.380000  10.890000   \n",
       "1009               395  12.940000  2.630000  1.090000   9.900000   \n",
       "1010               608  13.050000  2.450000  1.140000   7.500000   \n",
       "1011               550  14.090000  2.320000  1.320000   8.160000   \n",
       "1012               797  11.630000  2.610000  1.150000   8.290000   \n",
       "1013               612  16.180000  2.500000  1.060000   9.460000   \n",
       "1014               741  12.770000  2.820000  1.150000   7.570000   \n",
       "1015               718  13.480000  2.590000  1.210000   8.010000   \n",
       "1016               381  18.360000  3.400000  2.340000  11.450000   \n",
       "1017               698  12.480000  2.740000  1.190000   8.190000   \n",
       "1018               536  16.330000  3.440000  1.620000  10.670000   \n",
       "1019               491  16.420000  3.440000  1.620000  10.700000   \n",
       "1020               741  12.390000  2.440000  0.950000   7.410000   \n",
       "1022               630  14.261875  2.811250  1.311875   9.054063   \n",
       "1024               645  14.670000  3.040000  1.410000   9.080000   \n",
       "1025               490  14.740000  3.710000  1.620000  10.730000   \n",
       "\n",
       "      Debt_to_Capital  Net_Margin        ROA        ROE  Beat_BM_1Yr  \\\n",
       "1           25.580000   11.700000   9.770000  19.220000            0   \n",
       "2           32.810000   11.850000   9.440000  17.560000            0   \n",
       "3           26.750000   14.470000  11.450000  21.900000            1   \n",
       "4           27.544370   12.343135   9.128812  17.711211            1   \n",
       "5           21.060000   13.910000   9.200000  17.090000            0   \n",
       "6           24.100000    9.820000   3.530000  11.360000            0   \n",
       "8           27.790000   11.320000   8.400000  18.260000            1   \n",
       "9           27.250000   15.420000   7.660000  17.210000            0   \n",
       "10          20.600000   12.640000  10.290000  17.880000            1   \n",
       "11          30.020000   11.010000   8.060000  18.510000            1   \n",
       "12          22.790000   12.960000  10.060000  17.270000            0   \n",
       "13          31.860000   13.810000   7.390000  17.960000            1   \n",
       "15          27.544370   12.343135   9.128812  17.711211            0   \n",
       "16          33.850000   11.160000   8.180000  16.330000            1   \n",
       "17          24.970000   11.530000   8.180000  18.970000            1   \n",
       "18          15.540000   15.050000   9.230000  16.340000            1   \n",
       "19          38.150000   12.930000   8.780000  19.840000            0   \n",
       "20          33.570000   11.230000   9.030000  18.450000            1   \n",
       "21          27.544370   12.343135   9.128812  17.711211            0   \n",
       "22          27.544370   12.343135   9.128812  17.711211            1   \n",
       "23          30.130000   13.040000  10.130000  18.980000            0   \n",
       "24          27.544370   12.343135   9.128812  17.711211            0   \n",
       "25          28.660000   15.010000  12.280000  22.680000            0   \n",
       "26          20.780000   11.880000   9.000000  17.380000            1   \n",
       "27          17.160000    9.040000   8.830000  16.850000            0   \n",
       "28          27.544370   12.343135   9.128812  17.711211            1   \n",
       "29          27.544370   12.343135   9.128812  17.711211            1   \n",
       "30          32.170000   10.280000   9.010000  16.460000            0   \n",
       "31          28.730000   11.490000   9.860000  20.410000            1   \n",
       "32          23.900000   13.470000  13.200000  25.560000            0   \n",
       "...               ...         ...        ...        ...          ...   \n",
       "987         10.320000   16.060000  11.360000  24.500000            0   \n",
       "988          5.440312   14.396875  10.052813  22.699687            0   \n",
       "994          6.450000   12.560000   7.880000  17.670000            0   \n",
       "995          4.520000   11.600000   9.190000  23.690000            1   \n",
       "996          5.440312   14.396875  10.052813  22.699687            1   \n",
       "997          5.440312   14.396875  10.052813  22.699687            1   \n",
       "998          5.440312   14.396875  10.052813  22.699687            1   \n",
       "999          5.360000   13.770000  10.340000  24.600000            0   \n",
       "1001         5.440312   14.396875  10.052813  22.699687            0   \n",
       "1003         1.330000    7.350000   5.650000  12.950000            0   \n",
       "1004         6.700000   13.820000  11.390000  27.140000            1   \n",
       "1005         1.300000   18.730000  10.860000  21.130000            1   \n",
       "1006         7.650000   16.540000  12.640000  27.370000            1   \n",
       "1007         9.260000   15.350000  11.150000  27.630000            0   \n",
       "1008         8.240000   12.320000   9.650000  22.720000            1   \n",
       "1009         4.880000   15.580000  10.370000  22.820000            0   \n",
       "1010         5.860000   15.240000   9.130000  21.900000            0   \n",
       "1011         3.040000   15.210000   8.910000  19.880000            1   \n",
       "1012         3.660000   13.810000  10.800000  24.580000            0   \n",
       "1013         5.360000   11.560000   8.440000  19.500000            1   \n",
       "1014         3.990000   14.260000  10.780000  24.550000            1   \n",
       "1015         6.080000   13.850000   9.720000  21.710000            0   \n",
       "1016        15.290000   17.200000  10.560000  22.260000            0   \n",
       "1017         5.000000   15.040000  10.120000  22.880000            1   \n",
       "1018         4.760000   14.210000  10.530000  25.640000            0   \n",
       "1019         4.820000   14.180000  10.480000  25.570000            0   \n",
       "1020         2.180000   16.090000  10.100000  21.550000            0   \n",
       "1022         5.440312   14.396875  10.052813  22.699687            0   \n",
       "1024         6.500000   15.230000   9.790000  21.600000            0   \n",
       "1025         6.260000   16.040000  12.600000  26.270000            1   \n",
       "\n",
       "      Beat_BM_3Yr  Beat_BM_5Yr  Beat_BM_7Yr  \n",
       "1               1            1            1  \n",
       "2               1            0            1  \n",
       "3               1            1            1  \n",
       "4               1            1            1  \n",
       "5               0            1            0  \n",
       "6               1            1            1  \n",
       "8               1            1            0  \n",
       "9               1            1            1  \n",
       "10              1            1            1  \n",
       "11              1            1            1  \n",
       "12              0            1            1  \n",
       "13              1            1            1  \n",
       "15              0            0            0  \n",
       "16              1            1            1  \n",
       "17              1            1            1  \n",
       "18              0            1            1  \n",
       "19              1            1            1  \n",
       "20              1            1            1  \n",
       "21              1            1            1  \n",
       "22              0            0            1  \n",
       "23              1            1            0  \n",
       "24              0            0            0  \n",
       "25              1            1            1  \n",
       "26              0            1            1  \n",
       "27              0            1            1  \n",
       "28              0            0            0  \n",
       "29              1            1            1  \n",
       "30              1            1            1  \n",
       "31              1            1            1  \n",
       "32              1            1            1  \n",
       "...           ...          ...          ...  \n",
       "987             0            0            0  \n",
       "988             1            1            1  \n",
       "994             0            0            0  \n",
       "995             1            1            1  \n",
       "996             0            0            0  \n",
       "997             0            0            0  \n",
       "998             0            0            0  \n",
       "999             0            0            0  \n",
       "1001            0            0            0  \n",
       "1003            0            0            0  \n",
       "1004            1            1            1  \n",
       "1005            1            0            0  \n",
       "1006            1            1            1  \n",
       "1007            1            1            1  \n",
       "1008            0            0            0  \n",
       "1009            1            1            1  \n",
       "1010            0            0            0  \n",
       "1011            1            1            1  \n",
       "1012            0            0            0  \n",
       "1013            0            0            0  \n",
       "1014            1            0            0  \n",
       "1015            0            0            0  \n",
       "1016            0            0            0  \n",
       "1017            0            0            0  \n",
       "1018            0            0            0  \n",
       "1019            0            0            0  \n",
       "1020            0            0            0  \n",
       "1022            0            0            0  \n",
       "1024            1            1            1  \n",
       "1025            1            1            1  \n",
       "\n",
       "[795 rows x 13 columns]"
      ]
     },
     "execution_count": 157,
     "metadata": {},
     "output_type": "execute_result"
    }
   ],
   "source": [
    "rfdata"
   ]
  },
  {
   "cell_type": "code",
   "execution_count": 159,
   "metadata": {
    "collapsed": false
   },
   "outputs": [
    {
     "name": "stderr",
     "output_type": "stream",
     "text": [
      "/Users/michaeltong/anaconda/lib/python2.7/site-packages/ipykernel/__main__.py:1: SettingWithCopyWarning: \n",
      "A value is trying to be set on a copy of a slice from a DataFrame.\n",
      "Try using .loc[row_indexer,col_indexer] = value instead\n",
      "\n",
      "See the caveats in the documentation: http://pandas.pydata.org/pandas-docs/stable/indexing.html#indexing-view-versus-copy\n",
      "  if __name__ == '__main__':\n"
     ]
    }
   ],
   "source": [
    "rfdata['train'] = np.random.uniform(0, 1, len(rfdata)) <= .75"
   ]
  },
  {
   "cell_type": "code",
   "execution_count": 160,
   "metadata": {
    "collapsed": false
   },
   "outputs": [],
   "source": [
    "train, test = rfdata[rfdata['train']==True], rfdata[rfdata['train']==False]"
   ]
  },
  {
   "cell_type": "code",
   "execution_count": 161,
   "metadata": {
    "collapsed": false
   },
   "outputs": [
    {
     "name": "stdout",
     "output_type": "stream",
     "text": [
      "('Number of observations in the training data:', 587)\n",
      "('Number of observations in the test data:', 208)\n"
     ]
    }
   ],
   "source": [
    "print('Number of observations in the training data:', len(train))\n",
    "print('Number of observations in the test data:',len(test))"
   ]
  },
  {
   "cell_type": "code",
   "execution_count": 130,
   "metadata": {
    "collapsed": false
   },
   "outputs": [],
   "source": [
    "#features = rfdata[['Broker_Score_wtg','P_E','P_B','P_S','P_C','Debt_to_Capital','Net_Margin','ROA',\\\n",
    "                   'ROE','Beat_BM_1Yr_Bool','Beat_BM_3Yr_Bool','Beat_BM_5Yr_Bool','Beat_BM_7Yr_Bool']]"
   ]
  },
  {
   "cell_type": "code",
   "execution_count": 162,
   "metadata": {
    "collapsed": false
   },
   "outputs": [
    {
     "data": {
      "text/plain": [
       "Index([u'Broker_Score_wtg', u'P_E', u'P_B', u'P_S', u'P_C', u'Debt_to_Capital',\n",
       "       u'Net_Margin', u'ROA', u'ROE'],\n",
       "      dtype='object')"
      ]
     },
     "execution_count": 162,
     "metadata": {},
     "output_type": "execute_result"
    }
   ],
   "source": [
    "features = rfdata.columns[:9]\n",
    "features"
   ]
  },
  {
   "cell_type": "code",
   "execution_count": null,
   "metadata": {
    "collapsed": true
   },
   "outputs": [],
   "source": []
  },
  {
   "cell_type": "code",
   "execution_count": 167,
   "metadata": {
    "collapsed": false
   },
   "outputs": [
    {
     "data": {
      "text/plain": [
       "RandomForestClassifier(bootstrap=True, class_weight=None, criterion='gini',\n",
       "            max_depth=None, max_features='auto', max_leaf_nodes=None,\n",
       "            min_impurity_split=1e-07, min_samples_leaf=1,\n",
       "            min_samples_split=2, min_weight_fraction_leaf=0.0,\n",
       "            n_estimators=10, n_jobs=2, oob_score=False, random_state=None,\n",
       "            verbose=0, warm_start=False)"
      ]
     },
     "execution_count": 167,
     "metadata": {},
     "output_type": "execute_result"
    }
   ],
   "source": [
    "clf = RandomForestClassifier(n_jobs=2)\n",
    "\n",
    "clf.fit(train[features], train.Beat_BM_1Yr)"
   ]
  },
  {
   "cell_type": "code",
   "execution_count": 168,
   "metadata": {
    "collapsed": false
   },
   "outputs": [
    {
     "data": {
      "text/plain": [
       "RandomForestClassifier(bootstrap=True, class_weight=None, criterion='gini',\n",
       "            max_depth=None, max_features='auto', max_leaf_nodes=None,\n",
       "            min_impurity_split=1e-07, min_samples_leaf=1,\n",
       "            min_samples_split=2, min_weight_fraction_leaf=0.0,\n",
       "            n_estimators=10, n_jobs=2, oob_score=False, random_state=None,\n",
       "            verbose=0, warm_start=False)"
      ]
     },
     "execution_count": 168,
     "metadata": {},
     "output_type": "execute_result"
    }
   ],
   "source": [
    "clf3 = RandomForestClassifier(n_jobs=2)\n",
    "\n",
    "clf3.fit(train[features], train.Beat_BM_3Yr)"
   ]
  },
  {
   "cell_type": "code",
   "execution_count": 169,
   "metadata": {
    "collapsed": false
   },
   "outputs": [
    {
     "data": {
      "text/plain": [
       "RandomForestClassifier(bootstrap=True, class_weight=None, criterion='gini',\n",
       "            max_depth=None, max_features='auto', max_leaf_nodes=None,\n",
       "            min_impurity_split=1e-07, min_samples_leaf=1,\n",
       "            min_samples_split=2, min_weight_fraction_leaf=0.0,\n",
       "            n_estimators=10, n_jobs=2, oob_score=False, random_state=None,\n",
       "            verbose=0, warm_start=False)"
      ]
     },
     "execution_count": 169,
     "metadata": {},
     "output_type": "execute_result"
    }
   ],
   "source": [
    "clf5 = RandomForestClassifier(n_jobs=2)\n",
    "\n",
    "clf5.fit(train[features], train.Beat_BM_5Yr)"
   ]
  },
  {
   "cell_type": "code",
   "execution_count": 170,
   "metadata": {
    "collapsed": false
   },
   "outputs": [
    {
     "data": {
      "text/plain": [
       "RandomForestClassifier(bootstrap=True, class_weight=None, criterion='gini',\n",
       "            max_depth=None, max_features='auto', max_leaf_nodes=None,\n",
       "            min_impurity_split=1e-07, min_samples_leaf=1,\n",
       "            min_samples_split=2, min_weight_fraction_leaf=0.0,\n",
       "            n_estimators=10, n_jobs=2, oob_score=False, random_state=None,\n",
       "            verbose=0, warm_start=False)"
      ]
     },
     "execution_count": 170,
     "metadata": {},
     "output_type": "execute_result"
    }
   ],
   "source": [
    "clf7 = RandomForestClassifier(n_jobs=2)\n",
    "\n",
    "clf7.fit(train[features], train.Beat_BM_7Yr)"
   ]
  },
  {
   "cell_type": "code",
   "execution_count": 171,
   "metadata": {
    "collapsed": false
   },
   "outputs": [
    {
     "data": {
      "text/plain": [
       "array([0, 0, 0, 1, 0, 0, 1, 1, 0, 0, 0, 0, 0, 0, 0, 1, 0, 1, 0, 0, 0, 0, 0,\n",
       "       0, 0, 1, 0, 0, 0, 0, 0, 0, 0, 1, 0, 1, 0, 1, 0, 1, 1, 1, 0, 0, 1, 0,\n",
       "       1, 0, 1, 0, 0, 0, 0, 0, 0, 0, 0, 1, 0, 0, 0, 0, 0, 1, 0, 1, 0, 1, 0,\n",
       "       1, 0, 0, 0, 0, 0, 0, 0, 0, 0, 0, 0, 0, 0, 0, 1, 0, 1, 1, 0, 0, 0, 0,\n",
       "       1, 0, 0, 0, 0, 0, 0, 1, 0, 0, 0, 0, 0, 0, 0, 0, 0, 1, 0, 1, 0, 1, 0,\n",
       "       0, 0, 0, 0, 0, 0, 0, 0, 0, 0, 0, 0, 0, 0, 1, 1, 0, 0, 0, 1, 1, 1, 0,\n",
       "       0, 0, 1, 1, 0, 0, 0, 0, 0, 1, 0, 0, 0, 0, 1, 0, 0, 0, 0, 1, 0, 1, 0,\n",
       "       0, 0, 0, 1, 0, 0, 0, 0, 1, 0, 0, 0, 0, 0, 0, 0, 0, 0, 1, 1, 0, 0, 0,\n",
       "       1, 1, 0, 1, 1, 1, 0, 1, 1, 1, 0, 0, 1, 1, 1, 0, 0, 0, 1, 0, 0, 0, 0,\n",
       "       0])"
      ]
     },
     "execution_count": 171,
     "metadata": {},
     "output_type": "execute_result"
    }
   ],
   "source": [
    "clf.predict(test[features])"
   ]
  },
  {
   "cell_type": "code",
   "execution_count": 172,
   "metadata": {
    "collapsed": false
   },
   "outputs": [
    {
     "data": {
      "text/plain": [
       "array([[ 0.7,  0.3],\n",
       "       [ 0.9,  0.1],\n",
       "       [ 0.7,  0.3],\n",
       "       [ 0.1,  0.9],\n",
       "       [ 0.9,  0.1],\n",
       "       [ 0.7,  0.3],\n",
       "       [ 0.3,  0.7],\n",
       "       [ 0. ,  1. ],\n",
       "       [ 0.6,  0.4],\n",
       "       [ 0.7,  0.3]])"
      ]
     },
     "execution_count": 172,
     "metadata": {},
     "output_type": "execute_result"
    }
   ],
   "source": [
    "clf.predict_proba(test[features])[0:10]"
   ]
  },
  {
   "cell_type": "code",
   "execution_count": 173,
   "metadata": {
    "collapsed": false
   },
   "outputs": [
    {
     "data": {
      "text/plain": [
       "array([0, 0, 1, 0, 1, 0, 0, 0, 1, 0, 1, 1, 1, 1, 0, 0, 0, 1, 1, 0, 0, 0, 1,\n",
       "       0, 0, 0, 0, 1, 0, 0, 0, 0, 0, 1, 1, 1, 0, 1, 0, 1, 1, 1, 0, 1, 0, 1,\n",
       "       0, 1, 1, 1, 0, 0, 0, 0, 0, 0, 1, 1, 1, 0, 0, 0, 0, 1, 1, 1, 1, 0, 1,\n",
       "       0, 1, 0, 0, 0, 1, 1, 1, 1, 1, 0, 1, 0, 0, 0, 1, 0, 1, 1, 0, 1, 0, 0,\n",
       "       1, 1, 1, 1, 0, 1, 0, 0, 1, 1, 0, 1, 0, 1, 0, 0, 1, 1, 0, 0, 1, 1, 1,\n",
       "       0, 0, 0, 1, 1, 1, 0, 1, 1, 0, 0, 0, 0, 1, 1, 1, 1, 1, 1, 1, 1, 1, 1,\n",
       "       1, 1, 0, 0, 1, 1, 0, 1, 0, 0, 0, 0, 1, 0, 0, 0, 0, 0, 0, 1, 0, 1, 1,\n",
       "       1, 1, 1, 1, 1, 1, 0, 0, 0, 0, 0, 0, 0, 0, 0, 1, 1, 1, 0, 0, 1, 1, 0,\n",
       "       1, 0, 0, 1, 1, 0, 1, 0, 0, 0, 0, 0, 0, 1, 1, 1, 0, 0, 0, 0, 1, 0, 0,\n",
       "       0])"
      ]
     },
     "execution_count": 173,
     "metadata": {},
     "output_type": "execute_result"
    }
   ],
   "source": [
    "clf3.predict(test[features])"
   ]
  },
  {
   "cell_type": "code",
   "execution_count": 174,
   "metadata": {
    "collapsed": false
   },
   "outputs": [
    {
     "data": {
      "text/plain": [
       "array([[ 0.7,  0.3],\n",
       "       [ 0.5,  0.5],\n",
       "       [ 0.4,  0.6],\n",
       "       [ 0.7,  0.3],\n",
       "       [ 0.2,  0.8],\n",
       "       [ 0.6,  0.4],\n",
       "       [ 0.7,  0.3],\n",
       "       [ 0.9,  0.1],\n",
       "       [ 0.1,  0.9],\n",
       "       [ 0.6,  0.4]])"
      ]
     },
     "execution_count": 174,
     "metadata": {},
     "output_type": "execute_result"
    }
   ],
   "source": [
    "clf3.predict_proba(test[features])[0:10]"
   ]
  },
  {
   "cell_type": "code",
   "execution_count": 175,
   "metadata": {
    "collapsed": false
   },
   "outputs": [
    {
     "data": {
      "text/plain": [
       "array([0, 1, 0, 1, 1, 0, 0, 1, 1, 0, 1, 0, 1, 1, 1, 0, 1, 1, 0, 0, 0, 1, 1,\n",
       "       0, 1, 1, 1, 1, 0, 0, 0, 1, 0, 0, 1, 1, 0, 1, 0, 1, 1, 0, 0, 1, 1, 0,\n",
       "       1, 1, 1, 1, 0, 0, 1, 1, 0, 1, 1, 1, 1, 1, 0, 1, 0, 1, 1, 1, 0, 0, 1,\n",
       "       1, 1, 0, 1, 0, 1, 1, 1, 1, 1, 1, 1, 0, 0, 0, 1, 0, 1, 1, 0, 1, 1, 1,\n",
       "       1, 1, 1, 1, 1, 1, 0, 0, 1, 1, 0, 1, 1, 1, 0, 1, 0, 1, 0, 0, 0, 1, 1,\n",
       "       0, 1, 0, 1, 1, 1, 0, 0, 1, 1, 1, 1, 0, 1, 1, 1, 1, 1, 1, 1, 0, 1, 0,\n",
       "       1, 0, 0, 0, 1, 1, 1, 0, 0, 0, 0, 0, 0, 1, 1, 0, 0, 1, 0, 1, 1, 1, 1,\n",
       "       1, 1, 1, 1, 0, 0, 0, 1, 0, 0, 0, 0, 0, 1, 0, 0, 0, 0, 0, 0, 1, 1, 0,\n",
       "       0, 0, 0, 1, 1, 1, 1, 1, 0, 1, 1, 0, 1, 0, 0, 1, 0, 0, 1, 0, 0, 0, 0,\n",
       "       0])"
      ]
     },
     "execution_count": 175,
     "metadata": {},
     "output_type": "execute_result"
    }
   ],
   "source": [
    "clf5.predict(test[features])"
   ]
  },
  {
   "cell_type": "code",
   "execution_count": 176,
   "metadata": {
    "collapsed": false
   },
   "outputs": [
    {
     "data": {
      "text/plain": [
       "array([[ 0.7,  0.3],\n",
       "       [ 0.1,  0.9],\n",
       "       [ 0.5,  0.5],\n",
       "       [ 0.3,  0.7],\n",
       "       [ 0. ,  1. ],\n",
       "       [ 0.7,  0.3],\n",
       "       [ 0.6,  0.4],\n",
       "       [ 0. ,  1. ],\n",
       "       [ 0.3,  0.7],\n",
       "       [ 0.7,  0.3]])"
      ]
     },
     "execution_count": 176,
     "metadata": {},
     "output_type": "execute_result"
    }
   ],
   "source": [
    "clf5.predict_proba(test[features])[0:10]"
   ]
  },
  {
   "cell_type": "code",
   "execution_count": 177,
   "metadata": {
    "collapsed": false
   },
   "outputs": [
    {
     "data": {
      "text/plain": [
       "array([0, 1, 0, 1, 1, 0, 0, 0, 1, 0, 0, 1, 1, 0, 0, 1, 1, 1, 0, 0, 0, 1, 1,\n",
       "       0, 1, 1, 0, 1, 0, 0, 0, 1, 0, 1, 0, 1, 0, 1, 0, 0, 0, 0, 0, 0, 1, 1,\n",
       "       1, 0, 1, 1, 1, 0, 1, 1, 0, 0, 0, 1, 1, 1, 0, 1, 0, 1, 0, 1, 1, 0, 1,\n",
       "       0, 1, 0, 1, 0, 1, 1, 1, 0, 0, 1, 0, 0, 0, 0, 1, 0, 1, 0, 0, 0, 1, 1,\n",
       "       0, 1, 0, 0, 0, 1, 0, 0, 0, 0, 0, 1, 1, 1, 0, 1, 1, 0, 1, 0, 0, 1, 0,\n",
       "       0, 1, 0, 0, 1, 1, 0, 0, 0, 1, 1, 1, 0, 1, 1, 1, 1, 1, 1, 1, 0, 1, 0,\n",
       "       1, 0, 0, 1, 1, 1, 1, 0, 1, 1, 0, 0, 1, 0, 1, 0, 0, 0, 0, 1, 1, 0, 1,\n",
       "       1, 1, 0, 0, 1, 0, 1, 1, 0, 0, 0, 1, 0, 1, 1, 1, 1, 0, 0, 1, 1, 0, 0,\n",
       "       0, 0, 1, 0, 1, 0, 0, 0, 0, 1, 0, 0, 1, 0, 1, 1, 0, 0, 0, 0, 1, 0, 0,\n",
       "       1])"
      ]
     },
     "execution_count": 177,
     "metadata": {},
     "output_type": "execute_result"
    }
   ],
   "source": [
    "clf7.predict(test[features])"
   ]
  },
  {
   "cell_type": "code",
   "execution_count": 178,
   "metadata": {
    "collapsed": false
   },
   "outputs": [
    {
     "data": {
      "text/plain": [
       "array([[ 0.6,  0.4],\n",
       "       [ 0.4,  0.6],\n",
       "       [ 0.7,  0.3],\n",
       "       [ 0.1,  0.9],\n",
       "       [ 0. ,  1. ],\n",
       "       [ 0.6,  0.4],\n",
       "       [ 0.6,  0.4],\n",
       "       [ 0.5,  0.5],\n",
       "       [ 0.3,  0.7],\n",
       "       [ 0.6,  0.4]])"
      ]
     },
     "execution_count": 178,
     "metadata": {},
     "output_type": "execute_result"
    }
   ],
   "source": [
    "clf7.predict_proba(test[features])[0:10]"
   ]
  },
  {
   "cell_type": "code",
   "execution_count": 179,
   "metadata": {
    "collapsed": false
   },
   "outputs": [
    {
     "data": {
      "text/plain": [
       "[('Broker_Score_wtg', 0.26938335420213444),\n",
       " ('P_E', 0.10356360120574562),\n",
       " ('P_B', 0.091648376687721897),\n",
       " ('P_S', 0.062363601689239954),\n",
       " ('P_C', 0.094716184054092017),\n",
       " ('Debt_to_Capital', 0.092595083650378066),\n",
       " ('Net_Margin', 0.072369124948105948),\n",
       " ('ROA', 0.11155296128589662),\n",
       " ('ROE', 0.10180771227668535)]"
      ]
     },
     "execution_count": 179,
     "metadata": {},
     "output_type": "execute_result"
    }
   ],
   "source": [
    "list(zip(train[features], clf.feature_importances_))"
   ]
  },
  {
   "cell_type": "code",
   "execution_count": 185,
   "metadata": {
    "collapsed": false
   },
   "outputs": [
    {
     "data": {
      "text/html": [
       "<div>\n",
       "<table border=\"1\" class=\"dataframe\">\n",
       "  <thead>\n",
       "    <tr style=\"text-align: right;\">\n",
       "      <th></th>\n",
       "      <th>Factors</th>\n",
       "      <th>Importance Score</th>\n",
       "    </tr>\n",
       "  </thead>\n",
       "  <tbody>\n",
       "    <tr>\n",
       "      <th>0</th>\n",
       "      <td>Broker_Score_wtg</td>\n",
       "      <td>0.269383</td>\n",
       "    </tr>\n",
       "    <tr>\n",
       "      <th>7</th>\n",
       "      <td>ROA</td>\n",
       "      <td>0.111553</td>\n",
       "    </tr>\n",
       "    <tr>\n",
       "      <th>1</th>\n",
       "      <td>P_E</td>\n",
       "      <td>0.103564</td>\n",
       "    </tr>\n",
       "    <tr>\n",
       "      <th>8</th>\n",
       "      <td>ROE</td>\n",
       "      <td>0.101808</td>\n",
       "    </tr>\n",
       "    <tr>\n",
       "      <th>4</th>\n",
       "      <td>P_C</td>\n",
       "      <td>0.094716</td>\n",
       "    </tr>\n",
       "  </tbody>\n",
       "</table>\n",
       "</div>"
      ],
      "text/plain": [
       "            Factors  Importance Score\n",
       "0  Broker_Score_wtg          0.269383\n",
       "7               ROA          0.111553\n",
       "1               P_E          0.103564\n",
       "8               ROE          0.101808\n",
       "4               P_C          0.094716"
      ]
     },
     "execution_count": 185,
     "metadata": {},
     "output_type": "execute_result"
    }
   ],
   "source": [
    "factors = train[features].columns\n",
    "factor_importances = clf.feature_importances_\n",
    "\n",
    "features_df = pd.DataFrame({'Factors': features, 'Importance Score': factor_importances})\n",
    "features_df.sort_values('Importance Score', inplace=True, ascending=False)\n",
    "\n",
    "features_df.head()"
   ]
  },
  {
   "cell_type": "code",
   "execution_count": 180,
   "metadata": {
    "collapsed": false
   },
   "outputs": [
    {
     "data": {
      "text/plain": [
       "[('Broker_Score_wtg', 0.27911215418688751),\n",
       " ('P_E', 0.11080673111432666),\n",
       " ('P_B', 0.10157081132990756),\n",
       " ('P_S', 0.059862599685501061),\n",
       " ('P_C', 0.077942476622992446),\n",
       " ('Debt_to_Capital', 0.084407991363213225),\n",
       " ('Net_Margin', 0.08440673660354478),\n",
       " ('ROA', 0.10615209724395083),\n",
       " ('ROE', 0.09573840184967583)]"
      ]
     },
     "execution_count": 180,
     "metadata": {},
     "output_type": "execute_result"
    }
   ],
   "source": [
    "list(zip(train[features], clf3.feature_importances_))"
   ]
  },
  {
   "cell_type": "code",
   "execution_count": 186,
   "metadata": {
    "collapsed": false
   },
   "outputs": [
    {
     "data": {
      "text/html": [
       "<div>\n",
       "<table border=\"1\" class=\"dataframe\">\n",
       "  <thead>\n",
       "    <tr style=\"text-align: right;\">\n",
       "      <th></th>\n",
       "      <th>Factors</th>\n",
       "      <th>Importance Score</th>\n",
       "    </tr>\n",
       "  </thead>\n",
       "  <tbody>\n",
       "    <tr>\n",
       "      <th>0</th>\n",
       "      <td>Broker_Score_wtg</td>\n",
       "      <td>0.279112</td>\n",
       "    </tr>\n",
       "    <tr>\n",
       "      <th>1</th>\n",
       "      <td>P_E</td>\n",
       "      <td>0.110807</td>\n",
       "    </tr>\n",
       "    <tr>\n",
       "      <th>7</th>\n",
       "      <td>ROA</td>\n",
       "      <td>0.106152</td>\n",
       "    </tr>\n",
       "    <tr>\n",
       "      <th>2</th>\n",
       "      <td>P_B</td>\n",
       "      <td>0.101571</td>\n",
       "    </tr>\n",
       "    <tr>\n",
       "      <th>8</th>\n",
       "      <td>ROE</td>\n",
       "      <td>0.095738</td>\n",
       "    </tr>\n",
       "  </tbody>\n",
       "</table>\n",
       "</div>"
      ],
      "text/plain": [
       "            Factors  Importance Score\n",
       "0  Broker_Score_wtg          0.279112\n",
       "1               P_E          0.110807\n",
       "7               ROA          0.106152\n",
       "2               P_B          0.101571\n",
       "8               ROE          0.095738"
      ]
     },
     "execution_count": 186,
     "metadata": {},
     "output_type": "execute_result"
    }
   ],
   "source": [
    "factors = train[features].columns\n",
    "factor_importances3 = clf3.feature_importances_\n",
    "\n",
    "features_df3 = pd.DataFrame({'Factors': features, 'Importance Score': factor_importances3})\n",
    "features_df3.sort_values('Importance Score', inplace=True, ascending=False)\n",
    "\n",
    "features_df3.head()"
   ]
  },
  {
   "cell_type": "code",
   "execution_count": 181,
   "metadata": {
    "collapsed": false
   },
   "outputs": [
    {
     "data": {
      "text/plain": [
       "[('Broker_Score_wtg', 0.26603342736053109),\n",
       " ('P_E', 0.098338422194843553),\n",
       " ('P_B', 0.11428298587179979),\n",
       " ('P_S', 0.083474435801840621),\n",
       " ('P_C', 0.081176720078088849),\n",
       " ('Debt_to_Capital', 0.084838497845035443),\n",
       " ('Net_Margin', 0.084462059554675978),\n",
       " ('ROA', 0.096666353120314061),\n",
       " ('ROE', 0.090727098172870529)]"
      ]
     },
     "execution_count": 181,
     "metadata": {},
     "output_type": "execute_result"
    }
   ],
   "source": [
    "list(zip(train[features], clf5.feature_importances_))"
   ]
  },
  {
   "cell_type": "code",
   "execution_count": 187,
   "metadata": {
    "collapsed": false
   },
   "outputs": [
    {
     "data": {
      "text/html": [
       "<div>\n",
       "<table border=\"1\" class=\"dataframe\">\n",
       "  <thead>\n",
       "    <tr style=\"text-align: right;\">\n",
       "      <th></th>\n",
       "      <th>Factors</th>\n",
       "      <th>Importance Score</th>\n",
       "    </tr>\n",
       "  </thead>\n",
       "  <tbody>\n",
       "    <tr>\n",
       "      <th>0</th>\n",
       "      <td>Broker_Score_wtg</td>\n",
       "      <td>0.266033</td>\n",
       "    </tr>\n",
       "    <tr>\n",
       "      <th>2</th>\n",
       "      <td>P_B</td>\n",
       "      <td>0.114283</td>\n",
       "    </tr>\n",
       "    <tr>\n",
       "      <th>1</th>\n",
       "      <td>P_E</td>\n",
       "      <td>0.098338</td>\n",
       "    </tr>\n",
       "    <tr>\n",
       "      <th>7</th>\n",
       "      <td>ROA</td>\n",
       "      <td>0.096666</td>\n",
       "    </tr>\n",
       "    <tr>\n",
       "      <th>8</th>\n",
       "      <td>ROE</td>\n",
       "      <td>0.090727</td>\n",
       "    </tr>\n",
       "  </tbody>\n",
       "</table>\n",
       "</div>"
      ],
      "text/plain": [
       "            Factors  Importance Score\n",
       "0  Broker_Score_wtg          0.266033\n",
       "2               P_B          0.114283\n",
       "1               P_E          0.098338\n",
       "7               ROA          0.096666\n",
       "8               ROE          0.090727"
      ]
     },
     "execution_count": 187,
     "metadata": {},
     "output_type": "execute_result"
    }
   ],
   "source": [
    "factors = train[features].columns\n",
    "factor_importances5 = clf5.feature_importances_\n",
    "\n",
    "features_df5 = pd.DataFrame({'Factors': features, 'Importance Score': factor_importances5})\n",
    "features_df5.sort_values('Importance Score', inplace=True, ascending=False)\n",
    "\n",
    "features_df5.head()"
   ]
  },
  {
   "cell_type": "code",
   "execution_count": 182,
   "metadata": {
    "collapsed": false
   },
   "outputs": [
    {
     "data": {
      "text/plain": [
       "[('Broker_Score_wtg', 0.27915449385052082),\n",
       " ('P_E', 0.093285444079135346),\n",
       " ('P_B', 0.096392678418682667),\n",
       " ('P_S', 0.097733089051041555),\n",
       " ('P_C', 0.088386042972233),\n",
       " ('Debt_to_Capital', 0.087970379492678857),\n",
       " ('Net_Margin', 0.091314144896822519),\n",
       " ('ROA', 0.079537398361797948),\n",
       " ('ROE', 0.086226328877087324)]"
      ]
     },
     "execution_count": 182,
     "metadata": {},
     "output_type": "execute_result"
    }
   ],
   "source": [
    "list(zip(train[features], clf7.feature_importances_))"
   ]
  },
  {
   "cell_type": "code",
   "execution_count": 188,
   "metadata": {
    "collapsed": false
   },
   "outputs": [
    {
     "data": {
      "text/html": [
       "<div>\n",
       "<table border=\"1\" class=\"dataframe\">\n",
       "  <thead>\n",
       "    <tr style=\"text-align: right;\">\n",
       "      <th></th>\n",
       "      <th>Factors</th>\n",
       "      <th>Importance Score</th>\n",
       "    </tr>\n",
       "  </thead>\n",
       "  <tbody>\n",
       "    <tr>\n",
       "      <th>0</th>\n",
       "      <td>Broker_Score_wtg</td>\n",
       "      <td>0.279154</td>\n",
       "    </tr>\n",
       "    <tr>\n",
       "      <th>3</th>\n",
       "      <td>P_S</td>\n",
       "      <td>0.097733</td>\n",
       "    </tr>\n",
       "    <tr>\n",
       "      <th>2</th>\n",
       "      <td>P_B</td>\n",
       "      <td>0.096393</td>\n",
       "    </tr>\n",
       "    <tr>\n",
       "      <th>1</th>\n",
       "      <td>P_E</td>\n",
       "      <td>0.093285</td>\n",
       "    </tr>\n",
       "    <tr>\n",
       "      <th>6</th>\n",
       "      <td>Net_Margin</td>\n",
       "      <td>0.091314</td>\n",
       "    </tr>\n",
       "  </tbody>\n",
       "</table>\n",
       "</div>"
      ],
      "text/plain": [
       "            Factors  Importance Score\n",
       "0  Broker_Score_wtg          0.279154\n",
       "3               P_S          0.097733\n",
       "2               P_B          0.096393\n",
       "1               P_E          0.093285\n",
       "6        Net_Margin          0.091314"
      ]
     },
     "execution_count": 188,
     "metadata": {},
     "output_type": "execute_result"
    }
   ],
   "source": [
    "factors = train[features].columns\n",
    "factor_importances7 = clf7.feature_importances_\n",
    "\n",
    "features_df7 = pd.DataFrame({'Factors': features, 'Importance Score': factor_importances7})\n",
    "features_df7.sort_values('Importance Score', inplace=True, ascending=False)\n",
    "\n",
    "features_df7.head()"
   ]
  },
  {
   "cell_type": "code",
   "execution_count": null,
   "metadata": {
    "collapsed": true
   },
   "outputs": [],
   "source": []
  },
  {
   "cell_type": "code",
   "execution_count": null,
   "metadata": {
    "collapsed": true
   },
   "outputs": [],
   "source": []
  },
  {
   "cell_type": "code",
   "execution_count": null,
   "metadata": {
    "collapsed": true
   },
   "outputs": [],
   "source": []
  },
  {
   "cell_type": "code",
   "execution_count": null,
   "metadata": {
    "collapsed": true
   },
   "outputs": [],
   "source": []
  }
 ],
 "metadata": {
  "kernelspec": {
   "display_name": "Python 2",
   "language": "python",
   "name": "python2"
  },
  "language_info": {
   "codemirror_mode": {
    "name": "ipython",
    "version": 2
   },
   "file_extension": ".py",
   "mimetype": "text/x-python",
   "name": "python",
   "nbconvert_exporter": "python",
   "pygments_lexer": "ipython2",
   "version": "2.7.13"
  }
 },
 "nbformat": 4,
 "nbformat_minor": 2
}

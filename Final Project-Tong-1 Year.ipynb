{
 "cells": [
  {
   "cell_type": "code",
   "execution_count": 285,
   "metadata": {
    "collapsed": false
   },
   "outputs": [],
   "source": [
    "import pandas as pd\n",
    "import numpy as np\n",
    "from matplotlib import pyplot as plt\n",
    "import seaborn as sns\n",
    "from sklearn import datasets, metrics, grid_search, cross_validation\n",
    "from sklearn.preprocessing import StandardScaler\n",
    "from sklearn.linear_model import LogisticRegression\n",
    "from sklearn.metrics import roc_curve, roc_auc_score\n",
    "from sklearn.ensemble import RandomForestClassifier\n",
    "%matplotlib inline"
   ]
  },
  {
   "cell_type": "code",
   "execution_count": 286,
   "metadata": {
    "collapsed": false
   },
   "outputs": [],
   "source": [
    "data = pd.read_csv('../Final Project/DataScienceFinalProjectValues1YrCSV.csv')"
   ]
  },
  {
   "cell_type": "code",
   "execution_count": 287,
   "metadata": {
    "collapsed": false
   },
   "outputs": [
    {
     "data": {
      "text/html": [
       "<div>\n",
       "<table border=\"1\" class=\"dataframe\">\n",
       "  <thead>\n",
       "    <tr style=\"text-align: right;\">\n",
       "      <th></th>\n",
       "      <th>Calender_Year_Year End</th>\n",
       "      <th>Name</th>\n",
       "      <th>Ticker</th>\n",
       "      <th>Primary_Prospectus_Benchmark</th>\n",
       "      <th>#_of_Holdings</th>\n",
       "      <th>Turnover_Ratio</th>\n",
       "      <th>Total_Market_Value</th>\n",
       "      <th>P_B</th>\n",
       "      <th>P_C</th>\n",
       "      <th>P_E</th>\n",
       "      <th>...</th>\n",
       "      <th>Equity_Style_Factor_P_S</th>\n",
       "      <th>Equity_Style_Factor_P_C</th>\n",
       "      <th>Equity_Style_Factor_Div_Yld</th>\n",
       "      <th>Equity_Style_Factor_LT_Earn_Growth</th>\n",
       "      <th>Equity_Style_Factor_Hist_Earn_Growth</th>\n",
       "      <th>Equity_Style_Factor_BV_Growth</th>\n",
       "      <th>Equity_Style_Factor_Sales_Growth</th>\n",
       "      <th>Equity_Style_Factor_CF_Growth</th>\n",
       "      <th>1Yr_Return</th>\n",
       "      <th>1Yr_Return_BM</th>\n",
       "    </tr>\n",
       "  </thead>\n",
       "  <tbody>\n",
       "    <tr>\n",
       "      <th>0</th>\n",
       "      <td>2005</td>\n",
       "      <td>STAAR International</td>\n",
       "      <td>SITIX</td>\n",
       "      <td>MSCI EAFE NR USD</td>\n",
       "      <td>17</td>\n",
       "      <td>16</td>\n",
       "      <td>4758135</td>\n",
       "      <td>2.61</td>\n",
       "      <td>8.51</td>\n",
       "      <td>15.00</td>\n",
       "      <td>...</td>\n",
       "      <td>1.01</td>\n",
       "      <td>5.10</td>\n",
       "      <td>2.72</td>\n",
       "      <td>12.59</td>\n",
       "      <td>18.78</td>\n",
       "      <td>-7.83</td>\n",
       "      <td>6.66</td>\n",
       "      <td>-14.86</td>\n",
       "      <td>21.38</td>\n",
       "      <td>26.34</td>\n",
       "    </tr>\n",
       "    <tr>\n",
       "      <th>1</th>\n",
       "      <td>2005</td>\n",
       "      <td>Hartford Schroders International Stk I</td>\n",
       "      <td>SCIEX</td>\n",
       "      <td>MSCI EAFE NR USD</td>\n",
       "      <td>50</td>\n",
       "      <td>126</td>\n",
       "      <td>7173207</td>\n",
       "      <td>3.76</td>\n",
       "      <td>11.13</td>\n",
       "      <td>16.41</td>\n",
       "      <td>...</td>\n",
       "      <td>1.46</td>\n",
       "      <td>11.52</td>\n",
       "      <td>3.81</td>\n",
       "      <td>13.09</td>\n",
       "      <td>22.45</td>\n",
       "      <td>3.97</td>\n",
       "      <td>1.73</td>\n",
       "      <td>1.48</td>\n",
       "      <td>24.46</td>\n",
       "      <td>26.34</td>\n",
       "    </tr>\n",
       "    <tr>\n",
       "      <th>2</th>\n",
       "      <td>2005</td>\n",
       "      <td>Sextant International</td>\n",
       "      <td>SSIFX</td>\n",
       "      <td>MSCI EAFE NR USD</td>\n",
       "      <td>59</td>\n",
       "      <td>5</td>\n",
       "      <td>7208690</td>\n",
       "      <td>2.48</td>\n",
       "      <td>9.48</td>\n",
       "      <td>18.89</td>\n",
       "      <td>...</td>\n",
       "      <td>2.42</td>\n",
       "      <td>7.55</td>\n",
       "      <td>1.55</td>\n",
       "      <td>10.45</td>\n",
       "      <td>18.01</td>\n",
       "      <td>7.51</td>\n",
       "      <td>7.00</td>\n",
       "      <td>16.96</td>\n",
       "      <td>22.02</td>\n",
       "      <td>26.34</td>\n",
       "    </tr>\n",
       "    <tr>\n",
       "      <th>3</th>\n",
       "      <td>2005</td>\n",
       "      <td>Sit International Growth</td>\n",
       "      <td>SNGRX</td>\n",
       "      <td>MSCI EAFE NR USD</td>\n",
       "      <td>93</td>\n",
       "      <td>28</td>\n",
       "      <td>31827776</td>\n",
       "      <td>1.48</td>\n",
       "      <td>5.23</td>\n",
       "      <td>21.07</td>\n",
       "      <td>...</td>\n",
       "      <td>1.41</td>\n",
       "      <td>10.62</td>\n",
       "      <td>1.79</td>\n",
       "      <td>13.20</td>\n",
       "      <td>22.26</td>\n",
       "      <td>6.14</td>\n",
       "      <td>5.39</td>\n",
       "      <td>10.78</td>\n",
       "      <td>18.19</td>\n",
       "      <td>26.34</td>\n",
       "    </tr>\n",
       "    <tr>\n",
       "      <th>4</th>\n",
       "      <td>2005</td>\n",
       "      <td>Cambiar International Equity Inv</td>\n",
       "      <td>CAMIX</td>\n",
       "      <td>MSCI EAFE NR USD</td>\n",
       "      <td>40</td>\n",
       "      <td>63</td>\n",
       "      <td>32780427</td>\n",
       "      <td>2.64</td>\n",
       "      <td>7.72</td>\n",
       "      <td>13.85</td>\n",
       "      <td>...</td>\n",
       "      <td>0.92</td>\n",
       "      <td>5.89</td>\n",
       "      <td>2.20</td>\n",
       "      <td>10.73</td>\n",
       "      <td>12.12</td>\n",
       "      <td>3.26</td>\n",
       "      <td>-4.04</td>\n",
       "      <td>5.15</td>\n",
       "      <td>29.04</td>\n",
       "      <td>26.34</td>\n",
       "    </tr>\n",
       "  </tbody>\n",
       "</table>\n",
       "<p>5 rows × 27 columns</p>\n",
       "</div>"
      ],
      "text/plain": [
       "   Calender_Year_Year End                                    Name Ticker  \\\n",
       "0                    2005                     STAAR International  SITIX   \n",
       "1                    2005  Hartford Schroders International Stk I  SCIEX   \n",
       "2                    2005                   Sextant International  SSIFX   \n",
       "3                    2005                Sit International Growth  SNGRX   \n",
       "4                    2005        Cambiar International Equity Inv  CAMIX   \n",
       "\n",
       "  Primary_Prospectus_Benchmark  #_of_Holdings  Turnover_Ratio  \\\n",
       "0             MSCI EAFE NR USD             17              16   \n",
       "1             MSCI EAFE NR USD             50             126   \n",
       "2             MSCI EAFE NR USD             59               5   \n",
       "3             MSCI EAFE NR USD             93              28   \n",
       "4             MSCI EAFE NR USD             40              63   \n",
       "\n",
       "   Total_Market_Value   P_B    P_C    P_E      ...        \\\n",
       "0             4758135  2.61   8.51  15.00      ...         \n",
       "1             7173207  3.76  11.13  16.41      ...         \n",
       "2             7208690  2.48   9.48  18.89      ...         \n",
       "3            31827776  1.48   5.23  21.07      ...         \n",
       "4            32780427  2.64   7.72  13.85      ...         \n",
       "\n",
       "   Equity_Style_Factor_P_S  Equity_Style_Factor_P_C  \\\n",
       "0                     1.01                     5.10   \n",
       "1                     1.46                    11.52   \n",
       "2                     2.42                     7.55   \n",
       "3                     1.41                    10.62   \n",
       "4                     0.92                     5.89   \n",
       "\n",
       "   Equity_Style_Factor_Div_Yld  Equity_Style_Factor_LT_Earn_Growth  \\\n",
       "0                         2.72                               12.59   \n",
       "1                         3.81                               13.09   \n",
       "2                         1.55                               10.45   \n",
       "3                         1.79                               13.20   \n",
       "4                         2.20                               10.73   \n",
       "\n",
       "   Equity_Style_Factor_Hist_Earn_Growth  Equity_Style_Factor_BV_Growth  \\\n",
       "0                                 18.78                          -7.83   \n",
       "1                                 22.45                           3.97   \n",
       "2                                 18.01                           7.51   \n",
       "3                                 22.26                           6.14   \n",
       "4                                 12.12                           3.26   \n",
       "\n",
       "   Equity_Style_Factor_Sales_Growth  Equity_Style_Factor_CF_Growth  \\\n",
       "0                              6.66                         -14.86   \n",
       "1                              1.73                           1.48   \n",
       "2                              7.00                          16.96   \n",
       "3                              5.39                          10.78   \n",
       "4                             -4.04                           5.15   \n",
       "\n",
       "   1Yr_Return  1Yr_Return_BM  \n",
       "0       21.38          26.34  \n",
       "1       24.46          26.34  \n",
       "2       22.02          26.34  \n",
       "3       18.19          26.34  \n",
       "4       29.04          26.34  \n",
       "\n",
       "[5 rows x 27 columns]"
      ]
     },
     "execution_count": 287,
     "metadata": {},
     "output_type": "execute_result"
    }
   ],
   "source": [
    "data.head()"
   ]
  },
  {
   "cell_type": "code",
   "execution_count": 288,
   "metadata": {
    "collapsed": false
   },
   "outputs": [
    {
     "data": {
      "text/plain": [
       "(9271, 27)"
      ]
     },
     "execution_count": 288,
     "metadata": {},
     "output_type": "execute_result"
    }
   ],
   "source": [
    "data.shape"
   ]
  },
  {
   "cell_type": "code",
   "execution_count": 289,
   "metadata": {
    "collapsed": false
   },
   "outputs": [
    {
     "data": {
      "text/plain": [
       "Calender_Year_Year End                    int64\n",
       "Name                                     object\n",
       "Ticker                                   object\n",
       "Primary_Prospectus_Benchmark             object\n",
       "#_of_Holdings                             int64\n",
       "Turnover_Ratio                            int64\n",
       "Total_Market_Value                        int64\n",
       "P_B                                     float64\n",
       "P_C                                     float64\n",
       "P_E                                     float64\n",
       "P_S                                     float64\n",
       "Debt_to_Capital                         float64\n",
       "Net_Margin                              float64\n",
       "ROA                                     float64\n",
       "ROE                                     float64\n",
       "Equity_Style_Factor_P_E                 float64\n",
       "Equity_Style_Factor_P_B                 float64\n",
       "Equity_Style_Factor_P_S                 float64\n",
       "Equity_Style_Factor_P_C                 float64\n",
       "Equity_Style_Factor_Div_Yld             float64\n",
       "Equity_Style_Factor_LT_Earn_Growth      float64\n",
       "Equity_Style_Factor_Hist_Earn_Growth    float64\n",
       "Equity_Style_Factor_BV_Growth           float64\n",
       "Equity_Style_Factor_Sales_Growth        float64\n",
       "Equity_Style_Factor_CF_Growth           float64\n",
       "1Yr_Return                              float64\n",
       "1Yr_Return_BM                           float64\n",
       "dtype: object"
      ]
     },
     "execution_count": 289,
     "metadata": {},
     "output_type": "execute_result"
    }
   ],
   "source": [
    "data.dtypes"
   ]
  },
  {
   "cell_type": "code",
   "execution_count": 290,
   "metadata": {
    "collapsed": false
   },
   "outputs": [
    {
     "data": {
      "text/plain": [
       "Calender_Year_Year End                    0\n",
       "Name                                      0\n",
       "Ticker                                    0\n",
       "Primary_Prospectus_Benchmark              0\n",
       "#_of_Holdings                             0\n",
       "Turnover_Ratio                            0\n",
       "Total_Market_Value                        0\n",
       "P_B                                      52\n",
       "P_C                                     321\n",
       "P_E                                     130\n",
       "P_S                                      59\n",
       "Debt_to_Capital                         207\n",
       "Net_Margin                               64\n",
       "ROA                                      52\n",
       "ROE                                      52\n",
       "Equity_Style_Factor_P_E                  59\n",
       "Equity_Style_Factor_P_B                  59\n",
       "Equity_Style_Factor_P_S                  59\n",
       "Equity_Style_Factor_P_C                  63\n",
       "Equity_Style_Factor_Div_Yld              67\n",
       "Equity_Style_Factor_LT_Earn_Growth       60\n",
       "Equity_Style_Factor_Hist_Earn_Growth     70\n",
       "Equity_Style_Factor_BV_Growth            59\n",
       "Equity_Style_Factor_Sales_Growth         59\n",
       "Equity_Style_Factor_CF_Growth            86\n",
       "1Yr_Return                                0\n",
       "1Yr_Return_BM                             0\n",
       "dtype: int64"
      ]
     },
     "execution_count": 290,
     "metadata": {},
     "output_type": "execute_result"
    }
   ],
   "source": [
    "#Count number of Nan\n",
    "data.isnull().sum()"
   ]
  },
  {
   "cell_type": "code",
   "execution_count": 291,
   "metadata": {
    "collapsed": true
   },
   "outputs": [],
   "source": [
    "cleandata =  data"
   ]
  },
  {
   "cell_type": "code",
   "execution_count": 292,
   "metadata": {
    "collapsed": false
   },
   "outputs": [],
   "source": [
    "cleandata['P_B'] = cleandata.groupby(['Primary_Prospectus_Benchmark']).P_B.transform(lambda x: x.fillna(x.mean()))\n",
    "cleandata['P_C'] = cleandata.groupby(['Primary_Prospectus_Benchmark']).P_C.transform(lambda x: x.fillna(x.mean()))\n",
    "cleandata['P_E'] = cleandata.groupby(['Primary_Prospectus_Benchmark']).P_E.transform(lambda x: x.fillna(x.mean()))\n",
    "cleandata['P_S'] = cleandata.groupby(['Primary_Prospectus_Benchmark']).P_S.transform(lambda x: x.fillna(x.mean()))\n",
    "cleandata['Debt_to_Capital'] = cleandata.groupby(['Primary_Prospectus_Benchmark']).Debt_to_Capital.transform(lambda x: x.fillna(x.mean()))\n",
    "cleandata['Net_Margin'] = cleandata.groupby(['Primary_Prospectus_Benchmark']).Net_Margin.transform(lambda x: x.fillna(x.mean()))\n",
    "cleandata['ROA'] = cleandata.groupby(['Primary_Prospectus_Benchmark']).ROA.transform(lambda x: x.fillna(x.mean()))\n",
    "cleandata['ROE'] = cleandata.groupby(['Primary_Prospectus_Benchmark']).ROE.transform(lambda x: x.fillna(x.mean()))\n",
    "cleandata['Equity_Style_Factor_P_E'] = cleandata.groupby(['Primary_Prospectus_Benchmark']).Equity_Style_Factor_P_E.transform(lambda x: x.fillna(x.mean()))\n",
    "cleandata['Equity_Style_Factor_P_B'] = cleandata.groupby(['Primary_Prospectus_Benchmark']).Equity_Style_Factor_P_B.transform(lambda x: x.fillna(x.mean()))\n",
    "cleandata['Equity_Style_Factor_P_S'] = cleandata.groupby(['Primary_Prospectus_Benchmark']).Equity_Style_Factor_P_S.transform(lambda x: x.fillna(x.mean()))\n",
    "cleandata['Equity_Style_Factor_P_C'] = cleandata.groupby(['Primary_Prospectus_Benchmark']).Equity_Style_Factor_P_C.transform(lambda x: x.fillna(x.mean()))\n",
    "cleandata['Equity_Style_Factor_Div_Yld'] = cleandata.groupby(['Primary_Prospectus_Benchmark']).Equity_Style_Factor_Div_Yld.transform(lambda x: x.fillna(x.mean()))\n",
    "cleandata['Equity_Style_Factor_LT_Earn_Growth'] = cleandata.groupby(['Primary_Prospectus_Benchmark']).Equity_Style_Factor_LT_Earn_Growth.transform(lambda x: x.fillna(x.mean()))\n",
    "cleandata['Equity_Style_Factor_Hist_Earn_Growth'] = cleandata.groupby(['Primary_Prospectus_Benchmark']).Equity_Style_Factor_Hist_Earn_Growth.transform(lambda x: x.fillna(x.mean()))\n",
    "cleandata['Equity_Style_Factor_BV_Growth'] = cleandata.groupby(['Primary_Prospectus_Benchmark']).Equity_Style_Factor_BV_Growth.transform(lambda x: x.fillna(x.mean()))\n",
    "cleandata['Equity_Style_Factor_Sales_Growth'] = cleandata.groupby(['Primary_Prospectus_Benchmark']).Equity_Style_Factor_Sales_Growth.transform(lambda x: x.fillna(x.mean()))\n",
    "cleandata['Equity_Style_Factor_CF_Growth'] = cleandata.groupby(['Primary_Prospectus_Benchmark']).Equity_Style_Factor_CF_Growth.transform(lambda x: x.fillna(x.mean()))"
   ]
  },
  {
   "cell_type": "code",
   "execution_count": 293,
   "metadata": {
    "collapsed": false
   },
   "outputs": [
    {
     "data": {
      "text/plain": [
       "Calender_Year_Year End                  0\n",
       "Name                                    0\n",
       "Ticker                                  0\n",
       "Primary_Prospectus_Benchmark            0\n",
       "#_of_Holdings                           0\n",
       "Turnover_Ratio                          0\n",
       "Total_Market_Value                      0\n",
       "P_B                                     0\n",
       "P_C                                     0\n",
       "P_E                                     0\n",
       "P_S                                     0\n",
       "Debt_to_Capital                         0\n",
       "Net_Margin                              0\n",
       "ROA                                     0\n",
       "ROE                                     0\n",
       "Equity_Style_Factor_P_E                 0\n",
       "Equity_Style_Factor_P_B                 0\n",
       "Equity_Style_Factor_P_S                 0\n",
       "Equity_Style_Factor_P_C                 0\n",
       "Equity_Style_Factor_Div_Yld             0\n",
       "Equity_Style_Factor_LT_Earn_Growth      0\n",
       "Equity_Style_Factor_Hist_Earn_Growth    0\n",
       "Equity_Style_Factor_BV_Growth           0\n",
       "Equity_Style_Factor_Sales_Growth        0\n",
       "Equity_Style_Factor_CF_Growth           0\n",
       "1Yr_Return                              0\n",
       "1Yr_Return_BM                           0\n",
       "dtype: int64"
      ]
     },
     "execution_count": 293,
     "metadata": {},
     "output_type": "execute_result"
    }
   ],
   "source": [
    "data.isnull().sum()"
   ]
  },
  {
   "cell_type": "code",
   "execution_count": 294,
   "metadata": {
    "collapsed": false
   },
   "outputs": [
    {
     "data": {
      "text/plain": [
       "(9271, 27)"
      ]
     },
     "execution_count": 294,
     "metadata": {},
     "output_type": "execute_result"
    }
   ],
   "source": [
    "cleandata.shape"
   ]
  },
  {
   "cell_type": "code",
   "execution_count": 295,
   "metadata": {
    "collapsed": false
   },
   "outputs": [],
   "source": [
    "#new columns, return 1 if outperform BM, return 0 if not\n",
    "cleandata['Beat_BM_1Yr'] = np.where(cleandata['1Yr_Return']> cleandata['1Yr_Return_BM'], 1, 0)"
   ]
  },
  {
   "cell_type": "code",
   "execution_count": 296,
   "metadata": {
    "collapsed": false
   },
   "outputs": [
    {
     "data": {
      "text/html": [
       "<div>\n",
       "<table border=\"1\" class=\"dataframe\">\n",
       "  <thead>\n",
       "    <tr style=\"text-align: right;\">\n",
       "      <th></th>\n",
       "      <th>Calender_Year_Year End</th>\n",
       "      <th>Name</th>\n",
       "      <th>Ticker</th>\n",
       "      <th>Primary_Prospectus_Benchmark</th>\n",
       "      <th>#_of_Holdings</th>\n",
       "      <th>Turnover_Ratio</th>\n",
       "      <th>Total_Market_Value</th>\n",
       "      <th>P_B</th>\n",
       "      <th>P_C</th>\n",
       "      <th>P_E</th>\n",
       "      <th>...</th>\n",
       "      <th>Equity_Style_Factor_P_C</th>\n",
       "      <th>Equity_Style_Factor_Div_Yld</th>\n",
       "      <th>Equity_Style_Factor_LT_Earn_Growth</th>\n",
       "      <th>Equity_Style_Factor_Hist_Earn_Growth</th>\n",
       "      <th>Equity_Style_Factor_BV_Growth</th>\n",
       "      <th>Equity_Style_Factor_Sales_Growth</th>\n",
       "      <th>Equity_Style_Factor_CF_Growth</th>\n",
       "      <th>1Yr_Return</th>\n",
       "      <th>1Yr_Return_BM</th>\n",
       "      <th>Beat_BM_1Yr</th>\n",
       "    </tr>\n",
       "  </thead>\n",
       "  <tbody>\n",
       "    <tr>\n",
       "      <th>0</th>\n",
       "      <td>2005</td>\n",
       "      <td>STAAR International</td>\n",
       "      <td>SITIX</td>\n",
       "      <td>MSCI EAFE NR USD</td>\n",
       "      <td>17</td>\n",
       "      <td>16</td>\n",
       "      <td>4758135</td>\n",
       "      <td>2.61</td>\n",
       "      <td>8.51</td>\n",
       "      <td>15.00</td>\n",
       "      <td>...</td>\n",
       "      <td>5.10</td>\n",
       "      <td>2.72</td>\n",
       "      <td>12.59</td>\n",
       "      <td>18.78</td>\n",
       "      <td>-7.83</td>\n",
       "      <td>6.66</td>\n",
       "      <td>-14.86</td>\n",
       "      <td>21.38</td>\n",
       "      <td>26.34</td>\n",
       "      <td>0</td>\n",
       "    </tr>\n",
       "    <tr>\n",
       "      <th>1</th>\n",
       "      <td>2005</td>\n",
       "      <td>Hartford Schroders International Stk I</td>\n",
       "      <td>SCIEX</td>\n",
       "      <td>MSCI EAFE NR USD</td>\n",
       "      <td>50</td>\n",
       "      <td>126</td>\n",
       "      <td>7173207</td>\n",
       "      <td>3.76</td>\n",
       "      <td>11.13</td>\n",
       "      <td>16.41</td>\n",
       "      <td>...</td>\n",
       "      <td>11.52</td>\n",
       "      <td>3.81</td>\n",
       "      <td>13.09</td>\n",
       "      <td>22.45</td>\n",
       "      <td>3.97</td>\n",
       "      <td>1.73</td>\n",
       "      <td>1.48</td>\n",
       "      <td>24.46</td>\n",
       "      <td>26.34</td>\n",
       "      <td>0</td>\n",
       "    </tr>\n",
       "    <tr>\n",
       "      <th>2</th>\n",
       "      <td>2005</td>\n",
       "      <td>Sextant International</td>\n",
       "      <td>SSIFX</td>\n",
       "      <td>MSCI EAFE NR USD</td>\n",
       "      <td>59</td>\n",
       "      <td>5</td>\n",
       "      <td>7208690</td>\n",
       "      <td>2.48</td>\n",
       "      <td>9.48</td>\n",
       "      <td>18.89</td>\n",
       "      <td>...</td>\n",
       "      <td>7.55</td>\n",
       "      <td>1.55</td>\n",
       "      <td>10.45</td>\n",
       "      <td>18.01</td>\n",
       "      <td>7.51</td>\n",
       "      <td>7.00</td>\n",
       "      <td>16.96</td>\n",
       "      <td>22.02</td>\n",
       "      <td>26.34</td>\n",
       "      <td>0</td>\n",
       "    </tr>\n",
       "    <tr>\n",
       "      <th>3</th>\n",
       "      <td>2005</td>\n",
       "      <td>Sit International Growth</td>\n",
       "      <td>SNGRX</td>\n",
       "      <td>MSCI EAFE NR USD</td>\n",
       "      <td>93</td>\n",
       "      <td>28</td>\n",
       "      <td>31827776</td>\n",
       "      <td>1.48</td>\n",
       "      <td>5.23</td>\n",
       "      <td>21.07</td>\n",
       "      <td>...</td>\n",
       "      <td>10.62</td>\n",
       "      <td>1.79</td>\n",
       "      <td>13.20</td>\n",
       "      <td>22.26</td>\n",
       "      <td>6.14</td>\n",
       "      <td>5.39</td>\n",
       "      <td>10.78</td>\n",
       "      <td>18.19</td>\n",
       "      <td>26.34</td>\n",
       "      <td>0</td>\n",
       "    </tr>\n",
       "    <tr>\n",
       "      <th>4</th>\n",
       "      <td>2005</td>\n",
       "      <td>Cambiar International Equity Inv</td>\n",
       "      <td>CAMIX</td>\n",
       "      <td>MSCI EAFE NR USD</td>\n",
       "      <td>40</td>\n",
       "      <td>63</td>\n",
       "      <td>32780427</td>\n",
       "      <td>2.64</td>\n",
       "      <td>7.72</td>\n",
       "      <td>13.85</td>\n",
       "      <td>...</td>\n",
       "      <td>5.89</td>\n",
       "      <td>2.20</td>\n",
       "      <td>10.73</td>\n",
       "      <td>12.12</td>\n",
       "      <td>3.26</td>\n",
       "      <td>-4.04</td>\n",
       "      <td>5.15</td>\n",
       "      <td>29.04</td>\n",
       "      <td>26.34</td>\n",
       "      <td>1</td>\n",
       "    </tr>\n",
       "  </tbody>\n",
       "</table>\n",
       "<p>5 rows × 28 columns</p>\n",
       "</div>"
      ],
      "text/plain": [
       "   Calender_Year_Year End                                    Name Ticker  \\\n",
       "0                    2005                     STAAR International  SITIX   \n",
       "1                    2005  Hartford Schroders International Stk I  SCIEX   \n",
       "2                    2005                   Sextant International  SSIFX   \n",
       "3                    2005                Sit International Growth  SNGRX   \n",
       "4                    2005        Cambiar International Equity Inv  CAMIX   \n",
       "\n",
       "  Primary_Prospectus_Benchmark  #_of_Holdings  Turnover_Ratio  \\\n",
       "0             MSCI EAFE NR USD             17              16   \n",
       "1             MSCI EAFE NR USD             50             126   \n",
       "2             MSCI EAFE NR USD             59               5   \n",
       "3             MSCI EAFE NR USD             93              28   \n",
       "4             MSCI EAFE NR USD             40              63   \n",
       "\n",
       "   Total_Market_Value   P_B    P_C    P_E     ...       \\\n",
       "0             4758135  2.61   8.51  15.00     ...        \n",
       "1             7173207  3.76  11.13  16.41     ...        \n",
       "2             7208690  2.48   9.48  18.89     ...        \n",
       "3            31827776  1.48   5.23  21.07     ...        \n",
       "4            32780427  2.64   7.72  13.85     ...        \n",
       "\n",
       "   Equity_Style_Factor_P_C  Equity_Style_Factor_Div_Yld  \\\n",
       "0                     5.10                         2.72   \n",
       "1                    11.52                         3.81   \n",
       "2                     7.55                         1.55   \n",
       "3                    10.62                         1.79   \n",
       "4                     5.89                         2.20   \n",
       "\n",
       "   Equity_Style_Factor_LT_Earn_Growth  Equity_Style_Factor_Hist_Earn_Growth  \\\n",
       "0                               12.59                                 18.78   \n",
       "1                               13.09                                 22.45   \n",
       "2                               10.45                                 18.01   \n",
       "3                               13.20                                 22.26   \n",
       "4                               10.73                                 12.12   \n",
       "\n",
       "   Equity_Style_Factor_BV_Growth  Equity_Style_Factor_Sales_Growth  \\\n",
       "0                          -7.83                              6.66   \n",
       "1                           3.97                              1.73   \n",
       "2                           7.51                              7.00   \n",
       "3                           6.14                              5.39   \n",
       "4                           3.26                             -4.04   \n",
       "\n",
       "   Equity_Style_Factor_CF_Growth  1Yr_Return  1Yr_Return_BM  Beat_BM_1Yr  \n",
       "0                         -14.86       21.38          26.34            0  \n",
       "1                           1.48       24.46          26.34            0  \n",
       "2                          16.96       22.02          26.34            0  \n",
       "3                          10.78       18.19          26.34            0  \n",
       "4                           5.15       29.04          26.34            1  \n",
       "\n",
       "[5 rows x 28 columns]"
      ]
     },
     "execution_count": 296,
     "metadata": {},
     "output_type": "execute_result"
    }
   ],
   "source": [
    "cleandata.head()"
   ]
  },
  {
   "cell_type": "code",
   "execution_count": 297,
   "metadata": {
    "collapsed": true
   },
   "outputs": [],
   "source": [
    "#new columns, returns degree of outperformance or underperformance\n",
    "cleandata['Perf_vs_BM_1Yr'] = cleandata['1Yr_Return'] - cleandata['1Yr_Return_BM']"
   ]
  },
  {
   "cell_type": "code",
   "execution_count": 298,
   "metadata": {
    "collapsed": false,
    "scrolled": true
   },
   "outputs": [
    {
     "data": {
      "text/html": [
       "<div>\n",
       "<table border=\"1\" class=\"dataframe\">\n",
       "  <thead>\n",
       "    <tr style=\"text-align: right;\">\n",
       "      <th></th>\n",
       "      <th>Calender_Year_Year End</th>\n",
       "      <th>Name</th>\n",
       "      <th>Ticker</th>\n",
       "      <th>Primary_Prospectus_Benchmark</th>\n",
       "      <th>#_of_Holdings</th>\n",
       "      <th>Turnover_Ratio</th>\n",
       "      <th>Total_Market_Value</th>\n",
       "      <th>P_B</th>\n",
       "      <th>P_C</th>\n",
       "      <th>P_E</th>\n",
       "      <th>...</th>\n",
       "      <th>Equity_Style_Factor_Div_Yld</th>\n",
       "      <th>Equity_Style_Factor_LT_Earn_Growth</th>\n",
       "      <th>Equity_Style_Factor_Hist_Earn_Growth</th>\n",
       "      <th>Equity_Style_Factor_BV_Growth</th>\n",
       "      <th>Equity_Style_Factor_Sales_Growth</th>\n",
       "      <th>Equity_Style_Factor_CF_Growth</th>\n",
       "      <th>1Yr_Return</th>\n",
       "      <th>1Yr_Return_BM</th>\n",
       "      <th>Beat_BM_1Yr</th>\n",
       "      <th>Perf_vs_BM_1Yr</th>\n",
       "    </tr>\n",
       "  </thead>\n",
       "  <tbody>\n",
       "    <tr>\n",
       "      <th>0</th>\n",
       "      <td>2005</td>\n",
       "      <td>STAAR International</td>\n",
       "      <td>SITIX</td>\n",
       "      <td>MSCI EAFE NR USD</td>\n",
       "      <td>17</td>\n",
       "      <td>16</td>\n",
       "      <td>4758135</td>\n",
       "      <td>2.61</td>\n",
       "      <td>8.51</td>\n",
       "      <td>15.00</td>\n",
       "      <td>...</td>\n",
       "      <td>2.72</td>\n",
       "      <td>12.59</td>\n",
       "      <td>18.78</td>\n",
       "      <td>-7.83</td>\n",
       "      <td>6.66</td>\n",
       "      <td>-14.86</td>\n",
       "      <td>21.38</td>\n",
       "      <td>26.34</td>\n",
       "      <td>0</td>\n",
       "      <td>-4.96</td>\n",
       "    </tr>\n",
       "    <tr>\n",
       "      <th>1</th>\n",
       "      <td>2005</td>\n",
       "      <td>Hartford Schroders International Stk I</td>\n",
       "      <td>SCIEX</td>\n",
       "      <td>MSCI EAFE NR USD</td>\n",
       "      <td>50</td>\n",
       "      <td>126</td>\n",
       "      <td>7173207</td>\n",
       "      <td>3.76</td>\n",
       "      <td>11.13</td>\n",
       "      <td>16.41</td>\n",
       "      <td>...</td>\n",
       "      <td>3.81</td>\n",
       "      <td>13.09</td>\n",
       "      <td>22.45</td>\n",
       "      <td>3.97</td>\n",
       "      <td>1.73</td>\n",
       "      <td>1.48</td>\n",
       "      <td>24.46</td>\n",
       "      <td>26.34</td>\n",
       "      <td>0</td>\n",
       "      <td>-1.88</td>\n",
       "    </tr>\n",
       "    <tr>\n",
       "      <th>2</th>\n",
       "      <td>2005</td>\n",
       "      <td>Sextant International</td>\n",
       "      <td>SSIFX</td>\n",
       "      <td>MSCI EAFE NR USD</td>\n",
       "      <td>59</td>\n",
       "      <td>5</td>\n",
       "      <td>7208690</td>\n",
       "      <td>2.48</td>\n",
       "      <td>9.48</td>\n",
       "      <td>18.89</td>\n",
       "      <td>...</td>\n",
       "      <td>1.55</td>\n",
       "      <td>10.45</td>\n",
       "      <td>18.01</td>\n",
       "      <td>7.51</td>\n",
       "      <td>7.00</td>\n",
       "      <td>16.96</td>\n",
       "      <td>22.02</td>\n",
       "      <td>26.34</td>\n",
       "      <td>0</td>\n",
       "      <td>-4.32</td>\n",
       "    </tr>\n",
       "    <tr>\n",
       "      <th>3</th>\n",
       "      <td>2005</td>\n",
       "      <td>Sit International Growth</td>\n",
       "      <td>SNGRX</td>\n",
       "      <td>MSCI EAFE NR USD</td>\n",
       "      <td>93</td>\n",
       "      <td>28</td>\n",
       "      <td>31827776</td>\n",
       "      <td>1.48</td>\n",
       "      <td>5.23</td>\n",
       "      <td>21.07</td>\n",
       "      <td>...</td>\n",
       "      <td>1.79</td>\n",
       "      <td>13.20</td>\n",
       "      <td>22.26</td>\n",
       "      <td>6.14</td>\n",
       "      <td>5.39</td>\n",
       "      <td>10.78</td>\n",
       "      <td>18.19</td>\n",
       "      <td>26.34</td>\n",
       "      <td>0</td>\n",
       "      <td>-8.15</td>\n",
       "    </tr>\n",
       "    <tr>\n",
       "      <th>4</th>\n",
       "      <td>2005</td>\n",
       "      <td>Cambiar International Equity Inv</td>\n",
       "      <td>CAMIX</td>\n",
       "      <td>MSCI EAFE NR USD</td>\n",
       "      <td>40</td>\n",
       "      <td>63</td>\n",
       "      <td>32780427</td>\n",
       "      <td>2.64</td>\n",
       "      <td>7.72</td>\n",
       "      <td>13.85</td>\n",
       "      <td>...</td>\n",
       "      <td>2.20</td>\n",
       "      <td>10.73</td>\n",
       "      <td>12.12</td>\n",
       "      <td>3.26</td>\n",
       "      <td>-4.04</td>\n",
       "      <td>5.15</td>\n",
       "      <td>29.04</td>\n",
       "      <td>26.34</td>\n",
       "      <td>1</td>\n",
       "      <td>2.70</td>\n",
       "    </tr>\n",
       "  </tbody>\n",
       "</table>\n",
       "<p>5 rows × 29 columns</p>\n",
       "</div>"
      ],
      "text/plain": [
       "   Calender_Year_Year End                                    Name Ticker  \\\n",
       "0                    2005                     STAAR International  SITIX   \n",
       "1                    2005  Hartford Schroders International Stk I  SCIEX   \n",
       "2                    2005                   Sextant International  SSIFX   \n",
       "3                    2005                Sit International Growth  SNGRX   \n",
       "4                    2005        Cambiar International Equity Inv  CAMIX   \n",
       "\n",
       "  Primary_Prospectus_Benchmark  #_of_Holdings  Turnover_Ratio  \\\n",
       "0             MSCI EAFE NR USD             17              16   \n",
       "1             MSCI EAFE NR USD             50             126   \n",
       "2             MSCI EAFE NR USD             59               5   \n",
       "3             MSCI EAFE NR USD             93              28   \n",
       "4             MSCI EAFE NR USD             40              63   \n",
       "\n",
       "   Total_Market_Value   P_B    P_C    P_E       ...        \\\n",
       "0             4758135  2.61   8.51  15.00       ...         \n",
       "1             7173207  3.76  11.13  16.41       ...         \n",
       "2             7208690  2.48   9.48  18.89       ...         \n",
       "3            31827776  1.48   5.23  21.07       ...         \n",
       "4            32780427  2.64   7.72  13.85       ...         \n",
       "\n",
       "   Equity_Style_Factor_Div_Yld  Equity_Style_Factor_LT_Earn_Growth  \\\n",
       "0                         2.72                               12.59   \n",
       "1                         3.81                               13.09   \n",
       "2                         1.55                               10.45   \n",
       "3                         1.79                               13.20   \n",
       "4                         2.20                               10.73   \n",
       "\n",
       "   Equity_Style_Factor_Hist_Earn_Growth  Equity_Style_Factor_BV_Growth  \\\n",
       "0                                 18.78                          -7.83   \n",
       "1                                 22.45                           3.97   \n",
       "2                                 18.01                           7.51   \n",
       "3                                 22.26                           6.14   \n",
       "4                                 12.12                           3.26   \n",
       "\n",
       "   Equity_Style_Factor_Sales_Growth  Equity_Style_Factor_CF_Growth  \\\n",
       "0                              6.66                         -14.86   \n",
       "1                              1.73                           1.48   \n",
       "2                              7.00                          16.96   \n",
       "3                              5.39                          10.78   \n",
       "4                             -4.04                           5.15   \n",
       "\n",
       "   1Yr_Return  1Yr_Return_BM  Beat_BM_1Yr  Perf_vs_BM_1Yr  \n",
       "0       21.38          26.34            0           -4.96  \n",
       "1       24.46          26.34            0           -1.88  \n",
       "2       22.02          26.34            0           -4.32  \n",
       "3       18.19          26.34            0           -8.15  \n",
       "4       29.04          26.34            1            2.70  \n",
       "\n",
       "[5 rows x 29 columns]"
      ]
     },
     "execution_count": 298,
     "metadata": {},
     "output_type": "execute_result"
    }
   ],
   "source": [
    "cleandata.head()"
   ]
  },
  {
   "cell_type": "code",
   "execution_count": 299,
   "metadata": {
    "collapsed": true
   },
   "outputs": [],
   "source": [
    "cleandata = cleandata.join(pd.get_dummies(cleandata['Primary_Prospectus_Benchmark']))"
   ]
  },
  {
   "cell_type": "code",
   "execution_count": 300,
   "metadata": {
    "collapsed": false
   },
   "outputs": [
    {
     "data": {
      "text/html": [
       "<div>\n",
       "<table border=\"1\" class=\"dataframe\">\n",
       "  <thead>\n",
       "    <tr style=\"text-align: right;\">\n",
       "      <th></th>\n",
       "      <th>Calender_Year_Year End</th>\n",
       "      <th>Name</th>\n",
       "      <th>Ticker</th>\n",
       "      <th>Primary_Prospectus_Benchmark</th>\n",
       "      <th>#_of_Holdings</th>\n",
       "      <th>Turnover_Ratio</th>\n",
       "      <th>Total_Market_Value</th>\n",
       "      <th>P_B</th>\n",
       "      <th>P_C</th>\n",
       "      <th>P_E</th>\n",
       "      <th>...</th>\n",
       "      <th>Equity_Style_Factor_Sales_Growth</th>\n",
       "      <th>Equity_Style_Factor_CF_Growth</th>\n",
       "      <th>1Yr_Return</th>\n",
       "      <th>1Yr_Return_BM</th>\n",
       "      <th>Beat_BM_1Yr</th>\n",
       "      <th>Perf_vs_BM_1Yr</th>\n",
       "      <th>MSCI EAFE NR USD</th>\n",
       "      <th>MSCI EM NR USD</th>\n",
       "      <th>Russell 2000 TR USD</th>\n",
       "      <th>S&amp;P 500 TR USD</th>\n",
       "    </tr>\n",
       "  </thead>\n",
       "  <tbody>\n",
       "    <tr>\n",
       "      <th>0</th>\n",
       "      <td>2005</td>\n",
       "      <td>STAAR International</td>\n",
       "      <td>SITIX</td>\n",
       "      <td>MSCI EAFE NR USD</td>\n",
       "      <td>17</td>\n",
       "      <td>16</td>\n",
       "      <td>4758135</td>\n",
       "      <td>2.61</td>\n",
       "      <td>8.51</td>\n",
       "      <td>15.00</td>\n",
       "      <td>...</td>\n",
       "      <td>6.66</td>\n",
       "      <td>-14.86</td>\n",
       "      <td>21.38</td>\n",
       "      <td>26.34</td>\n",
       "      <td>0</td>\n",
       "      <td>-4.96</td>\n",
       "      <td>1</td>\n",
       "      <td>0</td>\n",
       "      <td>0</td>\n",
       "      <td>0</td>\n",
       "    </tr>\n",
       "    <tr>\n",
       "      <th>1</th>\n",
       "      <td>2005</td>\n",
       "      <td>Hartford Schroders International Stk I</td>\n",
       "      <td>SCIEX</td>\n",
       "      <td>MSCI EAFE NR USD</td>\n",
       "      <td>50</td>\n",
       "      <td>126</td>\n",
       "      <td>7173207</td>\n",
       "      <td>3.76</td>\n",
       "      <td>11.13</td>\n",
       "      <td>16.41</td>\n",
       "      <td>...</td>\n",
       "      <td>1.73</td>\n",
       "      <td>1.48</td>\n",
       "      <td>24.46</td>\n",
       "      <td>26.34</td>\n",
       "      <td>0</td>\n",
       "      <td>-1.88</td>\n",
       "      <td>1</td>\n",
       "      <td>0</td>\n",
       "      <td>0</td>\n",
       "      <td>0</td>\n",
       "    </tr>\n",
       "    <tr>\n",
       "      <th>2</th>\n",
       "      <td>2005</td>\n",
       "      <td>Sextant International</td>\n",
       "      <td>SSIFX</td>\n",
       "      <td>MSCI EAFE NR USD</td>\n",
       "      <td>59</td>\n",
       "      <td>5</td>\n",
       "      <td>7208690</td>\n",
       "      <td>2.48</td>\n",
       "      <td>9.48</td>\n",
       "      <td>18.89</td>\n",
       "      <td>...</td>\n",
       "      <td>7.00</td>\n",
       "      <td>16.96</td>\n",
       "      <td>22.02</td>\n",
       "      <td>26.34</td>\n",
       "      <td>0</td>\n",
       "      <td>-4.32</td>\n",
       "      <td>1</td>\n",
       "      <td>0</td>\n",
       "      <td>0</td>\n",
       "      <td>0</td>\n",
       "    </tr>\n",
       "    <tr>\n",
       "      <th>3</th>\n",
       "      <td>2005</td>\n",
       "      <td>Sit International Growth</td>\n",
       "      <td>SNGRX</td>\n",
       "      <td>MSCI EAFE NR USD</td>\n",
       "      <td>93</td>\n",
       "      <td>28</td>\n",
       "      <td>31827776</td>\n",
       "      <td>1.48</td>\n",
       "      <td>5.23</td>\n",
       "      <td>21.07</td>\n",
       "      <td>...</td>\n",
       "      <td>5.39</td>\n",
       "      <td>10.78</td>\n",
       "      <td>18.19</td>\n",
       "      <td>26.34</td>\n",
       "      <td>0</td>\n",
       "      <td>-8.15</td>\n",
       "      <td>1</td>\n",
       "      <td>0</td>\n",
       "      <td>0</td>\n",
       "      <td>0</td>\n",
       "    </tr>\n",
       "    <tr>\n",
       "      <th>4</th>\n",
       "      <td>2005</td>\n",
       "      <td>Cambiar International Equity Inv</td>\n",
       "      <td>CAMIX</td>\n",
       "      <td>MSCI EAFE NR USD</td>\n",
       "      <td>40</td>\n",
       "      <td>63</td>\n",
       "      <td>32780427</td>\n",
       "      <td>2.64</td>\n",
       "      <td>7.72</td>\n",
       "      <td>13.85</td>\n",
       "      <td>...</td>\n",
       "      <td>-4.04</td>\n",
       "      <td>5.15</td>\n",
       "      <td>29.04</td>\n",
       "      <td>26.34</td>\n",
       "      <td>1</td>\n",
       "      <td>2.70</td>\n",
       "      <td>1</td>\n",
       "      <td>0</td>\n",
       "      <td>0</td>\n",
       "      <td>0</td>\n",
       "    </tr>\n",
       "  </tbody>\n",
       "</table>\n",
       "<p>5 rows × 33 columns</p>\n",
       "</div>"
      ],
      "text/plain": [
       "   Calender_Year_Year End                                    Name Ticker  \\\n",
       "0                    2005                     STAAR International  SITIX   \n",
       "1                    2005  Hartford Schroders International Stk I  SCIEX   \n",
       "2                    2005                   Sextant International  SSIFX   \n",
       "3                    2005                Sit International Growth  SNGRX   \n",
       "4                    2005        Cambiar International Equity Inv  CAMIX   \n",
       "\n",
       "  Primary_Prospectus_Benchmark  #_of_Holdings  Turnover_Ratio  \\\n",
       "0             MSCI EAFE NR USD             17              16   \n",
       "1             MSCI EAFE NR USD             50             126   \n",
       "2             MSCI EAFE NR USD             59               5   \n",
       "3             MSCI EAFE NR USD             93              28   \n",
       "4             MSCI EAFE NR USD             40              63   \n",
       "\n",
       "   Total_Market_Value   P_B    P_C    P_E       ...        \\\n",
       "0             4758135  2.61   8.51  15.00       ...         \n",
       "1             7173207  3.76  11.13  16.41       ...         \n",
       "2             7208690  2.48   9.48  18.89       ...         \n",
       "3            31827776  1.48   5.23  21.07       ...         \n",
       "4            32780427  2.64   7.72  13.85       ...         \n",
       "\n",
       "   Equity_Style_Factor_Sales_Growth  Equity_Style_Factor_CF_Growth  \\\n",
       "0                              6.66                         -14.86   \n",
       "1                              1.73                           1.48   \n",
       "2                              7.00                          16.96   \n",
       "3                              5.39                          10.78   \n",
       "4                             -4.04                           5.15   \n",
       "\n",
       "   1Yr_Return  1Yr_Return_BM  Beat_BM_1Yr  Perf_vs_BM_1Yr  MSCI EAFE NR USD  \\\n",
       "0       21.38          26.34            0           -4.96                 1   \n",
       "1       24.46          26.34            0           -1.88                 1   \n",
       "2       22.02          26.34            0           -4.32                 1   \n",
       "3       18.19          26.34            0           -8.15                 1   \n",
       "4       29.04          26.34            1            2.70                 1   \n",
       "\n",
       "   MSCI EM NR USD  Russell 2000 TR USD  S&P 500 TR USD  \n",
       "0               0                    0               0  \n",
       "1               0                    0               0  \n",
       "2               0                    0               0  \n",
       "3               0                    0               0  \n",
       "4               0                    0               0  \n",
       "\n",
       "[5 rows x 33 columns]"
      ]
     },
     "execution_count": 300,
     "metadata": {},
     "output_type": "execute_result"
    }
   ],
   "source": [
    "cleandata.head()"
   ]
  },
  {
   "cell_type": "code",
   "execution_count": 301,
   "metadata": {
    "collapsed": false
   },
   "outputs": [
    {
     "data": {
      "text/html": [
       "<div>\n",
       "<table border=\"1\" class=\"dataframe\">\n",
       "  <thead>\n",
       "    <tr style=\"text-align: right;\">\n",
       "      <th></th>\n",
       "      <th>Calender_Year_Year End</th>\n",
       "      <th>#_of_Holdings</th>\n",
       "      <th>Turnover_Ratio</th>\n",
       "      <th>Total_Market_Value</th>\n",
       "      <th>P_B</th>\n",
       "      <th>P_C</th>\n",
       "      <th>P_E</th>\n",
       "      <th>P_S</th>\n",
       "      <th>Debt_to_Capital</th>\n",
       "      <th>Net_Margin</th>\n",
       "      <th>...</th>\n",
       "      <th>Equity_Style_Factor_Sales_Growth</th>\n",
       "      <th>Equity_Style_Factor_CF_Growth</th>\n",
       "      <th>1Yr_Return</th>\n",
       "      <th>1Yr_Return_BM</th>\n",
       "      <th>Beat_BM_1Yr</th>\n",
       "      <th>Perf_vs_BM_1Yr</th>\n",
       "      <th>MSCI EAFE NR USD</th>\n",
       "      <th>MSCI EM NR USD</th>\n",
       "      <th>Russell 2000 TR USD</th>\n",
       "      <th>S&amp;P 500 TR USD</th>\n",
       "    </tr>\n",
       "  </thead>\n",
       "  <tbody>\n",
       "    <tr>\n",
       "      <th>count</th>\n",
       "      <td>9271.000000</td>\n",
       "      <td>9271.000000</td>\n",
       "      <td>9271.000000</td>\n",
       "      <td>9.271000e+03</td>\n",
       "      <td>9271.000000</td>\n",
       "      <td>9271.000000</td>\n",
       "      <td>9271.000000</td>\n",
       "      <td>9271.000000</td>\n",
       "      <td>9271.000000</td>\n",
       "      <td>9271.000000</td>\n",
       "      <td>...</td>\n",
       "      <td>9271.000000</td>\n",
       "      <td>9271.000000</td>\n",
       "      <td>9271.000000</td>\n",
       "      <td>9271.000000</td>\n",
       "      <td>9271.000000</td>\n",
       "      <td>9271.000000</td>\n",
       "      <td>9271.000000</td>\n",
       "      <td>9271.000000</td>\n",
       "      <td>9271.000000</td>\n",
       "      <td>9271.000000</td>\n",
       "    </tr>\n",
       "    <tr>\n",
       "      <th>mean</th>\n",
       "      <td>2010.177111</td>\n",
       "      <td>215.162550</td>\n",
       "      <td>78.349585</td>\n",
       "      <td>1.919108e+09</td>\n",
       "      <td>2.395142</td>\n",
       "      <td>10.175625</td>\n",
       "      <td>16.840132</td>\n",
       "      <td>1.487014</td>\n",
       "      <td>32.431430</td>\n",
       "      <td>11.985742</td>\n",
       "      <td>...</td>\n",
       "      <td>2.875557</td>\n",
       "      <td>5.814945</td>\n",
       "      <td>8.137690</td>\n",
       "      <td>8.985077</td>\n",
       "      <td>0.392191</td>\n",
       "      <td>-0.847388</td>\n",
       "      <td>0.103980</td>\n",
       "      <td>0.048646</td>\n",
       "      <td>0.135368</td>\n",
       "      <td>0.712005</td>\n",
       "    </tr>\n",
       "    <tr>\n",
       "      <th>std</th>\n",
       "      <td>3.114139</td>\n",
       "      <td>378.033881</td>\n",
       "      <td>123.755929</td>\n",
       "      <td>8.277314e+09</td>\n",
       "      <td>0.837033</td>\n",
       "      <td>3.083662</td>\n",
       "      <td>4.524226</td>\n",
       "      <td>0.907717</td>\n",
       "      <td>7.749081</td>\n",
       "      <td>4.251060</td>\n",
       "      <td>...</td>\n",
       "      <td>11.659311</td>\n",
       "      <td>15.479938</td>\n",
       "      <td>20.653768</td>\n",
       "      <td>18.938981</td>\n",
       "      <td>0.488265</td>\n",
       "      <td>9.521042</td>\n",
       "      <td>0.305251</td>\n",
       "      <td>0.215139</td>\n",
       "      <td>0.342135</td>\n",
       "      <td>0.452853</td>\n",
       "    </tr>\n",
       "    <tr>\n",
       "      <th>min</th>\n",
       "      <td>2005.000000</td>\n",
       "      <td>11.000000</td>\n",
       "      <td>0.000000</td>\n",
       "      <td>8.400000e+01</td>\n",
       "      <td>0.220000</td>\n",
       "      <td>0.000000</td>\n",
       "      <td>1.470000</td>\n",
       "      <td>0.100000</td>\n",
       "      <td>0.000000</td>\n",
       "      <td>-16.810000</td>\n",
       "      <td>...</td>\n",
       "      <td>-90.570000</td>\n",
       "      <td>-92.550000</td>\n",
       "      <td>-68.120000</td>\n",
       "      <td>-53.330000</td>\n",
       "      <td>0.000000</td>\n",
       "      <td>-83.800000</td>\n",
       "      <td>0.000000</td>\n",
       "      <td>0.000000</td>\n",
       "      <td>0.000000</td>\n",
       "      <td>0.000000</td>\n",
       "    </tr>\n",
       "    <tr>\n",
       "      <th>25%</th>\n",
       "      <td>2008.000000</td>\n",
       "      <td>50.000000</td>\n",
       "      <td>22.000000</td>\n",
       "      <td>6.766000e+04</td>\n",
       "      <td>1.830000</td>\n",
       "      <td>8.130000</td>\n",
       "      <td>14.185000</td>\n",
       "      <td>1.030000</td>\n",
       "      <td>28.650000</td>\n",
       "      <td>9.820000</td>\n",
       "      <td>...</td>\n",
       "      <td>0.130000</td>\n",
       "      <td>1.425000</td>\n",
       "      <td>-0.480000</td>\n",
       "      <td>1.380000</td>\n",
       "      <td>0.000000</td>\n",
       "      <td>-4.665000</td>\n",
       "      <td>0.000000</td>\n",
       "      <td>0.000000</td>\n",
       "      <td>0.000000</td>\n",
       "      <td>0.000000</td>\n",
       "    </tr>\n",
       "    <tr>\n",
       "      <th>50%</th>\n",
       "      <td>2010.000000</td>\n",
       "      <td>87.000000</td>\n",
       "      <td>46.000000</td>\n",
       "      <td>1.566853e+08</td>\n",
       "      <td>2.260000</td>\n",
       "      <td>10.080000</td>\n",
       "      <td>16.780000</td>\n",
       "      <td>1.330000</td>\n",
       "      <td>33.180000</td>\n",
       "      <td>12.460000</td>\n",
       "      <td>...</td>\n",
       "      <td>5.070000</td>\n",
       "      <td>6.810000</td>\n",
       "      <td>10.290000</td>\n",
       "      <td>13.690000</td>\n",
       "      <td>0.000000</td>\n",
       "      <td>-0.910000</td>\n",
       "      <td>0.000000</td>\n",
       "      <td>0.000000</td>\n",
       "      <td>0.000000</td>\n",
       "      <td>1.000000</td>\n",
       "    </tr>\n",
       "    <tr>\n",
       "      <th>75%</th>\n",
       "      <td>2013.000000</td>\n",
       "      <td>189.000000</td>\n",
       "      <td>89.000000</td>\n",
       "      <td>9.364643e+08</td>\n",
       "      <td>2.810000</td>\n",
       "      <td>11.645000</td>\n",
       "      <td>18.905000</td>\n",
       "      <td>1.680000</td>\n",
       "      <td>36.330000</td>\n",
       "      <td>14.160000</td>\n",
       "      <td>...</td>\n",
       "      <td>9.020000</td>\n",
       "      <td>11.815000</td>\n",
       "      <td>19.280000</td>\n",
       "      <td>17.320000</td>\n",
       "      <td>1.000000</td>\n",
       "      <td>2.420000</td>\n",
       "      <td>0.000000</td>\n",
       "      <td>0.000000</td>\n",
       "      <td>0.000000</td>\n",
       "      <td>1.000000</td>\n",
       "    </tr>\n",
       "    <tr>\n",
       "      <th>max</th>\n",
       "      <td>2015.000000</td>\n",
       "      <td>4058.000000</td>\n",
       "      <td>1947.000000</td>\n",
       "      <td>1.934530e+11</td>\n",
       "      <td>8.900000</td>\n",
       "      <td>28.900000</td>\n",
       "      <td>46.530000</td>\n",
       "      <td>13.440000</td>\n",
       "      <td>66.420000</td>\n",
       "      <td>51.270000</td>\n",
       "      <td>...</td>\n",
       "      <td>65.200000</td>\n",
       "      <td>360.560000</td>\n",
       "      <td>122.280000</td>\n",
       "      <td>78.510000</td>\n",
       "      <td>1.000000</td>\n",
       "      <td>95.820000</td>\n",
       "      <td>1.000000</td>\n",
       "      <td>1.000000</td>\n",
       "      <td>1.000000</td>\n",
       "      <td>1.000000</td>\n",
       "    </tr>\n",
       "  </tbody>\n",
       "</table>\n",
       "<p>8 rows × 30 columns</p>\n",
       "</div>"
      ],
      "text/plain": [
       "       Calender_Year_Year End  #_of_Holdings  Turnover_Ratio  \\\n",
       "count             9271.000000    9271.000000     9271.000000   \n",
       "mean              2010.177111     215.162550       78.349585   \n",
       "std                  3.114139     378.033881      123.755929   \n",
       "min               2005.000000      11.000000        0.000000   \n",
       "25%               2008.000000      50.000000       22.000000   \n",
       "50%               2010.000000      87.000000       46.000000   \n",
       "75%               2013.000000     189.000000       89.000000   \n",
       "max               2015.000000    4058.000000     1947.000000   \n",
       "\n",
       "       Total_Market_Value          P_B          P_C          P_E          P_S  \\\n",
       "count        9.271000e+03  9271.000000  9271.000000  9271.000000  9271.000000   \n",
       "mean         1.919108e+09     2.395142    10.175625    16.840132     1.487014   \n",
       "std          8.277314e+09     0.837033     3.083662     4.524226     0.907717   \n",
       "min          8.400000e+01     0.220000     0.000000     1.470000     0.100000   \n",
       "25%          6.766000e+04     1.830000     8.130000    14.185000     1.030000   \n",
       "50%          1.566853e+08     2.260000    10.080000    16.780000     1.330000   \n",
       "75%          9.364643e+08     2.810000    11.645000    18.905000     1.680000   \n",
       "max          1.934530e+11     8.900000    28.900000    46.530000    13.440000   \n",
       "\n",
       "       Debt_to_Capital   Net_Margin       ...        \\\n",
       "count      9271.000000  9271.000000       ...         \n",
       "mean         32.431430    11.985742       ...         \n",
       "std           7.749081     4.251060       ...         \n",
       "min           0.000000   -16.810000       ...         \n",
       "25%          28.650000     9.820000       ...         \n",
       "50%          33.180000    12.460000       ...         \n",
       "75%          36.330000    14.160000       ...         \n",
       "max          66.420000    51.270000       ...         \n",
       "\n",
       "       Equity_Style_Factor_Sales_Growth  Equity_Style_Factor_CF_Growth  \\\n",
       "count                       9271.000000                    9271.000000   \n",
       "mean                           2.875557                       5.814945   \n",
       "std                           11.659311                      15.479938   \n",
       "min                          -90.570000                     -92.550000   \n",
       "25%                            0.130000                       1.425000   \n",
       "50%                            5.070000                       6.810000   \n",
       "75%                            9.020000                      11.815000   \n",
       "max                           65.200000                     360.560000   \n",
       "\n",
       "        1Yr_Return  1Yr_Return_BM  Beat_BM_1Yr  Perf_vs_BM_1Yr  \\\n",
       "count  9271.000000    9271.000000  9271.000000     9271.000000   \n",
       "mean      8.137690       8.985077     0.392191       -0.847388   \n",
       "std      20.653768      18.938981     0.488265        9.521042   \n",
       "min     -68.120000     -53.330000     0.000000      -83.800000   \n",
       "25%      -0.480000       1.380000     0.000000       -4.665000   \n",
       "50%      10.290000      13.690000     0.000000       -0.910000   \n",
       "75%      19.280000      17.320000     1.000000        2.420000   \n",
       "max     122.280000      78.510000     1.000000       95.820000   \n",
       "\n",
       "       MSCI EAFE NR USD  MSCI EM NR USD  Russell 2000 TR USD  S&P 500 TR USD  \n",
       "count       9271.000000     9271.000000          9271.000000     9271.000000  \n",
       "mean           0.103980        0.048646             0.135368        0.712005  \n",
       "std            0.305251        0.215139             0.342135        0.452853  \n",
       "min            0.000000        0.000000             0.000000        0.000000  \n",
       "25%            0.000000        0.000000             0.000000        0.000000  \n",
       "50%            0.000000        0.000000             0.000000        1.000000  \n",
       "75%            0.000000        0.000000             0.000000        1.000000  \n",
       "max            1.000000        1.000000             1.000000        1.000000  \n",
       "\n",
       "[8 rows x 30 columns]"
      ]
     },
     "execution_count": 301,
     "metadata": {},
     "output_type": "execute_result"
    }
   ],
   "source": [
    "cleandata.describe()"
   ]
  },
  {
   "cell_type": "code",
   "execution_count": 302,
   "metadata": {
    "collapsed": false
   },
   "outputs": [
    {
     "data": {
      "text/plain": [
       "964"
      ]
     },
     "execution_count": 302,
     "metadata": {},
     "output_type": "execute_result"
    }
   ],
   "source": [
    "cleandata['MSCI EAFE NR USD'].sum()"
   ]
  },
  {
   "cell_type": "code",
   "execution_count": 303,
   "metadata": {
    "collapsed": false
   },
   "outputs": [
    {
     "data": {
      "text/plain": [
       "451"
      ]
     },
     "execution_count": 303,
     "metadata": {},
     "output_type": "execute_result"
    }
   ],
   "source": [
    "cleandata['MSCI EM NR USD'].sum()"
   ]
  },
  {
   "cell_type": "code",
   "execution_count": 304,
   "metadata": {
    "collapsed": false
   },
   "outputs": [
    {
     "data": {
      "text/plain": [
       "1255"
      ]
     },
     "execution_count": 304,
     "metadata": {},
     "output_type": "execute_result"
    }
   ],
   "source": [
    "cleandata['Russell 2000 TR USD'].sum()"
   ]
  },
  {
   "cell_type": "code",
   "execution_count": 305,
   "metadata": {
    "collapsed": false
   },
   "outputs": [
    {
     "data": {
      "text/plain": [
       "6601"
      ]
     },
     "execution_count": 305,
     "metadata": {},
     "output_type": "execute_result"
    }
   ],
   "source": [
    "cleandata['S&P 500 TR USD'].sum()"
   ]
  },
  {
   "cell_type": "code",
   "execution_count": 306,
   "metadata": {
    "collapsed": false
   },
   "outputs": [
    {
     "data": {
      "text/plain": [
       "<matplotlib.axes._subplots.AxesSubplot at 0x1192423d0>"
      ]
     },
     "execution_count": 306,
     "metadata": {},
     "output_type": "execute_result"
    },
    {
     "data": {
      "image/png": "[encoded data removed]",
      "text/plain": [
       "<matplotlib.figure.Figure at 0x12349fa10>"
      ]
     },
     "metadata": {},
     "output_type": "display_data"
    }
   ],
   "source": [
    "cleandata['Perf_vs_BM_1Yr'].plot(kind='box',ylim=(-20,20))"
   ]
  },
  {
   "cell_type": "code",
   "execution_count": 307,
   "metadata": {
    "collapsed": false
   },
   "outputs": [
    {
     "data": {
      "text/plain": [
       "Calender_Year_Year End                  0\n",
       "Name                                    0\n",
       "Ticker                                  0\n",
       "Primary_Prospectus_Benchmark            0\n",
       "#_of_Holdings                           0\n",
       "Turnover_Ratio                          0\n",
       "Total_Market_Value                      0\n",
       "P_B                                     0\n",
       "P_C                                     0\n",
       "P_E                                     0\n",
       "P_S                                     0\n",
       "Debt_to_Capital                         0\n",
       "Net_Margin                              0\n",
       "ROA                                     0\n",
       "ROE                                     0\n",
       "Equity_Style_Factor_P_E                 0\n",
       "Equity_Style_Factor_P_B                 0\n",
       "Equity_Style_Factor_P_S                 0\n",
       "Equity_Style_Factor_P_C                 0\n",
       "Equity_Style_Factor_Div_Yld             0\n",
       "Equity_Style_Factor_LT_Earn_Growth      0\n",
       "Equity_Style_Factor_Hist_Earn_Growth    0\n",
       "Equity_Style_Factor_BV_Growth           0\n",
       "Equity_Style_Factor_Sales_Growth        0\n",
       "Equity_Style_Factor_CF_Growth           0\n",
       "1Yr_Return                              0\n",
       "1Yr_Return_BM                           0\n",
       "Beat_BM_1Yr                             0\n",
       "Perf_vs_BM_1Yr                          0\n",
       "dtype: int64"
      ]
     },
     "execution_count": 307,
     "metadata": {},
     "output_type": "execute_result"
    }
   ],
   "source": [
    "data.isnull().sum()"
   ]
  },
  {
   "cell_type": "code",
   "execution_count": 308,
   "metadata": {
    "collapsed": false
   },
   "outputs": [
    {
     "data": {
      "text/plain": [
       "<matplotlib.axes._subplots.AxesSubplot at 0x129047c10>"
      ]
     },
     "execution_count": 308,
     "metadata": {},
     "output_type": "execute_result"
    },
    {
     "data": {
      "image/png": "[encoded data removed]",
      "text/plain": [
       "<matplotlib.figure.Figure at 0x125c01e50>"
      ]
     },
     "metadata": {},
     "output_type": "display_data"
    }
   ],
   "source": [
    "fig, axs = plt.subplots(1, 18, sharey=True)\n",
    "cleandata.plot(kind='scatter', x='P_B', y='Perf_vs_BM_1Yr', ax=axs[0], figsize=(16, 8))\n",
    "cleandata.plot(kind='scatter', x='P_C', y='Perf_vs_BM_1Yr', ax=axs[1])\n",
    "cleandata.plot(kind='scatter', x='P_E', y='Perf_vs_BM_1Yr', ax=axs[2])\n",
    "cleandata.plot(kind='scatter', x='P_S', y='Perf_vs_BM_1Yr', ax=axs[3])\n",
    "cleandata.plot(kind='scatter', x='Debt_to_Capital', y='Perf_vs_BM_1Yr', ax=axs[4])\n",
    "cleandata.plot(kind='scatter', x='Net_Margin', y='Perf_vs_BM_1Yr', ax=axs[5])\n",
    "cleandata.plot(kind='scatter', x='ROA', y='Perf_vs_BM_1Yr', ax=axs[6])\n",
    "cleandata.plot(kind='scatter', x='ROE', y='Perf_vs_BM_1Yr', ax=axs[7])\n",
    "cleandata.plot(kind='scatter', x='Equity_Style_Factor_P_E', y='Perf_vs_BM_1Yr', ax=axs[8])\n",
    "cleandata.plot(kind='scatter', x='Equity_Style_Factor_P_B', y='Perf_vs_BM_1Yr', ax=axs[9])\n",
    "cleandata.plot(kind='scatter', x='Equity_Style_Factor_P_S', y='Perf_vs_BM_1Yr', ax=axs[10])\n",
    "cleandata.plot(kind='scatter', x='Equity_Style_Factor_P_C', y='Perf_vs_BM_1Yr', ax=axs[11])\n",
    "cleandata.plot(kind='scatter', x='Equity_Style_Factor_Div_Yld', y='Perf_vs_BM_1Yr', ax=axs[12])\n",
    "cleandata.plot(kind='scatter', x='Equity_Style_Factor_LT_Earn_Growth', y='Perf_vs_BM_1Yr', ax=axs[13])\n",
    "cleandata.plot(kind='scatter', x='Equity_Style_Factor_Hist_Earn_Growth', y='Perf_vs_BM_1Yr', ax=axs[14])\n",
    "cleandata.plot(kind='scatter', x='Equity_Style_Factor_BV_Growth', y='Perf_vs_BM_1Yr', ax=axs[15])\n",
    "cleandata.plot(kind='scatter', x='Equity_Style_Factor_Sales_Growth', y='Perf_vs_BM_1Yr', ax=axs[16])\n",
    "cleandata.plot(kind='scatter', x='Equity_Style_Factor_CF_Growth', y='Perf_vs_BM_1Yr', ax=axs[17])"
   ]
  },
  {
   "cell_type": "code",
   "execution_count": 309,
   "metadata": {
    "collapsed": false
   },
   "outputs": [
    {
     "data": {
      "text/plain": [
       "<matplotlib.axes._subplots.AxesSubplot at 0x129fc0a90>"
      ]
     },
     "execution_count": 309,
     "metadata": {},
     "output_type": "execute_result"
    },
    {
     "data": {
      "image/png": "[encoded data removed]",
      "text/plain": [
       "<matplotlib.figure.Figure at 0x125d3ae10>"
      ]
     },
     "metadata": {},
     "output_type": "display_data"
    }
   ],
   "source": [
    "fig, axs = plt.subplots(1, 5, sharey=True)\n",
    "cleandata.plot(kind='scatter', x='P_B', y='Perf_vs_BM_1Yr', ax=axs[0], figsize=(16, 8))\n",
    "cleandata.plot(kind='scatter', x='P_C', y='Perf_vs_BM_1Yr', ax=axs[1])\n",
    "cleandata.plot(kind='scatter', x='P_E', y='Perf_vs_BM_1Yr', ax=axs[2])\n",
    "cleandata.plot(kind='scatter', x='P_S', y='Perf_vs_BM_1Yr', ax=axs[3])\n",
    "cleandata.plot(kind='scatter', x='Debt_to_Capital', y='Perf_vs_BM_1Yr', ax=axs[4])"
   ]
  },
  {
   "cell_type": "code",
   "execution_count": 310,
   "metadata": {
    "collapsed": false
   },
   "outputs": [
    {
     "data": {
      "text/plain": [
       "<matplotlib.axes._subplots.AxesSubplot at 0x12a821650>"
      ]
     },
     "execution_count": 310,
     "metadata": {},
     "output_type": "execute_result"
    },
    {
     "data": {
      "image/png": "[encoded data removed]",
      "text/plain": [
       "<matplotlib.figure.Figure at 0x12a38b390>"
      ]
     },
     "metadata": {},
     "output_type": "display_data"
    }
   ],
   "source": [
    "fig, axs = plt.subplots(1, 6, sharey=True)\n",
    "cleandata.plot(kind='scatter', x='Net_Margin', y='Perf_vs_BM_1Yr', ax=axs[0], figsize=(16, 8))\n",
    "cleandata.plot(kind='scatter', x='ROA', y='Perf_vs_BM_1Yr', ax=axs[1])\n",
    "cleandata.plot(kind='scatter', x='ROE', y='Perf_vs_BM_1Yr', ax=axs[2])\n",
    "cleandata.plot(kind='scatter', x='Turnover_Ratio', y='Perf_vs_BM_1Yr', ax=axs[3])\n",
    "cleandata.plot(kind='scatter', x='#_of_Holdings', y='Perf_vs_BM_1Yr', ax=axs[4])\n",
    "cleandata.plot(kind='scatter', x='Total_Market_Value', y='Perf_vs_BM_1Yr', ax=axs[5])\n"
   ]
  },
  {
   "cell_type": "code",
   "execution_count": 311,
   "metadata": {
    "collapsed": false
   },
   "outputs": [
    {
     "name": "stdout",
     "output_type": "stream",
     "text": [
      "                      P_B       P_C       P_E       P_S  Debt_to_Capital  \\\n",
      "P_B              1.000000  0.783564  0.626861  0.578226        -0.162571   \n",
      "P_C              0.783564  1.000000  0.752058  0.641284        -0.167139   \n",
      "P_E              0.626861  0.752058  1.000000  0.604609         0.012334   \n",
      "P_S              0.578226  0.641284  0.604609  1.000000        -0.115850   \n",
      "Debt_to_Capital -0.162571 -0.167139  0.012334 -0.115850         1.000000   \n",
      "Net_Margin       0.221436  0.165779 -0.086612  0.312532        -0.134277   \n",
      "ROA              0.304551  0.158365 -0.129622 -0.074638        -0.228720   \n",
      "ROE              0.324809  0.078657 -0.212895 -0.099676        -0.004549   \n",
      "\n",
      "                 Net_Margin       ROA       ROE  \n",
      "P_B                0.221436  0.304551  0.324809  \n",
      "P_C                0.165779  0.158365  0.078657  \n",
      "P_E               -0.086612 -0.129622 -0.212895  \n",
      "P_S                0.312532 -0.074638 -0.099676  \n",
      "Debt_to_Capital   -0.134277 -0.228720 -0.004549  \n",
      "Net_Margin         1.000000  0.613105  0.593467  \n",
      "ROA                0.613105  1.000000  0.855188  \n",
      "ROE                0.593467  0.855188  1.000000  \n",
      "Axes(0.125,0.125;0.62x0.755)\n"
     ]
    },
    {
     "data": {
      "image/png": "[encoded data removed]",
      "text/plain": [
       "<matplotlib.figure.Figure at 0x12aa1e150>"
      ]
     },
     "metadata": {},
     "output_type": "display_data"
    }
   ],
   "source": [
    "cmap = sns.diverging_palette(220, 10, as_cmap=True)\n",
    "columns_to_keep = ['P_B', 'P_C', 'P_E', 'P_S','Debt_to_Capital', 'Net_Margin', 'ROA', 'ROE']\n",
    "correlations = cleandata[columns_to_keep].corr()\n",
    "print correlations\n",
    "print sns.heatmap(correlations, cmap=cmap)"
   ]
  },
  {
   "cell_type": "code",
   "execution_count": 312,
   "metadata": {
    "collapsed": false
   },
   "outputs": [
    {
     "name": "stdout",
     "output_type": "stream",
     "text": [
      "          P_B       P_C       P_E       P_S\n",
      "P_B  1.000000  0.783564  0.626861  0.578226\n",
      "P_C  0.783564  1.000000  0.752058  0.641284\n",
      "P_E  0.626861  0.752058  1.000000  0.604609\n",
      "P_S  0.578226  0.641284  0.604609  1.000000\n",
      "Axes(0.125,0.125;0.62x0.755)\n"
     ]
    },
    {
     "data": {
      "image/png": "[encoded data removed]",
      "text/plain": [
       "<matplotlib.figure.Figure at 0x12ab0da90>"
      ]
     },
     "metadata": {},
     "output_type": "display_data"
    }
   ],
   "source": [
    "cmap = sns.diverging_palette(220, 10, as_cmap=True)\n",
    "columns_to_keep = ['P_B', 'P_C', 'P_E', 'P_S']\n",
    "correlations = cleandata[columns_to_keep].corr()\n",
    "print correlations\n",
    "print sns.heatmap(correlations, cmap=cmap)"
   ]
  },
  {
   "cell_type": "code",
   "execution_count": 175,
   "metadata": {
    "collapsed": false
   },
   "outputs": [
    {
     "name": "stdout",
     "output_type": "stream",
     "text": [
      "                 Debt_to_Capital  Net_Margin       ROA       ROE\n",
      "Debt_to_Capital         1.000000   -0.134277 -0.228720 -0.004549\n",
      "Net_Margin             -0.134277    1.000000  0.613105  0.593467\n",
      "ROA                    -0.228720    0.613105  1.000000  0.855188\n",
      "ROE                    -0.004549    0.593467  0.855188  1.000000\n",
      "Axes(0.125,0.125;0.62x0.755)\n"
     ]
    },
    {
     "data": {
      "image/png": "[encoded data removed]",
      "text/plain": [
       "<matplotlib.figure.Figure at 0x125c0ae90>"
      ]
     },
     "metadata": {},
     "output_type": "display_data"
    }
   ],
   "source": [
    "cmap = sns.diverging_palette(220, 10, as_cmap=True)\n",
    "columns_to_keep = ['Debt_to_Capital', 'Net_Margin', 'ROA', 'ROE']\n",
    "correlations = cleandata[columns_to_keep].corr()\n",
    "print correlations\n",
    "print sns.heatmap(correlations, cmap=cmap)"
   ]
  },
  {
   "cell_type": "code",
   "execution_count": 313,
   "metadata": {
    "collapsed": false
   },
   "outputs": [
    {
     "data": {
      "text/html": [
       "<div>\n",
       "<table border=\"1\" class=\"dataframe\">\n",
       "  <thead>\n",
       "    <tr style=\"text-align: right;\">\n",
       "      <th></th>\n",
       "      <th>Calender_Year_Year End</th>\n",
       "      <th>#_of_Holdings</th>\n",
       "      <th>Turnover_Ratio</th>\n",
       "      <th>Total_Market_Value</th>\n",
       "      <th>P_B</th>\n",
       "      <th>P_C</th>\n",
       "      <th>P_E</th>\n",
       "      <th>P_S</th>\n",
       "      <th>Debt_to_Capital</th>\n",
       "      <th>Net_Margin</th>\n",
       "      <th>...</th>\n",
       "      <th>Equity_Style_Factor_Sales_Growth</th>\n",
       "      <th>Equity_Style_Factor_CF_Growth</th>\n",
       "      <th>1Yr_Return</th>\n",
       "      <th>1Yr_Return_BM</th>\n",
       "      <th>Beat_BM_1Yr</th>\n",
       "      <th>Perf_vs_BM_1Yr</th>\n",
       "      <th>MSCI EAFE NR USD</th>\n",
       "      <th>MSCI EM NR USD</th>\n",
       "      <th>Russell 2000 TR USD</th>\n",
       "      <th>S&amp;P 500 TR USD</th>\n",
       "    </tr>\n",
       "  </thead>\n",
       "  <tbody>\n",
       "    <tr>\n",
       "      <th>count</th>\n",
       "      <td>9271.000000</td>\n",
       "      <td>9271.000000</td>\n",
       "      <td>9271.000000</td>\n",
       "      <td>9.271000e+03</td>\n",
       "      <td>9271.000000</td>\n",
       "      <td>9271.000000</td>\n",
       "      <td>9271.000000</td>\n",
       "      <td>9271.000000</td>\n",
       "      <td>9271.000000</td>\n",
       "      <td>9271.000000</td>\n",
       "      <td>...</td>\n",
       "      <td>9271.000000</td>\n",
       "      <td>9271.000000</td>\n",
       "      <td>9271.000000</td>\n",
       "      <td>9271.000000</td>\n",
       "      <td>9271.000000</td>\n",
       "      <td>9271.000000</td>\n",
       "      <td>9271.000000</td>\n",
       "      <td>9271.000000</td>\n",
       "      <td>9271.000000</td>\n",
       "      <td>9271.000000</td>\n",
       "    </tr>\n",
       "    <tr>\n",
       "      <th>mean</th>\n",
       "      <td>2010.177111</td>\n",
       "      <td>215.162550</td>\n",
       "      <td>78.349585</td>\n",
       "      <td>1.919108e+09</td>\n",
       "      <td>2.395142</td>\n",
       "      <td>10.175625</td>\n",
       "      <td>16.840132</td>\n",
       "      <td>1.487014</td>\n",
       "      <td>32.431430</td>\n",
       "      <td>11.985742</td>\n",
       "      <td>...</td>\n",
       "      <td>2.875557</td>\n",
       "      <td>5.814945</td>\n",
       "      <td>8.137690</td>\n",
       "      <td>8.985077</td>\n",
       "      <td>0.392191</td>\n",
       "      <td>-0.847388</td>\n",
       "      <td>0.103980</td>\n",
       "      <td>0.048646</td>\n",
       "      <td>0.135368</td>\n",
       "      <td>0.712005</td>\n",
       "    </tr>\n",
       "    <tr>\n",
       "      <th>std</th>\n",
       "      <td>3.114139</td>\n",
       "      <td>378.033881</td>\n",
       "      <td>123.755929</td>\n",
       "      <td>8.277314e+09</td>\n",
       "      <td>0.837033</td>\n",
       "      <td>3.083662</td>\n",
       "      <td>4.524226</td>\n",
       "      <td>0.907717</td>\n",
       "      <td>7.749081</td>\n",
       "      <td>4.251060</td>\n",
       "      <td>...</td>\n",
       "      <td>11.659311</td>\n",
       "      <td>15.479938</td>\n",
       "      <td>20.653768</td>\n",
       "      <td>18.938981</td>\n",
       "      <td>0.488265</td>\n",
       "      <td>9.521042</td>\n",
       "      <td>0.305251</td>\n",
       "      <td>0.215139</td>\n",
       "      <td>0.342135</td>\n",
       "      <td>0.452853</td>\n",
       "    </tr>\n",
       "    <tr>\n",
       "      <th>min</th>\n",
       "      <td>2005.000000</td>\n",
       "      <td>11.000000</td>\n",
       "      <td>0.000000</td>\n",
       "      <td>8.400000e+01</td>\n",
       "      <td>0.220000</td>\n",
       "      <td>0.000000</td>\n",
       "      <td>1.470000</td>\n",
       "      <td>0.100000</td>\n",
       "      <td>0.000000</td>\n",
       "      <td>-16.810000</td>\n",
       "      <td>...</td>\n",
       "      <td>-90.570000</td>\n",
       "      <td>-92.550000</td>\n",
       "      <td>-68.120000</td>\n",
       "      <td>-53.330000</td>\n",
       "      <td>0.000000</td>\n",
       "      <td>-83.800000</td>\n",
       "      <td>0.000000</td>\n",
       "      <td>0.000000</td>\n",
       "      <td>0.000000</td>\n",
       "      <td>0.000000</td>\n",
       "    </tr>\n",
       "    <tr>\n",
       "      <th>25%</th>\n",
       "      <td>2008.000000</td>\n",
       "      <td>50.000000</td>\n",
       "      <td>22.000000</td>\n",
       "      <td>6.766000e+04</td>\n",
       "      <td>1.830000</td>\n",
       "      <td>8.130000</td>\n",
       "      <td>14.185000</td>\n",
       "      <td>1.030000</td>\n",
       "      <td>28.650000</td>\n",
       "      <td>9.820000</td>\n",
       "      <td>...</td>\n",
       "      <td>0.130000</td>\n",
       "      <td>1.425000</td>\n",
       "      <td>-0.480000</td>\n",
       "      <td>1.380000</td>\n",
       "      <td>0.000000</td>\n",
       "      <td>-4.665000</td>\n",
       "      <td>0.000000</td>\n",
       "      <td>0.000000</td>\n",
       "      <td>0.000000</td>\n",
       "      <td>0.000000</td>\n",
       "    </tr>\n",
       "    <tr>\n",
       "      <th>50%</th>\n",
       "      <td>2010.000000</td>\n",
       "      <td>87.000000</td>\n",
       "      <td>46.000000</td>\n",
       "      <td>1.566853e+08</td>\n",
       "      <td>2.260000</td>\n",
       "      <td>10.080000</td>\n",
       "      <td>16.780000</td>\n",
       "      <td>1.330000</td>\n",
       "      <td>33.180000</td>\n",
       "      <td>12.460000</td>\n",
       "      <td>...</td>\n",
       "      <td>5.070000</td>\n",
       "      <td>6.810000</td>\n",
       "      <td>10.290000</td>\n",
       "      <td>13.690000</td>\n",
       "      <td>0.000000</td>\n",
       "      <td>-0.910000</td>\n",
       "      <td>0.000000</td>\n",
       "      <td>0.000000</td>\n",
       "      <td>0.000000</td>\n",
       "      <td>1.000000</td>\n",
       "    </tr>\n",
       "    <tr>\n",
       "      <th>75%</th>\n",
       "      <td>2013.000000</td>\n",
       "      <td>189.000000</td>\n",
       "      <td>89.000000</td>\n",
       "      <td>9.364643e+08</td>\n",
       "      <td>2.810000</td>\n",
       "      <td>11.645000</td>\n",
       "      <td>18.905000</td>\n",
       "      <td>1.680000</td>\n",
       "      <td>36.330000</td>\n",
       "      <td>14.160000</td>\n",
       "      <td>...</td>\n",
       "      <td>9.020000</td>\n",
       "      <td>11.815000</td>\n",
       "      <td>19.280000</td>\n",
       "      <td>17.320000</td>\n",
       "      <td>1.000000</td>\n",
       "      <td>2.420000</td>\n",
       "      <td>0.000000</td>\n",
       "      <td>0.000000</td>\n",
       "      <td>0.000000</td>\n",
       "      <td>1.000000</td>\n",
       "    </tr>\n",
       "    <tr>\n",
       "      <th>max</th>\n",
       "      <td>2015.000000</td>\n",
       "      <td>4058.000000</td>\n",
       "      <td>1947.000000</td>\n",
       "      <td>1.934530e+11</td>\n",
       "      <td>8.900000</td>\n",
       "      <td>28.900000</td>\n",
       "      <td>46.530000</td>\n",
       "      <td>13.440000</td>\n",
       "      <td>66.420000</td>\n",
       "      <td>51.270000</td>\n",
       "      <td>...</td>\n",
       "      <td>65.200000</td>\n",
       "      <td>360.560000</td>\n",
       "      <td>122.280000</td>\n",
       "      <td>78.510000</td>\n",
       "      <td>1.000000</td>\n",
       "      <td>95.820000</td>\n",
       "      <td>1.000000</td>\n",
       "      <td>1.000000</td>\n",
       "      <td>1.000000</td>\n",
       "      <td>1.000000</td>\n",
       "    </tr>\n",
       "  </tbody>\n",
       "</table>\n",
       "<p>8 rows × 30 columns</p>\n",
       "</div>"
      ],
      "text/plain": [
       "       Calender_Year_Year End  #_of_Holdings  Turnover_Ratio  \\\n",
       "count             9271.000000    9271.000000     9271.000000   \n",
       "mean              2010.177111     215.162550       78.349585   \n",
       "std                  3.114139     378.033881      123.755929   \n",
       "min               2005.000000      11.000000        0.000000   \n",
       "25%               2008.000000      50.000000       22.000000   \n",
       "50%               2010.000000      87.000000       46.000000   \n",
       "75%               2013.000000     189.000000       89.000000   \n",
       "max               2015.000000    4058.000000     1947.000000   \n",
       "\n",
       "       Total_Market_Value          P_B          P_C          P_E          P_S  \\\n",
       "count        9.271000e+03  9271.000000  9271.000000  9271.000000  9271.000000   \n",
       "mean         1.919108e+09     2.395142    10.175625    16.840132     1.487014   \n",
       "std          8.277314e+09     0.837033     3.083662     4.524226     0.907717   \n",
       "min          8.400000e+01     0.220000     0.000000     1.470000     0.100000   \n",
       "25%          6.766000e+04     1.830000     8.130000    14.185000     1.030000   \n",
       "50%          1.566853e+08     2.260000    10.080000    16.780000     1.330000   \n",
       "75%          9.364643e+08     2.810000    11.645000    18.905000     1.680000   \n",
       "max          1.934530e+11     8.900000    28.900000    46.530000    13.440000   \n",
       "\n",
       "       Debt_to_Capital   Net_Margin       ...        \\\n",
       "count      9271.000000  9271.000000       ...         \n",
       "mean         32.431430    11.985742       ...         \n",
       "std           7.749081     4.251060       ...         \n",
       "min           0.000000   -16.810000       ...         \n",
       "25%          28.650000     9.820000       ...         \n",
       "50%          33.180000    12.460000       ...         \n",
       "75%          36.330000    14.160000       ...         \n",
       "max          66.420000    51.270000       ...         \n",
       "\n",
       "       Equity_Style_Factor_Sales_Growth  Equity_Style_Factor_CF_Growth  \\\n",
       "count                       9271.000000                    9271.000000   \n",
       "mean                           2.875557                       5.814945   \n",
       "std                           11.659311                      15.479938   \n",
       "min                          -90.570000                     -92.550000   \n",
       "25%                            0.130000                       1.425000   \n",
       "50%                            5.070000                       6.810000   \n",
       "75%                            9.020000                      11.815000   \n",
       "max                           65.200000                     360.560000   \n",
       "\n",
       "        1Yr_Return  1Yr_Return_BM  Beat_BM_1Yr  Perf_vs_BM_1Yr  \\\n",
       "count  9271.000000    9271.000000  9271.000000     9271.000000   \n",
       "mean      8.137690       8.985077     0.392191       -0.847388   \n",
       "std      20.653768      18.938981     0.488265        9.521042   \n",
       "min     -68.120000     -53.330000     0.000000      -83.800000   \n",
       "25%      -0.480000       1.380000     0.000000       -4.665000   \n",
       "50%      10.290000      13.690000     0.000000       -0.910000   \n",
       "75%      19.280000      17.320000     1.000000        2.420000   \n",
       "max     122.280000      78.510000     1.000000       95.820000   \n",
       "\n",
       "       MSCI EAFE NR USD  MSCI EM NR USD  Russell 2000 TR USD  S&P 500 TR USD  \n",
       "count       9271.000000     9271.000000          9271.000000     9271.000000  \n",
       "mean           0.103980        0.048646             0.135368        0.712005  \n",
       "std            0.305251        0.215139             0.342135        0.452853  \n",
       "min            0.000000        0.000000             0.000000        0.000000  \n",
       "25%            0.000000        0.000000             0.000000        0.000000  \n",
       "50%            0.000000        0.000000             0.000000        1.000000  \n",
       "75%            0.000000        0.000000             0.000000        1.000000  \n",
       "max            1.000000        1.000000             1.000000        1.000000  \n",
       "\n",
       "[8 rows x 30 columns]"
      ]
     },
     "execution_count": 313,
     "metadata": {},
     "output_type": "execute_result"
    }
   ],
   "source": [
    "cleandata.describe()"
   ]
  },
  {
   "cell_type": "markdown",
   "metadata": {},
   "source": [
    "# Logistic Regression"
   ]
  },
  {
   "cell_type": "code",
   "execution_count": 314,
   "metadata": {
    "collapsed": false
   },
   "outputs": [
    {
     "data": {
      "text/plain": [
       "LogisticRegression(C=1.0, class_weight=None, dual=False, fit_intercept=True,\n",
       "          intercept_scaling=1, max_iter=100, multi_class='ovr', n_jobs=1,\n",
       "          penalty='l2', random_state=None, solver='liblinear', tol=0.0001,\n",
       "          verbose=0, warm_start=False)"
      ]
     },
     "execution_count": 314,
     "metadata": {},
     "output_type": "execute_result"
    }
   ],
   "source": [
    "lm = LogisticRegression()\n",
    "\n",
    "lm.fit(cleandata[['P_B', 'P_C', 'P_E', 'P_S','Debt_to_Capital', 'Net_Margin', 'ROA', 'ROE',\\\n",
    "                 '#_of_Holdings', 'Turnover_Ratio', 'Total_Market_Value']], cleandata['Beat_BM_1Yr'])"
   ]
  },
  {
   "cell_type": "code",
   "execution_count": 315,
   "metadata": {
    "collapsed": false
   },
   "outputs": [
    {
     "name": "stdout",
     "output_type": "stream",
     "text": [
      "[[ 1.  1.  1.  1.  1.  1.  1.  1.  1.  1.  1.]]\n",
      "[ 1.]\n",
      "0.39219070219\n"
     ]
    }
   ],
   "source": [
    "print np.exp(lm.coef_)\n",
    "print np.exp(lm.intercept_)\n",
    "print cleandata.Beat_BM_1Yr.mean()"
   ]
  },
  {
   "cell_type": "code",
   "execution_count": 316,
   "metadata": {
    "collapsed": false
   },
   "outputs": [
    {
     "name": "stdout",
     "output_type": "stream",
     "text": [
      "0.60780929781\n"
     ]
    }
   ],
   "source": [
    "feature_set = cleandata[['P_B', 'P_C', 'P_E', 'P_S','Debt_to_Capital', 'Net_Margin', 'ROA', 'ROE',\\\n",
    "                 '#_of_Holdings', 'Turnover_Ratio', 'Total_Market_Value']]\n",
    "print lm.score(feature_set, cleandata['Beat_BM_1Yr'])"
   ]
  },
  {
   "cell_type": "code",
   "execution_count": null,
   "metadata": {
    "collapsed": true
   },
   "outputs": [],
   "source": [
    "#The accuracy of the model with all features (removing one rank) is ~61%."
   ]
  },
  {
   "cell_type": "code",
   "execution_count": 317,
   "metadata": {
    "collapsed": false
   },
   "outputs": [
    {
     "data": {
      "text/plain": [
       "0.5"
      ]
     },
     "execution_count": 317,
     "metadata": {},
     "output_type": "execute_result"
    }
   ],
   "source": [
    "roc_auc_score(cleandata['Beat_BM_1Yr'], lm.predict(feature_set))"
   ]
  },
  {
   "cell_type": "markdown",
   "metadata": {},
   "source": [
    "# Logistic Regression using Grid Search"
   ]
  },
  {
   "cell_type": "code",
   "execution_count": 318,
   "metadata": {
    "collapsed": false
   },
   "outputs": [
    {
     "name": "stderr",
     "output_type": "stream",
     "text": [
      "/Users/michaeltong/anaconda/lib/python2.7/site-packages/sklearn/utils/class_weight.py:65: DeprecationWarning: The class_weight='auto' heuristic is deprecated in 0.17 in favor of a new heuristic class_weight='balanced'. 'auto' will be removed in 0.19\n",
      "  \" 0.19\", DeprecationWarning)\n",
      "/Users/michaeltong/anaconda/lib/python2.7/site-packages/sklearn/utils/class_weight.py:65: DeprecationWarning: The class_weight='auto' heuristic is deprecated in 0.17 in favor of a new heuristic class_weight='balanced'. 'auto' will be removed in 0.19\n",
      "  \" 0.19\", DeprecationWarning)\n",
      "/Users/michaeltong/anaconda/lib/python2.7/site-packages/sklearn/utils/class_weight.py:65: DeprecationWarning: The class_weight='auto' heuristic is deprecated in 0.17 in favor of a new heuristic class_weight='balanced'. 'auto' will be removed in 0.19\n",
      "  \" 0.19\", DeprecationWarning)\n",
      "/Users/michaeltong/anaconda/lib/python2.7/site-packages/sklearn/utils/class_weight.py:65: DeprecationWarning: The class_weight='auto' heuristic is deprecated in 0.17 in favor of a new heuristic class_weight='balanced'. 'auto' will be removed in 0.19\n",
      "  \" 0.19\", DeprecationWarning)\n",
      "/Users/michaeltong/anaconda/lib/python2.7/site-packages/sklearn/utils/class_weight.py:65: DeprecationWarning: The class_weight='auto' heuristic is deprecated in 0.17 in favor of a new heuristic class_weight='balanced'. 'auto' will be removed in 0.19\n",
      "  \" 0.19\", DeprecationWarning)\n",
      "/Users/michaeltong/anaconda/lib/python2.7/site-packages/sklearn/utils/class_weight.py:65: DeprecationWarning: The class_weight='auto' heuristic is deprecated in 0.17 in favor of a new heuristic class_weight='balanced'. 'auto' will be removed in 0.19\n",
      "  \" 0.19\", DeprecationWarning)\n",
      "/Users/michaeltong/anaconda/lib/python2.7/site-packages/sklearn/utils/class_weight.py:65: DeprecationWarning: The class_weight='auto' heuristic is deprecated in 0.17 in favor of a new heuristic class_weight='balanced'. 'auto' will be removed in 0.19\n",
      "  \" 0.19\", DeprecationWarning)\n",
      "/Users/michaeltong/anaconda/lib/python2.7/site-packages/sklearn/utils/class_weight.py:65: DeprecationWarning: The class_weight='auto' heuristic is deprecated in 0.17 in favor of a new heuristic class_weight='balanced'. 'auto' will be removed in 0.19\n",
      "  \" 0.19\", DeprecationWarning)\n",
      "/Users/michaeltong/anaconda/lib/python2.7/site-packages/sklearn/utils/class_weight.py:65: DeprecationWarning: The class_weight='auto' heuristic is deprecated in 0.17 in favor of a new heuristic class_weight='balanced'. 'auto' will be removed in 0.19\n",
      "  \" 0.19\", DeprecationWarning)\n",
      "/Users/michaeltong/anaconda/lib/python2.7/site-packages/sklearn/utils/class_weight.py:65: DeprecationWarning: The class_weight='auto' heuristic is deprecated in 0.17 in favor of a new heuristic class_weight='balanced'. 'auto' will be removed in 0.19\n",
      "  \" 0.19\", DeprecationWarning)\n",
      "/Users/michaeltong/anaconda/lib/python2.7/site-packages/sklearn/utils/class_weight.py:65: DeprecationWarning: The class_weight='auto' heuristic is deprecated in 0.17 in favor of a new heuristic class_weight='balanced'. 'auto' will be removed in 0.19\n",
      "  \" 0.19\", DeprecationWarning)\n",
      "/Users/michaeltong/anaconda/lib/python2.7/site-packages/sklearn/utils/class_weight.py:65: DeprecationWarning: The class_weight='auto' heuristic is deprecated in 0.17 in favor of a new heuristic class_weight='balanced'. 'auto' will be removed in 0.19\n",
      "  \" 0.19\", DeprecationWarning)\n",
      "/Users/michaeltong/anaconda/lib/python2.7/site-packages/sklearn/utils/class_weight.py:65: DeprecationWarning: The class_weight='auto' heuristic is deprecated in 0.17 in favor of a new heuristic class_weight='balanced'. 'auto' will be removed in 0.19\n",
      "  \" 0.19\", DeprecationWarning)\n",
      "/Users/michaeltong/anaconda/lib/python2.7/site-packages/sklearn/utils/class_weight.py:65: DeprecationWarning: The class_weight='auto' heuristic is deprecated in 0.17 in favor of a new heuristic class_weight='balanced'. 'auto' will be removed in 0.19\n",
      "  \" 0.19\", DeprecationWarning)\n",
      "/Users/michaeltong/anaconda/lib/python2.7/site-packages/sklearn/utils/class_weight.py:65: DeprecationWarning: The class_weight='auto' heuristic is deprecated in 0.17 in favor of a new heuristic class_weight='balanced'. 'auto' will be removed in 0.19\n",
      "  \" 0.19\", DeprecationWarning)\n",
      "/Users/michaeltong/anaconda/lib/python2.7/site-packages/sklearn/utils/class_weight.py:65: DeprecationWarning: The class_weight='auto' heuristic is deprecated in 0.17 in favor of a new heuristic class_weight='balanced'. 'auto' will be removed in 0.19\n",
      "  \" 0.19\", DeprecationWarning)\n",
      "/Users/michaeltong/anaconda/lib/python2.7/site-packages/sklearn/utils/class_weight.py:65: DeprecationWarning: The class_weight='auto' heuristic is deprecated in 0.17 in favor of a new heuristic class_weight='balanced'. 'auto' will be removed in 0.19\n",
      "  \" 0.19\", DeprecationWarning)\n",
      "/Users/michaeltong/anaconda/lib/python2.7/site-packages/sklearn/utils/class_weight.py:65: DeprecationWarning: The class_weight='auto' heuristic is deprecated in 0.17 in favor of a new heuristic class_weight='balanced'. 'auto' will be removed in 0.19\n",
      "  \" 0.19\", DeprecationWarning)\n",
      "/Users/michaeltong/anaconda/lib/python2.7/site-packages/sklearn/utils/class_weight.py:65: DeprecationWarning: The class_weight='auto' heuristic is deprecated in 0.17 in favor of a new heuristic class_weight='balanced'. 'auto' will be removed in 0.19\n",
      "  \" 0.19\", DeprecationWarning)\n",
      "/Users/michaeltong/anaconda/lib/python2.7/site-packages/sklearn/utils/class_weight.py:65: DeprecationWarning: The class_weight='auto' heuristic is deprecated in 0.17 in favor of a new heuristic class_weight='balanced'. 'auto' will be removed in 0.19\n",
      "  \" 0.19\", DeprecationWarning)\n",
      "/Users/michaeltong/anaconda/lib/python2.7/site-packages/sklearn/utils/class_weight.py:65: DeprecationWarning: The class_weight='auto' heuristic is deprecated in 0.17 in favor of a new heuristic class_weight='balanced'. 'auto' will be removed in 0.19\n",
      "  \" 0.19\", DeprecationWarning)\n",
      "/Users/michaeltong/anaconda/lib/python2.7/site-packages/sklearn/utils/class_weight.py:65: DeprecationWarning: The class_weight='auto' heuristic is deprecated in 0.17 in favor of a new heuristic class_weight='balanced'. 'auto' will be removed in 0.19\n",
      "  \" 0.19\", DeprecationWarning)\n",
      "/Users/michaeltong/anaconda/lib/python2.7/site-packages/sklearn/utils/class_weight.py:65: DeprecationWarning: The class_weight='auto' heuristic is deprecated in 0.17 in favor of a new heuristic class_weight='balanced'. 'auto' will be removed in 0.19\n",
      "  \" 0.19\", DeprecationWarning)\n",
      "/Users/michaeltong/anaconda/lib/python2.7/site-packages/sklearn/utils/class_weight.py:65: DeprecationWarning: The class_weight='auto' heuristic is deprecated in 0.17 in favor of a new heuristic class_weight='balanced'. 'auto' will be removed in 0.19\n",
      "  \" 0.19\", DeprecationWarning)\n",
      "/Users/michaeltong/anaconda/lib/python2.7/site-packages/sklearn/utils/class_weight.py:65: DeprecationWarning: The class_weight='auto' heuristic is deprecated in 0.17 in favor of a new heuristic class_weight='balanced'. 'auto' will be removed in 0.19\n",
      "  \" 0.19\", DeprecationWarning)\n",
      "/Users/michaeltong/anaconda/lib/python2.7/site-packages/sklearn/utils/class_weight.py:65: DeprecationWarning: The class_weight='auto' heuristic is deprecated in 0.17 in favor of a new heuristic class_weight='balanced'. 'auto' will be removed in 0.19\n",
      "  \" 0.19\", DeprecationWarning)\n",
      "/Users/michaeltong/anaconda/lib/python2.7/site-packages/sklearn/utils/class_weight.py:65: DeprecationWarning: The class_weight='auto' heuristic is deprecated in 0.17 in favor of a new heuristic class_weight='balanced'. 'auto' will be removed in 0.19\n",
      "  \" 0.19\", DeprecationWarning)\n",
      "/Users/michaeltong/anaconda/lib/python2.7/site-packages/sklearn/utils/class_weight.py:65: DeprecationWarning: The class_weight='auto' heuristic is deprecated in 0.17 in favor of a new heuristic class_weight='balanced'. 'auto' will be removed in 0.19\n",
      "  \" 0.19\", DeprecationWarning)\n",
      "/Users/michaeltong/anaconda/lib/python2.7/site-packages/sklearn/utils/class_weight.py:65: DeprecationWarning: The class_weight='auto' heuristic is deprecated in 0.17 in favor of a new heuristic class_weight='balanced'. 'auto' will be removed in 0.19\n",
      "  \" 0.19\", DeprecationWarning)\n",
      "/Users/michaeltong/anaconda/lib/python2.7/site-packages/sklearn/utils/class_weight.py:65: DeprecationWarning: The class_weight='auto' heuristic is deprecated in 0.17 in favor of a new heuristic class_weight='balanced'. 'auto' will be removed in 0.19\n",
      "  \" 0.19\", DeprecationWarning)\n",
      "/Users/michaeltong/anaconda/lib/python2.7/site-packages/sklearn/utils/class_weight.py:65: DeprecationWarning: The class_weight='auto' heuristic is deprecated in 0.17 in favor of a new heuristic class_weight='balanced'. 'auto' will be removed in 0.19\n",
      "  \" 0.19\", DeprecationWarning)\n",
      "/Users/michaeltong/anaconda/lib/python2.7/site-packages/sklearn/utils/class_weight.py:65: DeprecationWarning: The class_weight='auto' heuristic is deprecated in 0.17 in favor of a new heuristic class_weight='balanced'. 'auto' will be removed in 0.19\n",
      "  \" 0.19\", DeprecationWarning)\n",
      "/Users/michaeltong/anaconda/lib/python2.7/site-packages/sklearn/utils/class_weight.py:65: DeprecationWarning: The class_weight='auto' heuristic is deprecated in 0.17 in favor of a new heuristic class_weight='balanced'. 'auto' will be removed in 0.19\n",
      "  \" 0.19\", DeprecationWarning)\n",
      "/Users/michaeltong/anaconda/lib/python2.7/site-packages/sklearn/utils/class_weight.py:65: DeprecationWarning: The class_weight='auto' heuristic is deprecated in 0.17 in favor of a new heuristic class_weight='balanced'. 'auto' will be removed in 0.19\n",
      "  \" 0.19\", DeprecationWarning)\n",
      "/Users/michaeltong/anaconda/lib/python2.7/site-packages/sklearn/utils/class_weight.py:65: DeprecationWarning: The class_weight='auto' heuristic is deprecated in 0.17 in favor of a new heuristic class_weight='balanced'. 'auto' will be removed in 0.19\n",
      "  \" 0.19\", DeprecationWarning)\n",
      "/Users/michaeltong/anaconda/lib/python2.7/site-packages/sklearn/utils/class_weight.py:65: DeprecationWarning: The class_weight='auto' heuristic is deprecated in 0.17 in favor of a new heuristic class_weight='balanced'. 'auto' will be removed in 0.19\n",
      "  \" 0.19\", DeprecationWarning)\n",
      "/Users/michaeltong/anaconda/lib/python2.7/site-packages/sklearn/utils/class_weight.py:65: DeprecationWarning: The class_weight='auto' heuristic is deprecated in 0.17 in favor of a new heuristic class_weight='balanced'. 'auto' will be removed in 0.19\n",
      "  \" 0.19\", DeprecationWarning)\n",
      "/Users/michaeltong/anaconda/lib/python2.7/site-packages/sklearn/utils/class_weight.py:65: DeprecationWarning: The class_weight='auto' heuristic is deprecated in 0.17 in favor of a new heuristic class_weight='balanced'. 'auto' will be removed in 0.19\n",
      "  \" 0.19\", DeprecationWarning)\n",
      "/Users/michaeltong/anaconda/lib/python2.7/site-packages/sklearn/utils/class_weight.py:65: DeprecationWarning: The class_weight='auto' heuristic is deprecated in 0.17 in favor of a new heuristic class_weight='balanced'. 'auto' will be removed in 0.19\n",
      "  \" 0.19\", DeprecationWarning)\n",
      "/Users/michaeltong/anaconda/lib/python2.7/site-packages/sklearn/utils/class_weight.py:65: DeprecationWarning: The class_weight='auto' heuristic is deprecated in 0.17 in favor of a new heuristic class_weight='balanced'. 'auto' will be removed in 0.19\n",
      "  \" 0.19\", DeprecationWarning)\n",
      "/Users/michaeltong/anaconda/lib/python2.7/site-packages/sklearn/utils/class_weight.py:65: DeprecationWarning: The class_weight='auto' heuristic is deprecated in 0.17 in favor of a new heuristic class_weight='balanced'. 'auto' will be removed in 0.19\n",
      "  \" 0.19\", DeprecationWarning)\n",
      "/Users/michaeltong/anaconda/lib/python2.7/site-packages/sklearn/utils/class_weight.py:65: DeprecationWarning: The class_weight='auto' heuristic is deprecated in 0.17 in favor of a new heuristic class_weight='balanced'. 'auto' will be removed in 0.19\n",
      "  \" 0.19\", DeprecationWarning)\n",
      "/Users/michaeltong/anaconda/lib/python2.7/site-packages/sklearn/utils/class_weight.py:65: DeprecationWarning: The class_weight='auto' heuristic is deprecated in 0.17 in favor of a new heuristic class_weight='balanced'. 'auto' will be removed in 0.19\n",
      "  \" 0.19\", DeprecationWarning)\n",
      "/Users/michaeltong/anaconda/lib/python2.7/site-packages/sklearn/utils/class_weight.py:65: DeprecationWarning: The class_weight='auto' heuristic is deprecated in 0.17 in favor of a new heuristic class_weight='balanced'. 'auto' will be removed in 0.19\n",
      "  \" 0.19\", DeprecationWarning)\n",
      "/Users/michaeltong/anaconda/lib/python2.7/site-packages/sklearn/utils/class_weight.py:65: DeprecationWarning: The class_weight='auto' heuristic is deprecated in 0.17 in favor of a new heuristic class_weight='balanced'. 'auto' will be removed in 0.19\n",
      "  \" 0.19\", DeprecationWarning)\n",
      "/Users/michaeltong/anaconda/lib/python2.7/site-packages/sklearn/utils/class_weight.py:65: DeprecationWarning: The class_weight='auto' heuristic is deprecated in 0.17 in favor of a new heuristic class_weight='balanced'. 'auto' will be removed in 0.19\n",
      "  \" 0.19\", DeprecationWarning)\n",
      "/Users/michaeltong/anaconda/lib/python2.7/site-packages/sklearn/utils/class_weight.py:65: DeprecationWarning: The class_weight='auto' heuristic is deprecated in 0.17 in favor of a new heuristic class_weight='balanced'. 'auto' will be removed in 0.19\n",
      "  \" 0.19\", DeprecationWarning)\n",
      "/Users/michaeltong/anaconda/lib/python2.7/site-packages/sklearn/utils/class_weight.py:65: DeprecationWarning: The class_weight='auto' heuristic is deprecated in 0.17 in favor of a new heuristic class_weight='balanced'. 'auto' will be removed in 0.19\n",
      "  \" 0.19\", DeprecationWarning)\n",
      "/Users/michaeltong/anaconda/lib/python2.7/site-packages/sklearn/utils/class_weight.py:65: DeprecationWarning: The class_weight='auto' heuristic is deprecated in 0.17 in favor of a new heuristic class_weight='balanced'. 'auto' will be removed in 0.19\n",
      "  \" 0.19\", DeprecationWarning)\n",
      "/Users/michaeltong/anaconda/lib/python2.7/site-packages/sklearn/utils/class_weight.py:65: DeprecationWarning: The class_weight='auto' heuristic is deprecated in 0.17 in favor of a new heuristic class_weight='balanced'. 'auto' will be removed in 0.19\n",
      "  \" 0.19\", DeprecationWarning)\n",
      "/Users/michaeltong/anaconda/lib/python2.7/site-packages/sklearn/utils/class_weight.py:65: DeprecationWarning: The class_weight='auto' heuristic is deprecated in 0.17 in favor of a new heuristic class_weight='balanced'. 'auto' will be removed in 0.19\n",
      "  \" 0.19\", DeprecationWarning)\n",
      "/Users/michaeltong/anaconda/lib/python2.7/site-packages/sklearn/utils/class_weight.py:65: DeprecationWarning: The class_weight='auto' heuristic is deprecated in 0.17 in favor of a new heuristic class_weight='balanced'. 'auto' will be removed in 0.19\n",
      "  \" 0.19\", DeprecationWarning)\n",
      "/Users/michaeltong/anaconda/lib/python2.7/site-packages/sklearn/utils/class_weight.py:65: DeprecationWarning: The class_weight='auto' heuristic is deprecated in 0.17 in favor of a new heuristic class_weight='balanced'. 'auto' will be removed in 0.19\n",
      "  \" 0.19\", DeprecationWarning)\n",
      "/Users/michaeltong/anaconda/lib/python2.7/site-packages/sklearn/utils/class_weight.py:65: DeprecationWarning: The class_weight='auto' heuristic is deprecated in 0.17 in favor of a new heuristic class_weight='balanced'. 'auto' will be removed in 0.19\n",
      "  \" 0.19\", DeprecationWarning)\n",
      "/Users/michaeltong/anaconda/lib/python2.7/site-packages/sklearn/utils/class_weight.py:65: DeprecationWarning: The class_weight='auto' heuristic is deprecated in 0.17 in favor of a new heuristic class_weight='balanced'. 'auto' will be removed in 0.19\n",
      "  \" 0.19\", DeprecationWarning)\n",
      "/Users/michaeltong/anaconda/lib/python2.7/site-packages/sklearn/utils/class_weight.py:65: DeprecationWarning: The class_weight='auto' heuristic is deprecated in 0.17 in favor of a new heuristic class_weight='balanced'. 'auto' will be removed in 0.19\n",
      "  \" 0.19\", DeprecationWarning)\n",
      "/Users/michaeltong/anaconda/lib/python2.7/site-packages/sklearn/utils/class_weight.py:65: DeprecationWarning: The class_weight='auto' heuristic is deprecated in 0.17 in favor of a new heuristic class_weight='balanced'. 'auto' will be removed in 0.19\n",
      "  \" 0.19\", DeprecationWarning)\n",
      "/Users/michaeltong/anaconda/lib/python2.7/site-packages/sklearn/utils/class_weight.py:65: DeprecationWarning: The class_weight='auto' heuristic is deprecated in 0.17 in favor of a new heuristic class_weight='balanced'. 'auto' will be removed in 0.19\n",
      "  \" 0.19\", DeprecationWarning)\n",
      "/Users/michaeltong/anaconda/lib/python2.7/site-packages/sklearn/utils/class_weight.py:65: DeprecationWarning: The class_weight='auto' heuristic is deprecated in 0.17 in favor of a new heuristic class_weight='balanced'. 'auto' will be removed in 0.19\n",
      "  \" 0.19\", DeprecationWarning)\n",
      "/Users/michaeltong/anaconda/lib/python2.7/site-packages/sklearn/utils/class_weight.py:65: DeprecationWarning: The class_weight='auto' heuristic is deprecated in 0.17 in favor of a new heuristic class_weight='balanced'. 'auto' will be removed in 0.19\n",
      "  \" 0.19\", DeprecationWarning)\n",
      "/Users/michaeltong/anaconda/lib/python2.7/site-packages/sklearn/utils/class_weight.py:65: DeprecationWarning: The class_weight='auto' heuristic is deprecated in 0.17 in favor of a new heuristic class_weight='balanced'. 'auto' will be removed in 0.19\n",
      "  \" 0.19\", DeprecationWarning)\n",
      "/Users/michaeltong/anaconda/lib/python2.7/site-packages/sklearn/utils/class_weight.py:65: DeprecationWarning: The class_weight='auto' heuristic is deprecated in 0.17 in favor of a new heuristic class_weight='balanced'. 'auto' will be removed in 0.19\n",
      "  \" 0.19\", DeprecationWarning)\n",
      "/Users/michaeltong/anaconda/lib/python2.7/site-packages/sklearn/utils/class_weight.py:65: DeprecationWarning: The class_weight='auto' heuristic is deprecated in 0.17 in favor of a new heuristic class_weight='balanced'. 'auto' will be removed in 0.19\n",
      "  \" 0.19\", DeprecationWarning)\n",
      "/Users/michaeltong/anaconda/lib/python2.7/site-packages/sklearn/utils/class_weight.py:65: DeprecationWarning: The class_weight='auto' heuristic is deprecated in 0.17 in favor of a new heuristic class_weight='balanced'. 'auto' will be removed in 0.19\n",
      "  \" 0.19\", DeprecationWarning)\n",
      "/Users/michaeltong/anaconda/lib/python2.7/site-packages/sklearn/utils/class_weight.py:65: DeprecationWarning: The class_weight='auto' heuristic is deprecated in 0.17 in favor of a new heuristic class_weight='balanced'. 'auto' will be removed in 0.19\n",
      "  \" 0.19\", DeprecationWarning)\n",
      "/Users/michaeltong/anaconda/lib/python2.7/site-packages/sklearn/utils/class_weight.py:65: DeprecationWarning: The class_weight='auto' heuristic is deprecated in 0.17 in favor of a new heuristic class_weight='balanced'. 'auto' will be removed in 0.19\n",
      "  \" 0.19\", DeprecationWarning)\n",
      "/Users/michaeltong/anaconda/lib/python2.7/site-packages/sklearn/utils/class_weight.py:65: DeprecationWarning: The class_weight='auto' heuristic is deprecated in 0.17 in favor of a new heuristic class_weight='balanced'. 'auto' will be removed in 0.19\n",
      "  \" 0.19\", DeprecationWarning)\n",
      "/Users/michaeltong/anaconda/lib/python2.7/site-packages/sklearn/utils/class_weight.py:65: DeprecationWarning: The class_weight='auto' heuristic is deprecated in 0.17 in favor of a new heuristic class_weight='balanced'. 'auto' will be removed in 0.19\n",
      "  \" 0.19\", DeprecationWarning)\n",
      "/Users/michaeltong/anaconda/lib/python2.7/site-packages/sklearn/utils/class_weight.py:65: DeprecationWarning: The class_weight='auto' heuristic is deprecated in 0.17 in favor of a new heuristic class_weight='balanced'. 'auto' will be removed in 0.19\n",
      "  \" 0.19\", DeprecationWarning)\n",
      "/Users/michaeltong/anaconda/lib/python2.7/site-packages/sklearn/utils/class_weight.py:65: DeprecationWarning: The class_weight='auto' heuristic is deprecated in 0.17 in favor of a new heuristic class_weight='balanced'. 'auto' will be removed in 0.19\n",
      "  \" 0.19\", DeprecationWarning)\n",
      "/Users/michaeltong/anaconda/lib/python2.7/site-packages/sklearn/utils/class_weight.py:65: DeprecationWarning: The class_weight='auto' heuristic is deprecated in 0.17 in favor of a new heuristic class_weight='balanced'. 'auto' will be removed in 0.19\n",
      "  \" 0.19\", DeprecationWarning)\n",
      "/Users/michaeltong/anaconda/lib/python2.7/site-packages/sklearn/utils/class_weight.py:65: DeprecationWarning: The class_weight='auto' heuristic is deprecated in 0.17 in favor of a new heuristic class_weight='balanced'. 'auto' will be removed in 0.19\n",
      "  \" 0.19\", DeprecationWarning)\n",
      "/Users/michaeltong/anaconda/lib/python2.7/site-packages/sklearn/utils/class_weight.py:65: DeprecationWarning: The class_weight='auto' heuristic is deprecated in 0.17 in favor of a new heuristic class_weight='balanced'. 'auto' will be removed in 0.19\n",
      "  \" 0.19\", DeprecationWarning)\n",
      "/Users/michaeltong/anaconda/lib/python2.7/site-packages/sklearn/utils/class_weight.py:65: DeprecationWarning: The class_weight='auto' heuristic is deprecated in 0.17 in favor of a new heuristic class_weight='balanced'. 'auto' will be removed in 0.19\n",
      "  \" 0.19\", DeprecationWarning)\n",
      "/Users/michaeltong/anaconda/lib/python2.7/site-packages/sklearn/utils/class_weight.py:65: DeprecationWarning: The class_weight='auto' heuristic is deprecated in 0.17 in favor of a new heuristic class_weight='balanced'. 'auto' will be removed in 0.19\n",
      "  \" 0.19\", DeprecationWarning)\n",
      "/Users/michaeltong/anaconda/lib/python2.7/site-packages/sklearn/utils/class_weight.py:65: DeprecationWarning: The class_weight='auto' heuristic is deprecated in 0.17 in favor of a new heuristic class_weight='balanced'. 'auto' will be removed in 0.19\n",
      "  \" 0.19\", DeprecationWarning)\n",
      "/Users/michaeltong/anaconda/lib/python2.7/site-packages/sklearn/utils/class_weight.py:65: DeprecationWarning: The class_weight='auto' heuristic is deprecated in 0.17 in favor of a new heuristic class_weight='balanced'. 'auto' will be removed in 0.19\n",
      "  \" 0.19\", DeprecationWarning)\n",
      "/Users/michaeltong/anaconda/lib/python2.7/site-packages/sklearn/utils/class_weight.py:65: DeprecationWarning: The class_weight='auto' heuristic is deprecated in 0.17 in favor of a new heuristic class_weight='balanced'. 'auto' will be removed in 0.19\n",
      "  \" 0.19\", DeprecationWarning)\n",
      "/Users/michaeltong/anaconda/lib/python2.7/site-packages/sklearn/utils/class_weight.py:65: DeprecationWarning: The class_weight='auto' heuristic is deprecated in 0.17 in favor of a new heuristic class_weight='balanced'. 'auto' will be removed in 0.19\n",
      "  \" 0.19\", DeprecationWarning)\n",
      "/Users/michaeltong/anaconda/lib/python2.7/site-packages/sklearn/utils/class_weight.py:65: DeprecationWarning: The class_weight='auto' heuristic is deprecated in 0.17 in favor of a new heuristic class_weight='balanced'. 'auto' will be removed in 0.19\n",
      "  \" 0.19\", DeprecationWarning)\n",
      "/Users/michaeltong/anaconda/lib/python2.7/site-packages/sklearn/utils/class_weight.py:65: DeprecationWarning: The class_weight='auto' heuristic is deprecated in 0.17 in favor of a new heuristic class_weight='balanced'. 'auto' will be removed in 0.19\n",
      "  \" 0.19\", DeprecationWarning)\n",
      "/Users/michaeltong/anaconda/lib/python2.7/site-packages/sklearn/utils/class_weight.py:65: DeprecationWarning: The class_weight='auto' heuristic is deprecated in 0.17 in favor of a new heuristic class_weight='balanced'. 'auto' will be removed in 0.19\n",
      "  \" 0.19\", DeprecationWarning)\n",
      "/Users/michaeltong/anaconda/lib/python2.7/site-packages/sklearn/utils/class_weight.py:65: DeprecationWarning: The class_weight='auto' heuristic is deprecated in 0.17 in favor of a new heuristic class_weight='balanced'. 'auto' will be removed in 0.19\n",
      "  \" 0.19\", DeprecationWarning)\n",
      "/Users/michaeltong/anaconda/lib/python2.7/site-packages/sklearn/utils/class_weight.py:65: DeprecationWarning: The class_weight='auto' heuristic is deprecated in 0.17 in favor of a new heuristic class_weight='balanced'. 'auto' will be removed in 0.19\n",
      "  \" 0.19\", DeprecationWarning)\n",
      "/Users/michaeltong/anaconda/lib/python2.7/site-packages/sklearn/utils/class_weight.py:65: DeprecationWarning: The class_weight='auto' heuristic is deprecated in 0.17 in favor of a new heuristic class_weight='balanced'. 'auto' will be removed in 0.19\n",
      "  \" 0.19\", DeprecationWarning)\n",
      "/Users/michaeltong/anaconda/lib/python2.7/site-packages/sklearn/utils/class_weight.py:65: DeprecationWarning: The class_weight='auto' heuristic is deprecated in 0.17 in favor of a new heuristic class_weight='balanced'. 'auto' will be removed in 0.19\n",
      "  \" 0.19\", DeprecationWarning)\n",
      "/Users/michaeltong/anaconda/lib/python2.7/site-packages/sklearn/utils/class_weight.py:65: DeprecationWarning: The class_weight='auto' heuristic is deprecated in 0.17 in favor of a new heuristic class_weight='balanced'. 'auto' will be removed in 0.19\n",
      "  \" 0.19\", DeprecationWarning)\n",
      "/Users/michaeltong/anaconda/lib/python2.7/site-packages/sklearn/utils/class_weight.py:65: DeprecationWarning: The class_weight='auto' heuristic is deprecated in 0.17 in favor of a new heuristic class_weight='balanced'. 'auto' will be removed in 0.19\n",
      "  \" 0.19\", DeprecationWarning)\n",
      "/Users/michaeltong/anaconda/lib/python2.7/site-packages/sklearn/utils/class_weight.py:65: DeprecationWarning: The class_weight='auto' heuristic is deprecated in 0.17 in favor of a new heuristic class_weight='balanced'. 'auto' will be removed in 0.19\n",
      "  \" 0.19\", DeprecationWarning)\n",
      "/Users/michaeltong/anaconda/lib/python2.7/site-packages/sklearn/utils/class_weight.py:65: DeprecationWarning: The class_weight='auto' heuristic is deprecated in 0.17 in favor of a new heuristic class_weight='balanced'. 'auto' will be removed in 0.19\n",
      "  \" 0.19\", DeprecationWarning)\n"
     ]
    },
    {
     "name": "stdout",
     "output_type": "stream",
     "text": [
      "('Best Scores:', [mean: 0.05490, std: 0.05333, params: {'C': 1, 'class_weight': None}, mean: 0.44337, std: 0.20435, params: {'C': 1, 'class_weight': 'auto'}, mean: 0.05490, std: 0.05333, params: {'C': 2, 'class_weight': None}, mean: 0.44305, std: 0.20443, params: {'C': 2, 'class_weight': 'auto'}, mean: 0.05490, std: 0.05333, params: {'C': 3, 'class_weight': None}, mean: 0.44305, std: 0.20443, params: {'C': 3, 'class_weight': 'auto'}, mean: 0.05490, std: 0.05333, params: {'C': 4, 'class_weight': None}, mean: 0.44305, std: 0.20443, params: {'C': 4, 'class_weight': 'auto'}, mean: 0.05490, std: 0.05333, params: {'C': 5, 'class_weight': None}, mean: 0.44305, std: 0.20443, params: {'C': 5, 'class_weight': 'auto'}, mean: 0.05490, std: 0.05333, params: {'C': 6, 'class_weight': None}, mean: 0.44305, std: 0.20443, params: {'C': 6, 'class_weight': 'auto'}, mean: 0.05490, std: 0.05333, params: {'C': 7, 'class_weight': None}, mean: 0.44323, std: 0.20425, params: {'C': 7, 'class_weight': 'auto'}, mean: 0.05490, std: 0.05333, params: {'C': 8, 'class_weight': None}, mean: 0.44323, std: 0.20425, params: {'C': 8, 'class_weight': 'auto'}, mean: 0.05490, std: 0.05333, params: {'C': 9, 'class_weight': None}, mean: 0.44323, std: 0.20425, params: {'C': 9, 'class_weight': 'auto'}])\n",
      "('Best 1Yr Score:', 0.44336893549188344)\n"
     ]
    },
    {
     "name": "stderr",
     "output_type": "stream",
     "text": [
      "/Users/michaeltong/anaconda/lib/python2.7/site-packages/sklearn/utils/class_weight.py:65: DeprecationWarning: The class_weight='auto' heuristic is deprecated in 0.17 in favor of a new heuristic class_weight='balanced'. 'auto' will be removed in 0.19\n",
      "  \" 0.19\", DeprecationWarning)\n"
     ]
    }
   ],
   "source": [
    "#Grid Search with Logistic Regression\n",
    "\n",
    "datafactors = cleandata[['P_B', 'P_C', 'P_E', 'P_S','Debt_to_Capital', 'Net_Margin', 'ROA', 'ROE',\\\n",
    "                 '#_of_Holdings', 'Turnover_Ratio', 'Total_Market_Value']]\n",
    "\n",
    "sc = StandardScaler()\n",
    "scaled_feature = sc.fit_transform(datafactors)\n",
    "gs = grid_search.GridSearchCV(\n",
    "    estimator=LogisticRegression(),\n",
    "    param_grid={'C': [i for i in range(1, 10)], 'class_weight': [None, 'auto']},\n",
    "    cv=cross_validation.KFold(n=len(cleandata), n_folds=10),\n",
    "    scoring='recall'\n",
    ")\n",
    "\n",
    "gs.fit(scaled_feature, cleandata.Beat_BM_1Yr)\n",
    "print ('Best Scores:',gs.grid_scores_)\n",
    "print('Best 1Yr Score:', gs.best_score_) "
   ]
  },
  {
   "cell_type": "markdown",
   "metadata": {},
   "source": [
    "* Estimator with gave highest score"
   ]
  },
  {
   "cell_type": "code",
   "execution_count": 319,
   "metadata": {
    "collapsed": false
   },
   "outputs": [
    {
     "name": "stdout",
     "output_type": "stream",
     "text": [
      "('Best 1Yr Estimator:', LogisticRegression(C=1, class_weight='auto', dual=False, fit_intercept=True,\n",
      "          intercept_scaling=1, max_iter=100, multi_class='ovr', n_jobs=1,\n",
      "          penalty='l2', random_state=None, solver='liblinear', tol=0.0001,\n",
      "          verbose=0, warm_start=False))\n"
     ]
    }
   ],
   "source": [
    "print('Best 1Yr Estimator:', gs.best_estimator_)"
   ]
  },
  {
   "cell_type": "markdown",
   "metadata": {},
   "source": [
    "* 1 Year Performance Results"
   ]
  },
  {
   "cell_type": "code",
   "execution_count": 320,
   "metadata": {
    "collapsed": false
   },
   "outputs": [
    {
     "name": "stdout",
     "output_type": "stream",
     "text": [
      "('Best 1Yr Score:', 0.44336893549188344)\n",
      "('Best 1Yr Parameter:', {'C': 1, 'class_weight': 'auto'})\n"
     ]
    },
    {
     "data": {
      "text/plain": [
       "[('P_B', 0.19451920263400438),\n",
       " ('P_C', -0.17003911885830678),\n",
       " ('P_E', -0.11746568759999927),\n",
       " ('P_S', 0.08725024861647937),\n",
       " ('Debt_to_Capital', -0.090847754811215251),\n",
       " ('Net_Margin', -0.094138758903025435),\n",
       " ('ROA', 0.058389512336949161),\n",
       " ('ROE', -0.17465040598403592),\n",
       " ('#_of_Holdings', -0.11718090303311464),\n",
       " ('Turnover_Ratio', 0.065314883164186127),\n",
       " ('Total_Market_Value', 0.023370206150203039)]"
      ]
     },
     "execution_count": 320,
     "metadata": {},
     "output_type": "execute_result"
    }
   ],
   "source": [
    "print('Best 1Yr Score:', gs.best_score_)\n",
    "print('Best 1Yr Parameter:', gs.best_params_)\n",
    "zip(['P_B', 'P_C', 'P_E', 'P_S','Debt_to_Capital', 'Net_Margin', 'ROA', 'ROE',\\\n",
    "                 '#_of_Holdings', 'Turnover_Ratio', 'Total_Market_Value'],gs.best_estimator_.coef_[0])"
   ]
  },
  {
   "cell_type": "code",
   "execution_count": 321,
   "metadata": {
    "collapsed": false
   },
   "outputs": [
    {
     "name": "stdout",
     "output_type": "stream",
     "text": [
      "('Best 1Yr Intercept:', -0.005639219940212996)\n",
      "('Best 1Yr Coefficients:', array([ 0.1945192 , -0.17003912, -0.11746569,  0.08725025, -0.09084775,\n",
      "       -0.09413876,  0.05838951, -0.17465041, -0.1171809 ,  0.06531488,\n",
      "        0.02337021]))\n"
     ]
    }
   ],
   "source": [
    "print('Best 1Yr Intercept:', gs.best_estimator_.intercept_[0])\n",
    "print('Best 1Yr Coefficients:', gs.best_estimator_.coef_[0])"
   ]
  },
  {
   "cell_type": "code",
   "execution_count": 322,
   "metadata": {
    "collapsed": true
   },
   "outputs": [],
   "source": [
    "lm1= LogisticRegression()\n",
    "features = ['P_B']\n",
    "lm1.fit(cleandata[features], cleandata['Beat_BM_1Yr'])\n",
    "cleandata['probabilityPB'] = lm1.predict_proba(cleandata[features]).T[1]"
   ]
  },
  {
   "cell_type": "code",
   "execution_count": 323,
   "metadata": {
    "collapsed": true
   },
   "outputs": [],
   "source": [
    "lm1= LogisticRegression()\n",
    "features = ['P_S']\n",
    "lm1.fit(cleandata[features], cleandata['Beat_BM_1Yr'])\n",
    "cleandata['probabilityPS'] = lm1.predict_proba(cleandata[features]).T[1]"
   ]
  },
  {
   "cell_type": "code",
   "execution_count": 324,
   "metadata": {
    "collapsed": true
   },
   "outputs": [],
   "source": [
    "lm1= LogisticRegression()\n",
    "features = ['P_C']\n",
    "lm1.fit(cleandata[features], cleandata['Beat_BM_1Yr'])\n",
    "cleandata['probabilityPC'] = lm1.predict_proba(cleandata[features]).T[1]"
   ]
  },
  {
   "cell_type": "code",
   "execution_count": 325,
   "metadata": {
    "collapsed": true
   },
   "outputs": [],
   "source": [
    "lm1= LogisticRegression()\n",
    "features = ['ROE']\n",
    "lm1.fit(cleandata[features], cleandata['Beat_BM_1Yr'])\n",
    "cleandata['probabilityROE'] = lm1.predict_proba(cleandata[features]).T[1]"
   ]
  },
  {
   "cell_type": "code",
   "execution_count": 326,
   "metadata": {
    "collapsed": false
   },
   "outputs": [
    {
     "data": {
      "text/plain": [
       "<matplotlib.axes._subplots.AxesSubplot at 0x12b06f6d0>"
      ]
     },
     "execution_count": 326,
     "metadata": {},
     "output_type": "execute_result"
    },
    {
     "data": {
      "image/png": "[encoded data removed]",
      "text/plain": [
       "<matplotlib.figure.Figure at 0x125d3aa10>"
      ]
     },
     "metadata": {},
     "output_type": "display_data"
    }
   ],
   "source": [
    "cleandata['probabilityPB'].plot(kind='box',ylim=(0.385,0.400))"
   ]
  },
  {
   "cell_type": "code",
   "execution_count": 327,
   "metadata": {
    "collapsed": false,
    "scrolled": true
   },
   "outputs": [
    {
     "data": {
      "text/plain": [
       "<matplotlib.axes._subplots.AxesSubplot at 0x12b05b510>"
      ]
     },
     "execution_count": 327,
     "metadata": {},
     "output_type": "execute_result"
    },
    {
     "data": {
      "image/png": "[encoded data removed]",
      "text/plain": [
       "<matplotlib.figure.Figure at 0x12b24e250>"
      ]
     },
     "metadata": {},
     "output_type": "display_data"
    }
   ],
   "source": [
    "cleandata['probabilityPS'].plot(kind='box',ylim=(0.38,0.41))"
   ]
  },
  {
   "cell_type": "code",
   "execution_count": 328,
   "metadata": {
    "collapsed": false
   },
   "outputs": [
    {
     "data": {
      "text/plain": [
       "<matplotlib.axes._subplots.AxesSubplot at 0x12b7d5c90>"
      ]
     },
     "execution_count": 328,
     "metadata": {},
     "output_type": "execute_result"
    },
    {
     "data": {
      "image/png": "[encoded data removed]",
      "text/plain": [
       "<matplotlib.figure.Figure at 0x12a93a310>"
      ]
     },
     "metadata": {},
     "output_type": "display_data"
    }
   ],
   "source": [
    "cleandata['probabilityPC'].plot(kind='box',ylim=(0.36,0.420))"
   ]
  },
  {
   "cell_type": "code",
   "execution_count": 329,
   "metadata": {
    "collapsed": false
   },
   "outputs": [
    {
     "data": {
      "text/plain": [
       "<matplotlib.axes._subplots.AxesSubplot at 0x12b8fded0>"
      ]
     },
     "execution_count": 329,
     "metadata": {},
     "output_type": "execute_result"
    },
    {
     "data": {
      "image/png": "[encoded data removed]",
      "text/plain": [
       "<matplotlib.figure.Figure at 0x12b8c0a50>"
      ]
     },
     "metadata": {},
     "output_type": "display_data"
    }
   ],
   "source": [
    "cleandata['probabilityROE'].plot(kind='box',ylim=(0.30,0.46))"
   ]
  },
  {
   "cell_type": "code",
   "execution_count": 330,
   "metadata": {
    "collapsed": false
   },
   "outputs": [
    {
     "data": {
      "text/plain": [
       "<matplotlib.legend.Legend at 0x12b7dfa50>"
      ]
     },
     "execution_count": 330,
     "metadata": {},
     "output_type": "execute_result"
    },
    {
     "data": {
      "image/png": "[encoded data removed]",
      "text/plain": [
       "<matplotlib.figure.Figure at 0x12ba393d0>"
      ]
     },
     "metadata": {},
     "output_type": "display_data"
    }
   ],
   "source": [
    "ax = plt.subplot(111)\n",
    "\n",
    "features = ['MSCI EAFE NR USD', 'MSCI EM NR USD', 'Russell 2000 TR USD', 'S&P 500 TR USD']\n",
    "colors = ['blue', 'green', 'red', 'purple']\n",
    "for e, c in enumerate(colors):\n",
    "    cleandata[cleandata[features[e]] == 1].plot(x='P_B', y='probabilityPB', kind='scatter', color = c, ax=ax)\n",
    "\n",
    "ax.set(title='Probability of Generating Positive Alpha\\n Based on Price to Book Feature')\n",
    "\n",
    "lines, labels = ax.get_legend_handles_labels()\n",
    "ax.legend(lines[:2], labels=features, loc='upper left',fontsize=8)"
   ]
  },
  {
   "cell_type": "code",
   "execution_count": 194,
   "metadata": {
    "collapsed": false
   },
   "outputs": [
    {
     "data": {
      "text/plain": [
       "<matplotlib.legend.Legend at 0x127743ad0>"
      ]
     },
     "execution_count": 194,
     "metadata": {},
     "output_type": "execute_result"
    },
    {
     "data": {
      "image/png": "[encoded data removed]",
      "text/plain": [
       "<matplotlib.figure.Figure at 0x127423e90>"
      ]
     },
     "metadata": {},
     "output_type": "display_data"
    }
   ],
   "source": [
    "ax = plt.subplot(111)\n",
    "\n",
    "features = ['MSCI EAFE NR USD', 'MSCI EM NR USD', 'Russell 2000 TR USD', 'S&P 500 TR USD']\n",
    "colors = ['blue', 'green', 'red', 'purple']\n",
    "for e, c in enumerate(colors):\n",
    "    cleandata[cleandata[features[e]] == 1].plot(x='ROE', y='probabilityROE', kind='scatter', color = c, ax=ax)\n",
    "\n",
    "ax.set(title='Probability of Generating Positive Alpha\\n Based on ROE Feature')\n",
    "\n",
    "lines, labels = ax.get_legend_handles_labels()\n",
    "ax.legend(lines[:2], labels=features, loc='upper left',fontsize=8)"
   ]
  },
  {
   "cell_type": "code",
   "execution_count": 331,
   "metadata": {
    "collapsed": false
   },
   "outputs": [
    {
     "data": {
      "text/plain": [
       "<matplotlib.axes._subplots.AxesSubplot at 0x127f66bd0>"
      ]
     },
     "execution_count": 331,
     "metadata": {},
     "output_type": "execute_result"
    },
    {
     "data": {
      "image/png": "[encoded data removed]",
      "text/plain": [
       "<matplotlib.figure.Figure at 0x12aed9d50>"
      ]
     },
     "metadata": {},
     "output_type": "display_data"
    }
   ],
   "source": [
    "fig, axs = plt.subplots(1,4 , sharey=True)\n",
    "cleandata.plot(kind='scatter', x='P_B', y='probabilityPB', ax=axs[0], figsize=(16, 8))\n",
    "cleandata.plot(kind='scatter', x='P_S', y='probabilityPS', ax=axs[1], figsize=(16, 8))\n",
    "cleandata.plot(kind='scatter', x='P_C', y='probabilityPC', ax=axs[2], figsize=(16, 8))\n",
    "cleandata.plot(kind='scatter', x='ROE', y='probabilityROE', ax=axs[3], figsize=(16, 8))"
   ]
  },
  {
   "cell_type": "markdown",
   "metadata": {
    "collapsed": true
   },
   "source": [
    "# Random Forest"
   ]
  },
  {
   "cell_type": "code",
   "execution_count": 332,
   "metadata": {
    "collapsed": false
   },
   "outputs": [],
   "source": [
    "rfdata = cleandata[['P_B', 'P_C', 'P_E', 'P_S','Debt_to_Capital', 'Net_Margin', 'ROA', 'ROE',\\\n",
    "                 '#_of_Holdings', 'Turnover_Ratio', 'Total_Market_Value','Beat_BM_1Yr']]"
   ]
  },
  {
   "cell_type": "code",
   "execution_count": 333,
   "metadata": {
    "collapsed": false
   },
   "outputs": [
    {
     "data": {
      "text/plain": [
       "(9271, 12)"
      ]
     },
     "execution_count": 333,
     "metadata": {},
     "output_type": "execute_result"
    }
   ],
   "source": [
    "rfdata.shape"
   ]
  },
  {
   "cell_type": "code",
   "execution_count": 334,
   "metadata": {
    "collapsed": false
   },
   "outputs": [
    {
     "data": {
      "text/plain": [
       "P_B                   float64\n",
       "P_C                   float64\n",
       "P_E                   float64\n",
       "P_S                   float64\n",
       "Debt_to_Capital       float64\n",
       "Net_Margin            float64\n",
       "ROA                   float64\n",
       "ROE                   float64\n",
       "#_of_Holdings           int64\n",
       "Turnover_Ratio          int64\n",
       "Total_Market_Value      int64\n",
       "Beat_BM_1Yr             int64\n",
       "dtype: object"
      ]
     },
     "execution_count": 334,
     "metadata": {},
     "output_type": "execute_result"
    }
   ],
   "source": [
    "rfdata.dtypes"
   ]
  },
  {
   "cell_type": "code",
   "execution_count": 335,
   "metadata": {
    "collapsed": false
   },
   "outputs": [
    {
     "data": {
      "text/html": [
       "<div>\n",
       "<table border=\"1\" class=\"dataframe\">\n",
       "  <thead>\n",
       "    <tr style=\"text-align: right;\">\n",
       "      <th></th>\n",
       "      <th>P_B</th>\n",
       "      <th>P_C</th>\n",
       "      <th>P_E</th>\n",
       "      <th>P_S</th>\n",
       "      <th>Debt_to_Capital</th>\n",
       "      <th>Net_Margin</th>\n",
       "      <th>ROA</th>\n",
       "      <th>ROE</th>\n",
       "      <th>#_of_Holdings</th>\n",
       "      <th>Turnover_Ratio</th>\n",
       "      <th>Total_Market_Value</th>\n",
       "      <th>Beat_BM_1Yr</th>\n",
       "    </tr>\n",
       "  </thead>\n",
       "  <tbody>\n",
       "    <tr>\n",
       "      <th>0</th>\n",
       "      <td>2.61</td>\n",
       "      <td>8.51</td>\n",
       "      <td>15.00</td>\n",
       "      <td>1.11</td>\n",
       "      <td>3.98</td>\n",
       "      <td>12.48</td>\n",
       "      <td>7.30</td>\n",
       "      <td>18.06</td>\n",
       "      <td>17</td>\n",
       "      <td>16</td>\n",
       "      <td>4758135</td>\n",
       "      <td>0</td>\n",
       "    </tr>\n",
       "    <tr>\n",
       "      <th>1</th>\n",
       "      <td>3.76</td>\n",
       "      <td>11.13</td>\n",
       "      <td>16.41</td>\n",
       "      <td>1.50</td>\n",
       "      <td>2.75</td>\n",
       "      <td>11.94</td>\n",
       "      <td>6.51</td>\n",
       "      <td>17.62</td>\n",
       "      <td>50</td>\n",
       "      <td>126</td>\n",
       "      <td>7173207</td>\n",
       "      <td>0</td>\n",
       "    </tr>\n",
       "    <tr>\n",
       "      <th>2</th>\n",
       "      <td>2.48</td>\n",
       "      <td>9.48</td>\n",
       "      <td>18.89</td>\n",
       "      <td>1.68</td>\n",
       "      <td>22.32</td>\n",
       "      <td>12.47</td>\n",
       "      <td>8.39</td>\n",
       "      <td>17.74</td>\n",
       "      <td>59</td>\n",
       "      <td>5</td>\n",
       "      <td>7208690</td>\n",
       "      <td>0</td>\n",
       "    </tr>\n",
       "    <tr>\n",
       "      <th>3</th>\n",
       "      <td>1.48</td>\n",
       "      <td>5.23</td>\n",
       "      <td>21.07</td>\n",
       "      <td>0.30</td>\n",
       "      <td>7.24</td>\n",
       "      <td>11.00</td>\n",
       "      <td>7.46</td>\n",
       "      <td>17.58</td>\n",
       "      <td>93</td>\n",
       "      <td>28</td>\n",
       "      <td>31827776</td>\n",
       "      <td>0</td>\n",
       "    </tr>\n",
       "    <tr>\n",
       "      <th>4</th>\n",
       "      <td>2.64</td>\n",
       "      <td>7.72</td>\n",
       "      <td>13.85</td>\n",
       "      <td>0.98</td>\n",
       "      <td>7.01</td>\n",
       "      <td>7.82</td>\n",
       "      <td>5.19</td>\n",
       "      <td>16.86</td>\n",
       "      <td>40</td>\n",
       "      <td>63</td>\n",
       "      <td>32780427</td>\n",
       "      <td>1</td>\n",
       "    </tr>\n",
       "  </tbody>\n",
       "</table>\n",
       "</div>"
      ],
      "text/plain": [
       "    P_B    P_C    P_E   P_S  Debt_to_Capital  Net_Margin   ROA    ROE  \\\n",
       "0  2.61   8.51  15.00  1.11             3.98       12.48  7.30  18.06   \n",
       "1  3.76  11.13  16.41  1.50             2.75       11.94  6.51  17.62   \n",
       "2  2.48   9.48  18.89  1.68            22.32       12.47  8.39  17.74   \n",
       "3  1.48   5.23  21.07  0.30             7.24       11.00  7.46  17.58   \n",
       "4  2.64   7.72  13.85  0.98             7.01        7.82  5.19  16.86   \n",
       "\n",
       "   #_of_Holdings  Turnover_Ratio  Total_Market_Value  Beat_BM_1Yr  \n",
       "0             17              16             4758135            0  \n",
       "1             50             126             7173207            0  \n",
       "2             59               5             7208690            0  \n",
       "3             93              28            31827776            0  \n",
       "4             40              63            32780427            1  "
      ]
     },
     "execution_count": 335,
     "metadata": {},
     "output_type": "execute_result"
    }
   ],
   "source": [
    "rfdata.head()"
   ]
  },
  {
   "cell_type": "code",
   "execution_count": 336,
   "metadata": {
    "collapsed": false
   },
   "outputs": [
    {
     "name": "stderr",
     "output_type": "stream",
     "text": [
      "/Users/michaeltong/anaconda/lib/python2.7/site-packages/ipykernel/__main__.py:2: SettingWithCopyWarning: \n",
      "A value is trying to be set on a copy of a slice from a DataFrame.\n",
      "Try using .loc[row_indexer,col_indexer] = value instead\n",
      "\n",
      "See the caveats in the documentation: http://pandas.pydata.org/pandas-docs/stable/indexing.html#indexing-view-versus-copy\n",
      "  from ipykernel import kernelapp as app\n"
     ]
    }
   ],
   "source": [
    "#split data into train and test set\n",
    "rfdata['train'] = np.random.uniform(0, 1, len(rfdata)) <= .75"
   ]
  },
  {
   "cell_type": "code",
   "execution_count": 337,
   "metadata": {
    "collapsed": false
   },
   "outputs": [],
   "source": [
    "train, test = rfdata[rfdata['train']==True], rfdata[rfdata['train']==False]"
   ]
  },
  {
   "cell_type": "code",
   "execution_count": 338,
   "metadata": {
    "collapsed": false
   },
   "outputs": [
    {
     "data": {
      "text/html": [
       "<div>\n",
       "<table border=\"1\" class=\"dataframe\">\n",
       "  <thead>\n",
       "    <tr style=\"text-align: right;\">\n",
       "      <th></th>\n",
       "      <th>P_B</th>\n",
       "      <th>P_C</th>\n",
       "      <th>P_E</th>\n",
       "      <th>P_S</th>\n",
       "      <th>Debt_to_Capital</th>\n",
       "      <th>Net_Margin</th>\n",
       "      <th>ROA</th>\n",
       "      <th>ROE</th>\n",
       "      <th>#_of_Holdings</th>\n",
       "      <th>Turnover_Ratio</th>\n",
       "      <th>Total_Market_Value</th>\n",
       "      <th>Beat_BM_1Yr</th>\n",
       "      <th>train</th>\n",
       "    </tr>\n",
       "  </thead>\n",
       "  <tbody>\n",
       "    <tr>\n",
       "      <th>0</th>\n",
       "      <td>2.61</td>\n",
       "      <td>8.51</td>\n",
       "      <td>15.00</td>\n",
       "      <td>1.11</td>\n",
       "      <td>3.98</td>\n",
       "      <td>12.48</td>\n",
       "      <td>7.30</td>\n",
       "      <td>18.06</td>\n",
       "      <td>17</td>\n",
       "      <td>16</td>\n",
       "      <td>4758135</td>\n",
       "      <td>0</td>\n",
       "      <td>True</td>\n",
       "    </tr>\n",
       "    <tr>\n",
       "      <th>1</th>\n",
       "      <td>3.76</td>\n",
       "      <td>11.13</td>\n",
       "      <td>16.41</td>\n",
       "      <td>1.50</td>\n",
       "      <td>2.75</td>\n",
       "      <td>11.94</td>\n",
       "      <td>6.51</td>\n",
       "      <td>17.62</td>\n",
       "      <td>50</td>\n",
       "      <td>126</td>\n",
       "      <td>7173207</td>\n",
       "      <td>0</td>\n",
       "      <td>False</td>\n",
       "    </tr>\n",
       "    <tr>\n",
       "      <th>2</th>\n",
       "      <td>2.48</td>\n",
       "      <td>9.48</td>\n",
       "      <td>18.89</td>\n",
       "      <td>1.68</td>\n",
       "      <td>22.32</td>\n",
       "      <td>12.47</td>\n",
       "      <td>8.39</td>\n",
       "      <td>17.74</td>\n",
       "      <td>59</td>\n",
       "      <td>5</td>\n",
       "      <td>7208690</td>\n",
       "      <td>0</td>\n",
       "      <td>True</td>\n",
       "    </tr>\n",
       "    <tr>\n",
       "      <th>3</th>\n",
       "      <td>1.48</td>\n",
       "      <td>5.23</td>\n",
       "      <td>21.07</td>\n",
       "      <td>0.30</td>\n",
       "      <td>7.24</td>\n",
       "      <td>11.00</td>\n",
       "      <td>7.46</td>\n",
       "      <td>17.58</td>\n",
       "      <td>93</td>\n",
       "      <td>28</td>\n",
       "      <td>31827776</td>\n",
       "      <td>0</td>\n",
       "      <td>False</td>\n",
       "    </tr>\n",
       "    <tr>\n",
       "      <th>4</th>\n",
       "      <td>2.64</td>\n",
       "      <td>7.72</td>\n",
       "      <td>13.85</td>\n",
       "      <td>0.98</td>\n",
       "      <td>7.01</td>\n",
       "      <td>7.82</td>\n",
       "      <td>5.19</td>\n",
       "      <td>16.86</td>\n",
       "      <td>40</td>\n",
       "      <td>63</td>\n",
       "      <td>32780427</td>\n",
       "      <td>1</td>\n",
       "      <td>True</td>\n",
       "    </tr>\n",
       "  </tbody>\n",
       "</table>\n",
       "</div>"
      ],
      "text/plain": [
       "    P_B    P_C    P_E   P_S  Debt_to_Capital  Net_Margin   ROA    ROE  \\\n",
       "0  2.61   8.51  15.00  1.11             3.98       12.48  7.30  18.06   \n",
       "1  3.76  11.13  16.41  1.50             2.75       11.94  6.51  17.62   \n",
       "2  2.48   9.48  18.89  1.68            22.32       12.47  8.39  17.74   \n",
       "3  1.48   5.23  21.07  0.30             7.24       11.00  7.46  17.58   \n",
       "4  2.64   7.72  13.85  0.98             7.01        7.82  5.19  16.86   \n",
       "\n",
       "   #_of_Holdings  Turnover_Ratio  Total_Market_Value  Beat_BM_1Yr  train  \n",
       "0             17              16             4758135            0   True  \n",
       "1             50             126             7173207            0  False  \n",
       "2             59               5             7208690            0   True  \n",
       "3             93              28            31827776            0  False  \n",
       "4             40              63            32780427            1   True  "
      ]
     },
     "execution_count": 338,
     "metadata": {},
     "output_type": "execute_result"
    }
   ],
   "source": [
    "rfdata.head()"
   ]
  },
  {
   "cell_type": "code",
   "execution_count": 339,
   "metadata": {
    "collapsed": false
   },
   "outputs": [
    {
     "name": "stdout",
     "output_type": "stream",
     "text": [
      "('Number of observations in the training data:', 6938)\n",
      "('Number of observations in the test data:', 2333)\n"
     ]
    }
   ],
   "source": [
    "print('Number of observations in the training data:', len(train))\n",
    "print('Number of observations in the test data:',len(test))"
   ]
  },
  {
   "cell_type": "code",
   "execution_count": 340,
   "metadata": {
    "collapsed": false
   },
   "outputs": [
    {
     "data": {
      "text/plain": [
       "Index([u'P_B', u'P_C', u'P_E', u'P_S', u'Debt_to_Capital', u'Net_Margin',\n",
       "       u'ROA', u'ROE', u'#_of_Holdings', u'Turnover_Ratio',\n",
       "       u'Total_Market_Value'],\n",
       "      dtype='object')"
      ]
     },
     "execution_count": 340,
     "metadata": {},
     "output_type": "execute_result"
    }
   ],
   "source": [
    "features1 = rfdata.columns[:11]\n",
    "features1"
   ]
  },
  {
   "cell_type": "code",
   "execution_count": 341,
   "metadata": {
    "collapsed": false
   },
   "outputs": [
    {
     "data": {
      "text/plain": [
       "RandomForestClassifier(bootstrap=True, class_weight=None, criterion='gini',\n",
       "            max_depth=None, max_features='auto', max_leaf_nodes=None,\n",
       "            min_impurity_split=1e-07, min_samples_leaf=1,\n",
       "            min_samples_split=2, min_weight_fraction_leaf=0.0,\n",
       "            n_estimators=10, n_jobs=2, oob_score=False, random_state=None,\n",
       "            verbose=0, warm_start=False)"
      ]
     },
     "execution_count": 341,
     "metadata": {},
     "output_type": "execute_result"
    }
   ],
   "source": [
    "clf = RandomForestClassifier(n_jobs=2)\n",
    "\n",
    "clf.fit(train[features1], train.Beat_BM_1Yr)"
   ]
  },
  {
   "cell_type": "code",
   "execution_count": 342,
   "metadata": {
    "collapsed": false
   },
   "outputs": [
    {
     "name": "stdout",
     "output_type": "stream",
     "text": [
      "0.979821274142\n",
      "0.666523789113\n"
     ]
    }
   ],
   "source": [
    "scoreclf = clf.score(train[features1], train.Beat_BM_1Yr)\n",
    "print scoreclf\n",
    "\n",
    "scoreclfT = clf.score(test[features1], test.Beat_BM_1Yr)\n",
    "print scoreclfT"
   ]
  },
  {
   "cell_type": "code",
   "execution_count": 343,
   "metadata": {
    "collapsed": false
   },
   "outputs": [
    {
     "data": {
      "text/plain": [
       "array([0, 0, 0, ..., 0, 0, 0])"
      ]
     },
     "execution_count": 343,
     "metadata": {},
     "output_type": "execute_result"
    }
   ],
   "source": [
    "clf.predict(test[features1])"
   ]
  },
  {
   "cell_type": "code",
   "execution_count": 344,
   "metadata": {
    "collapsed": false
   },
   "outputs": [
    {
     "data": {
      "text/plain": [
       "array([[ 0.5,  0.5],\n",
       "       [ 0.6,  0.4],\n",
       "       [ 0.9,  0.1],\n",
       "       [ 0.3,  0.7],\n",
       "       [ 0.5,  0.5],\n",
       "       [ 0.7,  0.3],\n",
       "       [ 0.9,  0.1],\n",
       "       [ 0.9,  0.1],\n",
       "       [ 0.4,  0.6],\n",
       "       [ 0.6,  0.4]])"
      ]
     },
     "execution_count": 344,
     "metadata": {},
     "output_type": "execute_result"
    }
   ],
   "source": [
    "clf.predict_proba(test[features1])[0:10]"
   ]
  },
  {
   "cell_type": "code",
   "execution_count": 345,
   "metadata": {
    "collapsed": false
   },
   "outputs": [
    {
     "data": {
      "text/plain": [
       "[('P_B', 0.093918334077436633),\n",
       " ('P_C', 0.085567189474333782),\n",
       " ('P_E', 0.086738949493318313),\n",
       " ('P_S', 0.082550117463140366),\n",
       " ('Debt_to_Capital', 0.097537679714685327),\n",
       " ('Net_Margin', 0.086442589068587219),\n",
       " ('ROA', 0.089764837724598506),\n",
       " ('ROE', 0.08778701703038902),\n",
       " ('#_of_Holdings', 0.096783308642071103),\n",
       " ('Turnover_Ratio', 0.087159529474041972),\n",
       " ('Total_Market_Value', 0.10575044783739777)]"
      ]
     },
     "execution_count": 345,
     "metadata": {},
     "output_type": "execute_result"
    }
   ],
   "source": [
    "list(zip(train[features1], clf.feature_importances_))"
   ]
  },
  {
   "cell_type": "code",
   "execution_count": 346,
   "metadata": {
    "collapsed": false
   },
   "outputs": [
    {
     "data": {
      "text/html": [
       "<div>\n",
       "<table border=\"1\" class=\"dataframe\">\n",
       "  <thead>\n",
       "    <tr style=\"text-align: right;\">\n",
       "      <th></th>\n",
       "      <th>Features</th>\n",
       "      <th>Importance Score</th>\n",
       "    </tr>\n",
       "  </thead>\n",
       "  <tbody>\n",
       "    <tr>\n",
       "      <th>10</th>\n",
       "      <td>Total_Market_Value</td>\n",
       "      <td>0.105750</td>\n",
       "    </tr>\n",
       "    <tr>\n",
       "      <th>4</th>\n",
       "      <td>Debt_to_Capital</td>\n",
       "      <td>0.097538</td>\n",
       "    </tr>\n",
       "    <tr>\n",
       "      <th>8</th>\n",
       "      <td>#_of_Holdings</td>\n",
       "      <td>0.096783</td>\n",
       "    </tr>\n",
       "    <tr>\n",
       "      <th>0</th>\n",
       "      <td>P_B</td>\n",
       "      <td>0.093918</td>\n",
       "    </tr>\n",
       "    <tr>\n",
       "      <th>6</th>\n",
       "      <td>ROA</td>\n",
       "      <td>0.089765</td>\n",
       "    </tr>\n",
       "    <tr>\n",
       "      <th>7</th>\n",
       "      <td>ROE</td>\n",
       "      <td>0.087787</td>\n",
       "    </tr>\n",
       "    <tr>\n",
       "      <th>9</th>\n",
       "      <td>Turnover_Ratio</td>\n",
       "      <td>0.087160</td>\n",
       "    </tr>\n",
       "    <tr>\n",
       "      <th>2</th>\n",
       "      <td>P_E</td>\n",
       "      <td>0.086739</td>\n",
       "    </tr>\n",
       "    <tr>\n",
       "      <th>5</th>\n",
       "      <td>Net_Margin</td>\n",
       "      <td>0.086443</td>\n",
       "    </tr>\n",
       "    <tr>\n",
       "      <th>1</th>\n",
       "      <td>P_C</td>\n",
       "      <td>0.085567</td>\n",
       "    </tr>\n",
       "    <tr>\n",
       "      <th>3</th>\n",
       "      <td>P_S</td>\n",
       "      <td>0.082550</td>\n",
       "    </tr>\n",
       "  </tbody>\n",
       "</table>\n",
       "</div>"
      ],
      "text/plain": [
       "              Features  Importance Score\n",
       "10  Total_Market_Value          0.105750\n",
       "4      Debt_to_Capital          0.097538\n",
       "8        #_of_Holdings          0.096783\n",
       "0                  P_B          0.093918\n",
       "6                  ROA          0.089765\n",
       "7                  ROE          0.087787\n",
       "9       Turnover_Ratio          0.087160\n",
       "2                  P_E          0.086739\n",
       "5           Net_Margin          0.086443\n",
       "1                  P_C          0.085567\n",
       "3                  P_S          0.082550"
      ]
     },
     "execution_count": 346,
     "metadata": {},
     "output_type": "execute_result"
    }
   ],
   "source": [
    "factors1 = train[features1].columns\n",
    "\n",
    "features_clf = pd.DataFrame({'Features': features1, 'Importance Score': clf.feature_importances_})\n",
    "features_clf.sort_values('Importance Score', inplace=True, ascending=False)\n",
    "\n",
    "features_clf"
   ]
  },
  {
   "cell_type": "code",
   "execution_count": 347,
   "metadata": {
    "collapsed": false
   },
   "outputs": [],
   "source": [
    "lm1= LogisticRegression()\n",
    "features = ['Total_Market_Value']\n",
    "lm1.fit(cleandata[features], cleandata['Beat_BM_1Yr'])\n",
    "cleandata['probabilityMV'] = lm1.predict_proba(cleandata[features]).T[1]"
   ]
  },
  {
   "cell_type": "code",
   "execution_count": 348,
   "metadata": {
    "collapsed": false
   },
   "outputs": [
    {
     "data": {
      "text/plain": [
       "<matplotlib.legend.Legend at 0x119470b50>"
      ]
     },
     "execution_count": 348,
     "metadata": {},
     "output_type": "execute_result"
    },
    {
     "data": {
      "image/png": "[encoded data removed]",
      "text/plain": [
       "<matplotlib.figure.Figure at 0x12ae60850>"
      ]
     },
     "metadata": {},
     "output_type": "display_data"
    }
   ],
   "source": [
    "ax = plt.subplot(111)\n",
    "\n",
    "features = ['MSCI EAFE NR USD', 'MSCI EM NR USD', 'Russell 2000 TR USD', 'S&P 500 TR USD']\n",
    "colors = ['blue', 'green', 'red', 'purple']\n",
    "for e, c in enumerate(colors):\n",
    "    cleandata[cleandata[features[e]] == 1].plot(x='Total_Market_Value', y='probabilityMV', kind='scatter', color = c, ax=ax)\n",
    "\n",
    "ax.set(title='Probability of Generating Positive Alpha\\n Based on AUM Feature')\n",
    "\n",
    "lines, labels = ax.get_legend_handles_labels()\n",
    "ax.legend(lines[:2], labels=features, loc='upper right',fontsize=8)"
   ]
  },
  {
   "cell_type": "code",
   "execution_count": null,
   "metadata": {
    "collapsed": true
   },
   "outputs": [],
   "source": []
  }
 ],
 "metadata": {
  "kernelspec": {
   "display_name": "Python 2",
   "language": "python",
   "name": "python2"
  },
  "language_info": {
   "codemirror_mode": {
    "name": "ipython",
    "version": 2
   },
   "file_extension": ".py",
   "mimetype": "text/x-python",
   "name": "python",
   "nbconvert_exporter": "python",
   "pygments_lexer": "ipython2",
   "version": "2.7.13"
  }
 },
 "nbformat": 4,
 "nbformat_minor": 2
}

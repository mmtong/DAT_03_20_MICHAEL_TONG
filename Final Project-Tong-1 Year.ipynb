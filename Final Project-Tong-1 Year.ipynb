{
 "cells": [
  {
   "cell_type": "code",
   "execution_count": 7,
   "metadata": {
    "collapsed": false
   },
   "outputs": [],
   "source": [
    "import pandas as pd\n",
    "import numpy as np\n",
    "from matplotlib import pyplot as plt\n",
    "import seaborn as sns\n",
    "from sklearn import datasets, metrics, grid_search, cross_validation\n",
    "from sklearn.preprocessing import StandardScaler\n",
    "from sklearn.linear_model import LogisticRegression\n",
    "from sklearn.metrics import roc_curve, roc_auc_score\n",
    "from sklearn.ensemble import RandomForestClassifier\n",
    "%matplotlib inline"
   ]
  },
  {
   "cell_type": "code",
   "execution_count": 32,
   "metadata": {
    "collapsed": false
   },
   "outputs": [],
   "source": [
    "data = pd.read_csv('../Final Project/DataScienceFinalProjectValues1YrCSV.csv')\n"
   ]
  },
  {
   "cell_type": "code",
   "execution_count": 33,
   "metadata": {
    "collapsed": false
   },
   "outputs": [
    {
     "data": {
      "text/html": [
       "<div>\n",
       "<table border=\"1\" class=\"dataframe\">\n",
       "  <thead>\n",
       "    <tr style=\"text-align: right;\">\n",
       "      <th></th>\n",
       "      <th>Calender_Year_Year End</th>\n",
       "      <th>Name</th>\n",
       "      <th>Ticker</th>\n",
       "      <th>Primary_Prospectus_Benchmark</th>\n",
       "      <th>#_of_Holdings</th>\n",
       "      <th>Turnover_Ratio</th>\n",
       "      <th>Total_Market_Value</th>\n",
       "      <th>P_B</th>\n",
       "      <th>P_C</th>\n",
       "      <th>P_E</th>\n",
       "      <th>...</th>\n",
       "      <th>Equity_Style_Factor_P_S</th>\n",
       "      <th>Equity_Style_Factor_P_C</th>\n",
       "      <th>Equity_Style_Factor_Div_Yld</th>\n",
       "      <th>Equity_Style_Factor_LT_Earn_Growth</th>\n",
       "      <th>Equity_Style_Factor_Hist_Earn_Growth</th>\n",
       "      <th>Equity_Style_Factor_BV_Growth</th>\n",
       "      <th>Equity_Style_Factor_Sales_Growth</th>\n",
       "      <th>Equity_Style_Factor_CF_Growth</th>\n",
       "      <th>1Yr_Return</th>\n",
       "      <th>1Yr_Return_BM</th>\n",
       "    </tr>\n",
       "  </thead>\n",
       "  <tbody>\n",
       "    <tr>\n",
       "      <th>0</th>\n",
       "      <td>2005</td>\n",
       "      <td>STAAR International</td>\n",
       "      <td>SITIX</td>\n",
       "      <td>MSCI EAFE NR USD</td>\n",
       "      <td>17</td>\n",
       "      <td>16</td>\n",
       "      <td>4,758,135</td>\n",
       "      <td>2.61</td>\n",
       "      <td>8.51</td>\n",
       "      <td>15.00</td>\n",
       "      <td>...</td>\n",
       "      <td>1.01</td>\n",
       "      <td>5.10</td>\n",
       "      <td>2.72</td>\n",
       "      <td>12.59</td>\n",
       "      <td>18.78</td>\n",
       "      <td>-7.83</td>\n",
       "      <td>6.66</td>\n",
       "      <td>-14.86</td>\n",
       "      <td>21.38</td>\n",
       "      <td>26.34</td>\n",
       "    </tr>\n",
       "    <tr>\n",
       "      <th>1</th>\n",
       "      <td>2005</td>\n",
       "      <td>Hartford Schroders International Stk I</td>\n",
       "      <td>SCIEX</td>\n",
       "      <td>MSCI EAFE NR USD</td>\n",
       "      <td>50</td>\n",
       "      <td>126</td>\n",
       "      <td>7,173,207</td>\n",
       "      <td>3.76</td>\n",
       "      <td>11.13</td>\n",
       "      <td>16.41</td>\n",
       "      <td>...</td>\n",
       "      <td>1.46</td>\n",
       "      <td>11.52</td>\n",
       "      <td>3.81</td>\n",
       "      <td>13.09</td>\n",
       "      <td>22.45</td>\n",
       "      <td>3.97</td>\n",
       "      <td>1.73</td>\n",
       "      <td>1.48</td>\n",
       "      <td>24.46</td>\n",
       "      <td>26.34</td>\n",
       "    </tr>\n",
       "    <tr>\n",
       "      <th>2</th>\n",
       "      <td>2005</td>\n",
       "      <td>Sextant International</td>\n",
       "      <td>SSIFX</td>\n",
       "      <td>MSCI EAFE NR USD</td>\n",
       "      <td>59</td>\n",
       "      <td>5</td>\n",
       "      <td>7,208,690</td>\n",
       "      <td>2.48</td>\n",
       "      <td>9.48</td>\n",
       "      <td>18.89</td>\n",
       "      <td>...</td>\n",
       "      <td>2.42</td>\n",
       "      <td>7.55</td>\n",
       "      <td>1.55</td>\n",
       "      <td>10.45</td>\n",
       "      <td>18.01</td>\n",
       "      <td>7.51</td>\n",
       "      <td>7.00</td>\n",
       "      <td>16.96</td>\n",
       "      <td>22.02</td>\n",
       "      <td>26.34</td>\n",
       "    </tr>\n",
       "    <tr>\n",
       "      <th>3</th>\n",
       "      <td>2005</td>\n",
       "      <td>Sit International Growth</td>\n",
       "      <td>SNGRX</td>\n",
       "      <td>MSCI EAFE NR USD</td>\n",
       "      <td>93</td>\n",
       "      <td>28</td>\n",
       "      <td>31,827,776</td>\n",
       "      <td>1.48</td>\n",
       "      <td>5.23</td>\n",
       "      <td>21.07</td>\n",
       "      <td>...</td>\n",
       "      <td>1.41</td>\n",
       "      <td>10.62</td>\n",
       "      <td>1.79</td>\n",
       "      <td>13.20</td>\n",
       "      <td>22.26</td>\n",
       "      <td>6.14</td>\n",
       "      <td>5.39</td>\n",
       "      <td>10.78</td>\n",
       "      <td>18.19</td>\n",
       "      <td>26.34</td>\n",
       "    </tr>\n",
       "    <tr>\n",
       "      <th>4</th>\n",
       "      <td>2005</td>\n",
       "      <td>Cambiar International Equity Inv</td>\n",
       "      <td>CAMIX</td>\n",
       "      <td>MSCI EAFE NR USD</td>\n",
       "      <td>40</td>\n",
       "      <td>63</td>\n",
       "      <td>32,780,427</td>\n",
       "      <td>2.64</td>\n",
       "      <td>7.72</td>\n",
       "      <td>13.85</td>\n",
       "      <td>...</td>\n",
       "      <td>0.92</td>\n",
       "      <td>5.89</td>\n",
       "      <td>2.20</td>\n",
       "      <td>10.73</td>\n",
       "      <td>12.12</td>\n",
       "      <td>3.26</td>\n",
       "      <td>-4.04</td>\n",
       "      <td>5.15</td>\n",
       "      <td>29.04</td>\n",
       "      <td>26.34</td>\n",
       "    </tr>\n",
       "  </tbody>\n",
       "</table>\n",
       "<p>5 rows × 27 columns</p>\n",
       "</div>"
      ],
      "text/plain": [
       "   Calender_Year_Year End                                    Name Ticker  \\\n",
       "0                    2005                     STAAR International  SITIX   \n",
       "1                    2005  Hartford Schroders International Stk I  SCIEX   \n",
       "2                    2005                   Sextant International  SSIFX   \n",
       "3                    2005                Sit International Growth  SNGRX   \n",
       "4                    2005        Cambiar International Equity Inv  CAMIX   \n",
       "\n",
       "  Primary_Prospectus_Benchmark #_of_Holdings Turnover_Ratio  \\\n",
       "0             MSCI EAFE NR USD            17             16   \n",
       "1             MSCI EAFE NR USD            50            126   \n",
       "2             MSCI EAFE NR USD            59              5   \n",
       "3             MSCI EAFE NR USD            93             28   \n",
       "4             MSCI EAFE NR USD            40             63   \n",
       "\n",
       "  Total_Market_Value   P_B    P_C    P_E      ...        \\\n",
       "0          4,758,135  2.61   8.51  15.00      ...         \n",
       "1          7,173,207  3.76  11.13  16.41      ...         \n",
       "2          7,208,690  2.48   9.48  18.89      ...         \n",
       "3         31,827,776  1.48   5.23  21.07      ...         \n",
       "4         32,780,427  2.64   7.72  13.85      ...         \n",
       "\n",
       "   Equity_Style_Factor_P_S  Equity_Style_Factor_P_C  \\\n",
       "0                     1.01                     5.10   \n",
       "1                     1.46                    11.52   \n",
       "2                     2.42                     7.55   \n",
       "3                     1.41                    10.62   \n",
       "4                     0.92                     5.89   \n",
       "\n",
       "   Equity_Style_Factor_Div_Yld  Equity_Style_Factor_LT_Earn_Growth  \\\n",
       "0                         2.72                               12.59   \n",
       "1                         3.81                               13.09   \n",
       "2                         1.55                               10.45   \n",
       "3                         1.79                               13.20   \n",
       "4                         2.20                               10.73   \n",
       "\n",
       "   Equity_Style_Factor_Hist_Earn_Growth  Equity_Style_Factor_BV_Growth  \\\n",
       "0                                 18.78                          -7.83   \n",
       "1                                 22.45                           3.97   \n",
       "2                                 18.01                           7.51   \n",
       "3                                 22.26                           6.14   \n",
       "4                                 12.12                           3.26   \n",
       "\n",
       "   Equity_Style_Factor_Sales_Growth  Equity_Style_Factor_CF_Growth  \\\n",
       "0                              6.66                         -14.86   \n",
       "1                              1.73                           1.48   \n",
       "2                              7.00                          16.96   \n",
       "3                              5.39                          10.78   \n",
       "4                             -4.04                           5.15   \n",
       "\n",
       "   1Yr_Return  1Yr_Return_BM  \n",
       "0       21.38          26.34  \n",
       "1       24.46          26.34  \n",
       "2       22.02          26.34  \n",
       "3       18.19          26.34  \n",
       "4       29.04          26.34  \n",
       "\n",
       "[5 rows x 27 columns]"
      ]
     },
     "execution_count": 33,
     "metadata": {},
     "output_type": "execute_result"
    }
   ],
   "source": [
    "data.head()"
   ]
  },
  {
   "cell_type": "code",
   "execution_count": 34,
   "metadata": {
    "collapsed": false
   },
   "outputs": [
    {
     "data": {
      "text/plain": [
       "(9271, 27)"
      ]
     },
     "execution_count": 34,
     "metadata": {},
     "output_type": "execute_result"
    }
   ],
   "source": [
    "data.shape"
   ]
  },
  {
   "cell_type": "code",
   "execution_count": 35,
   "metadata": {
    "collapsed": false
   },
   "outputs": [
    {
     "data": {
      "text/plain": [
       "Calender_Year_Year End                    int64\n",
       "Name                                     object\n",
       "Ticker                                   object\n",
       "Primary_Prospectus_Benchmark             object\n",
       "#_of_Holdings                            object\n",
       "Turnover_Ratio                           object\n",
       "Total_Market_Value                       object\n",
       "P_B                                     float64\n",
       "P_C                                     float64\n",
       "P_E                                     float64\n",
       "P_S                                     float64\n",
       "Debt_to_Capital                         float64\n",
       "Net_Margin                              float64\n",
       "ROA                                     float64\n",
       "ROE                                     float64\n",
       "Equity_Style_Factor_P_E                 float64\n",
       "Equity_Style_Factor_P_B                 float64\n",
       "Equity_Style_Factor_P_S                 float64\n",
       "Equity_Style_Factor_P_C                 float64\n",
       "Equity_Style_Factor_Div_Yld             float64\n",
       "Equity_Style_Factor_LT_Earn_Growth      float64\n",
       "Equity_Style_Factor_Hist_Earn_Growth    float64\n",
       "Equity_Style_Factor_BV_Growth           float64\n",
       "Equity_Style_Factor_Sales_Growth        float64\n",
       "Equity_Style_Factor_CF_Growth           float64\n",
       "1Yr_Return                              float64\n",
       "1Yr_Return_BM                           float64\n",
       "dtype: object"
      ]
     },
     "execution_count": 35,
     "metadata": {},
     "output_type": "execute_result"
    }
   ],
   "source": [
    "data.dtypes"
   ]
  },
  {
   "cell_type": "code",
   "execution_count": 36,
   "metadata": {
    "collapsed": false
   },
   "outputs": [
    {
     "data": {
      "text/plain": [
       "Calender_Year_Year End                    0\n",
       "Name                                      0\n",
       "Ticker                                    0\n",
       "Primary_Prospectus_Benchmark              0\n",
       "#_of_Holdings                             0\n",
       "Turnover_Ratio                            0\n",
       "Total_Market_Value                        0\n",
       "P_B                                      52\n",
       "P_C                                     321\n",
       "P_E                                     130\n",
       "P_S                                      59\n",
       "Debt_to_Capital                         207\n",
       "Net_Margin                               64\n",
       "ROA                                      52\n",
       "ROE                                      52\n",
       "Equity_Style_Factor_P_E                  59\n",
       "Equity_Style_Factor_P_B                  59\n",
       "Equity_Style_Factor_P_S                  59\n",
       "Equity_Style_Factor_P_C                  63\n",
       "Equity_Style_Factor_Div_Yld              67\n",
       "Equity_Style_Factor_LT_Earn_Growth       60\n",
       "Equity_Style_Factor_Hist_Earn_Growth     70\n",
       "Equity_Style_Factor_BV_Growth            59\n",
       "Equity_Style_Factor_Sales_Growth         59\n",
       "Equity_Style_Factor_CF_Growth            86\n",
       "1Yr_Return                                0\n",
       "1Yr_Return_BM                             0\n",
       "dtype: int64"
      ]
     },
     "execution_count": 36,
     "metadata": {},
     "output_type": "execute_result"
    }
   ],
   "source": [
    "#Count number of Nan\n",
    "data.isnull().sum()"
   ]
  },
  {
   "cell_type": "code",
   "execution_count": 37,
   "metadata": {
    "collapsed": true
   },
   "outputs": [],
   "source": [
    "cleandata =  data"
   ]
  },
  {
   "cell_type": "code",
   "execution_count": 40,
   "metadata": {
    "collapsed": false
   },
   "outputs": [],
   "source": [
    "cleandata['P_B'] = cleandata.groupby(['Primary_Prospectus_Benchmark']).P_B.transform(lambda x: x.fillna(x.mean()))\n",
    "cleandata['P_C'] = cleandata.groupby(['Primary_Prospectus_Benchmark']).P_C.transform(lambda x: x.fillna(x.mean()))\n",
    "cleandata['P_E'] = cleandata.groupby(['Primary_Prospectus_Benchmark']).P_E.transform(lambda x: x.fillna(x.mean()))\n",
    "cleandata['P_S'] = cleandata.groupby(['Primary_Prospectus_Benchmark']).P_S.transform(lambda x: x.fillna(x.mean()))\n",
    "cleandata['Debt_to_Capital'] = cleandata.groupby(['Primary_Prospectus_Benchmark']).Debt_to_Capital.transform(lambda x: x.fillna(x.mean()))\n",
    "cleandata['Net_Margin'] = cleandata.groupby(['Primary_Prospectus_Benchmark']).Net_Margin.transform(lambda x: x.fillna(x.mean()))\n",
    "cleandata['ROA'] = cleandata.groupby(['Primary_Prospectus_Benchmark']).ROA.transform(lambda x: x.fillna(x.mean()))\n",
    "cleandata['ROE'] = cleandata.groupby(['Primary_Prospectus_Benchmark']).ROE.transform(lambda x: x.fillna(x.mean()))\n",
    "cleandata['Equity_Style_Factor_P_E'] = cleandata.groupby(['Primary_Prospectus_Benchmark']).Equity_Style_Factor_P_E.transform(lambda x: x.fillna(x.mean()))\n",
    "cleandata['Equity_Style_Factor_P_B'] = cleandata.groupby(['Primary_Prospectus_Benchmark']).Equity_Style_Factor_P_B.transform(lambda x: x.fillna(x.mean()))\n",
    "cleandata['Equity_Style_Factor_P_S'] = cleandata.groupby(['Primary_Prospectus_Benchmark']).Equity_Style_Factor_P_S.transform(lambda x: x.fillna(x.mean()))\n",
    "cleandata['Equity_Style_Factor_P_C'] = cleandata.groupby(['Primary_Prospectus_Benchmark']).Equity_Style_Factor_P_C.transform(lambda x: x.fillna(x.mean()))\n",
    "cleandata['Equity_Style_Factor_Div_Yld'] = cleandata.groupby(['Primary_Prospectus_Benchmark']).Equity_Style_Factor_Div_Yld.transform(lambda x: x.fillna(x.mean()))\n",
    "cleandata['Equity_Style_Factor_LT_Earn_Growth'] = cleandata.groupby(['Primary_Prospectus_Benchmark']).Equity_Style_Factor_LT_Earn_Growth.transform(lambda x: x.fillna(x.mean()))\n",
    "cleandata['Equity_Style_Factor_Hist_Earn_Growth'] = cleandata.groupby(['Primary_Prospectus_Benchmark']).Equity_Style_Factor_Hist_Earn_Growth.transform(lambda x: x.fillna(x.mean()))\n",
    "cleandata['Equity_Style_Factor_BV_Growth'] = cleandata.groupby(['Primary_Prospectus_Benchmark']).Equity_Style_Factor_BV_Growth.transform(lambda x: x.fillna(x.mean()))\n",
    "cleandata['Equity_Style_Factor_Sales_Growth'] = cleandata.groupby(['Primary_Prospectus_Benchmark']).Equity_Style_Factor_Sales_Growth.transform(lambda x: x.fillna(x.mean()))\n",
    "cleandata['Equity_Style_Factor_CF_Growth'] = cleandata.groupby(['Primary_Prospectus_Benchmark']).Equity_Style_Factor_CF_Growth.transform(lambda x: x.fillna(x.mean()))"
   ]
  },
  {
   "cell_type": "code",
   "execution_count": 41,
   "metadata": {
    "collapsed": false
   },
   "outputs": [
    {
     "data": {
      "text/plain": [
       "Calender_Year_Year End                  0\n",
       "Name                                    0\n",
       "Ticker                                  0\n",
       "Primary_Prospectus_Benchmark            0\n",
       "#_of_Holdings                           0\n",
       "Turnover_Ratio                          0\n",
       "Total_Market_Value                      0\n",
       "P_B                                     0\n",
       "P_C                                     0\n",
       "P_E                                     0\n",
       "P_S                                     0\n",
       "Debt_to_Capital                         0\n",
       "Net_Margin                              0\n",
       "ROA                                     0\n",
       "ROE                                     0\n",
       "Equity_Style_Factor_P_E                 0\n",
       "Equity_Style_Factor_P_B                 0\n",
       "Equity_Style_Factor_P_S                 0\n",
       "Equity_Style_Factor_P_C                 0\n",
       "Equity_Style_Factor_Div_Yld             0\n",
       "Equity_Style_Factor_LT_Earn_Growth      0\n",
       "Equity_Style_Factor_Hist_Earn_Growth    0\n",
       "Equity_Style_Factor_BV_Growth           0\n",
       "Equity_Style_Factor_Sales_Growth        0\n",
       "Equity_Style_Factor_CF_Growth           0\n",
       "1Yr_Return                              0\n",
       "1Yr_Return_BM                           0\n",
       "dtype: int64"
      ]
     },
     "execution_count": 41,
     "metadata": {},
     "output_type": "execute_result"
    }
   ],
   "source": [
    "data.isnull().sum()"
   ]
  },
  {
   "cell_type": "code",
   "execution_count": 42,
   "metadata": {
    "collapsed": false
   },
   "outputs": [
    {
     "data": {
      "text/plain": [
       "(9271, 27)"
      ]
     },
     "execution_count": 42,
     "metadata": {},
     "output_type": "execute_result"
    }
   ],
   "source": [
    "cleandata.shape"
   ]
  },
  {
   "cell_type": "code",
   "execution_count": 44,
   "metadata": {
    "collapsed": false
   },
   "outputs": [],
   "source": [
    "#new columns, return 1 if outperform BM, return 0 if not\n",
    "cleandata['Beat_BM_1Yr'] = np.where(cleandata['1Yr_Return']> cleandata['1Yr_Return_BM'], 1, 0)"
   ]
  },
  {
   "cell_type": "code",
   "execution_count": 45,
   "metadata": {
    "collapsed": false
   },
   "outputs": [
    {
     "data": {
      "text/html": [
       "<div>\n",
       "<table border=\"1\" class=\"dataframe\">\n",
       "  <thead>\n",
       "    <tr style=\"text-align: right;\">\n",
       "      <th></th>\n",
       "      <th>Calender_Year_Year End</th>\n",
       "      <th>Name</th>\n",
       "      <th>Ticker</th>\n",
       "      <th>Primary_Prospectus_Benchmark</th>\n",
       "      <th>#_of_Holdings</th>\n",
       "      <th>Turnover_Ratio</th>\n",
       "      <th>Total_Market_Value</th>\n",
       "      <th>P_B</th>\n",
       "      <th>P_C</th>\n",
       "      <th>P_E</th>\n",
       "      <th>...</th>\n",
       "      <th>Equity_Style_Factor_P_C</th>\n",
       "      <th>Equity_Style_Factor_Div_Yld</th>\n",
       "      <th>Equity_Style_Factor_LT_Earn_Growth</th>\n",
       "      <th>Equity_Style_Factor_Hist_Earn_Growth</th>\n",
       "      <th>Equity_Style_Factor_BV_Growth</th>\n",
       "      <th>Equity_Style_Factor_Sales_Growth</th>\n",
       "      <th>Equity_Style_Factor_CF_Growth</th>\n",
       "      <th>1Yr_Return</th>\n",
       "      <th>1Yr_Return_BM</th>\n",
       "      <th>Beat_BM_1Yr</th>\n",
       "    </tr>\n",
       "  </thead>\n",
       "  <tbody>\n",
       "    <tr>\n",
       "      <th>0</th>\n",
       "      <td>2005</td>\n",
       "      <td>STAAR International</td>\n",
       "      <td>SITIX</td>\n",
       "      <td>MSCI EAFE NR USD</td>\n",
       "      <td>17</td>\n",
       "      <td>16</td>\n",
       "      <td>4,758,135</td>\n",
       "      <td>2.61</td>\n",
       "      <td>8.51</td>\n",
       "      <td>15.00</td>\n",
       "      <td>...</td>\n",
       "      <td>5.10</td>\n",
       "      <td>2.72</td>\n",
       "      <td>12.59</td>\n",
       "      <td>18.78</td>\n",
       "      <td>-7.83</td>\n",
       "      <td>6.66</td>\n",
       "      <td>-14.86</td>\n",
       "      <td>21.38</td>\n",
       "      <td>26.34</td>\n",
       "      <td>0</td>\n",
       "    </tr>\n",
       "    <tr>\n",
       "      <th>1</th>\n",
       "      <td>2005</td>\n",
       "      <td>Hartford Schroders International Stk I</td>\n",
       "      <td>SCIEX</td>\n",
       "      <td>MSCI EAFE NR USD</td>\n",
       "      <td>50</td>\n",
       "      <td>126</td>\n",
       "      <td>7,173,207</td>\n",
       "      <td>3.76</td>\n",
       "      <td>11.13</td>\n",
       "      <td>16.41</td>\n",
       "      <td>...</td>\n",
       "      <td>11.52</td>\n",
       "      <td>3.81</td>\n",
       "      <td>13.09</td>\n",
       "      <td>22.45</td>\n",
       "      <td>3.97</td>\n",
       "      <td>1.73</td>\n",
       "      <td>1.48</td>\n",
       "      <td>24.46</td>\n",
       "      <td>26.34</td>\n",
       "      <td>0</td>\n",
       "    </tr>\n",
       "    <tr>\n",
       "      <th>2</th>\n",
       "      <td>2005</td>\n",
       "      <td>Sextant International</td>\n",
       "      <td>SSIFX</td>\n",
       "      <td>MSCI EAFE NR USD</td>\n",
       "      <td>59</td>\n",
       "      <td>5</td>\n",
       "      <td>7,208,690</td>\n",
       "      <td>2.48</td>\n",
       "      <td>9.48</td>\n",
       "      <td>18.89</td>\n",
       "      <td>...</td>\n",
       "      <td>7.55</td>\n",
       "      <td>1.55</td>\n",
       "      <td>10.45</td>\n",
       "      <td>18.01</td>\n",
       "      <td>7.51</td>\n",
       "      <td>7.00</td>\n",
       "      <td>16.96</td>\n",
       "      <td>22.02</td>\n",
       "      <td>26.34</td>\n",
       "      <td>0</td>\n",
       "    </tr>\n",
       "    <tr>\n",
       "      <th>3</th>\n",
       "      <td>2005</td>\n",
       "      <td>Sit International Growth</td>\n",
       "      <td>SNGRX</td>\n",
       "      <td>MSCI EAFE NR USD</td>\n",
       "      <td>93</td>\n",
       "      <td>28</td>\n",
       "      <td>31,827,776</td>\n",
       "      <td>1.48</td>\n",
       "      <td>5.23</td>\n",
       "      <td>21.07</td>\n",
       "      <td>...</td>\n",
       "      <td>10.62</td>\n",
       "      <td>1.79</td>\n",
       "      <td>13.20</td>\n",
       "      <td>22.26</td>\n",
       "      <td>6.14</td>\n",
       "      <td>5.39</td>\n",
       "      <td>10.78</td>\n",
       "      <td>18.19</td>\n",
       "      <td>26.34</td>\n",
       "      <td>0</td>\n",
       "    </tr>\n",
       "    <tr>\n",
       "      <th>4</th>\n",
       "      <td>2005</td>\n",
       "      <td>Cambiar International Equity Inv</td>\n",
       "      <td>CAMIX</td>\n",
       "      <td>MSCI EAFE NR USD</td>\n",
       "      <td>40</td>\n",
       "      <td>63</td>\n",
       "      <td>32,780,427</td>\n",
       "      <td>2.64</td>\n",
       "      <td>7.72</td>\n",
       "      <td>13.85</td>\n",
       "      <td>...</td>\n",
       "      <td>5.89</td>\n",
       "      <td>2.20</td>\n",
       "      <td>10.73</td>\n",
       "      <td>12.12</td>\n",
       "      <td>3.26</td>\n",
       "      <td>-4.04</td>\n",
       "      <td>5.15</td>\n",
       "      <td>29.04</td>\n",
       "      <td>26.34</td>\n",
       "      <td>1</td>\n",
       "    </tr>\n",
       "  </tbody>\n",
       "</table>\n",
       "<p>5 rows × 28 columns</p>\n",
       "</div>"
      ],
      "text/plain": [
       "   Calender_Year_Year End                                    Name Ticker  \\\n",
       "0                    2005                     STAAR International  SITIX   \n",
       "1                    2005  Hartford Schroders International Stk I  SCIEX   \n",
       "2                    2005                   Sextant International  SSIFX   \n",
       "3                    2005                Sit International Growth  SNGRX   \n",
       "4                    2005        Cambiar International Equity Inv  CAMIX   \n",
       "\n",
       "  Primary_Prospectus_Benchmark #_of_Holdings Turnover_Ratio  \\\n",
       "0             MSCI EAFE NR USD            17             16   \n",
       "1             MSCI EAFE NR USD            50            126   \n",
       "2             MSCI EAFE NR USD            59              5   \n",
       "3             MSCI EAFE NR USD            93             28   \n",
       "4             MSCI EAFE NR USD            40             63   \n",
       "\n",
       "  Total_Market_Value   P_B    P_C    P_E     ...       \\\n",
       "0          4,758,135  2.61   8.51  15.00     ...        \n",
       "1          7,173,207  3.76  11.13  16.41     ...        \n",
       "2          7,208,690  2.48   9.48  18.89     ...        \n",
       "3         31,827,776  1.48   5.23  21.07     ...        \n",
       "4         32,780,427  2.64   7.72  13.85     ...        \n",
       "\n",
       "   Equity_Style_Factor_P_C  Equity_Style_Factor_Div_Yld  \\\n",
       "0                     5.10                         2.72   \n",
       "1                    11.52                         3.81   \n",
       "2                     7.55                         1.55   \n",
       "3                    10.62                         1.79   \n",
       "4                     5.89                         2.20   \n",
       "\n",
       "   Equity_Style_Factor_LT_Earn_Growth  Equity_Style_Factor_Hist_Earn_Growth  \\\n",
       "0                               12.59                                 18.78   \n",
       "1                               13.09                                 22.45   \n",
       "2                               10.45                                 18.01   \n",
       "3                               13.20                                 22.26   \n",
       "4                               10.73                                 12.12   \n",
       "\n",
       "   Equity_Style_Factor_BV_Growth  Equity_Style_Factor_Sales_Growth  \\\n",
       "0                          -7.83                              6.66   \n",
       "1                           3.97                              1.73   \n",
       "2                           7.51                              7.00   \n",
       "3                           6.14                              5.39   \n",
       "4                           3.26                             -4.04   \n",
       "\n",
       "   Equity_Style_Factor_CF_Growth  1Yr_Return  1Yr_Return_BM  Beat_BM_1Yr  \n",
       "0                         -14.86       21.38          26.34            0  \n",
       "1                           1.48       24.46          26.34            0  \n",
       "2                          16.96       22.02          26.34            0  \n",
       "3                          10.78       18.19          26.34            0  \n",
       "4                           5.15       29.04          26.34            1  \n",
       "\n",
       "[5 rows x 28 columns]"
      ]
     },
     "execution_count": 45,
     "metadata": {},
     "output_type": "execute_result"
    }
   ],
   "source": [
    "cleandata.head()"
   ]
  },
  {
   "cell_type": "code",
   "execution_count": 46,
   "metadata": {
    "collapsed": true
   },
   "outputs": [],
   "source": [
    "#new columns, returns degree of outperformance or underperformance\n",
    "cleandata['Perf_vs_BM_1Yr'] = cleandata['1Yr_Return'] - cleandata['1Yr_Return_BM']"
   ]
  },
  {
   "cell_type": "code",
   "execution_count": 47,
   "metadata": {
    "collapsed": false
   },
   "outputs": [
    {
     "data": {
      "text/html": [
       "<div>\n",
       "<table border=\"1\" class=\"dataframe\">\n",
       "  <thead>\n",
       "    <tr style=\"text-align: right;\">\n",
       "      <th></th>\n",
       "      <th>Calender_Year_Year End</th>\n",
       "      <th>Name</th>\n",
       "      <th>Ticker</th>\n",
       "      <th>Primary_Prospectus_Benchmark</th>\n",
       "      <th>#_of_Holdings</th>\n",
       "      <th>Turnover_Ratio</th>\n",
       "      <th>Total_Market_Value</th>\n",
       "      <th>P_B</th>\n",
       "      <th>P_C</th>\n",
       "      <th>P_E</th>\n",
       "      <th>...</th>\n",
       "      <th>Equity_Style_Factor_Div_Yld</th>\n",
       "      <th>Equity_Style_Factor_LT_Earn_Growth</th>\n",
       "      <th>Equity_Style_Factor_Hist_Earn_Growth</th>\n",
       "      <th>Equity_Style_Factor_BV_Growth</th>\n",
       "      <th>Equity_Style_Factor_Sales_Growth</th>\n",
       "      <th>Equity_Style_Factor_CF_Growth</th>\n",
       "      <th>1Yr_Return</th>\n",
       "      <th>1Yr_Return_BM</th>\n",
       "      <th>Beat_BM_1Yr</th>\n",
       "      <th>Perf_vs_BM_1Yr</th>\n",
       "    </tr>\n",
       "  </thead>\n",
       "  <tbody>\n",
       "    <tr>\n",
       "      <th>0</th>\n",
       "      <td>2005</td>\n",
       "      <td>STAAR International</td>\n",
       "      <td>SITIX</td>\n",
       "      <td>MSCI EAFE NR USD</td>\n",
       "      <td>17</td>\n",
       "      <td>16</td>\n",
       "      <td>4,758,135</td>\n",
       "      <td>2.61</td>\n",
       "      <td>8.51</td>\n",
       "      <td>15.00</td>\n",
       "      <td>...</td>\n",
       "      <td>2.72</td>\n",
       "      <td>12.59</td>\n",
       "      <td>18.78</td>\n",
       "      <td>-7.83</td>\n",
       "      <td>6.66</td>\n",
       "      <td>-14.86</td>\n",
       "      <td>21.38</td>\n",
       "      <td>26.34</td>\n",
       "      <td>0</td>\n",
       "      <td>-4.96</td>\n",
       "    </tr>\n",
       "    <tr>\n",
       "      <th>1</th>\n",
       "      <td>2005</td>\n",
       "      <td>Hartford Schroders International Stk I</td>\n",
       "      <td>SCIEX</td>\n",
       "      <td>MSCI EAFE NR USD</td>\n",
       "      <td>50</td>\n",
       "      <td>126</td>\n",
       "      <td>7,173,207</td>\n",
       "      <td>3.76</td>\n",
       "      <td>11.13</td>\n",
       "      <td>16.41</td>\n",
       "      <td>...</td>\n",
       "      <td>3.81</td>\n",
       "      <td>13.09</td>\n",
       "      <td>22.45</td>\n",
       "      <td>3.97</td>\n",
       "      <td>1.73</td>\n",
       "      <td>1.48</td>\n",
       "      <td>24.46</td>\n",
       "      <td>26.34</td>\n",
       "      <td>0</td>\n",
       "      <td>-1.88</td>\n",
       "    </tr>\n",
       "    <tr>\n",
       "      <th>2</th>\n",
       "      <td>2005</td>\n",
       "      <td>Sextant International</td>\n",
       "      <td>SSIFX</td>\n",
       "      <td>MSCI EAFE NR USD</td>\n",
       "      <td>59</td>\n",
       "      <td>5</td>\n",
       "      <td>7,208,690</td>\n",
       "      <td>2.48</td>\n",
       "      <td>9.48</td>\n",
       "      <td>18.89</td>\n",
       "      <td>...</td>\n",
       "      <td>1.55</td>\n",
       "      <td>10.45</td>\n",
       "      <td>18.01</td>\n",
       "      <td>7.51</td>\n",
       "      <td>7.00</td>\n",
       "      <td>16.96</td>\n",
       "      <td>22.02</td>\n",
       "      <td>26.34</td>\n",
       "      <td>0</td>\n",
       "      <td>-4.32</td>\n",
       "    </tr>\n",
       "    <tr>\n",
       "      <th>3</th>\n",
       "      <td>2005</td>\n",
       "      <td>Sit International Growth</td>\n",
       "      <td>SNGRX</td>\n",
       "      <td>MSCI EAFE NR USD</td>\n",
       "      <td>93</td>\n",
       "      <td>28</td>\n",
       "      <td>31,827,776</td>\n",
       "      <td>1.48</td>\n",
       "      <td>5.23</td>\n",
       "      <td>21.07</td>\n",
       "      <td>...</td>\n",
       "      <td>1.79</td>\n",
       "      <td>13.20</td>\n",
       "      <td>22.26</td>\n",
       "      <td>6.14</td>\n",
       "      <td>5.39</td>\n",
       "      <td>10.78</td>\n",
       "      <td>18.19</td>\n",
       "      <td>26.34</td>\n",
       "      <td>0</td>\n",
       "      <td>-8.15</td>\n",
       "    </tr>\n",
       "    <tr>\n",
       "      <th>4</th>\n",
       "      <td>2005</td>\n",
       "      <td>Cambiar International Equity Inv</td>\n",
       "      <td>CAMIX</td>\n",
       "      <td>MSCI EAFE NR USD</td>\n",
       "      <td>40</td>\n",
       "      <td>63</td>\n",
       "      <td>32,780,427</td>\n",
       "      <td>2.64</td>\n",
       "      <td>7.72</td>\n",
       "      <td>13.85</td>\n",
       "      <td>...</td>\n",
       "      <td>2.20</td>\n",
       "      <td>10.73</td>\n",
       "      <td>12.12</td>\n",
       "      <td>3.26</td>\n",
       "      <td>-4.04</td>\n",
       "      <td>5.15</td>\n",
       "      <td>29.04</td>\n",
       "      <td>26.34</td>\n",
       "      <td>1</td>\n",
       "      <td>2.70</td>\n",
       "    </tr>\n",
       "  </tbody>\n",
       "</table>\n",
       "<p>5 rows × 29 columns</p>\n",
       "</div>"
      ],
      "text/plain": [
       "   Calender_Year_Year End                                    Name Ticker  \\\n",
       "0                    2005                     STAAR International  SITIX   \n",
       "1                    2005  Hartford Schroders International Stk I  SCIEX   \n",
       "2                    2005                   Sextant International  SSIFX   \n",
       "3                    2005                Sit International Growth  SNGRX   \n",
       "4                    2005        Cambiar International Equity Inv  CAMIX   \n",
       "\n",
       "  Primary_Prospectus_Benchmark #_of_Holdings Turnover_Ratio  \\\n",
       "0             MSCI EAFE NR USD            17             16   \n",
       "1             MSCI EAFE NR USD            50            126   \n",
       "2             MSCI EAFE NR USD            59              5   \n",
       "3             MSCI EAFE NR USD            93             28   \n",
       "4             MSCI EAFE NR USD            40             63   \n",
       "\n",
       "  Total_Market_Value   P_B    P_C    P_E       ...        \\\n",
       "0          4,758,135  2.61   8.51  15.00       ...         \n",
       "1          7,173,207  3.76  11.13  16.41       ...         \n",
       "2          7,208,690  2.48   9.48  18.89       ...         \n",
       "3         31,827,776  1.48   5.23  21.07       ...         \n",
       "4         32,780,427  2.64   7.72  13.85       ...         \n",
       "\n",
       "   Equity_Style_Factor_Div_Yld  Equity_Style_Factor_LT_Earn_Growth  \\\n",
       "0                         2.72                               12.59   \n",
       "1                         3.81                               13.09   \n",
       "2                         1.55                               10.45   \n",
       "3                         1.79                               13.20   \n",
       "4                         2.20                               10.73   \n",
       "\n",
       "   Equity_Style_Factor_Hist_Earn_Growth  Equity_Style_Factor_BV_Growth  \\\n",
       "0                                 18.78                          -7.83   \n",
       "1                                 22.45                           3.97   \n",
       "2                                 18.01                           7.51   \n",
       "3                                 22.26                           6.14   \n",
       "4                                 12.12                           3.26   \n",
       "\n",
       "   Equity_Style_Factor_Sales_Growth  Equity_Style_Factor_CF_Growth  \\\n",
       "0                              6.66                         -14.86   \n",
       "1                              1.73                           1.48   \n",
       "2                              7.00                          16.96   \n",
       "3                              5.39                          10.78   \n",
       "4                             -4.04                           5.15   \n",
       "\n",
       "   1Yr_Return  1Yr_Return_BM  Beat_BM_1Yr  Perf_vs_BM_1Yr  \n",
       "0       21.38          26.34            0           -4.96  \n",
       "1       24.46          26.34            0           -1.88  \n",
       "2       22.02          26.34            0           -4.32  \n",
       "3       18.19          26.34            0           -8.15  \n",
       "4       29.04          26.34            1            2.70  \n",
       "\n",
       "[5 rows x 29 columns]"
      ]
     },
     "execution_count": 47,
     "metadata": {},
     "output_type": "execute_result"
    }
   ],
   "source": [
    "cleandata.head()"
   ]
  },
  {
   "cell_type": "code",
   "execution_count": 50,
   "metadata": {
    "collapsed": false
   },
   "outputs": [
    {
     "data": {
      "text/plain": [
       "<matplotlib.axes._subplots.AxesSubplot at 0x10e7f2290>"
      ]
     },
     "execution_count": 50,
     "metadata": {},
     "output_type": "execute_result"
    },
    {
     "data": {
      "image/png": "[encoded data removed]",
      "text/plain": [
       "<matplotlib.figure.Figure at 0x10eaeba90>"
      ]
     },
     "metadata": {},
     "output_type": "display_data"
    }
   ],
   "source": [
    "cleandata['Perf_vs_BM_1Yr'].plot(kind='box',ylim=(-20,20))"
   ]
  },
  {
   "cell_type": "code",
   "execution_count": 51,
   "metadata": {
    "collapsed": false
   },
   "outputs": [
    {
     "data": {
      "text/plain": [
       "Calender_Year_Year End                  0\n",
       "Name                                    0\n",
       "Ticker                                  0\n",
       "Primary_Prospectus_Benchmark            0\n",
       "#_of_Holdings                           0\n",
       "Turnover_Ratio                          0\n",
       "Total_Market_Value                      0\n",
       "P_B                                     0\n",
       "P_C                                     0\n",
       "P_E                                     0\n",
       "P_S                                     0\n",
       "Debt_to_Capital                         0\n",
       "Net_Margin                              0\n",
       "ROA                                     0\n",
       "ROE                                     0\n",
       "Equity_Style_Factor_P_E                 0\n",
       "Equity_Style_Factor_P_B                 0\n",
       "Equity_Style_Factor_P_S                 0\n",
       "Equity_Style_Factor_P_C                 0\n",
       "Equity_Style_Factor_Div_Yld             0\n",
       "Equity_Style_Factor_LT_Earn_Growth      0\n",
       "Equity_Style_Factor_Hist_Earn_Growth    0\n",
       "Equity_Style_Factor_BV_Growth           0\n",
       "Equity_Style_Factor_Sales_Growth        0\n",
       "Equity_Style_Factor_CF_Growth           0\n",
       "1Yr_Return                              0\n",
       "1Yr_Return_BM                           0\n",
       "Beat_BM_1Yr                             0\n",
       "Perf_vs_BM_1Yr                          0\n",
       "dtype: int64"
      ]
     },
     "execution_count": 51,
     "metadata": {},
     "output_type": "execute_result"
    }
   ],
   "source": [
    "data.isnull().sum()"
   ]
  },
  {
   "cell_type": "code",
   "execution_count": 53,
   "metadata": {
    "collapsed": false
   },
   "outputs": [
    {
     "data": {
      "text/plain": [
       "<matplotlib.axes._subplots.AxesSubplot at 0x1138d7f10>"
      ]
     },
     "execution_count": 53,
     "metadata": {},
     "output_type": "execute_result"
    },
    {
     "data": {
      "image/png": "[encoded data removed]",
      "text/plain": [
       "<matplotlib.figure.Figure at 0x10effe590>"
      ]
     },
     "metadata": {},
     "output_type": "display_data"
    }
   ],
   "source": [
    "fig, axs = plt.subplots(1, 18, sharey=True)\n",
    "cleandata.plot(kind='scatter', x='P_B', y='Perf_vs_BM_1Yr', ax=axs[0], figsize=(16, 8))\n",
    "cleandata.plot(kind='scatter', x='P_C', y='Perf_vs_BM_1Yr', ax=axs[1])\n",
    "cleandata.plot(kind='scatter', x='P_E', y='Perf_vs_BM_1Yr', ax=axs[2])\n",
    "cleandata.plot(kind='scatter', x='P_S', y='Perf_vs_BM_1Yr', ax=axs[3])\n",
    "cleandata.plot(kind='scatter', x='Debt_to_Capital', y='Perf_vs_BM_1Yr', ax=axs[4])\n",
    "cleandata.plot(kind='scatter', x='Net_Margin', y='Perf_vs_BM_1Yr', ax=axs[5])\n",
    "cleandata.plot(kind='scatter', x='ROA', y='Perf_vs_BM_1Yr', ax=axs[6])\n",
    "cleandata.plot(kind='scatter', x='ROE', y='Perf_vs_BM_1Yr', ax=axs[7])\n",
    "cleandata.plot(kind='scatter', x='Equity_Style_Factor_P_E', y='Perf_vs_BM_1Yr', ax=axs[8])\n",
    "cleandata.plot(kind='scatter', x='Equity_Style_Factor_P_B', y='Perf_vs_BM_1Yr', ax=axs[9])\n",
    "cleandata.plot(kind='scatter', x='Equity_Style_Factor_P_S', y='Perf_vs_BM_1Yr', ax=axs[10])\n",
    "cleandata.plot(kind='scatter', x='Equity_Style_Factor_P_C', y='Perf_vs_BM_1Yr', ax=axs[11])\n",
    "cleandata.plot(kind='scatter', x='Equity_Style_Factor_Div_Yld', y='Perf_vs_BM_1Yr', ax=axs[12])\n",
    "cleandata.plot(kind='scatter', x='Equity_Style_Factor_LT_Earn_Growth', y='Perf_vs_BM_1Yr', ax=axs[13])\n",
    "cleandata.plot(kind='scatter', x='Equity_Style_Factor_Hist_Earn_Growth', y='Perf_vs_BM_1Yr', ax=axs[14])\n",
    "cleandata.plot(kind='scatter', x='Equity_Style_Factor_BV_Growth', y='Perf_vs_BM_1Yr', ax=axs[15])\n",
    "cleandata.plot(kind='scatter', x='Equity_Style_Factor_Sales_Growth', y='Perf_vs_BM_1Yr', ax=axs[16])\n",
    "cleandata.plot(kind='scatter', x='Equity_Style_Factor_CF_Growth', y='Perf_vs_BM_1Yr', ax=axs[17])"
   ]
  },
  {
   "cell_type": "code",
   "execution_count": 54,
   "metadata": {
    "collapsed": false
   },
   "outputs": [
    {
     "data": {
      "text/plain": [
       "<matplotlib.axes._subplots.AxesSubplot at 0x114d4a990>"
      ]
     },
     "execution_count": 54,
     "metadata": {},
     "output_type": "execute_result"
    },
    {
     "data": {
      "image/png": "[encoded data removed]",
      "text/plain": [
       "<matplotlib.figure.Figure at 0x113e09b10>"
      ]
     },
     "metadata": {},
     "output_type": "display_data"
    }
   ],
   "source": [
    "fig, axs = plt.subplots(1, 18, sharey=True)\n",
    "cleandata.plot(kind='scatter', x='P_B', y='Beat_BM_1Yr', ax=axs[0], figsize=(16, 8))\n",
    "cleandata.plot(kind='scatter', x='P_C', y='Beat_BM_1Yr', ax=axs[1])\n",
    "cleandata.plot(kind='scatter', x='P_E', y='Beat_BM_1Yr', ax=axs[2])\n",
    "cleandata.plot(kind='scatter', x='P_S', y='Beat_BM_1Yr', ax=axs[3])\n",
    "cleandata.plot(kind='scatter', x='Debt_to_Capital', y='Beat_BM_1Yr', ax=axs[4])\n",
    "cleandata.plot(kind='scatter', x='Net_Margin', y='Beat_BM_1Yr', ax=axs[5])\n",
    "cleandata.plot(kind='scatter', x='ROA', y='Beat_BM_1Yr', ax=axs[6])\n",
    "cleandata.plot(kind='scatter', x='ROE', y='Beat_BM_1Yr', ax=axs[7])\n",
    "cleandata.plot(kind='scatter', x='Equity_Style_Factor_P_E', y='Beat_BM_1Yr', ax=axs[8])\n",
    "cleandata.plot(kind='scatter', x='Equity_Style_Factor_P_B', y='Beat_BM_1Yr', ax=axs[9])\n",
    "cleandata.plot(kind='scatter', x='Equity_Style_Factor_P_S', y='Beat_BM_1Yr', ax=axs[10])\n",
    "cleandata.plot(kind='scatter', x='Equity_Style_Factor_P_C', y='Beat_BM_1Yr', ax=axs[11])\n",
    "cleandata.plot(kind='scatter', x='Equity_Style_Factor_Div_Yld', y='Beat_BM_1Yr', ax=axs[12])\n",
    "cleandata.plot(kind='scatter', x='Equity_Style_Factor_LT_Earn_Growth', y='Beat_BM_1Yr', ax=axs[13])\n",
    "cleandata.plot(kind='scatter', x='Equity_Style_Factor_Hist_Earn_Growth', y='Beat_BM_1Yr', ax=axs[14])\n",
    "cleandata.plot(kind='scatter', x='Equity_Style_Factor_BV_Growth', y='Beat_BM_1Yr', ax=axs[15])\n",
    "cleandata.plot(kind='scatter', x='Equity_Style_Factor_Sales_Growth', y='Beat_BM_1Yr', ax=axs[16])\n",
    "cleandata.plot(kind='scatter', x='Equity_Style_Factor_CF_Growth', y='Beat_BM_1Yr', ax=axs[17])"
   ]
  },
  {
   "cell_type": "code",
   "execution_count": 158,
   "metadata": {
    "collapsed": false
   },
   "outputs": [
    {
     "data": {
      "text/plain": [
       "<matplotlib.axes._subplots.AxesSubplot at 0x120e83710>"
      ]
     },
     "execution_count": 158,
     "metadata": {},
     "output_type": "execute_result"
    },
    {
     "data": {
      "image/png": "[encoded data removed]",
      "text/plain": [
       "<matplotlib.figure.Figure at 0x120709050>"
      ]
     },
     "metadata": {},
     "output_type": "display_data"
    }
   ],
   "source": [
    "fig, axs = plt.subplots(1, 4, sharey=True)\n",
    "cleandata.plot(kind='scatter', x='Perf_vs_BM_1Yr', y='Broker_Score_wtg', ax=axs[0], figsize=(16, 8))\n",
    "cleandata.plot(kind='scatter', x='Perf_vs_BM_3Yr', y='Broker_Score_wtg', ax=axs[1])\n",
    "cleandata.plot(kind='scatter', x='Perf_vs_BM_5Yr', y='Broker_Score_wtg', ax=axs[2])\n",
    "cleandata.plot(kind='scatter', x='Perf_vs_BM_7Yr', y='Broker_Score_wtg', ax=axs[3])\n"
   ]
  },
  {
   "cell_type": "code",
   "execution_count": 55,
   "metadata": {
    "collapsed": false
   },
   "outputs": [
    {
     "name": "stdout",
     "output_type": "stream",
     "text": [
      "                      P_B       P_C       P_E       P_S  Debt_to_Capital  \\\n",
      "P_B              1.000000  0.783564  0.626861  0.578226        -0.162571   \n",
      "P_C              0.783564  1.000000  0.752058  0.641284        -0.167139   \n",
      "P_E              0.626861  0.752058  1.000000  0.604609         0.012334   \n",
      "P_S              0.578226  0.641284  0.604609  1.000000        -0.115850   \n",
      "Debt_to_Capital -0.162571 -0.167139  0.012334 -0.115850         1.000000   \n",
      "Net_Margin       0.221436  0.165779 -0.086612  0.312532        -0.134277   \n",
      "ROA              0.304551  0.158365 -0.129622 -0.074638        -0.228720   \n",
      "ROE              0.324809  0.078657 -0.212895 -0.099676        -0.004549   \n",
      "\n",
      "                 Net_Margin       ROA       ROE  \n",
      "P_B                0.221436  0.304551  0.324809  \n",
      "P_C                0.165779  0.158365  0.078657  \n",
      "P_E               -0.086612 -0.129622 -0.212895  \n",
      "P_S                0.312532 -0.074638 -0.099676  \n",
      "Debt_to_Capital   -0.134277 -0.228720 -0.004549  \n",
      "Net_Margin         1.000000  0.613105  0.593467  \n",
      "ROA                0.613105  1.000000  0.855188  \n",
      "ROE                0.593467  0.855188  1.000000  \n",
      "Axes(0.125,0.125;0.62x0.755)\n"
     ]
    },
    {
     "data": {
      "image/png": "[encoded data removed]",
      "text/plain": [
       "<matplotlib.figure.Figure at 0x10eff4510>"
      ]
     },
     "metadata": {},
     "output_type": "display_data"
    }
   ],
   "source": [
    "cmap = sns.diverging_palette(220, 10, as_cmap=True)\n",
    "columns_to_keep = ['P_B', 'P_C', 'P_E', 'P_S','Debt_to_Capital', 'Net_Margin', 'ROA', 'ROE']\n",
    "correlations = cleandata[columns_to_keep].corr()\n",
    "print correlations\n",
    "print sns.heatmap(correlations, cmap=cmap)"
   ]
  },
  {
   "cell_type": "code",
   "execution_count": 57,
   "metadata": {
    "collapsed": false
   },
   "outputs": [
    {
     "name": "stdout",
     "output_type": "stream",
     "text": [
      "                                      Equity_Style_Factor_P_E  \\\n",
      "Equity_Style_Factor_P_E                              1.000000   \n",
      "Equity_Style_Factor_P_B                              0.549525   \n",
      "Equity_Style_Factor_P_S                              0.317880   \n",
      "Equity_Style_Factor_P_C                              0.477177   \n",
      "Equity_Style_Factor_Div_Yld                         -0.378597   \n",
      "Equity_Style_Factor_LT_Earn_Growth                   0.186248   \n",
      "Equity_Style_Factor_Hist_Earn_Growth                 0.004177   \n",
      "Equity_Style_Factor_BV_Growth                        0.153172   \n",
      "Equity_Style_Factor_Sales_Growth                     0.119745   \n",
      "Equity_Style_Factor_CF_Growth                        0.116841   \n",
      "\n",
      "                                      Equity_Style_Factor_P_B  \\\n",
      "Equity_Style_Factor_P_E                              0.549525   \n",
      "Equity_Style_Factor_P_B                              1.000000   \n",
      "Equity_Style_Factor_P_S                              0.285110   \n",
      "Equity_Style_Factor_P_C                              0.523201   \n",
      "Equity_Style_Factor_Div_Yld                         -0.448580   \n",
      "Equity_Style_Factor_LT_Earn_Growth                   0.286085   \n",
      "Equity_Style_Factor_Hist_Earn_Growth                 0.020568   \n",
      "Equity_Style_Factor_BV_Growth                        0.256856   \n",
      "Equity_Style_Factor_Sales_Growth                     0.250932   \n",
      "Equity_Style_Factor_CF_Growth                        0.232173   \n",
      "\n",
      "                                      Equity_Style_Factor_P_S  \\\n",
      "Equity_Style_Factor_P_E                              0.317880   \n",
      "Equity_Style_Factor_P_B                              0.285110   \n",
      "Equity_Style_Factor_P_S                              1.000000   \n",
      "Equity_Style_Factor_P_C                              0.221798   \n",
      "Equity_Style_Factor_Div_Yld                         -0.185610   \n",
      "Equity_Style_Factor_LT_Earn_Growth                   0.144325   \n",
      "Equity_Style_Factor_Hist_Earn_Growth                 0.012650   \n",
      "Equity_Style_Factor_BV_Growth                        0.155387   \n",
      "Equity_Style_Factor_Sales_Growth                     0.090496   \n",
      "Equity_Style_Factor_CF_Growth                        0.068690   \n",
      "\n",
      "                                      Equity_Style_Factor_P_C  \\\n",
      "Equity_Style_Factor_P_E                              0.477177   \n",
      "Equity_Style_Factor_P_B                              0.523201   \n",
      "Equity_Style_Factor_P_S                              0.221798   \n",
      "Equity_Style_Factor_P_C                              1.000000   \n",
      "Equity_Style_Factor_Div_Yld                         -0.270421   \n",
      "Equity_Style_Factor_LT_Earn_Growth                   0.128524   \n",
      "Equity_Style_Factor_Hist_Earn_Growth                 0.010795   \n",
      "Equity_Style_Factor_BV_Growth                        0.228149   \n",
      "Equity_Style_Factor_Sales_Growth                     0.186384   \n",
      "Equity_Style_Factor_CF_Growth                        0.070289   \n",
      "\n",
      "                                      Equity_Style_Factor_Div_Yld  \\\n",
      "Equity_Style_Factor_P_E                                 -0.378597   \n",
      "Equity_Style_Factor_P_B                                 -0.448580   \n",
      "Equity_Style_Factor_P_S                                 -0.185610   \n",
      "Equity_Style_Factor_P_C                                 -0.270421   \n",
      "Equity_Style_Factor_Div_Yld                              1.000000   \n",
      "Equity_Style_Factor_LT_Earn_Growth                      -0.469075   \n",
      "Equity_Style_Factor_Hist_Earn_Growth                    -0.013872   \n",
      "Equity_Style_Factor_BV_Growth                           -0.213586   \n",
      "Equity_Style_Factor_Sales_Growth                        -0.130055   \n",
      "Equity_Style_Factor_CF_Growth                           -0.133482   \n",
      "\n",
      "                                      Equity_Style_Factor_LT_Earn_Growth  \\\n",
      "Equity_Style_Factor_P_E                                         0.186248   \n",
      "Equity_Style_Factor_P_B                                         0.286085   \n",
      "Equity_Style_Factor_P_S                                         0.144325   \n",
      "Equity_Style_Factor_P_C                                         0.128524   \n",
      "Equity_Style_Factor_Div_Yld                                    -0.469075   \n",
      "Equity_Style_Factor_LT_Earn_Growth                              1.000000   \n",
      "Equity_Style_Factor_Hist_Earn_Growth                            0.024774   \n",
      "Equity_Style_Factor_BV_Growth                                   0.132791   \n",
      "Equity_Style_Factor_Sales_Growth                                0.142462   \n",
      "Equity_Style_Factor_CF_Growth                                   0.181908   \n",
      "\n",
      "                                      Equity_Style_Factor_Hist_Earn_Growth  \\\n",
      "Equity_Style_Factor_P_E                                           0.004177   \n",
      "Equity_Style_Factor_P_B                                           0.020568   \n",
      "Equity_Style_Factor_P_S                                           0.012650   \n",
      "Equity_Style_Factor_P_C                                           0.010795   \n",
      "Equity_Style_Factor_Div_Yld                                      -0.013872   \n",
      "Equity_Style_Factor_LT_Earn_Growth                                0.024774   \n",
      "Equity_Style_Factor_Hist_Earn_Growth                              1.000000   \n",
      "Equity_Style_Factor_BV_Growth                                    -0.000715   \n",
      "Equity_Style_Factor_Sales_Growth                                  0.029225   \n",
      "Equity_Style_Factor_CF_Growth                                     0.021265   \n",
      "\n",
      "                                      Equity_Style_Factor_BV_Growth  \\\n",
      "Equity_Style_Factor_P_E                                    0.153172   \n",
      "Equity_Style_Factor_P_B                                    0.256856   \n",
      "Equity_Style_Factor_P_S                                    0.155387   \n",
      "Equity_Style_Factor_P_C                                    0.228149   \n",
      "Equity_Style_Factor_Div_Yld                               -0.213586   \n",
      "Equity_Style_Factor_LT_Earn_Growth                         0.132791   \n",
      "Equity_Style_Factor_Hist_Earn_Growth                      -0.000715   \n",
      "Equity_Style_Factor_BV_Growth                              1.000000   \n",
      "Equity_Style_Factor_Sales_Growth                           0.679337   \n",
      "Equity_Style_Factor_CF_Growth                              0.351723   \n",
      "\n",
      "                                      Equity_Style_Factor_Sales_Growth  \\\n",
      "Equity_Style_Factor_P_E                                       0.119745   \n",
      "Equity_Style_Factor_P_B                                       0.250932   \n",
      "Equity_Style_Factor_P_S                                       0.090496   \n",
      "Equity_Style_Factor_P_C                                       0.186384   \n",
      "Equity_Style_Factor_Div_Yld                                  -0.130055   \n",
      "Equity_Style_Factor_LT_Earn_Growth                            0.142462   \n",
      "Equity_Style_Factor_Hist_Earn_Growth                          0.029225   \n",
      "Equity_Style_Factor_BV_Growth                                 0.679337   \n",
      "Equity_Style_Factor_Sales_Growth                              1.000000   \n",
      "Equity_Style_Factor_CF_Growth                                 0.568757   \n",
      "\n",
      "                                      Equity_Style_Factor_CF_Growth  \n",
      "Equity_Style_Factor_P_E                                    0.116841  \n",
      "Equity_Style_Factor_P_B                                    0.232173  \n",
      "Equity_Style_Factor_P_S                                    0.068690  \n",
      "Equity_Style_Factor_P_C                                    0.070289  \n",
      "Equity_Style_Factor_Div_Yld                               -0.133482  \n",
      "Equity_Style_Factor_LT_Earn_Growth                         0.181908  \n",
      "Equity_Style_Factor_Hist_Earn_Growth                       0.021265  \n",
      "Equity_Style_Factor_BV_Growth                              0.351723  \n",
      "Equity_Style_Factor_Sales_Growth                           0.568757  \n",
      "Equity_Style_Factor_CF_Growth                              1.000000  \n",
      "Axes(0.125,0.125;0.62x0.755)\n"
     ]
    },
    {
     "data": {
      "image/png": "[encoded data removed]",
      "text/plain": [
       "<matplotlib.figure.Figure at 0x115933b50>"
      ]
     },
     "metadata": {},
     "output_type": "display_data"
    }
   ],
   "source": [
    "cmap = sns.diverging_palette(220, 10, as_cmap=True)\n",
    "columns_to_keep = ['Equity_Style_Factor_P_E', 'Equity_Style_Factor_P_B', 'Equity_Style_Factor_P_S','Equity_Style_Factor_P_C',\\\n",
    "                   'Equity_Style_Factor_Div_Yld', 'Equity_Style_Factor_LT_Earn_Growth', 'Equity_Style_Factor_Hist_Earn_Growth'\\\n",
    "                   , 'Equity_Style_Factor_BV_Growth', 'Equity_Style_Factor_Sales_Growth','Equity_Style_Factor_CF_Growth']\n",
    "correlations = cleandata[columns_to_keep].corr()\n",
    "print correlations\n",
    "print sns.heatmap(correlations, cmap=cmap)"
   ]
  },
  {
   "cell_type": "code",
   "execution_count": 58,
   "metadata": {
    "collapsed": false
   },
   "outputs": [
    {
     "name": "stdout",
     "output_type": "stream",
     "text": [
      "                      P_E  Debt_to_Capital  Net_Margin       ROE\n",
      "P_E              1.000000         0.012334   -0.086612 -0.212895\n",
      "Debt_to_Capital  0.012334         1.000000   -0.134277 -0.004549\n",
      "Net_Margin      -0.086612        -0.134277    1.000000  0.593467\n",
      "ROE             -0.212895        -0.004549    0.593467  1.000000\n",
      "Axes(0.125,0.125;0.62x0.755)\n"
     ]
    },
    {
     "data": {
      "image/png": "[encoded data removed]",
      "text/plain": [
       "<matplotlib.figure.Figure at 0x115b461d0>"
      ]
     },
     "metadata": {},
     "output_type": "display_data"
    }
   ],
   "source": [
    "cmap = sns.diverging_palette(220, 10, as_cmap=True)\n",
    "columns_to_keep = ['P_E','Debt_to_Capital', 'Net_Margin','ROE']\n",
    "correlations = cleandata[columns_to_keep].corr()\n",
    "print correlations\n",
    "print sns.heatmap(correlations, cmap=cmap)"
   ]
  },
  {
   "cell_type": "code",
   "execution_count": 64,
   "metadata": {
    "collapsed": false
   },
   "outputs": [
    {
     "name": "stdout",
     "output_type": "stream",
     "text": [
      "                                      Equity_Style_Factor_P_E  \\\n",
      "Equity_Style_Factor_P_E                              1.000000   \n",
      "Equity_Style_Factor_P_S                              0.317880   \n",
      "Equity_Style_Factor_P_C                              0.477177   \n",
      "Equity_Style_Factor_Div_Yld                         -0.378597   \n",
      "Equity_Style_Factor_LT_Earn_Growth                   0.186248   \n",
      "Equity_Style_Factor_Hist_Earn_Growth                 0.004177   \n",
      "Equity_Style_Factor_Sales_Growth                     0.119745   \n",
      "Equity_Style_Factor_CF_Growth                        0.116841   \n",
      "\n",
      "                                      Equity_Style_Factor_P_S  \\\n",
      "Equity_Style_Factor_P_E                              0.317880   \n",
      "Equity_Style_Factor_P_S                              1.000000   \n",
      "Equity_Style_Factor_P_C                              0.221798   \n",
      "Equity_Style_Factor_Div_Yld                         -0.185610   \n",
      "Equity_Style_Factor_LT_Earn_Growth                   0.144325   \n",
      "Equity_Style_Factor_Hist_Earn_Growth                 0.012650   \n",
      "Equity_Style_Factor_Sales_Growth                     0.090496   \n",
      "Equity_Style_Factor_CF_Growth                        0.068690   \n",
      "\n",
      "                                      Equity_Style_Factor_P_C  \\\n",
      "Equity_Style_Factor_P_E                              0.477177   \n",
      "Equity_Style_Factor_P_S                              0.221798   \n",
      "Equity_Style_Factor_P_C                              1.000000   \n",
      "Equity_Style_Factor_Div_Yld                         -0.270421   \n",
      "Equity_Style_Factor_LT_Earn_Growth                   0.128524   \n",
      "Equity_Style_Factor_Hist_Earn_Growth                 0.010795   \n",
      "Equity_Style_Factor_Sales_Growth                     0.186384   \n",
      "Equity_Style_Factor_CF_Growth                        0.070289   \n",
      "\n",
      "                                      Equity_Style_Factor_Div_Yld  \\\n",
      "Equity_Style_Factor_P_E                                 -0.378597   \n",
      "Equity_Style_Factor_P_S                                 -0.185610   \n",
      "Equity_Style_Factor_P_C                                 -0.270421   \n",
      "Equity_Style_Factor_Div_Yld                              1.000000   \n",
      "Equity_Style_Factor_LT_Earn_Growth                      -0.469075   \n",
      "Equity_Style_Factor_Hist_Earn_Growth                    -0.013872   \n",
      "Equity_Style_Factor_Sales_Growth                        -0.130055   \n",
      "Equity_Style_Factor_CF_Growth                           -0.133482   \n",
      "\n",
      "                                      Equity_Style_Factor_LT_Earn_Growth  \\\n",
      "Equity_Style_Factor_P_E                                         0.186248   \n",
      "Equity_Style_Factor_P_S                                         0.144325   \n",
      "Equity_Style_Factor_P_C                                         0.128524   \n",
      "Equity_Style_Factor_Div_Yld                                    -0.469075   \n",
      "Equity_Style_Factor_LT_Earn_Growth                              1.000000   \n",
      "Equity_Style_Factor_Hist_Earn_Growth                            0.024774   \n",
      "Equity_Style_Factor_Sales_Growth                                0.142462   \n",
      "Equity_Style_Factor_CF_Growth                                   0.181908   \n",
      "\n",
      "                                      Equity_Style_Factor_Hist_Earn_Growth  \\\n",
      "Equity_Style_Factor_P_E                                           0.004177   \n",
      "Equity_Style_Factor_P_S                                           0.012650   \n",
      "Equity_Style_Factor_P_C                                           0.010795   \n",
      "Equity_Style_Factor_Div_Yld                                      -0.013872   \n",
      "Equity_Style_Factor_LT_Earn_Growth                                0.024774   \n",
      "Equity_Style_Factor_Hist_Earn_Growth                              1.000000   \n",
      "Equity_Style_Factor_Sales_Growth                                  0.029225   \n",
      "Equity_Style_Factor_CF_Growth                                     0.021265   \n",
      "\n",
      "                                      Equity_Style_Factor_Sales_Growth  \\\n",
      "Equity_Style_Factor_P_E                                       0.119745   \n",
      "Equity_Style_Factor_P_S                                       0.090496   \n",
      "Equity_Style_Factor_P_C                                       0.186384   \n",
      "Equity_Style_Factor_Div_Yld                                  -0.130055   \n",
      "Equity_Style_Factor_LT_Earn_Growth                            0.142462   \n",
      "Equity_Style_Factor_Hist_Earn_Growth                          0.029225   \n",
      "Equity_Style_Factor_Sales_Growth                              1.000000   \n",
      "Equity_Style_Factor_CF_Growth                                 0.568757   \n",
      "\n",
      "                                      Equity_Style_Factor_CF_Growth  \n",
      "Equity_Style_Factor_P_E                                    0.116841  \n",
      "Equity_Style_Factor_P_S                                    0.068690  \n",
      "Equity_Style_Factor_P_C                                    0.070289  \n",
      "Equity_Style_Factor_Div_Yld                               -0.133482  \n",
      "Equity_Style_Factor_LT_Earn_Growth                         0.181908  \n",
      "Equity_Style_Factor_Hist_Earn_Growth                       0.021265  \n",
      "Equity_Style_Factor_Sales_Growth                           0.568757  \n",
      "Equity_Style_Factor_CF_Growth                              1.000000  \n",
      "Axes(0.125,0.125;0.62x0.755)\n"
     ]
    },
    {
     "data": {
      "image/png": "[encoded data removed]",
      "text/plain": [
       "<matplotlib.figure.Figure at 0x11601dc90>"
      ]
     },
     "metadata": {},
     "output_type": "display_data"
    }
   ],
   "source": [
    "cmap = sns.diverging_palette(220, 10, as_cmap=True)\n",
    "columns_to_keep = ['Equity_Style_Factor_P_E', 'Equity_Style_Factor_P_S','Equity_Style_Factor_P_C',\\\n",
    "                   'Equity_Style_Factor_Div_Yld', 'Equity_Style_Factor_LT_Earn_Growth', 'Equity_Style_Factor_Hist_Earn_Growth'\\\n",
    "                   , 'Equity_Style_Factor_Sales_Growth','Equity_Style_Factor_CF_Growth']\n",
    "correlations = cleandata[columns_to_keep].corr()\n",
    "print correlations\n",
    "print sns.heatmap(correlations, cmap=cmap)"
   ]
  },
  {
   "cell_type": "code",
   "execution_count": 65,
   "metadata": {
    "collapsed": false
   },
   "outputs": [
    {
     "data": {
      "text/html": [
       "<div>\n",
       "<table border=\"1\" class=\"dataframe\">\n",
       "  <thead>\n",
       "    <tr style=\"text-align: right;\">\n",
       "      <th></th>\n",
       "      <th>Calender_Year_Year End</th>\n",
       "      <th>P_B</th>\n",
       "      <th>P_C</th>\n",
       "      <th>P_E</th>\n",
       "      <th>P_S</th>\n",
       "      <th>Debt_to_Capital</th>\n",
       "      <th>Net_Margin</th>\n",
       "      <th>ROA</th>\n",
       "      <th>ROE</th>\n",
       "      <th>Equity_Style_Factor_P_E</th>\n",
       "      <th>...</th>\n",
       "      <th>Equity_Style_Factor_Div_Yld</th>\n",
       "      <th>Equity_Style_Factor_LT_Earn_Growth</th>\n",
       "      <th>Equity_Style_Factor_Hist_Earn_Growth</th>\n",
       "      <th>Equity_Style_Factor_BV_Growth</th>\n",
       "      <th>Equity_Style_Factor_Sales_Growth</th>\n",
       "      <th>Equity_Style_Factor_CF_Growth</th>\n",
       "      <th>1Yr_Return</th>\n",
       "      <th>1Yr_Return_BM</th>\n",
       "      <th>Beat_BM_1Yr</th>\n",
       "      <th>Perf_vs_BM_1Yr</th>\n",
       "    </tr>\n",
       "  </thead>\n",
       "  <tbody>\n",
       "    <tr>\n",
       "      <th>count</th>\n",
       "      <td>9271.000000</td>\n",
       "      <td>9271.000000</td>\n",
       "      <td>9271.000000</td>\n",
       "      <td>9271.000000</td>\n",
       "      <td>9271.000000</td>\n",
       "      <td>9271.000000</td>\n",
       "      <td>9271.000000</td>\n",
       "      <td>9271.000000</td>\n",
       "      <td>9271.000000</td>\n",
       "      <td>9271.000000</td>\n",
       "      <td>...</td>\n",
       "      <td>9271.000000</td>\n",
       "      <td>9271.000000</td>\n",
       "      <td>9271.000000</td>\n",
       "      <td>9271.000000</td>\n",
       "      <td>9271.000000</td>\n",
       "      <td>9271.000000</td>\n",
       "      <td>9271.000000</td>\n",
       "      <td>9271.000000</td>\n",
       "      <td>9271.000000</td>\n",
       "      <td>9271.000000</td>\n",
       "    </tr>\n",
       "    <tr>\n",
       "      <th>mean</th>\n",
       "      <td>2010.177111</td>\n",
       "      <td>2.395142</td>\n",
       "      <td>10.175625</td>\n",
       "      <td>16.840132</td>\n",
       "      <td>1.487014</td>\n",
       "      <td>32.431430</td>\n",
       "      <td>11.985742</td>\n",
       "      <td>7.216263</td>\n",
       "      <td>17.313277</td>\n",
       "      <td>15.303605</td>\n",
       "      <td>...</td>\n",
       "      <td>2.135116</td>\n",
       "      <td>11.701536</td>\n",
       "      <td>10.738695</td>\n",
       "      <td>4.159989</td>\n",
       "      <td>2.875557</td>\n",
       "      <td>5.814945</td>\n",
       "      <td>8.137690</td>\n",
       "      <td>8.985077</td>\n",
       "      <td>0.392191</td>\n",
       "      <td>-0.847388</td>\n",
       "    </tr>\n",
       "    <tr>\n",
       "      <th>std</th>\n",
       "      <td>3.114139</td>\n",
       "      <td>0.837033</td>\n",
       "      <td>3.083662</td>\n",
       "      <td>4.524226</td>\n",
       "      <td>0.907717</td>\n",
       "      <td>7.749081</td>\n",
       "      <td>4.251060</td>\n",
       "      <td>3.117045</td>\n",
       "      <td>5.984167</td>\n",
       "      <td>4.009736</td>\n",
       "      <td>...</td>\n",
       "      <td>1.115843</td>\n",
       "      <td>2.916580</td>\n",
       "      <td>97.117877</td>\n",
       "      <td>9.972686</td>\n",
       "      <td>11.659311</td>\n",
       "      <td>15.479938</td>\n",
       "      <td>20.653768</td>\n",
       "      <td>18.938981</td>\n",
       "      <td>0.488265</td>\n",
       "      <td>9.521042</td>\n",
       "    </tr>\n",
       "    <tr>\n",
       "      <th>min</th>\n",
       "      <td>2005.000000</td>\n",
       "      <td>0.220000</td>\n",
       "      <td>0.000000</td>\n",
       "      <td>1.470000</td>\n",
       "      <td>0.100000</td>\n",
       "      <td>0.000000</td>\n",
       "      <td>-16.810000</td>\n",
       "      <td>-33.760000</td>\n",
       "      <td>-34.750000</td>\n",
       "      <td>1.340000</td>\n",
       "      <td>...</td>\n",
       "      <td>0.000000</td>\n",
       "      <td>1.320000</td>\n",
       "      <td>-87.340000</td>\n",
       "      <td>-87.210000</td>\n",
       "      <td>-90.570000</td>\n",
       "      <td>-92.550000</td>\n",
       "      <td>-68.120000</td>\n",
       "      <td>-53.330000</td>\n",
       "      <td>0.000000</td>\n",
       "      <td>-83.800000</td>\n",
       "    </tr>\n",
       "    <tr>\n",
       "      <th>25%</th>\n",
       "      <td>2008.000000</td>\n",
       "      <td>1.830000</td>\n",
       "      <td>8.130000</td>\n",
       "      <td>14.185000</td>\n",
       "      <td>1.030000</td>\n",
       "      <td>28.650000</td>\n",
       "      <td>9.820000</td>\n",
       "      <td>5.690000</td>\n",
       "      <td>14.040000</td>\n",
       "      <td>12.930000</td>\n",
       "      <td>...</td>\n",
       "      <td>1.440000</td>\n",
       "      <td>9.990000</td>\n",
       "      <td>1.690000</td>\n",
       "      <td>2.000000</td>\n",
       "      <td>0.130000</td>\n",
       "      <td>1.425000</td>\n",
       "      <td>-0.480000</td>\n",
       "      <td>1.380000</td>\n",
       "      <td>0.000000</td>\n",
       "      <td>-4.665000</td>\n",
       "    </tr>\n",
       "    <tr>\n",
       "      <th>50%</th>\n",
       "      <td>2010.000000</td>\n",
       "      <td>2.260000</td>\n",
       "      <td>10.080000</td>\n",
       "      <td>16.780000</td>\n",
       "      <td>1.330000</td>\n",
       "      <td>33.180000</td>\n",
       "      <td>12.460000</td>\n",
       "      <td>7.530000</td>\n",
       "      <td>18.182967</td>\n",
       "      <td>15.030000</td>\n",
       "      <td>...</td>\n",
       "      <td>2.030000</td>\n",
       "      <td>11.300000</td>\n",
       "      <td>8.770000</td>\n",
       "      <td>5.910000</td>\n",
       "      <td>5.070000</td>\n",
       "      <td>6.810000</td>\n",
       "      <td>10.290000</td>\n",
       "      <td>13.690000</td>\n",
       "      <td>0.000000</td>\n",
       "      <td>-0.910000</td>\n",
       "    </tr>\n",
       "    <tr>\n",
       "      <th>75%</th>\n",
       "      <td>2013.000000</td>\n",
       "      <td>2.810000</td>\n",
       "      <td>11.645000</td>\n",
       "      <td>18.905000</td>\n",
       "      <td>1.680000</td>\n",
       "      <td>36.330000</td>\n",
       "      <td>14.160000</td>\n",
       "      <td>9.120000</td>\n",
       "      <td>21.200000</td>\n",
       "      <td>17.040000</td>\n",
       "      <td>...</td>\n",
       "      <td>2.640000</td>\n",
       "      <td>12.970000</td>\n",
       "      <td>15.790000</td>\n",
       "      <td>9.030000</td>\n",
       "      <td>9.020000</td>\n",
       "      <td>11.815000</td>\n",
       "      <td>19.280000</td>\n",
       "      <td>17.320000</td>\n",
       "      <td>1.000000</td>\n",
       "      <td>2.420000</td>\n",
       "    </tr>\n",
       "    <tr>\n",
       "      <th>max</th>\n",
       "      <td>2015.000000</td>\n",
       "      <td>8.900000</td>\n",
       "      <td>28.900000</td>\n",
       "      <td>46.530000</td>\n",
       "      <td>13.440000</td>\n",
       "      <td>66.420000</td>\n",
       "      <td>51.270000</td>\n",
       "      <td>35.420000</td>\n",
       "      <td>52.440000</td>\n",
       "      <td>57.540000</td>\n",
       "      <td>...</td>\n",
       "      <td>11.630000</td>\n",
       "      <td>57.730000</td>\n",
       "      <td>8893.470000</td>\n",
       "      <td>80.520000</td>\n",
       "      <td>65.200000</td>\n",
       "      <td>360.560000</td>\n",
       "      <td>122.280000</td>\n",
       "      <td>78.510000</td>\n",
       "      <td>1.000000</td>\n",
       "      <td>95.820000</td>\n",
       "    </tr>\n",
       "  </tbody>\n",
       "</table>\n",
       "<p>8 rows × 23 columns</p>\n",
       "</div>"
      ],
      "text/plain": [
       "       Calender_Year_Year End          P_B          P_C          P_E  \\\n",
       "count             9271.000000  9271.000000  9271.000000  9271.000000   \n",
       "mean              2010.177111     2.395142    10.175625    16.840132   \n",
       "std                  3.114139     0.837033     3.083662     4.524226   \n",
       "min               2005.000000     0.220000     0.000000     1.470000   \n",
       "25%               2008.000000     1.830000     8.130000    14.185000   \n",
       "50%               2010.000000     2.260000    10.080000    16.780000   \n",
       "75%               2013.000000     2.810000    11.645000    18.905000   \n",
       "max               2015.000000     8.900000    28.900000    46.530000   \n",
       "\n",
       "               P_S  Debt_to_Capital   Net_Margin          ROA          ROE  \\\n",
       "count  9271.000000      9271.000000  9271.000000  9271.000000  9271.000000   \n",
       "mean      1.487014        32.431430    11.985742     7.216263    17.313277   \n",
       "std       0.907717         7.749081     4.251060     3.117045     5.984167   \n",
       "min       0.100000         0.000000   -16.810000   -33.760000   -34.750000   \n",
       "25%       1.030000        28.650000     9.820000     5.690000    14.040000   \n",
       "50%       1.330000        33.180000    12.460000     7.530000    18.182967   \n",
       "75%       1.680000        36.330000    14.160000     9.120000    21.200000   \n",
       "max      13.440000        66.420000    51.270000    35.420000    52.440000   \n",
       "\n",
       "       Equity_Style_Factor_P_E       ...        Equity_Style_Factor_Div_Yld  \\\n",
       "count              9271.000000       ...                        9271.000000   \n",
       "mean                 15.303605       ...                           2.135116   \n",
       "std                   4.009736       ...                           1.115843   \n",
       "min                   1.340000       ...                           0.000000   \n",
       "25%                  12.930000       ...                           1.440000   \n",
       "50%                  15.030000       ...                           2.030000   \n",
       "75%                  17.040000       ...                           2.640000   \n",
       "max                  57.540000       ...                          11.630000   \n",
       "\n",
       "       Equity_Style_Factor_LT_Earn_Growth  \\\n",
       "count                         9271.000000   \n",
       "mean                            11.701536   \n",
       "std                              2.916580   \n",
       "min                              1.320000   \n",
       "25%                              9.990000   \n",
       "50%                             11.300000   \n",
       "75%                             12.970000   \n",
       "max                             57.730000   \n",
       "\n",
       "       Equity_Style_Factor_Hist_Earn_Growth  Equity_Style_Factor_BV_Growth  \\\n",
       "count                           9271.000000                    9271.000000   \n",
       "mean                              10.738695                       4.159989   \n",
       "std                               97.117877                       9.972686   \n",
       "min                              -87.340000                     -87.210000   \n",
       "25%                                1.690000                       2.000000   \n",
       "50%                                8.770000                       5.910000   \n",
       "75%                               15.790000                       9.030000   \n",
       "max                             8893.470000                      80.520000   \n",
       "\n",
       "       Equity_Style_Factor_Sales_Growth  Equity_Style_Factor_CF_Growth  \\\n",
       "count                       9271.000000                    9271.000000   \n",
       "mean                           2.875557                       5.814945   \n",
       "std                           11.659311                      15.479938   \n",
       "min                          -90.570000                     -92.550000   \n",
       "25%                            0.130000                       1.425000   \n",
       "50%                            5.070000                       6.810000   \n",
       "75%                            9.020000                      11.815000   \n",
       "max                           65.200000                     360.560000   \n",
       "\n",
       "        1Yr_Return  1Yr_Return_BM  Beat_BM_1Yr  Perf_vs_BM_1Yr  \n",
       "count  9271.000000    9271.000000  9271.000000     9271.000000  \n",
       "mean      8.137690       8.985077     0.392191       -0.847388  \n",
       "std      20.653768      18.938981     0.488265        9.521042  \n",
       "min     -68.120000     -53.330000     0.000000      -83.800000  \n",
       "25%      -0.480000       1.380000     0.000000       -4.665000  \n",
       "50%      10.290000      13.690000     0.000000       -0.910000  \n",
       "75%      19.280000      17.320000     1.000000        2.420000  \n",
       "max     122.280000      78.510000     1.000000       95.820000  \n",
       "\n",
       "[8 rows x 23 columns]"
      ]
     },
     "execution_count": 65,
     "metadata": {},
     "output_type": "execute_result"
    }
   ],
   "source": [
    "cleandata.describe()"
   ]
  },
  {
   "cell_type": "code",
   "execution_count": 37,
   "metadata": {
    "collapsed": false
   },
   "outputs": [],
   "source": [
    "#cleandata.isnull().sum()"
   ]
  },
  {
   "cell_type": "markdown",
   "metadata": {},
   "source": [
    "# Logistic Regression"
   ]
  },
  {
   "cell_type": "code",
   "execution_count": 66,
   "metadata": {
    "collapsed": false
   },
   "outputs": [
    {
     "data": {
      "text/plain": [
       "LogisticRegression(C=1.0, class_weight=None, dual=False, fit_intercept=True,\n",
       "          intercept_scaling=1, max_iter=100, multi_class='ovr', n_jobs=1,\n",
       "          penalty='l2', random_state=None, solver='liblinear', tol=0.0001,\n",
       "          verbose=0, warm_start=False)"
      ]
     },
     "execution_count": 66,
     "metadata": {},
     "output_type": "execute_result"
    }
   ],
   "source": [
    "lm = LogisticRegression()\n",
    "\n",
    "lm.fit(cleandata[['P_E','Debt_to_Capital', 'Net_Margin','ROE','Equity_Style_Factor_P_E', 'Equity_Style_Factor_P_S',\\\n",
    "                  'Equity_Style_Factor_P_C','Equity_Style_Factor_Div_Yld', 'Equity_Style_Factor_LT_Earn_Growth',\\\n",
    "                  'Equity_Style_Factor_Hist_Earn_Growth', 'Equity_Style_Factor_Sales_Growth',\\\n",
    "                  'Equity_Style_Factor_CF_Growth']], cleandata['Beat_BM_1Yr'])"
   ]
  },
  {
   "cell_type": "code",
   "execution_count": 67,
   "metadata": {
    "collapsed": false
   },
   "outputs": [
    {
     "name": "stdout",
     "output_type": "stream",
     "text": [
      "[[ 0.9655827   0.98917312  0.97611735  0.9906727   1.03063944  1.06750942\n",
      "   0.98141473  1.06525172  1.0296589   1.00005506  1.00813791  1.00423092]]\n",
      "[ 1.00247312]\n",
      "0.39219070219\n"
     ]
    }
   ],
   "source": [
    "print np.exp(lm.coef_)\n",
    "print np.exp(lm.intercept_)\n",
    "print cleandata.Beat_BM_1Yr.mean()"
   ]
  },
  {
   "cell_type": "code",
   "execution_count": 71,
   "metadata": {
    "collapsed": false
   },
   "outputs": [
    {
     "name": "stdout",
     "output_type": "stream",
     "text": [
      "0.610398015317\n"
     ]
    }
   ],
   "source": [
    "feature_set = cleandata[['P_E','Debt_to_Capital', 'Net_Margin','ROE','Equity_Style_Factor_P_E', \\\n",
    "                         'Equity_Style_Factor_P_S','Equity_Style_Factor_P_C','Equity_Style_Factor_Div_Yld', \\\n",
    "                         'Equity_Style_Factor_LT_Earn_Growth','Equity_Style_Factor_Hist_Earn_Growth', \\\n",
    "                         'Equity_Style_Factor_Sales_Growth','Equity_Style_Factor_CF_Growth']]\n",
    "print lm.score(feature_set, cleandata['Beat_BM_1Yr'])"
   ]
  },
  {
   "cell_type": "code",
   "execution_count": null,
   "metadata": {
    "collapsed": true
   },
   "outputs": [],
   "source": [
    "#The accuracy of the model with all features (removing one rank) is ~61%."
   ]
  },
  {
   "cell_type": "code",
   "execution_count": 72,
   "metadata": {
    "collapsed": false
   },
   "outputs": [
    {
     "data": {
      "text/plain": [
       "0.51369102526934152"
      ]
     },
     "execution_count": 72,
     "metadata": {},
     "output_type": "execute_result"
    }
   ],
   "source": [
    "roc_auc_score(cleandata['Beat_BM_1Yr'], lm.predict(feature_set))"
   ]
  },
  {
   "cell_type": "markdown",
   "metadata": {},
   "source": [
    "# Logistic Regression using Grid Search"
   ]
  },
  {
   "cell_type": "code",
   "execution_count": 79,
   "metadata": {
    "collapsed": false
   },
   "outputs": [
    {
     "name": "stderr",
     "output_type": "stream",
     "text": [
      "/Users/michaeltong/anaconda/lib/python2.7/site-packages/sklearn/utils/class_weight.py:65: DeprecationWarning: The class_weight='auto' heuristic is deprecated in 0.17 in favor of a new heuristic class_weight='balanced'. 'auto' will be removed in 0.19\n",
      "  \" 0.19\", DeprecationWarning)\n",
      "/Users/michaeltong/anaconda/lib/python2.7/site-packages/sklearn/utils/class_weight.py:65: DeprecationWarning: The class_weight='auto' heuristic is deprecated in 0.17 in favor of a new heuristic class_weight='balanced'. 'auto' will be removed in 0.19\n",
      "  \" 0.19\", DeprecationWarning)\n",
      "/Users/michaeltong/anaconda/lib/python2.7/site-packages/sklearn/utils/class_weight.py:65: DeprecationWarning: The class_weight='auto' heuristic is deprecated in 0.17 in favor of a new heuristic class_weight='balanced'. 'auto' will be removed in 0.19\n",
      "  \" 0.19\", DeprecationWarning)\n",
      "/Users/michaeltong/anaconda/lib/python2.7/site-packages/sklearn/utils/class_weight.py:65: DeprecationWarning: The class_weight='auto' heuristic is deprecated in 0.17 in favor of a new heuristic class_weight='balanced'. 'auto' will be removed in 0.19\n",
      "  \" 0.19\", DeprecationWarning)\n",
      "/Users/michaeltong/anaconda/lib/python2.7/site-packages/sklearn/utils/class_weight.py:65: DeprecationWarning: The class_weight='auto' heuristic is deprecated in 0.17 in favor of a new heuristic class_weight='balanced'. 'auto' will be removed in 0.19\n",
      "  \" 0.19\", DeprecationWarning)\n",
      "/Users/michaeltong/anaconda/lib/python2.7/site-packages/sklearn/utils/class_weight.py:65: DeprecationWarning: The class_weight='auto' heuristic is deprecated in 0.17 in favor of a new heuristic class_weight='balanced'. 'auto' will be removed in 0.19\n",
      "  \" 0.19\", DeprecationWarning)\n",
      "/Users/michaeltong/anaconda/lib/python2.7/site-packages/sklearn/utils/class_weight.py:65: DeprecationWarning: The class_weight='auto' heuristic is deprecated in 0.17 in favor of a new heuristic class_weight='balanced'. 'auto' will be removed in 0.19\n",
      "  \" 0.19\", DeprecationWarning)\n",
      "/Users/michaeltong/anaconda/lib/python2.7/site-packages/sklearn/utils/class_weight.py:65: DeprecationWarning: The class_weight='auto' heuristic is deprecated in 0.17 in favor of a new heuristic class_weight='balanced'. 'auto' will be removed in 0.19\n",
      "  \" 0.19\", DeprecationWarning)\n",
      "/Users/michaeltong/anaconda/lib/python2.7/site-packages/sklearn/utils/class_weight.py:65: DeprecationWarning: The class_weight='auto' heuristic is deprecated in 0.17 in favor of a new heuristic class_weight='balanced'. 'auto' will be removed in 0.19\n",
      "  \" 0.19\", DeprecationWarning)\n",
      "/Users/michaeltong/anaconda/lib/python2.7/site-packages/sklearn/utils/class_weight.py:65: DeprecationWarning: The class_weight='auto' heuristic is deprecated in 0.17 in favor of a new heuristic class_weight='balanced'. 'auto' will be removed in 0.19\n",
      "  \" 0.19\", DeprecationWarning)\n",
      "/Users/michaeltong/anaconda/lib/python2.7/site-packages/sklearn/utils/class_weight.py:65: DeprecationWarning: The class_weight='auto' heuristic is deprecated in 0.17 in favor of a new heuristic class_weight='balanced'. 'auto' will be removed in 0.19\n",
      "  \" 0.19\", DeprecationWarning)\n",
      "/Users/michaeltong/anaconda/lib/python2.7/site-packages/sklearn/utils/class_weight.py:65: DeprecationWarning: The class_weight='auto' heuristic is deprecated in 0.17 in favor of a new heuristic class_weight='balanced'. 'auto' will be removed in 0.19\n",
      "  \" 0.19\", DeprecationWarning)\n",
      "/Users/michaeltong/anaconda/lib/python2.7/site-packages/sklearn/utils/class_weight.py:65: DeprecationWarning: The class_weight='auto' heuristic is deprecated in 0.17 in favor of a new heuristic class_weight='balanced'. 'auto' will be removed in 0.19\n",
      "  \" 0.19\", DeprecationWarning)\n",
      "/Users/michaeltong/anaconda/lib/python2.7/site-packages/sklearn/utils/class_weight.py:65: DeprecationWarning: The class_weight='auto' heuristic is deprecated in 0.17 in favor of a new heuristic class_weight='balanced'. 'auto' will be removed in 0.19\n",
      "  \" 0.19\", DeprecationWarning)\n",
      "/Users/michaeltong/anaconda/lib/python2.7/site-packages/sklearn/utils/class_weight.py:65: DeprecationWarning: The class_weight='auto' heuristic is deprecated in 0.17 in favor of a new heuristic class_weight='balanced'. 'auto' will be removed in 0.19\n",
      "  \" 0.19\", DeprecationWarning)\n",
      "/Users/michaeltong/anaconda/lib/python2.7/site-packages/sklearn/utils/class_weight.py:65: DeprecationWarning: The class_weight='auto' heuristic is deprecated in 0.17 in favor of a new heuristic class_weight='balanced'. 'auto' will be removed in 0.19\n",
      "  \" 0.19\", DeprecationWarning)\n",
      "/Users/michaeltong/anaconda/lib/python2.7/site-packages/sklearn/utils/class_weight.py:65: DeprecationWarning: The class_weight='auto' heuristic is deprecated in 0.17 in favor of a new heuristic class_weight='balanced'. 'auto' will be removed in 0.19\n",
      "  \" 0.19\", DeprecationWarning)\n",
      "/Users/michaeltong/anaconda/lib/python2.7/site-packages/sklearn/utils/class_weight.py:65: DeprecationWarning: The class_weight='auto' heuristic is deprecated in 0.17 in favor of a new heuristic class_weight='balanced'. 'auto' will be removed in 0.19\n",
      "  \" 0.19\", DeprecationWarning)\n",
      "/Users/michaeltong/anaconda/lib/python2.7/site-packages/sklearn/utils/class_weight.py:65: DeprecationWarning: The class_weight='auto' heuristic is deprecated in 0.17 in favor of a new heuristic class_weight='balanced'. 'auto' will be removed in 0.19\n",
      "  \" 0.19\", DeprecationWarning)\n",
      "/Users/michaeltong/anaconda/lib/python2.7/site-packages/sklearn/utils/class_weight.py:65: DeprecationWarning: The class_weight='auto' heuristic is deprecated in 0.17 in favor of a new heuristic class_weight='balanced'. 'auto' will be removed in 0.19\n",
      "  \" 0.19\", DeprecationWarning)\n",
      "/Users/michaeltong/anaconda/lib/python2.7/site-packages/sklearn/utils/class_weight.py:65: DeprecationWarning: The class_weight='auto' heuristic is deprecated in 0.17 in favor of a new heuristic class_weight='balanced'. 'auto' will be removed in 0.19\n",
      "  \" 0.19\", DeprecationWarning)\n",
      "/Users/michaeltong/anaconda/lib/python2.7/site-packages/sklearn/utils/class_weight.py:65: DeprecationWarning: The class_weight='auto' heuristic is deprecated in 0.17 in favor of a new heuristic class_weight='balanced'. 'auto' will be removed in 0.19\n",
      "  \" 0.19\", DeprecationWarning)\n",
      "/Users/michaeltong/anaconda/lib/python2.7/site-packages/sklearn/utils/class_weight.py:65: DeprecationWarning: The class_weight='auto' heuristic is deprecated in 0.17 in favor of a new heuristic class_weight='balanced'. 'auto' will be removed in 0.19\n",
      "  \" 0.19\", DeprecationWarning)\n",
      "/Users/michaeltong/anaconda/lib/python2.7/site-packages/sklearn/utils/class_weight.py:65: DeprecationWarning: The class_weight='auto' heuristic is deprecated in 0.17 in favor of a new heuristic class_weight='balanced'. 'auto' will be removed in 0.19\n",
      "  \" 0.19\", DeprecationWarning)\n",
      "/Users/michaeltong/anaconda/lib/python2.7/site-packages/sklearn/utils/class_weight.py:65: DeprecationWarning: The class_weight='auto' heuristic is deprecated in 0.17 in favor of a new heuristic class_weight='balanced'. 'auto' will be removed in 0.19\n",
      "  \" 0.19\", DeprecationWarning)\n",
      "/Users/michaeltong/anaconda/lib/python2.7/site-packages/sklearn/utils/class_weight.py:65: DeprecationWarning: The class_weight='auto' heuristic is deprecated in 0.17 in favor of a new heuristic class_weight='balanced'. 'auto' will be removed in 0.19\n",
      "  \" 0.19\", DeprecationWarning)\n",
      "/Users/michaeltong/anaconda/lib/python2.7/site-packages/sklearn/utils/class_weight.py:65: DeprecationWarning: The class_weight='auto' heuristic is deprecated in 0.17 in favor of a new heuristic class_weight='balanced'. 'auto' will be removed in 0.19\n",
      "  \" 0.19\", DeprecationWarning)\n",
      "/Users/michaeltong/anaconda/lib/python2.7/site-packages/sklearn/utils/class_weight.py:65: DeprecationWarning: The class_weight='auto' heuristic is deprecated in 0.17 in favor of a new heuristic class_weight='balanced'. 'auto' will be removed in 0.19\n",
      "  \" 0.19\", DeprecationWarning)\n",
      "/Users/michaeltong/anaconda/lib/python2.7/site-packages/sklearn/utils/class_weight.py:65: DeprecationWarning: The class_weight='auto' heuristic is deprecated in 0.17 in favor of a new heuristic class_weight='balanced'. 'auto' will be removed in 0.19\n",
      "  \" 0.19\", DeprecationWarning)\n",
      "/Users/michaeltong/anaconda/lib/python2.7/site-packages/sklearn/utils/class_weight.py:65: DeprecationWarning: The class_weight='auto' heuristic is deprecated in 0.17 in favor of a new heuristic class_weight='balanced'. 'auto' will be removed in 0.19\n",
      "  \" 0.19\", DeprecationWarning)\n",
      "/Users/michaeltong/anaconda/lib/python2.7/site-packages/sklearn/utils/class_weight.py:65: DeprecationWarning: The class_weight='auto' heuristic is deprecated in 0.17 in favor of a new heuristic class_weight='balanced'. 'auto' will be removed in 0.19\n",
      "  \" 0.19\", DeprecationWarning)\n",
      "/Users/michaeltong/anaconda/lib/python2.7/site-packages/sklearn/utils/class_weight.py:65: DeprecationWarning: The class_weight='auto' heuristic is deprecated in 0.17 in favor of a new heuristic class_weight='balanced'. 'auto' will be removed in 0.19\n",
      "  \" 0.19\", DeprecationWarning)\n",
      "/Users/michaeltong/anaconda/lib/python2.7/site-packages/sklearn/utils/class_weight.py:65: DeprecationWarning: The class_weight='auto' heuristic is deprecated in 0.17 in favor of a new heuristic class_weight='balanced'. 'auto' will be removed in 0.19\n",
      "  \" 0.19\", DeprecationWarning)\n",
      "/Users/michaeltong/anaconda/lib/python2.7/site-packages/sklearn/utils/class_weight.py:65: DeprecationWarning: The class_weight='auto' heuristic is deprecated in 0.17 in favor of a new heuristic class_weight='balanced'. 'auto' will be removed in 0.19\n",
      "  \" 0.19\", DeprecationWarning)\n",
      "/Users/michaeltong/anaconda/lib/python2.7/site-packages/sklearn/utils/class_weight.py:65: DeprecationWarning: The class_weight='auto' heuristic is deprecated in 0.17 in favor of a new heuristic class_weight='balanced'. 'auto' will be removed in 0.19\n",
      "  \" 0.19\", DeprecationWarning)\n",
      "/Users/michaeltong/anaconda/lib/python2.7/site-packages/sklearn/utils/class_weight.py:65: DeprecationWarning: The class_weight='auto' heuristic is deprecated in 0.17 in favor of a new heuristic class_weight='balanced'. 'auto' will be removed in 0.19\n",
      "  \" 0.19\", DeprecationWarning)\n",
      "/Users/michaeltong/anaconda/lib/python2.7/site-packages/sklearn/utils/class_weight.py:65: DeprecationWarning: The class_weight='auto' heuristic is deprecated in 0.17 in favor of a new heuristic class_weight='balanced'. 'auto' will be removed in 0.19\n",
      "  \" 0.19\", DeprecationWarning)\n",
      "/Users/michaeltong/anaconda/lib/python2.7/site-packages/sklearn/utils/class_weight.py:65: DeprecationWarning: The class_weight='auto' heuristic is deprecated in 0.17 in favor of a new heuristic class_weight='balanced'. 'auto' will be removed in 0.19\n",
      "  \" 0.19\", DeprecationWarning)\n",
      "/Users/michaeltong/anaconda/lib/python2.7/site-packages/sklearn/utils/class_weight.py:65: DeprecationWarning: The class_weight='auto' heuristic is deprecated in 0.17 in favor of a new heuristic class_weight='balanced'. 'auto' will be removed in 0.19\n",
      "  \" 0.19\", DeprecationWarning)\n",
      "/Users/michaeltong/anaconda/lib/python2.7/site-packages/sklearn/utils/class_weight.py:65: DeprecationWarning: The class_weight='auto' heuristic is deprecated in 0.17 in favor of a new heuristic class_weight='balanced'. 'auto' will be removed in 0.19\n",
      "  \" 0.19\", DeprecationWarning)\n",
      "/Users/michaeltong/anaconda/lib/python2.7/site-packages/sklearn/utils/class_weight.py:65: DeprecationWarning: The class_weight='auto' heuristic is deprecated in 0.17 in favor of a new heuristic class_weight='balanced'. 'auto' will be removed in 0.19\n",
      "  \" 0.19\", DeprecationWarning)\n",
      "/Users/michaeltong/anaconda/lib/python2.7/site-packages/sklearn/utils/class_weight.py:65: DeprecationWarning: The class_weight='auto' heuristic is deprecated in 0.17 in favor of a new heuristic class_weight='balanced'. 'auto' will be removed in 0.19\n",
      "  \" 0.19\", DeprecationWarning)\n",
      "/Users/michaeltong/anaconda/lib/python2.7/site-packages/sklearn/utils/class_weight.py:65: DeprecationWarning: The class_weight='auto' heuristic is deprecated in 0.17 in favor of a new heuristic class_weight='balanced'. 'auto' will be removed in 0.19\n",
      "  \" 0.19\", DeprecationWarning)\n",
      "/Users/michaeltong/anaconda/lib/python2.7/site-packages/sklearn/utils/class_weight.py:65: DeprecationWarning: The class_weight='auto' heuristic is deprecated in 0.17 in favor of a new heuristic class_weight='balanced'. 'auto' will be removed in 0.19\n",
      "  \" 0.19\", DeprecationWarning)\n",
      "/Users/michaeltong/anaconda/lib/python2.7/site-packages/sklearn/utils/class_weight.py:65: DeprecationWarning: The class_weight='auto' heuristic is deprecated in 0.17 in favor of a new heuristic class_weight='balanced'. 'auto' will be removed in 0.19\n",
      "  \" 0.19\", DeprecationWarning)\n"
     ]
    },
    {
     "name": "stdout",
     "output_type": "stream",
     "text": [
      "('Best Scores:', [mean: 0.05384, std: 0.03640, params: {'C': 1, 'class_weight': None}, mean: 0.42507, std: 0.18152, params: {'C': 1, 'class_weight': 'auto'}, mean: 0.05384, std: 0.03640, params: {'C': 2, 'class_weight': None}, mean: 0.42563, std: 0.18153, params: {'C': 2, 'class_weight': 'auto'}, mean: 0.05384, std: 0.03640, params: {'C': 3, 'class_weight': None}, mean: 0.42563, std: 0.18153, params: {'C': 3, 'class_weight': 'auto'}, mean: 0.05384, std: 0.03640, params: {'C': 4, 'class_weight': None}, mean: 0.42563, std: 0.18153, params: {'C': 4, 'class_weight': 'auto'}, mean: 0.05384, std: 0.03640, params: {'C': 5, 'class_weight': None}, mean: 0.42563, std: 0.18153, params: {'C': 5, 'class_weight': 'auto'}, mean: 0.05384, std: 0.03640, params: {'C': 6, 'class_weight': None}, mean: 0.42563, std: 0.18153, params: {'C': 6, 'class_weight': 'auto'}, mean: 0.05384, std: 0.03640, params: {'C': 7, 'class_weight': None}, mean: 0.42563, std: 0.18153, params: {'C': 7, 'class_weight': 'auto'}, mean: 0.05384, std: 0.03640, params: {'C': 8, 'class_weight': None}, mean: 0.42563, std: 0.18153, params: {'C': 8, 'class_weight': 'auto'}, mean: 0.05384, std: 0.03640, params: {'C': 9, 'class_weight': None}, mean: 0.42563, std: 0.18153, params: {'C': 9, 'class_weight': 'auto'}])\n",
      "('Best 1Yr Score:', 0.42562897526986154)\n"
     ]
    },
    {
     "name": "stderr",
     "output_type": "stream",
     "text": [
      "/Users/michaeltong/anaconda/lib/python2.7/site-packages/sklearn/utils/class_weight.py:65: DeprecationWarning: The class_weight='auto' heuristic is deprecated in 0.17 in favor of a new heuristic class_weight='balanced'. 'auto' will be removed in 0.19\n",
      "  \" 0.19\", DeprecationWarning)\n"
     ]
    }
   ],
   "source": [
    "#Grid Search with Logistic Regression\n",
    "\n",
    "datafactors = cleandata[['P_E','Debt_to_Capital', 'Net_Margin','ROE','Equity_Style_Factor_P_E', \\\n",
    "                         'Equity_Style_Factor_P_S','Equity_Style_Factor_P_C','Equity_Style_Factor_Div_Yld', \\\n",
    "                         'Equity_Style_Factor_LT_Earn_Growth','Equity_Style_Factor_Hist_Earn_Growth', \\\n",
    "                         'Equity_Style_Factor_Sales_Growth','Equity_Style_Factor_CF_Growth']]\n",
    "\n",
    "sc = StandardScaler()\n",
    "scaled_feature = sc.fit_transform(datafactors)\n",
    "gs = grid_search.GridSearchCV(\n",
    "    estimator=LogisticRegression(),\n",
    "    param_grid={'C': [i for i in range(1, 10)], 'class_weight': [None, 'auto']},\n",
    "    cv=cross_validation.KFold(n=len(cleandata), n_folds=5),\n",
    "    scoring='recall'\n",
    ")\n",
    "\n",
    "gs.fit(scaled_feature, cleandata.Beat_BM_1Yr)\n",
    "print ('Best Scores:',gs.grid_scores_)\n",
    "print('Best 1Yr Score:', gs.best_score_) "
   ]
  },
  {
   "cell_type": "markdown",
   "metadata": {},
   "source": [
    "* Estimator with gave highest score"
   ]
  },
  {
   "cell_type": "code",
   "execution_count": 81,
   "metadata": {
    "collapsed": false
   },
   "outputs": [
    {
     "name": "stdout",
     "output_type": "stream",
     "text": [
      "('Best 1Yr Estimator:', LogisticRegression(C=2, class_weight='auto', dual=False, fit_intercept=True,\n",
      "          intercept_scaling=1, max_iter=100, multi_class='ovr', n_jobs=1,\n",
      "          penalty='l2', random_state=None, solver='liblinear', tol=0.0001,\n",
      "          verbose=0, warm_start=False))\n"
     ]
    }
   ],
   "source": [
    "print('Best 1Yr Estimator:', gs.best_estimator_)"
   ]
  },
  {
   "cell_type": "markdown",
   "metadata": {},
   "source": [
    "* 1 Year Performance Results"
   ]
  },
  {
   "cell_type": "code",
   "execution_count": 85,
   "metadata": {
    "collapsed": false
   },
   "outputs": [
    {
     "name": "stdout",
     "output_type": "stream",
     "text": [
      "('Best 1Yr Score:', 0.42562897526986154)\n",
      "('Best 1Yr Parameter:', {'C': 2, 'class_weight': 'auto'})\n"
     ]
    },
    {
     "data": {
      "text/plain": [
       "[('P_E', -0.15835986771192834),\n",
       " ('Debt_to_Capital', -0.082783380258586878),\n",
       " ('Net_Margin', -0.10093386909939085),\n",
       " ('ROE', -0.056799647246019963),\n",
       " ('Equity_Style_Factor_P_E', 0.12258565887789397),\n",
       " ('Equity_Style_Factor_P_S', 0.10432207884948368),\n",
       " ('Equity_Style_Factor_P_C', -0.071585656865833514),\n",
       " ('Equity_Style_Factor_Div_Yld', 0.077031897468725907),\n",
       " ('Equity_Style_Factor_LT_Earn_Growth', 0.095285952559955381),\n",
       " ('Equity_Style_Factor_Hist_Earn_Growth', 0.0075486341212492123),\n",
       " ('Equity_Style_Factor_Sales_Growth', 0.092531100151800327),\n",
       " ('Equity_Style_Factor_CF_Growth', 0.060864653231443827)]"
      ]
     },
     "execution_count": 85,
     "metadata": {},
     "output_type": "execute_result"
    }
   ],
   "source": [
    "print('Best 1Yr Score:', gs.best_score_)\n",
    "print('Best 1Yr Parameter:', gs.best_params_)\n",
    "zip(['P_E','Debt_to_Capital', 'Net_Margin','ROE','Equity_Style_Factor_P_E','Equity_Style_Factor_P_S',\\\n",
    "     'Equity_Style_Factor_P_C','Equity_Style_Factor_Div_Yld', 'Equity_Style_Factor_LT_Earn_Growth',\\\n",
    "     'Equity_Style_Factor_Hist_Earn_Growth','Equity_Style_Factor_Sales_Growth',\\\n",
    "     'Equity_Style_Factor_CF_Growth'],gs.best_estimator_.coef_[0])"
   ]
  },
  {
   "cell_type": "markdown",
   "metadata": {
    "collapsed": true
   },
   "source": [
    "# Random Forest"
   ]
  },
  {
   "cell_type": "code",
   "execution_count": 93,
   "metadata": {
    "collapsed": false
   },
   "outputs": [],
   "source": [
    "rfdata = cleandata[['P_E','Debt_to_Capital', 'Net_Margin','ROE','Equity_Style_Factor_P_E','Equity_Style_Factor_P_S', \\\n",
    "     'Equity_Style_Factor_P_C','Equity_Style_Factor_Div_Yld', 'Equity_Style_Factor_LT_Earn_Growth', \\\n",
    "     'Equity_Style_Factor_Hist_Earn_Growth', 'Equity_Style_Factor_Sales_Growth', \\\n",
    "     'Equity_Style_Factor_CF_Growth','Beat_BM_1Yr']]"
   ]
  },
  {
   "cell_type": "code",
   "execution_count": 94,
   "metadata": {
    "collapsed": false
   },
   "outputs": [
    {
     "data": {
      "text/plain": [
       "(9271, 13)"
      ]
     },
     "execution_count": 94,
     "metadata": {},
     "output_type": "execute_result"
    }
   ],
   "source": [
    "rfdata.shape"
   ]
  },
  {
   "cell_type": "code",
   "execution_count": 95,
   "metadata": {
    "collapsed": false
   },
   "outputs": [
    {
     "data": {
      "text/plain": [
       "P_E                                     float64\n",
       "Debt_to_Capital                         float64\n",
       "Net_Margin                              float64\n",
       "ROE                                     float64\n",
       "Equity_Style_Factor_P_E                 float64\n",
       "Equity_Style_Factor_P_S                 float64\n",
       "Equity_Style_Factor_P_C                 float64\n",
       "Equity_Style_Factor_Div_Yld             float64\n",
       "Equity_Style_Factor_LT_Earn_Growth      float64\n",
       "Equity_Style_Factor_Hist_Earn_Growth    float64\n",
       "Equity_Style_Factor_Sales_Growth        float64\n",
       "Equity_Style_Factor_CF_Growth           float64\n",
       "Beat_BM_1Yr                               int64\n",
       "dtype: object"
      ]
     },
     "execution_count": 95,
     "metadata": {},
     "output_type": "execute_result"
    }
   ],
   "source": [
    "rfdata.dtypes"
   ]
  },
  {
   "cell_type": "code",
   "execution_count": 96,
   "metadata": {
    "collapsed": false
   },
   "outputs": [
    {
     "data": {
      "text/html": [
       "<div>\n",
       "<table border=\"1\" class=\"dataframe\">\n",
       "  <thead>\n",
       "    <tr style=\"text-align: right;\">\n",
       "      <th></th>\n",
       "      <th>P_E</th>\n",
       "      <th>Debt_to_Capital</th>\n",
       "      <th>Net_Margin</th>\n",
       "      <th>ROE</th>\n",
       "      <th>Equity_Style_Factor_P_E</th>\n",
       "      <th>Equity_Style_Factor_P_S</th>\n",
       "      <th>Equity_Style_Factor_P_C</th>\n",
       "      <th>Equity_Style_Factor_Div_Yld</th>\n",
       "      <th>Equity_Style_Factor_LT_Earn_Growth</th>\n",
       "      <th>Equity_Style_Factor_Hist_Earn_Growth</th>\n",
       "      <th>Equity_Style_Factor_Sales_Growth</th>\n",
       "      <th>Equity_Style_Factor_CF_Growth</th>\n",
       "      <th>Beat_BM_1Yr</th>\n",
       "    </tr>\n",
       "  </thead>\n",
       "  <tbody>\n",
       "    <tr>\n",
       "      <th>0</th>\n",
       "      <td>15.00</td>\n",
       "      <td>3.98</td>\n",
       "      <td>12.48</td>\n",
       "      <td>18.06</td>\n",
       "      <td>13.53</td>\n",
       "      <td>1.01</td>\n",
       "      <td>5.10</td>\n",
       "      <td>2.72</td>\n",
       "      <td>12.59</td>\n",
       "      <td>18.78</td>\n",
       "      <td>6.66</td>\n",
       "      <td>-14.86</td>\n",
       "      <td>0</td>\n",
       "    </tr>\n",
       "    <tr>\n",
       "      <th>1</th>\n",
       "      <td>16.41</td>\n",
       "      <td>2.75</td>\n",
       "      <td>11.94</td>\n",
       "      <td>17.62</td>\n",
       "      <td>16.60</td>\n",
       "      <td>1.46</td>\n",
       "      <td>11.52</td>\n",
       "      <td>3.81</td>\n",
       "      <td>13.09</td>\n",
       "      <td>22.45</td>\n",
       "      <td>1.73</td>\n",
       "      <td>1.48</td>\n",
       "      <td>0</td>\n",
       "    </tr>\n",
       "    <tr>\n",
       "      <th>2</th>\n",
       "      <td>18.89</td>\n",
       "      <td>22.32</td>\n",
       "      <td>12.47</td>\n",
       "      <td>17.74</td>\n",
       "      <td>16.89</td>\n",
       "      <td>2.42</td>\n",
       "      <td>7.55</td>\n",
       "      <td>1.55</td>\n",
       "      <td>10.45</td>\n",
       "      <td>18.01</td>\n",
       "      <td>7.00</td>\n",
       "      <td>16.96</td>\n",
       "      <td>0</td>\n",
       "    </tr>\n",
       "    <tr>\n",
       "      <th>3</th>\n",
       "      <td>21.07</td>\n",
       "      <td>7.24</td>\n",
       "      <td>11.00</td>\n",
       "      <td>17.58</td>\n",
       "      <td>17.36</td>\n",
       "      <td>1.41</td>\n",
       "      <td>10.62</td>\n",
       "      <td>1.79</td>\n",
       "      <td>13.20</td>\n",
       "      <td>22.26</td>\n",
       "      <td>5.39</td>\n",
       "      <td>10.78</td>\n",
       "      <td>0</td>\n",
       "    </tr>\n",
       "    <tr>\n",
       "      <th>4</th>\n",
       "      <td>13.85</td>\n",
       "      <td>7.01</td>\n",
       "      <td>7.82</td>\n",
       "      <td>16.86</td>\n",
       "      <td>13.32</td>\n",
       "      <td>0.92</td>\n",
       "      <td>5.89</td>\n",
       "      <td>2.20</td>\n",
       "      <td>10.73</td>\n",
       "      <td>12.12</td>\n",
       "      <td>-4.04</td>\n",
       "      <td>5.15</td>\n",
       "      <td>1</td>\n",
       "    </tr>\n",
       "  </tbody>\n",
       "</table>\n",
       "</div>"
      ],
      "text/plain": [
       "     P_E  Debt_to_Capital  Net_Margin    ROE  Equity_Style_Factor_P_E  \\\n",
       "0  15.00             3.98       12.48  18.06                    13.53   \n",
       "1  16.41             2.75       11.94  17.62                    16.60   \n",
       "2  18.89            22.32       12.47  17.74                    16.89   \n",
       "3  21.07             7.24       11.00  17.58                    17.36   \n",
       "4  13.85             7.01        7.82  16.86                    13.32   \n",
       "\n",
       "   Equity_Style_Factor_P_S  Equity_Style_Factor_P_C  \\\n",
       "0                     1.01                     5.10   \n",
       "1                     1.46                    11.52   \n",
       "2                     2.42                     7.55   \n",
       "3                     1.41                    10.62   \n",
       "4                     0.92                     5.89   \n",
       "\n",
       "   Equity_Style_Factor_Div_Yld  Equity_Style_Factor_LT_Earn_Growth  \\\n",
       "0                         2.72                               12.59   \n",
       "1                         3.81                               13.09   \n",
       "2                         1.55                               10.45   \n",
       "3                         1.79                               13.20   \n",
       "4                         2.20                               10.73   \n",
       "\n",
       "   Equity_Style_Factor_Hist_Earn_Growth  Equity_Style_Factor_Sales_Growth  \\\n",
       "0                                 18.78                              6.66   \n",
       "1                                 22.45                              1.73   \n",
       "2                                 18.01                              7.00   \n",
       "3                                 22.26                              5.39   \n",
       "4                                 12.12                             -4.04   \n",
       "\n",
       "   Equity_Style_Factor_CF_Growth  Beat_BM_1Yr  \n",
       "0                         -14.86            0  \n",
       "1                           1.48            0  \n",
       "2                          16.96            0  \n",
       "3                          10.78            0  \n",
       "4                           5.15            1  "
      ]
     },
     "execution_count": 96,
     "metadata": {},
     "output_type": "execute_result"
    }
   ],
   "source": [
    "rfdata.head()"
   ]
  },
  {
   "cell_type": "code",
   "execution_count": 97,
   "metadata": {
    "collapsed": false
   },
   "outputs": [
    {
     "name": "stderr",
     "output_type": "stream",
     "text": [
      "/Users/michaeltong/anaconda/lib/python2.7/site-packages/ipykernel/__main__.py:2: SettingWithCopyWarning: \n",
      "A value is trying to be set on a copy of a slice from a DataFrame.\n",
      "Try using .loc[row_indexer,col_indexer] = value instead\n",
      "\n",
      "See the caveats in the documentation: http://pandas.pydata.org/pandas-docs/stable/indexing.html#indexing-view-versus-copy\n",
      "  from ipykernel import kernelapp as app\n"
     ]
    }
   ],
   "source": [
    "#split data into train and test set\n",
    "rfdata['train'] = np.random.uniform(0, 1, len(rfdata)) <= .75"
   ]
  },
  {
   "cell_type": "code",
   "execution_count": 98,
   "metadata": {
    "collapsed": false
   },
   "outputs": [],
   "source": [
    "train, test = rfdata[rfdata['train']==True], rfdata[rfdata['train']==False]"
   ]
  },
  {
   "cell_type": "code",
   "execution_count": 99,
   "metadata": {
    "collapsed": false
   },
   "outputs": [
    {
     "name": "stdout",
     "output_type": "stream",
     "text": [
      "('Number of observations in the training data:', 6949)\n",
      "('Number of observations in the test data:', 2322)\n"
     ]
    }
   ],
   "source": [
    "print('Number of observations in the training data:', len(train))\n",
    "print('Number of observations in the test data:',len(test))"
   ]
  },
  {
   "cell_type": "code",
   "execution_count": 100,
   "metadata": {
    "collapsed": false
   },
   "outputs": [
    {
     "data": {
      "text/plain": [
       "Index([u'P_E', u'Debt_to_Capital', u'Net_Margin', u'ROE',\n",
       "       u'Equity_Style_Factor_P_E', u'Equity_Style_Factor_P_S',\n",
       "       u'Equity_Style_Factor_P_C', u'Equity_Style_Factor_Div_Yld',\n",
       "       u'Equity_Style_Factor_LT_Earn_Growth',\n",
       "       u'Equity_Style_Factor_Hist_Earn_Growth',\n",
       "       u'Equity_Style_Factor_Sales_Growth', u'Equity_Style_Factor_CF_Growth'],\n",
       "      dtype='object')"
      ]
     },
     "execution_count": 100,
     "metadata": {},
     "output_type": "execute_result"
    }
   ],
   "source": [
    "features = rfdata.columns[:12]\n",
    "features"
   ]
  },
  {
   "cell_type": "code",
   "execution_count": 101,
   "metadata": {
    "collapsed": false
   },
   "outputs": [
    {
     "data": {
      "text/plain": [
       "RandomForestClassifier(bootstrap=True, class_weight=None, criterion='gini',\n",
       "            max_depth=None, max_features='auto', max_leaf_nodes=None,\n",
       "            min_impurity_split=1e-07, min_samples_leaf=1,\n",
       "            min_samples_split=2, min_weight_fraction_leaf=0.0,\n",
       "            n_estimators=10, n_jobs=2, oob_score=False, random_state=None,\n",
       "            verbose=0, warm_start=False)"
      ]
     },
     "execution_count": 101,
     "metadata": {},
     "output_type": "execute_result"
    }
   ],
   "source": [
    "clf = RandomForestClassifier(n_jobs=2)\n",
    "\n",
    "clf.fit(train[features], train.Beat_BM_1Yr)"
   ]
  },
  {
   "cell_type": "code",
   "execution_count": 102,
   "metadata": {
    "collapsed": false
   },
   "outputs": [
    {
     "name": "stdout",
     "output_type": "stream",
     "text": [
      "0.981148366671\n",
      "0.65503875969\n"
     ]
    }
   ],
   "source": [
    "scoreclf = clf.score(train[features], train.Beat_BM_1Yr)\n",
    "print scoreclf\n",
    "\n",
    "scoreclfT = clf.score(test[features], test.Beat_BM_1Yr)\n",
    "print scoreclfT"
   ]
  },
  {
   "cell_type": "code",
   "execution_count": 103,
   "metadata": {
    "collapsed": false
   },
   "outputs": [
    {
     "data": {
      "text/plain": [
       "array([0, 0, 0, ..., 0, 0, 0])"
      ]
     },
     "execution_count": 103,
     "metadata": {},
     "output_type": "execute_result"
    }
   ],
   "source": [
    "clf.predict(test[features])"
   ]
  },
  {
   "cell_type": "code",
   "execution_count": 104,
   "metadata": {
    "collapsed": false
   },
   "outputs": [
    {
     "data": {
      "text/plain": [
       "array([[ 1. ,  0. ],\n",
       "       [ 0.7,  0.3],\n",
       "       [ 0.7,  0.3],\n",
       "       [ 0.5,  0.5],\n",
       "       [ 0.3,  0.7],\n",
       "       [ 0.5,  0.5],\n",
       "       [ 0.3,  0.7],\n",
       "       [ 0.9,  0.1],\n",
       "       [ 0.4,  0.6],\n",
       "       [ 0.7,  0.3]])"
      ]
     },
     "execution_count": 104,
     "metadata": {},
     "output_type": "execute_result"
    }
   ],
   "source": [
    "clf.predict_proba(test[features])[0:10]"
   ]
  },
  {
   "cell_type": "code",
   "execution_count": 105,
   "metadata": {
    "collapsed": false
   },
   "outputs": [
    {
     "data": {
      "text/plain": [
       "[('P_E', 0.079956515974794889),\n",
       " ('Debt_to_Capital', 0.086021324923637718),\n",
       " ('Net_Margin', 0.083012137328098895),\n",
       " ('ROE', 0.08022932952997433),\n",
       " ('Equity_Style_Factor_P_E', 0.080221140201583205),\n",
       " ('Equity_Style_Factor_P_S', 0.086586555893075054),\n",
       " ('Equity_Style_Factor_P_C', 0.084815840337734108),\n",
       " ('Equity_Style_Factor_Div_Yld', 0.079455930658461876),\n",
       " ('Equity_Style_Factor_LT_Earn_Growth', 0.092653057040349748),\n",
       " ('Equity_Style_Factor_Hist_Earn_Growth', 0.086741873019140686),\n",
       " ('Equity_Style_Factor_Sales_Growth', 0.083282591240523118),\n",
       " ('Equity_Style_Factor_CF_Growth', 0.077023703852626413)]"
      ]
     },
     "execution_count": 105,
     "metadata": {},
     "output_type": "execute_result"
    }
   ],
   "source": [
    "list(zip(train[features], clf.feature_importances_))"
   ]
  },
  {
   "cell_type": "code",
   "execution_count": 106,
   "metadata": {
    "collapsed": false
   },
   "outputs": [
    {
     "data": {
      "text/html": [
       "<div>\n",
       "<table border=\"1\" class=\"dataframe\">\n",
       "  <thead>\n",
       "    <tr style=\"text-align: right;\">\n",
       "      <th></th>\n",
       "      <th>Factors</th>\n",
       "      <th>Importance Score</th>\n",
       "    </tr>\n",
       "  </thead>\n",
       "  <tbody>\n",
       "    <tr>\n",
       "      <th>8</th>\n",
       "      <td>Equity_Style_Factor_LT_Earn_Growth</td>\n",
       "      <td>0.092653</td>\n",
       "    </tr>\n",
       "    <tr>\n",
       "      <th>9</th>\n",
       "      <td>Equity_Style_Factor_Hist_Earn_Growth</td>\n",
       "      <td>0.086742</td>\n",
       "    </tr>\n",
       "    <tr>\n",
       "      <th>5</th>\n",
       "      <td>Equity_Style_Factor_P_S</td>\n",
       "      <td>0.086587</td>\n",
       "    </tr>\n",
       "    <tr>\n",
       "      <th>1</th>\n",
       "      <td>Debt_to_Capital</td>\n",
       "      <td>0.086021</td>\n",
       "    </tr>\n",
       "    <tr>\n",
       "      <th>6</th>\n",
       "      <td>Equity_Style_Factor_P_C</td>\n",
       "      <td>0.084816</td>\n",
       "    </tr>\n",
       "  </tbody>\n",
       "</table>\n",
       "</div>"
      ],
      "text/plain": [
       "                                Factors  Importance Score\n",
       "8    Equity_Style_Factor_LT_Earn_Growth          0.092653\n",
       "9  Equity_Style_Factor_Hist_Earn_Growth          0.086742\n",
       "5               Equity_Style_Factor_P_S          0.086587\n",
       "1                       Debt_to_Capital          0.086021\n",
       "6               Equity_Style_Factor_P_C          0.084816"
      ]
     },
     "execution_count": 106,
     "metadata": {},
     "output_type": "execute_result"
    }
   ],
   "source": [
    "factors = train[features].columns\n",
    "\n",
    "features_df = pd.DataFrame({'Factors': features, 'Importance Score': clf.feature_importances_})\n",
    "features_df.sort_values('Importance Score', inplace=True, ascending=False)\n",
    "\n",
    "features_df.head()"
   ]
  },
  {
   "cell_type": "code",
   "execution_count": null,
   "metadata": {
    "collapsed": true
   },
   "outputs": [],
   "source": []
  }
 ],
 "metadata": {
  "kernelspec": {
   "display_name": "Python 2",
   "language": "python",
   "name": "python2"
  },
  "language_info": {
   "codemirror_mode": {
    "name": "ipython",
    "version": 2
   },
   "file_extension": ".py",
   "mimetype": "text/x-python",
   "name": "python",
   "nbconvert_exporter": "python",
   "pygments_lexer": "ipython2",
   "version": "2.7.13"
  }
 },
 "nbformat": 4,
 "nbformat_minor": 2
}

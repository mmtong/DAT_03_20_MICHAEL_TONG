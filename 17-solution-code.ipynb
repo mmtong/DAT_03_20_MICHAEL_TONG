{
 "cells": [
  {
   "cell_type": "markdown",
   "metadata": {},
   "source": [
    "Map-Reduce Using MRJob\n",
    "======================\n",
    "\n",
    "Sales Data\n",
    "----------\n",
    "\n",
    "Here is the sales data we are going to analyze."
   ]
  },
  {
   "cell_type": "code",
   "execution_count": 35,
   "metadata": {
    "collapsed": false
   },
   "outputs": [
    {
     "name": "stdout",
     "output_type": "stream",
     "text": [
      "Overwriting sales.txt\n"
     ]
    }
   ],
   "source": [
    "%%writefile sales.txt\n",
    "#ID    Date           Store   State  Product    Amount\n",
    "101    11/13/2014     100     WA     331        300.00\n",
    "104    11/18/2014     700     OR     329        450.00\n",
    "102    11/15/2014     203     CA     321        200.00\n",
    "106    11/19/2014     202     CA     331        330.00\n",
    "103    11/17/2014     101     WA     373        750.00\n",
    "105    11/19/2014     202     CA     321        200.00"
   ]
  },
  {
   "cell_type": "markdown",
   "metadata": {},
   "source": [
    "Transactions By State\n",
    "---------------------\n",
    "\n",
    "Q: How many transactions were there for each state?\n",
    "\n",
    "- Create the `SaleCount.py` file."
   ]
  },
  {
   "cell_type": "code",
   "execution_count": 36,
   "metadata": {
    "collapsed": false
   },
   "outputs": [
    {
     "name": "stdout",
     "output_type": "stream",
     "text": [
      "Overwriting SaleCount.py\n"
     ]
    }
   ],
   "source": [
    "%%writefile SaleCount.py\n",
    "from mrjob.job import MRJob\n",
    "class SaleCount(MRJob):\n",
    "    def mapper(self, _, line):\n",
    "        if line.startswith('#'):\n",
    "            return\n",
    "        fields = line.split()\n",
    "        state = fields[3]\n",
    "        yield (state, 1)\n",
    "    def reducer(self, state, counts): \n",
    "        yield state, sum(counts)\n",
    "if __name__ == '__main__': \n",
    "    SaleCount.run()"
   ]
  },
  {
   "cell_type": "markdown",
   "metadata": {},
   "source": [
    "- Run it locally."
   ]
  },
  {
   "cell_type": "code",
   "execution_count": 37,
   "metadata": {
    "collapsed": false
   },
   "outputs": [
    {
     "name": "stdout",
     "output_type": "stream",
     "text": [
      "No configs found; falling back on auto-configuration\n",
      "Creating temp directory /var/folders/sj/gwpxmb714733ysxdwp8209wh0000gn/T/SaleCount.srikanajan.20160912.041155.380633\n",
      "Running step 1 of 1...\n",
      "Streaming final output from /var/folders/sj/gwpxmb714733ysxdwp8209wh0000gn/T/SaleCount.srikanajan.20160912.041155.380633/output...\n",
      "Removing temp directory /var/folders/sj/gwpxmb714733ysxdwp8209wh0000gn/T/SaleCount.srikanajan.20160912.041155.380633...\n"
     ]
    }
   ],
   "source": [
    "!python SaleCount.py sales.txt > output.txt"
   ]
  },
  {
   "cell_type": "markdown",
   "metadata": {},
   "source": [
    "- Check the output."
   ]
  },
  {
   "cell_type": "code",
   "execution_count": 38,
   "metadata": {
    "collapsed": false
   },
   "outputs": [
    {
     "name": "stdout",
     "output_type": "stream",
     "text": [
      "\"CA\"\t3\r\n",
      "\"OR\"\t1\r\n",
      "\"WA\"\t2\r\n"
     ]
    }
   ],
   "source": [
    "!cat output.txt"
   ]
  },
  {
   "cell_type": "markdown",
   "metadata": {},
   "source": [
    "### Suppose instead of counting transactions by state we want to count transactions by store. What should we change in the code above?"
   ]
  },
  {
   "cell_type": "code",
   "execution_count": 39,
   "metadata": {
    "collapsed": false
   },
   "outputs": [
    {
     "name": "stdout",
     "output_type": "stream",
     "text": [
      "Overwriting SaleCountByStore.py\n"
     ]
    }
   ],
   "source": [
    "%%writefile SaleCountByStore.py\n",
    "from mrjob.job import MRJob\n",
    "class SaleCountByStore(MRJob):\n",
    "    def mapper(self, _, line):\n",
    "        if line.startswith('#'):\n",
    "            return\n",
    "        fields = line.split()\n",
    "        store = fields[2]\n",
    "        yield (store, 1)\n",
    "    def reducer(self, store, counts): \n",
    "        yield store, sum(counts)\n",
    "if __name__ == '__main__': \n",
    "    SaleCountByStore.run()"
   ]
  },
  {
   "cell_type": "code",
   "execution_count": 40,
   "metadata": {
    "collapsed": false
   },
   "outputs": [
    {
     "name": "stdout",
     "output_type": "stream",
     "text": [
      "No configs found; falling back on auto-configuration\n",
      "Creating temp directory /var/folders/sj/gwpxmb714733ysxdwp8209wh0000gn/T/SaleCountByStore.srikanajan.20160912.041159.380608\n",
      "Running step 1 of 1...\n",
      "Streaming final output from /var/folders/sj/gwpxmb714733ysxdwp8209wh0000gn/T/SaleCountByStore.srikanajan.20160912.041159.380608/output...\n",
      "Removing temp directory /var/folders/sj/gwpxmb714733ysxdwp8209wh0000gn/T/SaleCountByStore.srikanajan.20160912.041159.380608...\n",
      "\"100\"\t1\n",
      "\"101\"\t1\n",
      "\"202\"\t2\n",
      "\"203\"\t1\n",
      "\"700\"\t1\n"
     ]
    }
   ],
   "source": [
    "!python SaleCountByStore.py sales.txt > output.txt\n",
    "!cat output.txt"
   ]
  },
  {
   "cell_type": "code",
   "execution_count": 41,
   "metadata": {
    "collapsed": false
   },
   "outputs": [
    {
     "name": "stdout",
     "output_type": "stream",
     "text": [
      "Overwriting WordCount.py\n"
     ]
    }
   ],
   "source": [
    "%%writefile WordCount.py\n",
    "from mrjob.job import MRJob\n",
    "import re\n",
    "WORD_RE = re.compile(r\"[\\w']+\")\n",
    "class WordCount(MRJob):\n",
    "    def mapper(self, _, line):\n",
    "        for word in WORD_RE.findall(line):\n",
    "            yield word.lower(), 1\n",
    "    def reducer(self, word, counts): \n",
    "        yield word, sum(counts)\n",
    "if __name__ == '__main__': \n",
    "    WordCount.run()"
   ]
  },
  {
   "cell_type": "markdown",
   "metadata": {},
   "source": [
    "- Run it locally."
   ]
  },
  {
   "cell_type": "code",
   "execution_count": 42,
   "metadata": {
    "collapsed": false
   },
   "outputs": [
    {
     "name": "stdout",
     "output_type": "stream",
     "text": [
      "No configs found; falling back on auto-configuration\n",
      "Creating temp directory /var/folders/sj/gwpxmb714733ysxdwp8209wh0000gn/T/WordCount.srikanajan.20160912.041200.986804\n",
      "Running step 1 of 1...\n",
      "Streaming final output from /var/folders/sj/gwpxmb714733ysxdwp8209wh0000gn/T/WordCount.srikanajan.20160912.041200.986804/output...\n",
      "Removing temp directory /var/folders/sj/gwpxmb714733ysxdwp8209wh0000gn/T/WordCount.srikanajan.20160912.041200.986804...\n"
     ]
    }
   ],
   "source": [
    "!python WordCount.py input.txt > output.txt"
   ]
  },
  {
   "cell_type": "markdown",
   "metadata": {},
   "source": [
    "- Check the output."
   ]
  },
  {
   "cell_type": "code",
   "execution_count": 43,
   "metadata": {
    "collapsed": false
   },
   "outputs": [
    {
     "name": "stdout",
     "output_type": "stream",
     "text": [
      "\"again\"\t1\r\n",
      "\"hello\"\t2\r\n",
      "\"is\"\t2\r\n",
      "\"line\"\t2\r\n",
      "\"second\"\t1\r\n",
      "\"the\"\t2\r\n",
      "\"third\"\t1\r\n",
      "\"this\"\t2\r\n",
      "\"world\"\t1\r\n"
     ]
    }
   ],
   "source": [
    "!cat output.txt"
   ]
  },
  {
   "cell_type": "markdown",
   "metadata": {},
   "source": [
    "Map-Only Job Observations\n",
    "-------------------------\n",
    "\n",
    "- Map-only jobs are the multi-machine equivalent of the\n",
    "  multi-threading and multi-processing exercises we did earlier.\n",
    "\n",
    "- Like our multi-threading and multi-processing applications, map-only\n",
    "  jobs break up a larger problem into smaller chunks and then work on\n",
    "  a particular chunk.\n",
    "\n",
    "- Any time we have a problem where we don't need to reconcile or\n",
    "  consolidate records we should use map-only jobs.\n",
    "\n",
    "- Map-only jobs are much faster than regular Map-Reduce jobs.\n"
   ]
  },
  {
   "cell_type": "code",
   "execution_count": null,
   "metadata": {
    "collapsed": true
   },
   "outputs": [],
   "source": []
  }
 ],
 "metadata": {
  "kernelspec": {
   "display_name": "Python 2",
   "language": "python",
   "name": "python2"
  },
  "language_info": {
   "codemirror_mode": {
    "name": "ipython",
    "version": 2
   },
   "file_extension": ".py",
   "mimetype": "text/x-python",
   "name": "python",
   "nbconvert_exporter": "python",
   "pygments_lexer": "ipython2",
   "version": "2.7.12"
  }
 },
 "nbformat": 4,
 "nbformat_minor": 0
}
